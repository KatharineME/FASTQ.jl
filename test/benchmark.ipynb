{
 "cells": [
  {
   "cell_type": "code",
   "execution_count": null,
   "id": "9f58583a",
   "metadata": {},
   "outputs": [],
   "source": [
    "n_jo = 8\n",
    "\n",
    "be = \"/Users/kate/craft/data/benchmark\"\n",
    "\n",
    "gr = \"/Users/kate/craft/data/grch\"\n",
    "\n",
    "vb = joinpath(be, \"HG002_truth/HG002_GRCh38_1_22_v4.2.1_benchmark.vcf.gz\")\n",
    "\n",
    "vc = joinpath(be, \"apply_germline_dna_to_genome/call_germline_variant/pass.vcf.gz\")\n",
    "\n",
    "re = joinpath(gr, \"GCA_000001405.15_GRCh38_no_alt_plus_hs38d1_analysis_set.fna.gz\")\n",
    "\n",
    "sd = replace(re, \"fna.gz\" => \"sdf\")\n",
    "\n",
    "rtg = \"/Users/kate/craft/workflow/Fastq.jl/tool/rtg-tools-3.11/rtg\""
   ]
  },
  {
   "cell_type": "code",
   "execution_count": null,
   "id": "2ead4cfd",
   "metadata": {},
   "outputs": [],
   "source": [
    "# Make vcfeval SDF\n",
    "\n",
    "if !isdir(sd)\n",
    "\n",
    "    run(`$rtg format -o $sd $re`)\n",
    "\n",
    "end"
   ]
  },
  {
   "cell_type": "code",
   "execution_count": null,
   "id": "587d7dde",
   "metadata": {},
   "outputs": [],
   "source": [
    "## run vcfeval\n",
    "\n",
    "run(`$rtg vcfeval --baseline=$vb --calls=$vc --template=$sdf --output=$pab --threads=$n_jo`)"
   ]
  },
  {
   "cell_type": "markdown",
   "id": "422b05c6",
   "metadata": {},
   "source": [
    "`--baseline` VCF containing baseline truth variants\n",
    "`--calls` VCF containing called variants\n",
    "`--template` SDF of reference genome the the `calls` VCF was made against"
   ]
  },
  {
   "cell_type": "code",
   "execution_count": null,
   "id": "3d736712",
   "metadata": {},
   "outputs": [],
   "source": [
    "## run hap.py in hap.py docker container\n",
    "\n",
    "run(`docker run -it hap.py bash`)\n",
    "\n",
    "`hap.py truth.vcf.gz query.vcf.gz -f conf.bed.gz -o ./test -V --engine-vcfeval-path /path/to/rtg --engine-vcfeval-template /path/to/hg38.sdf`"
   ]
  },
  {
   "cell_type": "code",
   "execution_count": null,
   "id": "c6874c00",
   "metadata": {},
   "outputs": [],
   "source": [
    "# Read more about how to interpret vcfeval results [here](https://cdn.rawgit.com/RealTimeGenomics/rtg-tools/master/installer/resources/tools/RTGOperationsManual/rtg_command_reference.html#vcfeval).\n",
    "\n",
    "pasu = open(joinpath(pab, \"summary.txt\"))\n",
    "\n",
    "su = read(pasu)\n",
    "\n",
    "su"
   ]
  }
 ],
 "metadata": {
  "kernelspec": {
   "display_name": "Julia 1.7.2",
   "language": "julia",
   "name": "julia-1.7"
  },
  "language_info": {
   "file_extension": ".jl",
   "mimetype": "application/julia",
   "name": "julia",
   "version": "1.7.2"
  }
 },
 "nbformat": 4,
 "nbformat_minor": 5
}
