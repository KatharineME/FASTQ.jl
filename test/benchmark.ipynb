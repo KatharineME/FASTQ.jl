{
 "cells": [
  {
   "cell_type": "code",
   "execution_count": null,
   "id": "9f58583a",
   "metadata": {},
   "outputs": [],
   "source": [
    "n_jo = 8\n",
    "\n",
    "da = \"/Users/kate/craft/data\"\n",
    "\n",
    "to = \"/Users/kate/craft/workflow/Fastq.jl/tool\"\n",
    "\n",
    "be = joinpath(da, \"benchmark\")\n",
    "\n",
    "gr = joinpath(da, \"grch\")\n",
    "\n",
    "vb = joinpath(be, \"HG002_truth/HG002_GRCh38_1_22_v4.2.1_benchmark.vcf.gz\")\n",
    "\n",
    "vc = joinpath(be, \"apply_germline_dna_to_genome/call_germline_variant/pass.vcf.gz\")\n",
    "\n",
    "re = joinpath(gr, \"GCA_000001405.15_GRCh38_no_alt_plus_hs38d1_analysis_set.fna.gz\")\n",
    "\n",
    "sd = replace(re, \"fna.gz\" => \"sdf\")\n",
    "\n",
    "rt = \"/Users/kate/craft/workflow/Fastq.jl/tool/rtg-tools-3.11/rtg\""
   ]
  },
  {
   "cell_type": "code",
   "execution_count": null,
   "id": "2ead4cfd",
   "metadata": {},
   "outputs": [],
   "source": [
    "# Make vcfeval SDF\n",
    "\n",
    "if !isdir(sd)\n",
    "\n",
    "    run(`$rt format -o $sd $re`)\n",
    "\n",
    "end"
   ]
  },
  {
   "cell_type": "code",
   "execution_count": null,
   "id": "1f2c8560",
   "metadata": {},
   "outputs": [],
   "source": [
    "# Rename chromosomes from numbers to strings\n",
    "\n",
    "ch = joinpath(gr, \"chromosome/n_chrn.tsv\")\n",
    "\n",
    "vcn = replace(vc, \"pass\" => \"pass_rename_chromosomes\")\n",
    "\n",
    "run(`bcftools annotate --threads=$n_jo --rename-chrs=$ch --output=$vcn $vc`)"
   ]
  },
  {
   "cell_type": "code",
   "execution_count": null,
   "id": "345cc254",
   "metadata": {},
   "outputs": [],
   "source": [
    "## run vcfeval\n",
    "\n",
    "bd = joinpath(be, \"HG002_truth/HG002_GRCh38_1_22_v4.2.1_benchmark_noinconsistent.bed\")\n",
    "\n",
    "ou = joinpath(be, \"vcfeval\")\n",
    "\n",
    "run(\n",
    "    `$rt vcfeval --baseline=$vb --bed-regions=$bd --calls=$vcn --template=$sd --output=$ou --threads=$n_jo`,\n",
    ")"
   ]
  },
  {
   "cell_type": "markdown",
   "id": "c98b4a5d",
   "metadata": {},
   "source": [
    "`--baseline` VCF containing baseline truth variants\n",
    "`--calls` VCF containing called variants\n",
    "`--template` SDF of reference genome the the `calls` VCF was made against"
   ]
  },
  {
   "cell_type": "code",
   "execution_count": null,
   "id": "c0652260",
   "metadata": {},
   "outputs": [],
   "source": [
    "## run hap.py in hap.py docker container\n",
    "\n",
    "vto = joinpath(\"/home\", basename(to))\n",
    "\n",
    "vda = joinpath(\"/home\", basename(da))\n",
    "\n",
    "vvb = joinpath(vda, split(vb, \"data/\")[2])\n",
    "\n",
    "vvc = joinpath(vda, split(vc, \"data/\")[2])\n",
    "\n",
    "vbd = joinpath(vda, split(bd, \"data/\")[2])\n",
    "\n",
    "vou = joinpath(vda, \"benchmark/hap.py\")\n",
    "\n",
    "vrt = joinpath(vto, basename(dirname(rt)))\n",
    "\n",
    "vsd = joinpath(vda, split(sd, \"data/\")[2])\n",
    "\n",
    "vre = joinpath(vda, split(re, \"data/\")[2])\n",
    "\n",
    "\n",
    "println(vto)\n",
    "println(vda)\n",
    "println(vvb)\n",
    "println(vvc)\n",
    "println(vbd)\n",
    "println(vou)\n",
    "println(vrt)\n",
    "println(vsd)\n",
    "println(vre)\n",
    "\n",
    "id = readlines(pipeline(`docker run \n",
    "        --interactive \n",
    "        --detach \n",
    "        --tty \n",
    "        --user root \n",
    "        -v $to:$vto \n",
    "        -v $da:$vda\n",
    "        pkrusche/hap.py \n",
    "        bash`))\n",
    "\n",
    "println(id)\n",
    "\n",
    "readlines(\n",
    "    pipeline(`docker exec --interactive $id bash -c \"./home/tool/hap.py-0.3.14/configure.sh\"`),\n",
    ")\n",
    "\n",
    "readlines(\n",
    "    pipeline(\n",
    "        `docker exec --interactive $id bash -c \"/opt/hap.py/bin/hap.py $vvb $vvc -f $vbd -r $vre -o $vou -V --engine-vcfeval-path $vrt --engine-vcfeval-template $vsd\"`,\n",
    "    ),\n",
    ")\n",
    "\n",
    "# && /opt/hap.py/hap.py $vb $vcn -f $bd -o $vhao -V --engine-vcfeval-path $vrt --engine-vcfeval-template $sd\""
   ]
  }
 ],
 "metadata": {
  "kernelspec": {
   "display_name": "Julia 1.7.2",
   "language": "julia",
   "name": "julia-1.7"
  },
  "language_info": {
   "file_extension": ".jl",
   "mimetype": "application/julia",
   "name": "julia",
   "version": "1.7.2"
  }
 },
 "nbformat": 4,
 "nbformat_minor": 5
}
