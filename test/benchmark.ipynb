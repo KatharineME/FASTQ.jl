{
 "cells": [
  {
   "cell_type": "code",
   "execution_count": null,
   "id": "9f58583a",
   "metadata": {},
   "outputs": [],
   "source": [
    "n_jo = 8\n",
    "\n",
    "be = \"/Users/kate/craft/data/benchmark\"\n",
    "\n",
    "gr = \"/Users/kate/craft/data/grch\"\n",
    "\n",
    "vb = joinpath(be, \"HG002_truth/HG002_GRCh38_1_22_v4.2.1_benchmark.vcf.gz\")\n",
    "\n",
    "vc = joinpath(be, \"apply_germline_dna_to_genome/call_germline_variant/pass.vcf.gz\")\n",
    "\n",
    "re = joinpath(gr, \"GCA_000001405.15_GRCh38_no_alt_plus_hs38d1_analysis_set.fna.gz\")\n",
    "\n",
    "sd = replace(re, \"fna.gz\" => \"sdf\")\n",
    "\n",
    "rt = \"/Users/kate/craft/workflow/Fastq.jl/tool/rtg-tools-3.11/rtg\""
   ]
  },
  {
   "cell_type": "code",
   "execution_count": null,
   "id": "2ead4cfd",
   "metadata": {},
   "outputs": [],
   "source": [
    "# Make vcfeval SDF\n",
    "\n",
    "if !isdir(sd)\n",
    "\n",
    "    run(`$rt format -o $sd $re`)\n",
    "\n",
    "end"
   ]
  },
  {
   "cell_type": "code",
   "execution_count": null,
   "id": "c59f9cd4",
   "metadata": {},
   "outputs": [],
   "source": [
    "# Rename chromosomes from numbers to strings\n",
    "\n",
    "ch = joinpath(gr, \"chromosome/n_chrn.tsv\")\n",
    "\n",
    "vcn = replace(vc, \"pass\" => \"pass_rename_chromosomes\")\n",
    "\n",
    "run(`bcftools annotate --threads=$n_jo --rename-chrs=$ch --output=$vcn $vc`)"
   ]
  },
  {
   "cell_type": "code",
   "execution_count": null,
   "id": "ca6d96d4",
   "metadata": {},
   "outputs": [],
   "source": [
    "## run vcfeval\n",
    "\n",
    "bd = joinpath(be, \"HG002_truth/HG002_GRCh38_1_22_v4.2.1_benchmark_noinconsistent.bed\")\n",
    "\n",
    "ou = joinpath(be, \"vcfeval\")\n",
    "\n",
    "run(\n",
    "    `$rt vcfeval --baseline=$vb --bed-regions=$bd --calls=$vcn --template=$sd --output=$ou --threads=$n_jo`,\n",
    ")"
   ]
  },
  {
   "cell_type": "markdown",
   "id": "6662d290",
   "metadata": {},
   "source": [
    "`--baseline` VCF containing baseline truth variants\n",
    "`--calls` VCF containing called variants\n",
    "`--template` SDF of reference genome the the `calls` VCF was made against"
   ]
  },
  {
   "cell_type": "code",
   "execution_count": null,
   "id": "14cb5e0b",
   "metadata": {},
   "outputs": [],
   "source": [
    "## run hap.py in hap.py docker container\n",
    "\n",
    "ou = joinpath(be, \"hap.py\")\n",
    "\n",
    "run(`docker run -it pkrusche/hap.py bash`)\n",
    "\n",
    "`hap.py $vb $vcn -f $bd -o $ou -V --engine-vcfeval-path $rt --engine-vcfeval-template $sd`"
   ]
  },
  {
   "cell_type": "code",
   "execution_count": null,
   "id": "c6874c00",
   "metadata": {},
   "outputs": [],
   "source": [
    "# Read more about how to interpret vcfeval results [here](https://cdn.rawgit.com/RealTimeGenomics/rtg-tools/master/installer/resources/tools/RTGOperationsManual/rtg_command_reference.html#vcfeval).\n",
    "\n",
    "pasu = open(joinpath(pab, \"summary.txt\"))\n",
    "\n",
    "su = read(pasu)\n",
    "\n",
    "su"
   ]
  }
 ],
 "metadata": {
  "kernelspec": {
   "display_name": "Julia 1.7.2",
   "language": "julia",
   "name": "julia-1.7"
  },
  "language_info": {
   "file_extension": ".jl",
   "mimetype": "application/julia",
   "name": "julia",
   "version": "1.7.2"
  }
 },
 "nbformat": 4,
 "nbformat_minor": 5
}
