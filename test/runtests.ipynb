{
 "cells": [
  {
   "cell_type": "code",
   "execution_count": 4,
   "id": "ca6b338b",
   "metadata": {},
   "outputs": [],
   "source": [
    "using Revise\n",
    "\n",
    "using Fastq"
   ]
  },
  {
   "cell_type": "markdown",
   "id": "7e4410d6",
   "metadata": {},
   "source": [
    "## test"
   ]
  },
  {
   "cell_type": "code",
   "execution_count": null,
   "id": "9329cf6f",
   "metadata": {},
   "outputs": [],
   "source": [
    "Fastq.test()"
   ]
  },
  {
   "cell_type": "markdown",
   "id": "00cfc58f",
   "metadata": {},
   "source": [
    "## find"
   ]
  },
  {
   "cell_type": "code",
   "execution_count": null,
   "id": "5427f267",
   "metadata": {},
   "outputs": [],
   "source": [
    "di = \"../test/data\"\n",
    "\n",
    "re_ = Fastq.find(di)"
   ]
  },
  {
   "cell_type": "markdown",
   "id": "61bb3802",
   "metadata": {},
   "source": [
    "## concatenate"
   ]
  },
  {
   "cell_type": "code",
   "execution_count": null,
   "id": "520a55ab",
   "metadata": {},
   "outputs": [],
   "source": [
    "Fastq.concatenate(re_, \"R1\")"
   ]
  },
  {
   "cell_type": "code",
   "execution_count": null,
   "id": "828dca13",
   "metadata": {},
   "outputs": [],
   "source": [
    "## check_read"
   ]
  },
  {
   "cell_type": "code",
   "execution_count": null,
   "id": "3f202937",
   "metadata": {},
   "outputs": [],
   "source": [
    "Fastq.check_read()"
   ]
  },
  {
   "cell_type": "code",
   "execution_count": null,
   "id": "38d4a4a1",
   "metadata": {},
   "outputs": [],
   "source": [
    "Fastq.concatenate(re_, \"R1\")"
   ]
  },
  {
   "cell_type": "code",
   "execution_count": null,
   "id": "88247a42",
   "metadata": {},
   "outputs": [],
   "source": [
    "Fastq.trim()"
   ]
  },
  {
   "cell_type": "code",
   "execution_count": null,
   "id": "796e49c1",
   "metadata": {},
   "outputs": [],
   "source": [
    "Fastq.align()"
   ]
  },
  {
   "cell_type": "code",
   "execution_count": null,
   "id": "1ac05010",
   "metadata": {},
   "outputs": [],
   "source": [
    "Fastq.count_transcript()"
   ]
  },
  {
   "cell_type": "code",
   "execution_count": null,
   "id": "e674fbe3",
   "metadata": {},
   "outputs": [],
   "source": [
    "Fastq.process_dna()"
   ]
  },
  {
   "cell_type": "code",
   "execution_count": null,
   "id": "90887159",
   "metadata": {},
   "outputs": [],
   "source": [
    "Fastq.process_soma_dna()"
   ]
  }
 ],
 "metadata": {
  "@webio": {
   "lastCommId": null,
   "lastKernelId": null
  },
  "kernelspec": {
   "display_name": "Julia 1.7.1",
   "language": "julia",
   "name": "julia-1.7"
  },
  "language_info": {
   "file_extension": ".jl",
   "mimetype": "application/julia",
   "name": "julia",
   "version": "1.7.1"
  }
 },
 "nbformat": 4,
 "nbformat_minor": 5
}
