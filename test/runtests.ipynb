{
 "cells": [
  {
   "cell_type": "code",
   "execution_count": 1,
   "id": "b51abb85",
   "metadata": {},
   "outputs": [
    {
     "name": "stdout",
     "output_type": "stream",
     "text": [
      "Made /var/folders/z_/r2n_rt396917fl9qm_t5h7jm0000gn/T/Fastq.test/\n"
     ]
    }
   ],
   "source": [
    "TE = joinpath(tempdir(), \"Fastq.test\", \"\")\n",
    "\n",
    "if isdir(TE)\n",
    "\n",
    "    rm(TE; recursive = true)\n",
    "\n",
    "end\n",
    "\n",
    "mkdir(TE)\n",
    "\n",
    "println(\"Made \", TE)"
   ]
  },
  {
   "cell_type": "code",
   "execution_count": 2,
   "id": "ca6b338b",
   "metadata": {},
   "outputs": [
    {
     "name": "stderr",
     "output_type": "stream",
     "text": [
      "┌ Info: Precompiling Fastq [ee7f7801-48cc-40da-98c9-e39305ba84b2]\n",
      "└ @ Base loading.jl:1423\n"
     ]
    }
   ],
   "source": [
    "using Revise\n",
    "using BenchmarkTools\n",
    "\n",
    "using Fastq"
   ]
  },
  {
   "cell_type": "code",
   "execution_count": 3,
   "id": "6a83d429",
   "metadata": {},
   "outputs": [
    {
     "data": {
      "text/plain": [
       "\"/Users/kate/craft/tool/Fastq.jl/tool\""
      ]
     },
     "execution_count": 3,
     "metadata": {},
     "output_type": "execute_result"
    }
   ],
   "source": [
    "n_jo = 8 # If this isnt high enough, variant calling may fail\n",
    "\n",
    "me = 8 # memory per job. If this isnt high enough, variant calling may fail\n",
    "\n",
    "to = \"/Users/kate/craft/tool/Fastq.jl/tool\""
   ]
  },
  {
   "cell_type": "markdown",
   "id": "789a0cc7",
   "metadata": {},
   "source": [
    "## test_environment"
   ]
  },
  {
   "cell_type": "code",
   "execution_count": null,
   "id": "9329cf6f",
   "metadata": {},
   "outputs": [],
   "source": [
    "Fastq.test_environment()"
   ]
  },
  {
   "cell_type": "markdown",
   "id": "622003bb",
   "metadata": {},
   "source": [
    "## test_strelka_and_manta"
   ]
  },
  {
   "cell_type": "code",
   "execution_count": null,
   "id": "a4f7a205",
   "metadata": {},
   "outputs": [],
   "source": [
    "Fastq.test_strelka_and_manta(to)"
   ]
  },
  {
   "cell_type": "markdown",
   "id": "4106f56f",
   "metadata": {},
   "source": [
    "## find"
   ]
  },
  {
   "cell_type": "code",
   "execution_count": null,
   "id": "97bfa424",
   "metadata": {},
   "outputs": [],
   "source": [
    "di = \"../test/data/dna/\"\n",
    "\n",
    "re_ = Fastq.find(di)"
   ]
  },
  {
   "cell_type": "markdown",
   "id": "d777573f",
   "metadata": {},
   "source": [
    "## check_read"
   ]
  },
  {
   "cell_type": "code",
   "execution_count": null,
   "id": "d0ba42ae",
   "metadata": {},
   "outputs": [],
   "source": [
    "Fastq.check_read(re_, \"check_raw\", n_jo)"
   ]
  },
  {
   "cell_type": "markdown",
   "id": "bedf1d8d",
   "metadata": {},
   "source": [
    "## concatenate"
   ]
  },
  {
   "cell_type": "code",
   "execution_count": null,
   "id": "601c65ca",
   "metadata": {},
   "outputs": [],
   "source": [
    "Fastq.concatenate(re_, \"R1\")"
   ]
  },
  {
   "cell_type": "markdown",
   "id": "6847b17a",
   "metadata": {},
   "source": [
    "## trim"
   ]
  },
  {
   "cell_type": "code",
   "execution_count": null,
   "id": "c9eca6a5",
   "metadata": {},
   "outputs": [],
   "source": [
    "fq1 = \"../test/data/dna/test_dna_4k.R1.fastq.gz\"\n",
    "\n",
    "fq2 = \"../test/data/dna/test_dna_4k.R2.fastq.gz\"\n",
    "\n",
    "Fastq.trim(fq1, fq2, \"trim\", n_jo)"
   ]
  },
  {
   "cell_type": "markdown",
   "id": "6fe77016",
   "metadata": {},
   "source": [
    "## align_dna"
   ]
  },
  {
   "cell_type": "code",
   "execution_count": null,
   "id": "b842a6c3",
   "metadata": {
    "scrolled": true
   },
   "outputs": [],
   "source": [
    "fa = \"../../../data/grch/GCA_000001405.15_GRCh38_no_alt_plus_hs38d1_analysis_set.fna.gz\"\n",
    "\n",
    "ba =  joinpath(TE, \"align_dna\", \"final.bam\")\n",
    "\n",
    "Fastq.align_dna(\"test\", fq1, fq2, fa, ba, n_jo, me)"
   ]
  },
  {
   "cell_type": "markdown",
   "id": "9cb92cc8",
   "metadata": {},
   "source": [
    "## align_cdna"
   ]
  },
  {
   "cell_type": "code",
   "execution_count": null,
   "id": "37b420b8",
   "metadata": {},
   "outputs": [],
   "source": [
    "fa = \"../../../data/grch/GCA_000001405.15_GRCh38_no_alt_plus_hs38d1_analysis_set.fna\"\n",
    "\n",
    "fq1 = \"../test/data/cdna/test_cdna_4k.R1.fastq.gz\"\n",
    "\n",
    "fq2 = \"../test/data/cdna/test_cdna_4k.R2.fastq.gz\"\n",
    "\n",
    "ba = joinpath(TE, \"align_cdna/\")\n",
    "\n",
    "Fastq.align_cdna(\"test\", fq1, fq2, fa, ba, n_jo, me)"
   ]
  },
  {
   "cell_type": "markdown",
   "id": "2005c44b",
   "metadata": {},
   "source": [
    "## call_germline_variant"
   ]
  },
  {
   "cell_type": "code",
   "execution_count": 7,
   "id": "1868a4cb",
   "metadata": {},
   "outputs": [
    {
     "name": "stdout",
     "output_type": "stream",
     "text": [
      " Successfully created workflow run script. To execute the workflow, run the following script and set appropriate options:  /home/call_germline_variant/manta/runWorkflow.py\n",
      "\n",
      " Successfully created workflow run script. To execute the workflow, run the following script and set appropriate options:  /home/call_germline_variant/strelka/runWorkflow.py\n",
      "\n",
      "51fdc520bd5b1f1855c44b517005fdc94e2b04b71b0037895f06a408edbe1271\n",
      "51fdc520bd5b1f1855c44b517005fdc94e2b04b71b0037895f06a408edbe1271\n",
      "\n",
      "Docker container was removed\n",
      "\n"
     ]
    },
    {
     "name": "stderr",
     "output_type": "stream",
     "text": [
      "┌ Warning: /Users/kate/craft/tool/Fastq.jl/src/run_docker_container.jl no longer exists, deleted all methods\n",
      "└ @ Revise /Users/kate/.julia/packages/Revise/jHTGK/src/packagedef.jl:651\n"
     ]
    }
   ],
   "source": [
    "mo = \"dna\" # cdna\n",
    "\n",
    "ta = false\n",
    "\n",
    "ba =  \"data/align_dna/final.bam\"\n",
    "\n",
    "fa = \"../../../data/grch/GCA_000001405.15_GRCh38_no_alt_plus_hs38d1_analysis_set.fna.gz\"\n",
    "\n",
    "chs = \"../../../data/grch/chromosome/chromosome.bed.gz\"\n",
    "\n",
    "chn = \"../../../data/grch/chromosome/chrn_n.tsv\"\n",
    "\n",
    "pas = \"../tool/snpEff/snpEff.jar\"\n",
    "\n",
    "pao = \"call_germline_variant\"\n",
    "\n",
    "Fastq.call_germline_variant(mo, ba, ta, fa, chs, chn, pao, n_jo, me, to, pas)"
   ]
  },
  {
   "cell_type": "markdown",
   "id": "34b1c051",
   "metadata": {},
   "source": [
    "## call_somatic_variant"
   ]
  },
  {
   "cell_type": "code",
   "execution_count": null,
   "id": "be7d881a",
   "metadata": {},
   "outputs": [],
   "source": [
    "Fastq.call_somatic_variant()"
   ]
  },
  {
   "cell_type": "markdown",
   "id": "2c30b1c3",
   "metadata": {},
   "source": [
    "## count_transcript"
   ]
  },
  {
   "cell_type": "code",
   "execution_count": null,
   "id": "d10bee1c",
   "metadata": {},
   "outputs": [],
   "source": [
    "Fastq.count_transcript()"
   ]
  },
  {
   "cell_type": "markdown",
   "id": "775b473c",
   "metadata": {},
   "source": [
    "## process_dna"
   ]
  },
  {
   "cell_type": "code",
   "execution_count": null,
   "id": "2d4a77e2",
   "metadata": {},
   "outputs": [],
   "source": [
    "Fastq.process_dna()"
   ]
  },
  {
   "cell_type": "markdown",
   "id": "ee8430c3",
   "metadata": {},
   "source": [
    "## process_soma_dna"
   ]
  },
  {
   "cell_type": "code",
   "execution_count": null,
   "id": "2190388d",
   "metadata": {},
   "outputs": [],
   "source": [
    "Fastq.process_soma_dna()"
   ]
  },
  {
   "cell_type": "markdown",
   "id": "80a887b0",
   "metadata": {},
   "source": [
    "## Cleanup"
   ]
  },
  {
   "cell_type": "code",
   "execution_count": null,
   "id": "84a09e67",
   "metadata": {},
   "outputs": [],
   "source": [
    "rm(TE; recursive = true)\n",
    "\n",
    "println(\"Removed \", TE)"
   ]
  }
 ],
 "metadata": {
  "@webio": {
   "lastCommId": null,
   "lastKernelId": null
  },
  "kernelspec": {
   "display_name": "Julia 1.7.1",
   "language": "julia",
   "name": "julia-1.7"
  },
  "language_info": {
   "file_extension": ".jl",
   "mimetype": "application/julia",
   "name": "julia",
   "version": "1.7.1"
  }
 },
 "nbformat": 4,
 "nbformat_minor": 5
}
