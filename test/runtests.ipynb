{
 "cells": [
  {
   "cell_type": "code",
   "execution_count": 24,
   "id": "ca6b338b",
   "metadata": {},
   "outputs": [],
   "source": [
    "using Revise\n",
    "using Fastq"
   ]
  },
  {
   "cell_type": "code",
   "execution_count": 23,
   "id": "9329cf6f",
   "metadata": {},
   "outputs": [
    {
     "name": "stdout",
     "output_type": "stream",
     "text": [
      "Testing\n"
     ]
    },
    {
     "ename": "LoadError",
     "evalue": "failed process: Process(`\u001b[4mwhich\u001b[24m \u001b[4mskewer\u001b[24m`, ProcessExited(1)) [1]\n",
     "output_type": "error",
     "traceback": [
      "failed process: Process(`\u001b[4mwhich\u001b[24m \u001b[4mskewer\u001b[24m`, ProcessExited(1)) [1]\n",
      "",
      "Stacktrace:",
      " [1] pipeline_error",
      "   @ ./process.jl:525 [inlined]",
      " [2] run(::Cmd; wait::Bool)",
      "   @ Base ./process.jl:440",
      " [3] run",
      "   @ ./process.jl:438 [inlined]",
      " [4] test()",
      "   @ Fastq ~/craft/tool/Fastq.jl/src/test.jl:18",
      " [5] top-level scope",
      "   @ In[23]:1",
      " [6] eval",
      "   @ ./boot.jl:360 [inlined]",
      " [7] include_string(mapexpr::typeof(REPL.softscope), mod::Module, code::String, filename::String)",
      "   @ Base ./loading.jl:1116"
     ]
    }
   ],
   "source": [
    "Fastq.test()"
   ]
  },
  {
   "cell_type": "code",
   "execution_count": 25,
   "id": "3a55e0cb",
   "metadata": {},
   "outputs": [
    {
     "name": "stdout",
     "output_type": "stream",
     "text": [
      "Files found in ../test/data:\n",
      "\n",
      "\"fq.gz\" => 0\n",
      "\"fastq.gz\" => 4\n",
      "\".fq\" => 0\n",
      "\".fastq\" => 0\n"
     ]
    },
    {
     "data": {
      "text/plain": [
       "4-element Vector{Any}:\n",
       " \"../test/data/test_cdna_4k.R2.fastq.gz\"\n",
       " \"../test/data/test_dna_4k.R1.fastq.gz\"\n",
       " \"../test/data/test_dna_4k.R2.fastq.gz\"\n",
       " \"../test/data/subdir/test_cdna_4k.R1.fastq.gz\""
      ]
     },
     "execution_count": 25,
     "metadata": {},
     "output_type": "execute_result"
    }
   ],
   "source": [
    "di = \"../test/data\"\n",
    "\n",
    "re_ = Fastq.find(di)"
   ]
  },
  {
   "cell_type": "code",
   "execution_count": 43,
   "id": "d2d237ed",
   "metadata": {},
   "outputs": [
    {
     "name": "stdout",
     "output_type": "stream",
     "text": [
      "Number of forward read files = 2\n",
      "\n",
      "Number of reverse read files = 2\n",
      "\n"
     ]
    },
    {
     "name": "stderr",
     "output_type": "stream",
     "text": [
      "mkdir: _R1: No such file or directory\n"
     ]
    },
    {
     "ename": "LoadError",
     "evalue": "failed process: Process(`\u001b[4mmkdir\u001b[24m \u001b[4m_R1/data_cat\u001b[24m`, ProcessExited(1)) [1]\n",
     "output_type": "error",
     "traceback": [
      "failed process: Process(`\u001b[4mmkdir\u001b[24m \u001b[4m_R1/data_cat\u001b[24m`, ProcessExited(1)) [1]\n",
      "",
      "Stacktrace:",
      " [1] pipeline_error",
      "   @ ./process.jl:525 [inlined]",
      " [2] run(::Cmd; wait::Bool)",
      "   @ Base ./process.jl:440",
      " [3] run",
      "   @ ./process.jl:438 [inlined]",
      " [4] concatenate(fq_::Vector{Any}, pa::String)",
      "   @ Fastq ~/craft/tool/Fastq.jl/src/concatenate.jl:71",
      " [5] top-level scope",
      "   @ In[43]:1",
      " [6] eval",
      "   @ ./boot.jl:360 [inlined]",
      " [7] include_string(mapexpr::typeof(REPL.softscope), mod::Module, code::String, filename::String)",
      "   @ Base ./loading.jl:1116"
     ]
    }
   ],
   "source": [
    "Fastq.concatenate(re_, \"_R1\")"
   ]
  },
  {
   "cell_type": "code",
   "execution_count": 15,
   "id": "69beb4f1",
   "metadata": {},
   "outputs": [
    {
     "data": {
      "text/plain": [
       "Dict{Any, Int64} with 2 entries:\n",
       "  [\"b\", \"c\"] => 2\n",
       "  \"a\"        => 1"
      ]
     },
     "execution_count": 15,
     "metadata": {},
     "output_type": "execute_result"
    }
   ],
   "source": [
    "d = Dict(\"a\" => 1, [\"b\", \"c\"] => 2)"
   ]
  },
  {
   "cell_type": "code",
   "execution_count": 21,
   "id": "e3968a64",
   "metadata": {},
   "outputs": [
    {
     "data": {
      "text/plain": [
       "Process(`\u001b[4mmkdir\u001b[24m \u001b[4m./delete_me.txt\u001b[24m`, ProcessExited(0))"
      ]
     },
     "execution_count": 21,
     "metadata": {},
     "output_type": "execute_result"
    }
   ],
   "source": [
    "dir = \"./delete_me.txt\"\n",
    "run(`mkdir $dir`)"
   ]
  },
  {
   "cell_type": "code",
   "execution_count": 33,
   "id": "7c4e9fe4",
   "metadata": {},
   "outputs": [
    {
     "data": {
      "text/plain": [
       "\"zy\""
      ]
     },
     "execution_count": 33,
     "metadata": {},
     "output_type": "execute_result"
    }
   ],
   "source": [
    "join([\"z\", \"y\"])"
   ]
  },
  {
   "cell_type": "code",
   "execution_count": 44,
   "id": "365caa08",
   "metadata": {},
   "outputs": [
    {
     "data": {
      "text/plain": [
       "\"Hi there\""
      ]
     },
     "execution_count": 44,
     "metadata": {},
     "output_type": "execute_result"
    }
   ],
   "source": [
    "replace(\"Hey there\", \"Hey\" => \"Hi\")"
   ]
  },
  {
   "cell_type": "code",
   "execution_count": null,
   "id": "b3ecf112",
   "metadata": {},
   "outputs": [],
   "source": []
  }
 ],
 "metadata": {
  "@webio": {
   "lastCommId": null,
   "lastKernelId": null
  },
  "kernelspec": {
   "display_name": "Julia 1.6.3",
   "language": "julia",
   "name": "julia-1.6"
  },
  "language_info": {
   "file_extension": ".jl",
   "mimetype": "application/julia",
   "name": "julia",
   "version": "1.6.3"
  }
 },
 "nbformat": 4,
 "nbformat_minor": 5
}
