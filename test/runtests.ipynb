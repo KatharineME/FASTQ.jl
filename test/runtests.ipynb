{
 "cells": [
  {
   "cell_type": "code",
   "execution_count": 4,
   "id": "ca6b338b",
   "metadata": {},
   "outputs": [],
   "source": [
    "using Revise\n",
    "\n",
    "using Fastq"
   ]
  },
  {
   "cell_type": "code",
   "execution_count": null,
   "id": "9329cf6f",
   "metadata": {},
   "outputs": [],
   "source": [
    "Fastq.test()"
   ]
  },
  {
   "cell_type": "code",
   "execution_count": null,
   "id": "553ea223",
   "metadata": {},
   "outputs": [],
   "source": [
    "di = \"../test/data\"\n",
    "\n",
    "re_ = Fastq.find(di)"
   ]
  },
  {
   "cell_type": "code",
   "execution_count": null,
   "id": "908b96a6",
   "metadata": {},
   "outputs": [],
   "source": [
    "Fastq.check_read()"
   ]
  },
  {
   "cell_type": "code",
   "execution_count": null,
   "id": "3ba9e9e2",
   "metadata": {},
   "outputs": [],
   "source": [
    "Fastq.concatenate(re_, \"R1\")"
   ]
  },
  {
   "cell_type": "code",
   "execution_count": null,
   "id": "b89a9d97",
   "metadata": {},
   "outputs": [],
   "source": [
    "Fastq.trim()"
   ]
  },
  {
   "cell_type": "code",
   "execution_count": null,
   "id": "91608c53",
   "metadata": {},
   "outputs": [],
   "source": [
    "Fastq.align()"
   ]
  },
  {
   "cell_type": "code",
   "execution_count": null,
   "id": "9bf59389",
   "metadata": {},
   "outputs": [],
   "source": [
    "Fastq.count_transcript()"
   ]
  },
  {
   "cell_type": "code",
   "execution_count": null,
   "id": "241724e7",
   "metadata": {},
   "outputs": [],
   "source": [
    "Fastq.process_dna()"
   ]
  },
  {
   "cell_type": "code",
   "execution_count": null,
   "id": "d2bb01f1",
   "metadata": {},
   "outputs": [],
   "source": [
    "Fastq.process_soma_dna()"
   ]
  }
 ],
 "metadata": {
  "@webio": {
   "lastCommId": null,
   "lastKernelId": null
  },
  "kernelspec": {
   "display_name": "Julia 1.7.1",
   "language": "julia",
   "name": "julia-1.7"
  },
  "language_info": {
   "file_extension": ".jl",
   "mimetype": "application/julia",
   "name": "julia",
   "version": "1.7.1"
  }
 },
 "nbformat": 4,
 "nbformat_minor": 5
}
