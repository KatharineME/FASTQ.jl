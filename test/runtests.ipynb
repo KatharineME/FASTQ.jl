{
 "cells": [
  {
   "cell_type": "code",
   "execution_count": null,
   "id": "b51abb85",
   "metadata": {},
   "outputs": [],
   "source": [
    "TE = joinpath(tempdir(), \"Fastq.test\", \"\")\n",
    "\n",
    "if isdir(TE)\n",
    "\n",
    "    rm(TE; recursive = true)\n",
    "\n",
    "end\n",
    "\n",
    "mkdir(TE)\n",
    "\n",
    "println(\"Made \", TE)"
   ]
  },
  {
   "cell_type": "code",
   "execution_count": null,
   "id": "ca6b338b",
   "metadata": {},
   "outputs": [],
   "source": [
    "using Revise\n",
    "using BenchmarkTools\n",
    "\n",
    "using Fastq"
   ]
  },
  {
   "cell_type": "code",
   "execution_count": null,
   "id": "6a83d429",
   "metadata": {},
   "outputs": [],
   "source": [
    "n_jo = 8 # If this isnt high enough, variant calling may fail\n",
    "\n",
    "me = 8 # memory per job. If this isnt high enough, variant calling may fail\n",
    "\n",
    "to = \"/Users/kate/craft/tool/Fastq.jl/tool\""
   ]
  },
  {
   "cell_type": "markdown",
   "id": "789a0cc7",
   "metadata": {},
   "source": [
    "## test_local_environment"
   ]
  },
  {
   "cell_type": "code",
   "execution_count": null,
   "id": "9329cf6f",
   "metadata": {},
   "outputs": [],
   "source": [
    "Fastq.test_local_environment()"
   ]
  },
  {
   "cell_type": "markdown",
   "id": "622003bb",
   "metadata": {},
   "source": [
    "## test_strelka_and_manta"
   ]
  },
  {
   "cell_type": "code",
   "execution_count": null,
   "id": "a4f7a205",
   "metadata": {},
   "outputs": [],
   "source": [
    "Fastq.test_strelka_and_manta(to)"
   ]
  },
  {
   "cell_type": "markdown",
   "id": "4106f56f",
   "metadata": {},
   "source": [
    "## find"
   ]
  },
  {
   "cell_type": "code",
   "execution_count": null,
   "id": "97bfa424",
   "metadata": {},
   "outputs": [],
   "source": [
    "di = \"../test/data/dna/\"\n",
    "\n",
    "re_ = Fastq.find(di)"
   ]
  },
  {
   "cell_type": "markdown",
   "id": "d777573f",
   "metadata": {},
   "source": [
    "## check_read"
   ]
  },
  {
   "cell_type": "code",
   "execution_count": null,
   "id": "d0ba42ae",
   "metadata": {},
   "outputs": [],
   "source": [
    "pa = \"data/check_raw_dna\"\n",
    "\n",
    "Fastq.check_read(re_, pa, n_jo)"
   ]
  },
  {
   "cell_type": "markdown",
   "id": "bedf1d8d",
   "metadata": {},
   "source": [
    "## concatenate"
   ]
  },
  {
   "cell_type": "code",
   "execution_count": null,
   "id": "601c65ca",
   "metadata": {},
   "outputs": [],
   "source": [
    "na = \"R1\" # read naming scheme\n",
    "\n",
    "Fastq.concatenate(re_, na)"
   ]
  },
  {
   "cell_type": "markdown",
   "id": "6847b17a",
   "metadata": {},
   "source": [
    "## trim"
   ]
  },
  {
   "cell_type": "code",
   "execution_count": null,
   "id": "c9eca6a5",
   "metadata": {},
   "outputs": [],
   "source": [
    "fq1 = \"data/dna/test_dna_4k.R1.fastq.gz\"\n",
    "\n",
    "fq2 = \"data/dna/test_dna_4k.R2.fastq.gz\"\n",
    "\n",
    "pa = \"trim\"\n",
    "\n",
    "Fastq.trim(fq1, fq2, pa, n_jo)"
   ]
  },
  {
   "cell_type": "markdown",
   "id": "6fe77016",
   "metadata": {},
   "source": [
    "## align_dna"
   ]
  },
  {
   "cell_type": "code",
   "execution_count": null,
   "id": "b842a6c3",
   "metadata": {
    "scrolled": true
   },
   "outputs": [],
   "source": [
    "fa = \"../../../data/grch/GCA_000001405.15_GRCh38_no_alt_plus_hs38d1_analysis_set.fna.gz\"\n",
    "\n",
    "ba = \"data/align_dna/final.bam\"\n",
    "\n",
    "sa = \"test\" # sample name added to read group line\n",
    "\n",
    "Fastq.align_dna(sa, fq1, fq2, fa, ba, n_jo, me)"
   ]
  },
  {
   "cell_type": "markdown",
   "id": "9cb92cc8",
   "metadata": {},
   "source": [
    "## align_cdna"
   ]
  },
  {
   "cell_type": "code",
   "execution_count": null,
   "id": "37b420b8",
   "metadata": {},
   "outputs": [],
   "source": [
    "fa = \"../../../data/grch/GCA_000001405.15_GRCh38_no_alt_plus_hs38d1_analysis_set.fna\"\n",
    "\n",
    "fq1 = \"data/cdna/test_cdna_4k.R1.fastq.gz\"\n",
    "\n",
    "fq2 = \"data/cdna/test_cdna_4k.R2.fastq.gz\"\n",
    "\n",
    "pr = \"data/align_cdna/test_\" # output file prefix\n",
    "\n",
    "Fastq.align_cdna(pr, fq1, fq2, fa, n_jo)"
   ]
  },
  {
   "cell_type": "code",
   "execution_count": null,
   "id": "399e9bcc",
   "metadata": {},
   "outputs": [],
   "source": [
    "dirname(pr)"
   ]
  },
  {
   "cell_type": "markdown",
   "id": "2005c44b",
   "metadata": {},
   "source": [
    "## call_germline_variant"
   ]
  },
  {
   "cell_type": "code",
   "execution_count": null,
   "id": "1868a4cb",
   "metadata": {},
   "outputs": [],
   "source": [
    "mo = \"dna\" # dna or cdna\n",
    "\n",
    "ta = false # true if exome\n",
    "\n",
    "ba = \"data/align_dna/final.bam\"\n",
    "\n",
    "fa = \"../../../data/grch/GCA_000001405.15_GRCh38_no_alt_plus_hs38d1_analysis_set.fna.gz\"\n",
    "\n",
    "chs = \"../../../data/grch/chromosome/chromosome.bed.gz\"\n",
    "\n",
    "chn = \"../../../data/grch/chromosome/chrn_n.tsv\"\n",
    "\n",
    "pas = \"../tool/snpEff/snpEff.jar\"\n",
    "\n",
    "pao = \"data/call_germline_variant\"\n",
    "\n",
    "Fastq.call_germline_variant(mo, ba, ta, fa, chs, chn, pao, n_jo, me, to, pas)"
   ]
  },
  {
   "cell_type": "markdown",
   "id": "34b1c051",
   "metadata": {},
   "source": [
    "## call_somatic_variant"
   ]
  },
  {
   "cell_type": "code",
   "execution_count": null,
   "id": "be7d881a",
   "metadata": {},
   "outputs": [],
   "source": [
    "mo = \"cdna\" # dna or cdna\n",
    "\n",
    "ge = \"data/align_dna/final.bam\"\n",
    "\n",
    "so = \"data/align_cdna/test_Aligned.sortedByCoord.out.bam\"\n",
    "\n",
    "fa = \"../../../data/grch/GCA_000001405.15_GRCh38_no_alt_plus_hs38d1_analysis_set.fna.gz\"\n",
    "\n",
    "chs = \"../../../data/grch/chromosome/chromosome.bed.gz\"\n",
    "\n",
    "chn = \"../../../data/grch/chromosome/chrn_n.tsv\"\n",
    "\n",
    "pas = \"../tool/snpEff/snpEff.jar\"\n",
    "\n",
    "pao = \"data/call_somatic_variant\"\n",
    "\n",
    "Fastq.call_somatic_variant(mo, ge, so, fa, chs, chn, pao, n_jo, me, to, pas)"
   ]
  },
  {
   "cell_type": "markdown",
   "id": "2c30b1c3",
   "metadata": {},
   "source": [
    "## count_transcript"
   ]
  },
  {
   "cell_type": "code",
   "execution_count": null,
   "id": "d10bee1c",
   "metadata": {},
   "outputs": [],
   "source": [
    "fa = \"../../../data/human_reference_transcriptome/Homo_sapiens.GRCh38.cdna.all.fa.gz\"\n",
    "\n",
    "pa = \"data/count_transcript\"\n",
    "\n",
    "fq1 = \"data/cdna/test_cdna_4k.R1.fastq.gz\"\n",
    "\n",
    "fq2 = \"data/cdna/test_cdna_4k.R2.fastq.gz\"\n",
    "\n",
    "Fastq.count_transcript(fa, pa, n_jo, fq1, fq2)"
   ]
  },
  {
   "cell_type": "markdown",
   "id": "775b473c",
   "metadata": {},
   "source": [
    "## process_dna"
   ]
  },
  {
   "cell_type": "code",
   "execution_count": null,
   "id": "2d4a77e2",
   "metadata": {},
   "outputs": [],
   "source": [
    "mo = \"dna\"\n",
    "\n",
    "sa = \"test\"\n",
    "\n",
    "fq1 = \"data/dna/test_dna_4k.R1.fastq.gz\"\n",
    "\n",
    "fq2 = \"data/dna/test_dna_4k.R2.fastq.gz\"\n",
    "\n",
    "ta = false\n",
    "\n",
    "pao = \"data/process_germline_dna\"\n",
    "\n",
    "fa = \"../../../data/grch/GCA_000001405.15_GRCh38_no_alt_plus_hs38d1_analysis_set.fna.gz\"\n",
    "\n",
    "chs = \"../../../data/grch/chromosome/chromosome.bed.gz\"\n",
    "\n",
    "chn = \"../../../data/grch/chromosome/chrn_n.tsv\"\n",
    "\n",
    "pas = \"../tool/snpEff/snpEff.jar\"\n",
    "\n",
    "Fastq.process_dna(mo, sa, fq1, fq2, ta, pao, fa, chs, chn, pas, n_jo, me, to)"
   ]
  },
  {
   "cell_type": "markdown",
   "id": "ee8430c3",
   "metadata": {},
   "source": [
    "## process_soma_dna"
   ]
  },
  {
   "cell_type": "code",
   "execution_count": null,
   "id": "2190388d",
   "metadata": {},
   "outputs": [],
   "source": [
    "mo = \"dna\"\n",
    "\n",
    "ge1 = \"data/dna/test_dna_4k.R1.fastq.gz\"\n",
    "\n",
    "ge2 = \"data/dna/test_dna_4k.R2.fastq.gz\"\n",
    "\n",
    "so1 = \"../../../data/2451_copy/raw_data/G2451/G2451_10K_R1.fq.gz\"\n",
    "\n",
    "so1 = \"../../../data/2451_copy/raw_data/G2451/G2451_10K_R2.fq.gz\"\n",
    "\n",
    "pao = \"data/process_somatic_dna\"\n",
    "\n",
    "fa = \"../../../data/grch/GCA_000001405.15_GRCh38_no_alt_plus_hs38d1_analysis_set.fna.gz\"\n",
    "\n",
    "met = 30\n",
    "\n",
    "mej = me\n",
    "\n",
    "Fastq.process_soma_dna(mo, sa, ge1, ge2, so1, so2, ta, pao, fa, chs, chn, pas, n_jo, met, mej, to)"
   ]
  },
  {
   "cell_type": "markdown",
   "id": "80a887b0",
   "metadata": {},
   "source": [
    "## Cleanup"
   ]
  },
  {
   "cell_type": "code",
   "execution_count": null,
   "id": "84a09e67",
   "metadata": {},
   "outputs": [],
   "source": [
    "rm(TE; recursive = true)\n",
    "\n",
    "println(\"Removed \", TE)"
   ]
  }
 ],
 "metadata": {
  "@webio": {
   "lastCommId": null,
   "lastKernelId": null
  },
  "kernelspec": {
   "display_name": "Julia 1.7.2",
   "language": "julia",
   "name": "julia-1.7"
  },
  "language_info": {
   "file_extension": ".jl",
   "mimetype": "application/julia",
   "name": "julia",
   "version": "1.7.2"
  }
 },
 "nbformat": 4,
 "nbformat_minor": 5
}
