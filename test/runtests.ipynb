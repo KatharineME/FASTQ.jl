{
 "cells": [
  {
   "cell_type": "code",
   "execution_count": 2,
   "id": "ca6b338b",
   "metadata": {},
   "outputs": [
    {
     "name": "stderr",
     "output_type": "stream",
     "text": [
      "┌ Info: Precompiling Fastq [ee7f7801-48cc-40da-98c9-e39305ba84b2]\n",
      "└ @ Base loading.jl:1423\n",
      "\u001b[91m\u001b[1mERROR: \u001b[22m\u001b[39mLoadError: syntax: \"function\" at /Users/kate/craft/tool/Fastq.jl/src/align.jl:1 expected \"end\", got \"sr\"\n",
      "Stacktrace:\n",
      "  [1] top-level scope\n",
      "\u001b[90m    @ \u001b[39m\u001b[90m~/craft/tool/Fastq.jl/src/\u001b[39m\u001b[90m\u001b[4malign.jl:48\u001b[24m\u001b[39m\n",
      "  [2] \u001b[0m\u001b[1minclude\u001b[22m\u001b[0m\u001b[1m(\u001b[22m\u001b[90mmod\u001b[39m::\u001b[0mModule, \u001b[90m_path\u001b[39m::\u001b[0mString\u001b[0m\u001b[1m)\u001b[22m\n",
      "\u001b[90m    @ \u001b[39m\u001b[90mBase\u001b[39m \u001b[90m./\u001b[39m\u001b[90m\u001b[4mBase.jl:418\u001b[24m\u001b[39m\n",
      "  [3] \u001b[0m\u001b[1minclude\u001b[22m\u001b[0m\u001b[1m(\u001b[22m\u001b[90mx\u001b[39m::\u001b[0mString\u001b[0m\u001b[1m)\u001b[22m\n",
      "\u001b[90m    @ \u001b[39m\u001b[35mFastq\u001b[39m \u001b[90m~/craft/tool/Fastq.jl/src/\u001b[39m\u001b[90m\u001b[4mFastq.jl:1\u001b[24m\u001b[39m\n",
      "  [4] top-level scope\n",
      "\u001b[90m    @ \u001b[39m\u001b[90m~/craft/tool/Fastq.jl/src/\u001b[39m\u001b[90m\u001b[4mFastq.jl:3\u001b[24m\u001b[39m\n",
      "  [5] \u001b[0m\u001b[1minclude\u001b[22m\n",
      "\u001b[90m    @ \u001b[39m\u001b[90m./\u001b[39m\u001b[90m\u001b[4mBase.jl:418\u001b[24m\u001b[39m\u001b[90m [inlined]\u001b[39m\n",
      "  [6] \u001b[0m\u001b[1minclude_package_for_output\u001b[22m\u001b[0m\u001b[1m(\u001b[22m\u001b[90mpkg\u001b[39m::\u001b[0mBase.PkgId, \u001b[90minput\u001b[39m::\u001b[0mString, \u001b[90mdepot_path\u001b[39m::\u001b[0mVector\u001b[90m{String}\u001b[39m, \u001b[90mdl_load_path\u001b[39m::\u001b[0mVector\u001b[90m{String}\u001b[39m, \u001b[90mload_path\u001b[39m::\u001b[0mVector\u001b[90m{String}\u001b[39m, \u001b[90mconcrete_deps\u001b[39m::\u001b[0mVector\u001b[90m{Pair{Base.PkgId, UInt64}}\u001b[39m, \u001b[90msource\u001b[39m::\u001b[0mNothing\u001b[0m\u001b[1m)\u001b[22m\n",
      "\u001b[90m    @ \u001b[39m\u001b[90mBase\u001b[39m \u001b[90m./\u001b[39m\u001b[90m\u001b[4mloading.jl:1318\u001b[24m\u001b[39m\n",
      "  [7] top-level scope\n",
      "\u001b[90m    @ \u001b[39m\u001b[90m\u001b[4mnone:1\u001b[24m\u001b[39m\n",
      "  [8] \u001b[0m\u001b[1meval\u001b[22m\n",
      "\u001b[90m    @ \u001b[39m\u001b[90m./\u001b[39m\u001b[90m\u001b[4mboot.jl:373\u001b[24m\u001b[39m\u001b[90m [inlined]\u001b[39m\n",
      "  [9] \u001b[0m\u001b[1meval\u001b[22m\u001b[0m\u001b[1m(\u001b[22m\u001b[90mx\u001b[39m::\u001b[0mExpr\u001b[0m\u001b[1m)\u001b[22m\n",
      "\u001b[90m    @ \u001b[39m\u001b[90mBase.MainInclude\u001b[39m \u001b[90m./\u001b[39m\u001b[90m\u001b[4mclient.jl:453\u001b[24m\u001b[39m\n",
      " [10] top-level scope\n",
      "\u001b[90m    @ \u001b[39m\u001b[90m\u001b[4mnone:1\u001b[24m\u001b[39m\n",
      "in expression starting at /Users/kate/craft/tool/Fastq.jl/src/align.jl:48\n",
      "in expression starting at /Users/kate/craft/tool/Fastq.jl/src/Fastq.jl:1\n"
     ]
    },
    {
     "ename": "LoadError",
     "evalue": "Failed to precompile Fastq [ee7f7801-48cc-40da-98c9-e39305ba84b2] to /Users/kate/.julia/compiled/v1.7/Fastq/jl_IncCVM.",
     "output_type": "error",
     "traceback": [
      "Failed to precompile Fastq [ee7f7801-48cc-40da-98c9-e39305ba84b2] to /Users/kate/.julia/compiled/v1.7/Fastq/jl_IncCVM.",
      "",
      "Stacktrace:",
      " [1] error(s::String)",
      "   @ Base ./error.jl:33",
      " [2] compilecache(pkg::Base.PkgId, path::String, internal_stderr::IO, internal_stdout::IO, ignore_loaded_modules::Bool)",
      "   @ Base ./loading.jl:1466",
      " [3] compilecache(pkg::Base.PkgId, path::String)",
      "   @ Base ./loading.jl:1410",
      " [4] _require(pkg::Base.PkgId)",
      "   @ Base ./loading.jl:1120",
      " [5] require(uuidkey::Base.PkgId)",
      "   @ Base ./loading.jl:1013",
      " [6] require(into::Module, mod::Symbol)",
      "   @ Base ./loading.jl:997",
      " [7] eval",
      "   @ ./boot.jl:373 [inlined]",
      " [8] include_string(mapexpr::typeof(REPL.softscope), mod::Module, code::String, filename::String)",
      "   @ Base ./loading.jl:1196"
     ]
    }
   ],
   "source": [
    "using Revise\n",
    "\n",
    "using Fastq"
   ]
  },
  {
   "cell_type": "code",
   "execution_count": null,
   "id": "9329cf6f",
   "metadata": {},
   "outputs": [],
   "source": [
    "Fastq.test()"
   ]
  },
  {
   "cell_type": "code",
   "execution_count": null,
   "id": "3a55e0cb",
   "metadata": {},
   "outputs": [],
   "source": [
    "di = \"../test/data\"\n",
    "\n",
    "re_ = Fastq.find(di)"
   ]
  },
  {
   "cell_type": "code",
   "execution_count": null,
   "id": "2a2d9bf1",
   "metadata": {},
   "outputs": [],
   "source": [
    "Fastq.concatenate(re_, \"R1\")"
   ]
  }
 ],
 "metadata": {
  "@webio": {
   "lastCommId": null,
   "lastKernelId": null
  },
  "kernelspec": {
   "display_name": "Julia 1.7.1",
   "language": "julia",
   "name": "julia-1.7"
  },
  "language_info": {
   "file_extension": ".jl",
   "mimetype": "application/julia",
   "name": "julia",
   "version": "1.7.1"
  }
 },
 "nbformat": 4,
 "nbformat_minor": 5
}
