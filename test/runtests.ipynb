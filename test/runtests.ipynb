{
 "cells": [
  {
   "cell_type": "code",
   "execution_count": null,
   "id": "ca6b338b",
   "metadata": {},
   "outputs": [],
   "source": [
    "using Revise\n",
    "using Fastq"
   ]
  },
  {
   "cell_type": "code",
   "execution_count": null,
   "id": "9329cf6f",
   "metadata": {},
   "outputs": [],
   "source": [
    "Fastq.test()"
   ]
  },
  {
   "cell_type": "code",
   "execution_count": null,
   "id": "3a55e0cb",
   "metadata": {},
   "outputs": [],
   "source": [
    "di = \"../test/data\"\n",
    "\n",
    "re_ = Fastq.find(di)"
   ]
  },
  {
   "cell_type": "code",
   "execution_count": null,
   "id": "5d34df86",
   "metadata": {},
   "outputs": [],
   "source": [
    "Fastq.concatenate(re_, \"R1\")"
   ]
  }
 ],
 "metadata": {
  "@webio": {
   "lastCommId": null,
   "lastKernelId": null
  },
  "kernelspec": {
   "display_name": "Julia 1.6.3",
   "language": "julia",
   "name": "julia-1.6"
  },
  "language_info": {
   "file_extension": ".jl",
   "mimetype": "application/julia",
   "name": "julia",
   "version": "1.6.3"
  }
 },
 "nbformat": 4,
 "nbformat_minor": 5
}
