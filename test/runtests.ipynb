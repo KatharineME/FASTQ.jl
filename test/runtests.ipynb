{
 "cells": [
  {
   "cell_type": "code",
   "execution_count": 1,
   "id": "b51abb85",
   "metadata": {},
   "outputs": [
    {
     "name": "stdout",
     "output_type": "stream",
     "text": [
      "Made /var/folders/z_/r2n_rt396917fl9qm_t5h7jm0000gn/T/Fastq.test/\n"
     ]
    }
   ],
   "source": [
    "TE = joinpath(tempdir(), \"Fastq.test\", \"\")\n",
    "\n",
    "if isdir(TE)\n",
    "\n",
    "    rm(TE; recursive = true)\n",
    "\n",
    "end\n",
    "\n",
    "mkdir(TE)\n",
    "\n",
    "println(\"Made \", TE)"
   ]
  },
  {
   "cell_type": "code",
   "execution_count": 2,
   "id": "ca6b338b",
   "metadata": {},
   "outputs": [
    {
     "name": "stderr",
     "output_type": "stream",
     "text": [
      "┌ Info: Precompiling Fastq [ee7f7801-48cc-40da-98c9-e39305ba84b2]\n",
      "└ @ Base loading.jl:1423\n"
     ]
    }
   ],
   "source": [
    "using Revise\n",
    "using BenchmarkTools\n",
    "\n",
    "using Fastq"
   ]
  },
  {
   "cell_type": "code",
   "execution_count": 3,
   "id": "6a83d429",
   "metadata": {},
   "outputs": [
    {
     "data": {
      "text/plain": [
       "\"/Users/kate/craft/tool/Fastq.jl/tool\""
      ]
     },
     "execution_count": 3,
     "metadata": {},
     "output_type": "execute_result"
    }
   ],
   "source": [
    "n_jo = 4\n",
    "\n",
    "me = 2 #memory\n",
    "\n",
    "to = \"/Users/kate/craft/tool/Fastq.jl/tool\""
   ]
  },
  {
   "cell_type": "markdown",
   "id": "789a0cc7",
   "metadata": {},
   "source": [
    "## test_environment"
   ]
  },
  {
   "cell_type": "code",
   "execution_count": 4,
   "id": "9329cf6f",
   "metadata": {},
   "outputs": [
    {
     "name": "stdout",
     "output_type": "stream",
     "text": [
      "Checking for programs...\n",
      "\n",
      "/usr/local/bin/fastp\n",
      "/usr/local/bin/fastqc\n",
      "/Users/kate/.pyenv/versions/3.10.0/bin/multiqc\n",
      "/usr/local/bin/bgzip\n",
      "/usr/local/bin/tabix\n",
      "/usr/local/bin/minimap2\n",
      "/usr/local/bin/samtools\n",
      "/usr/local/bin/bcftools\n",
      "/usr/local/bin/kallisto\n",
      "/usr/local/bin/star\n",
      "/usr/local/bin/docker\n"
     ]
    }
   ],
   "source": [
    "Fastq.test_environment()"
   ]
  },
  {
   "cell_type": "markdown",
   "id": "622003bb",
   "metadata": {},
   "source": [
    "## test_strelka_and_manta"
   ]
  },
  {
   "cell_type": "code",
   "execution_count": 6,
   "id": "a4f7a205",
   "metadata": {},
   "outputs": [
    {
     "name": "stderr",
     "output_type": "stream",
     "text": [
      "\n",
      "**** Starting demo configuration and run.\n",
      "**** Configuration cmd: \"/home/tool/manta-1.6.0.centos6_x86_64/bin/configManta.py\" --normalBam=\"/home/tool/manta-1.6.0.centos6_x86_64/share/demo/manta/data/HCC1954.NORMAL.30x.compare.COST16011_region.bam\" --tumorBam=\"/home/tool/manta-1.6.0.centos6_x86_64/share/demo/manta/data/G15512.HCC1954.1.COST16011_region.bam\" --referenceFasta=\"/home/tool/manta-1.6.0.centos6_x86_64/share/demo/manta/data/Homo_sapiens_assembly19.COST16011_region.fa\" --region=8:107652000-107655000 --region=11:94974000-94989000 --exome --runDir=\"MantaDemoAnalysis\"\n",
      "\n",
      "\n",
      "**** Completed demo configuration.\n",
      "\n",
      "\n",
      "**** Starting demo workflow execution.\n",
      "**** Workflow cmd: '/usr/bin/python MantaDemoAnalysis/runWorkflow.py -j 1 -g 4'\n",
      "\n",
      "[2022-02-02T20:33:47.398666Z] [7c5159ff7d8f] [24_1] [WorkflowRunner] Initiating pyFlow run\n",
      "[2022-02-02T20:33:47.398739Z] [7c5159ff7d8f] [24_1] [WorkflowRunner] pyFlowClientWorkflowClass: MantaWorkflow\n",
      "[2022-02-02T20:33:47.398755Z] [7c5159ff7d8f] [24_1] [WorkflowRunner] pyFlowVersion: 1.1.20\n",
      "[2022-02-02T20:33:47.398764Z] [7c5159ff7d8f] [24_1] [WorkflowRunner] pythonVersion: 2.6.6.final.0\n",
      "[2022-02-02T20:33:47.398774Z] [7c5159ff7d8f] [24_1] [WorkflowRunner] WorkingDir: '/'\n",
      "[2022-02-02T20:33:47.398782Z] [7c5159ff7d8f] [24_1] [WorkflowRunner] ProcessCmdLine: 'MantaDemoAnalysis/runWorkflow.py -j 1 -g 4'\n",
      "[2022-02-02T20:33:47.398792Z] [7c5159ff7d8f] [24_1] [WorkflowRunner] [RunParameters] mode: local\n",
      "[2022-02-02T20:33:47.398800Z] [7c5159ff7d8f] [24_1] [WorkflowRunner] [RunParameters] nCores: 1\n",
      "[2022-02-02T20:33:47.398809Z] [7c5159ff7d8f] [24_1] [WorkflowRunner] [RunParameters] memMb: 4096\n",
      "[2022-02-02T20:33:47.398817Z] [7c5159ff7d8f] [24_1] [WorkflowRunner] [RunParameters] dataDir: /MantaDemoAnalysis/workspace/pyflow.data\n",
      "[2022-02-02T20:33:47.398826Z] [7c5159ff7d8f] [24_1] [WorkflowRunner] [RunParameters] isDryRun: False\n",
      "[2022-02-02T20:33:47.398835Z] [7c5159ff7d8f] [24_1] [WorkflowRunner] [RunParameters] isContinue: False\n",
      "[2022-02-02T20:33:47.398843Z] [7c5159ff7d8f] [24_1] [WorkflowRunner] [RunParameters] isForceContinue: True\n",
      "[2022-02-02T20:33:47.398851Z] [7c5159ff7d8f] [24_1] [WorkflowRunner] [RunParameters] mailTo: ''\n",
      "[2022-02-02T20:33:47.399313Z] [7c5159ff7d8f] [24_1] [TaskRunner:masterWorkflow] Starting task specification for master workflow\n",
      "[2022-02-02T20:33:47.399492Z] [7c5159ff7d8f] [24_1] [MantaWorkflow] Initiating Manta workflow version: 1.6.0\n",
      "[2022-02-02T20:33:47.400033Z] [7c5159ff7d8f] [24_1] [WorkflowRunner] Adding command task 'getAlignmentStats_makeTmpDir' to master workflow\n",
      "[2022-02-02T20:33:47.400932Z] [7c5159ff7d8f] [24_1] [WorkflowRunner] Adding command task 'getAlignmentStats_generateStats_000' to master workflow\n",
      "[2022-02-02T20:33:47.401274Z] [7c5159ff7d8f] [24_1] [WorkflowRunner] Adding command task 'getAlignmentStats_generateStats_001' to master workflow\n",
      "[2022-02-02T20:33:47.401766Z] [7c5159ff7d8f] [24_1] [WorkflowRunner] Adding command task 'getAlignmentStats_mergeStats' to master workflow\n",
      "[2022-02-02T20:33:47.402040Z] [7c5159ff7d8f] [24_1] [TaskManager] Launching command task: 'getAlignmentStats_makeTmpDir' from master workflow\n",
      "[2022-02-02T20:33:47.402790Z] [7c5159ff7d8f] [24_1] [WorkflowRunner] Adding command task 'getAlignmentStats_removeTmpDir' to master workflow\n",
      "[2022-02-02T20:33:47.405594Z] [7c5159ff7d8f] [24_1] [TaskRunner:getAlignmentStats_makeTmpDir] Task initiated on local node\n",
      "[2022-02-02T20:33:47.406173Z] [7c5159ff7d8f] [24_1] [WorkflowRunner] Adding command task 'summarizeStats' to master workflow\n",
      "[2022-02-02T20:33:47.406603Z] [7c5159ff7d8f] [24_1] [WorkflowRunner] Adding command task 'makeGraphTmpDir' to master workflow\n",
      "[2022-02-02T20:33:47.407425Z] [7c5159ff7d8f] [24_1] [WorkflowRunner] Adding command task 'makeLocusGraph_chromId_000_8-107652000-107655000_0000_to_chromId_001_11-94974000-94989000_0000' to master workflow\n",
      "[2022-02-02T20:33:47.408444Z] [7c5159ff7d8f] [24_1] [WorkflowRunner] Adding sub-workflow task 'mergeLocusGraphInputList' to master workflow\n",
      "[2022-02-02T20:33:47.408818Z] [7c5159ff7d8f] [24_1] [WorkflowRunner] Adding command task 'mergeLocusGraph' to master workflow\n",
      "[2022-02-02T20:33:47.409160Z] [7c5159ff7d8f] [24_1] [WorkflowRunner] Adding command task 'checkLocusGraph' to master workflow\n",
      "[2022-02-02T20:33:47.409461Z] [7c5159ff7d8f] [24_1] [WorkflowRunner] Adding command task 'removeTmpDir' to master workflow\n",
      "[2022-02-02T20:33:47.410164Z] [7c5159ff7d8f] [24_1] [WorkflowRunner] Adding command task 'locusGraphStats' to master workflow\n",
      "[2022-02-02T20:33:47.411650Z] [7c5159ff7d8f] [24_1] [WorkflowRunner] Adding command task 'makeHyGenDir' to master workflow\n",
      "[2022-02-02T20:33:47.412185Z] [7c5159ff7d8f] [24_1] [WorkflowRunner] Adding command task 'generateCandidateSV_0000' to master workflow\n",
      "[2022-02-02T20:33:47.412502Z] [7c5159ff7d8f] [24_1] [WorkflowRunner] Adding command task 'fixVcfHeader_sortCandidateSV' to master workflow\n",
      "[2022-02-02T20:33:47.413341Z] [7c5159ff7d8f] [24_1] [WorkflowRunner] Adding sub-workflow task 'sortCandidateSVInputList' to master workflow\n",
      "[2022-02-02T20:33:47.413872Z] [7c5159ff7d8f] [24_1] [WorkflowRunner] Adding command task 'sort_sortCandidateSV' to master workflow\n",
      "[2022-02-02T20:33:47.414133Z] [7c5159ff7d8f] [24_1] [WorkflowRunner] Adding command task 'tabix_sortCandidateSV' to master workflow\n",
      "[2022-02-02T20:33:47.414414Z] [7c5159ff7d8f] [24_1] [WorkflowRunner] Adding command task 'fixVcfHeader_sortDiploidSV' to master workflow\n",
      "[2022-02-02T20:33:47.414754Z] [7c5159ff7d8f] [24_1] [WorkflowRunner] Adding sub-workflow task 'sortDiploidSVInputList' to master workflow\n",
      "[2022-02-02T20:33:47.415082Z] [7c5159ff7d8f] [24_1] [WorkflowRunner] Adding command task 'sort_sortDiploidSV' to master workflow\n",
      "[2022-02-02T20:33:47.415602Z] [7c5159ff7d8f] [24_1] [WorkflowRunner] Adding command task 'tabix_sortDiploidSV' to master workflow\n",
      "[2022-02-02T20:33:47.416823Z] [7c5159ff7d8f] [24_1] [WorkflowRunner] Adding command task 'fixVcfHeader_sortSomaticSV' to master workflow\n",
      "[2022-02-02T20:33:47.417172Z] [7c5159ff7d8f] [24_1] [WorkflowRunner] Adding sub-workflow task 'sortSomaticSVInputList' to master workflow\n",
      "[2022-02-02T20:33:47.417434Z] [7c5159ff7d8f] [24_1] [WorkflowRunner] Adding command task 'sort_sortSomaticSV' to master workflow\n",
      "[2022-02-02T20:33:47.417747Z] [7c5159ff7d8f] [24_1] [WorkflowRunner] Adding command task 'tabix_sortSomaticSV' to master workflow\n",
      "[2022-02-02T20:33:47.418126Z] [7c5159ff7d8f] [24_1] [WorkflowRunner] Adding command task 'extractSmallIndels' to master workflow\n",
      "[2022-02-02T20:33:47.418703Z] [7c5159ff7d8f] [24_1] [WorkflowRunner] Adding command task 'extractSmallIndels_tabix' to master workflow\n",
      "[2022-02-02T20:33:47.419665Z] [7c5159ff7d8f] [24_1] [WorkflowRunner] Adding sub-workflow task 'sortEdgeRuntimeLogsInputList' to master workflow\n",
      "[2022-02-02T20:33:47.419845Z] [7c5159ff7d8f] [24_1] [WorkflowRunner] Adding command task 'sortEdgeRuntimeLogs' to master workflow\n",
      "[2022-02-02T20:33:47.420047Z] [7c5159ff7d8f] [24_1] [TaskRunner:masterWorkflow] Finished task specification for master workflow\n",
      "[2022-02-02T20:33:47.484943Z] [7c5159ff7d8f] [24_1] [TaskManager] Completed command task: 'getAlignmentStats_makeTmpDir' launched from master workflow\n",
      "[2022-02-02T20:33:47.486254Z] [7c5159ff7d8f] [24_1] [TaskManager] Launching command task: 'getAlignmentStats_generateStats_001' from master workflow\n",
      "[2022-02-02T20:33:47.488315Z] [7c5159ff7d8f] [24_1] [TaskRunner:getAlignmentStats_generateStats_001] Task initiated on local node\n",
      "[2022-02-02T20:33:47.655125Z] [7c5159ff7d8f] [24_1] [TaskManager] Completed command task: 'getAlignmentStats_generateStats_001' launched from master workflow\n",
      "[2022-02-02T20:33:47.655937Z] [7c5159ff7d8f] [24_1] [TaskManager] Launching command task: 'getAlignmentStats_generateStats_000' from master workflow\n",
      "[2022-02-02T20:33:47.658174Z] [7c5159ff7d8f] [24_1] [TaskRunner:getAlignmentStats_generateStats_000] Task initiated on local node\n",
      "[2022-02-02T20:33:47.770994Z] [7c5159ff7d8f] [24_1] [TaskManager] Completed command task: 'getAlignmentStats_generateStats_000' launched from master workflow\n",
      "[2022-02-02T20:33:47.771783Z] [7c5159ff7d8f] [24_1] [TaskManager] Launching command task: 'getAlignmentStats_mergeStats' from master workflow\n",
      "[2022-02-02T20:33:47.774131Z] [7c5159ff7d8f] [24_1] [TaskRunner:getAlignmentStats_mergeStats] Task initiated on local node\n",
      "[2022-02-02T20:33:47.886287Z] [7c5159ff7d8f] [24_1] [TaskManager] Completed command task: 'getAlignmentStats_mergeStats' launched from master workflow\n",
      "[2022-02-02T20:33:47.886950Z] [7c5159ff7d8f] [24_1] [TaskManager] Launching command task: 'makeGraphTmpDir' from master workflow\n",
      "[2022-02-02T20:33:47.889265Z] [7c5159ff7d8f] [24_1] [TaskRunner:makeGraphTmpDir] Task initiated on local node\n",
      "[2022-02-02T20:33:48.001697Z] [7c5159ff7d8f] [24_1] [TaskManager] Completed command task: 'makeGraphTmpDir' launched from master workflow\n",
      "[2022-02-02T20:33:48.002615Z] [7c5159ff7d8f] [24_1] [TaskManager] Launching command task: 'makeLocusGraph_chromId_000_8-107652000-107655000_0000_to_chromId_001_11-94974000-94989000_0000' from master workflow\n",
      "[2022-02-02T20:33:48.005468Z] [7c5159ff7d8f] [24_1] [TaskRunner:makeLocusGraph_chromId_000_8-107652000-107655000_0000_to_chromId_001_11-94974000-94989000_0000] Task initiated on local node\n",
      "[2022-02-02T20:33:48.167848Z] [7c5159ff7d8f] [24_1] [TaskManager] Completed command task: 'makeLocusGraph_chromId_000_8-107652000-107655000_0000_to_chromId_001_11-94974000-94989000_0000' launched from master workflow\n",
      "[2022-02-02T20:33:48.168361Z] [7c5159ff7d8f] [24_1] [TaskManager] Launching sub-workflow task: 'mergeLocusGraphInputList' from master workflow\n",
      "[2022-02-02T20:33:48.168597Z] [7c5159ff7d8f] [24_1] [TaskRunner:mergeLocusGraphInputList] Starting task specification for sub-workflow\n",
      "[2022-02-02T20:33:48.169009Z] [7c5159ff7d8f] [24_1] [TaskManager] Launching command task: 'summarizeStats' from master workflow\n",
      "[2022-02-02T20:33:48.169359Z] [7c5159ff7d8f] [24_1] [TaskRunner:mergeLocusGraphInputList] Finished task specification for sub-workflow\n",
      "[2022-02-02T20:33:48.170027Z] [7c5159ff7d8f] [24_1] [TaskManager] Completed sub-workflow task: 'mergeLocusGraphInputList' launched from master workflow\n",
      "[2022-02-02T20:33:48.172329Z] [7c5159ff7d8f] [24_1] [TaskRunner:summarizeStats] Task initiated on local node\n"
     ]
    },
    {
     "name": "stderr",
     "output_type": "stream",
     "text": [
      "[2022-02-02T20:33:48.286332Z] [7c5159ff7d8f] [24_1] [TaskManager] Completed command task: 'summarizeStats' launched from master workflow\n",
      "[2022-02-02T20:33:48.286888Z] [7c5159ff7d8f] [24_1] [TaskManager] Launching command task: 'mergeLocusGraph' from master workflow\n",
      "[2022-02-02T20:33:48.289012Z] [7c5159ff7d8f] [24_1] [TaskRunner:mergeLocusGraph] Task initiated on local node\n",
      "[2022-02-02T20:33:48.401790Z] [7c5159ff7d8f] [24_1] [TaskManager] Completed command task: 'mergeLocusGraph' launched from master workflow\n",
      "[2022-02-02T20:33:48.402316Z] [7c5159ff7d8f] [24_1] [TaskManager] Launching command task: 'locusGraphStats' from master workflow\n",
      "[2022-02-02T20:33:48.404479Z] [7c5159ff7d8f] [24_1] [TaskRunner:locusGraphStats] Task initiated on local node\n",
      "[2022-02-02T20:33:48.517172Z] [7c5159ff7d8f] [24_1] [TaskManager] Completed command task: 'locusGraphStats' launched from master workflow\n",
      "[2022-02-02T20:33:48.517772Z] [7c5159ff7d8f] [24_1] [TaskManager] Launching command task: 'removeTmpDir' from master workflow\n",
      "[2022-02-02T20:33:48.519895Z] [7c5159ff7d8f] [24_1] [TaskRunner:removeTmpDir] Task initiated on local node\n",
      "[2022-02-02T20:33:48.633197Z] [7c5159ff7d8f] [24_1] [TaskManager] Completed command task: 'removeTmpDir' launched from master workflow\n",
      "[2022-02-02T20:33:48.634461Z] [7c5159ff7d8f] [24_1] [TaskManager] Launching command task: 'checkLocusGraph' from master workflow\n",
      "[2022-02-02T20:33:48.638008Z] [7c5159ff7d8f] [24_1] [TaskRunner:checkLocusGraph] Task initiated on local node\n",
      "[2022-02-02T20:33:48.749781Z] [7c5159ff7d8f] [24_1] [TaskManager] Completed command task: 'checkLocusGraph' launched from master workflow\n",
      "[2022-02-02T20:33:48.750312Z] [7c5159ff7d8f] [24_1] [TaskManager] Launching command task: 'makeHyGenDir' from master workflow\n",
      "[2022-02-02T20:33:48.752518Z] [7c5159ff7d8f] [24_1] [TaskRunner:makeHyGenDir] Task initiated on local node\n",
      "[2022-02-02T20:33:48.866093Z] [7c5159ff7d8f] [24_1] [TaskManager] Completed command task: 'makeHyGenDir' launched from master workflow\n",
      "[2022-02-02T20:33:48.867196Z] [7c5159ff7d8f] [24_1] [TaskManager] Launching command task: 'generateCandidateSV_0000' from master workflow\n",
      "[2022-02-02T20:33:48.870790Z] [7c5159ff7d8f] [24_1] [TaskRunner:generateCandidateSV_0000] Task initiated on local node\n",
      "[2022-02-02T20:33:49.486076Z] [7c5159ff7d8f] [24_1] [TaskManager] Completed command task: 'generateCandidateSV_0000' launched from master workflow\n",
      "[2022-02-02T20:33:49.487139Z] [7c5159ff7d8f] [24_1] [TaskManager] Launching sub-workflow task: 'sortEdgeRuntimeLogsInputList' from master workflow\n",
      "[2022-02-02T20:33:49.487719Z] [7c5159ff7d8f] [24_1] [TaskRunner:sortEdgeRuntimeLogsInputList] Starting task specification for sub-workflow\n",
      "[2022-02-02T20:33:49.488500Z] [7c5159ff7d8f] [24_1] [TaskRunner:sortEdgeRuntimeLogsInputList] Finished task specification for sub-workflow\n",
      "[2022-02-02T20:33:49.489120Z] [7c5159ff7d8f] [24_1] [TaskManager] Launching command task: 'fixVcfHeader_sortCandidateSV' from master workflow\n",
      "[2022-02-02T20:33:49.489831Z] [7c5159ff7d8f] [24_1] [TaskManager] Completed sub-workflow task: 'sortEdgeRuntimeLogsInputList' launched from master workflow\n",
      "[2022-02-02T20:33:49.493261Z] [7c5159ff7d8f] [24_1] [TaskRunner:fixVcfHeader_sortCandidateSV] Task initiated on local node\n",
      "[2022-02-02T20:33:49.607611Z] [7c5159ff7d8f] [24_1] [TaskManager] Completed command task: 'fixVcfHeader_sortCandidateSV' launched from master workflow\n",
      "[2022-02-02T20:33:49.608222Z] [7c5159ff7d8f] [24_1] [TaskManager] Launching sub-workflow task: 'sortCandidateSVInputList' from master workflow\n",
      "[2022-02-02T20:33:49.608579Z] [7c5159ff7d8f] [24_1] [TaskRunner:sortCandidateSVInputList] Starting task specification for sub-workflow\n",
      "[2022-02-02T20:33:49.609193Z] [7c5159ff7d8f] [24_1] [TaskRunner:sortCandidateSVInputList] Finished task specification for sub-workflow\n",
      "[2022-02-02T20:33:49.609438Z] [7c5159ff7d8f] [24_1] [TaskManager] Launching command task: 'getAlignmentStats_removeTmpDir' from master workflow\n",
      "[2022-02-02T20:33:49.610091Z] [7c5159ff7d8f] [24_1] [TaskManager] Completed sub-workflow task: 'sortCandidateSVInputList' launched from master workflow\n",
      "[2022-02-02T20:33:49.613143Z] [7c5159ff7d8f] [24_1] [TaskRunner:getAlignmentStats_removeTmpDir] Task initiated on local node\n",
      "[2022-02-02T20:33:49.726066Z] [7c5159ff7d8f] [24_1] [TaskManager] Completed command task: 'getAlignmentStats_removeTmpDir' launched from master workflow\n",
      "[2022-02-02T20:33:49.727014Z] [7c5159ff7d8f] [24_1] [TaskManager] Launching command task: 'sort_sortCandidateSV' from master workflow\n",
      "[2022-02-02T20:33:49.730374Z] [7c5159ff7d8f] [24_1] [TaskRunner:sort_sortCandidateSV] Task initiated on local node\n",
      "[2022-02-02T20:33:49.942980Z] [7c5159ff7d8f] [24_1] [TaskManager] Completed command task: 'sort_sortCandidateSV' launched from master workflow\n",
      "[2022-02-02T20:33:49.943433Z] [7c5159ff7d8f] [24_1] [TaskManager] Launching command task: 'extractSmallIndels' from master workflow\n",
      "[2022-02-02T20:33:49.945620Z] [7c5159ff7d8f] [24_1] [TaskRunner:extractSmallIndels] Task initiated on local node\n",
      "[2022-02-02T20:33:50.158640Z] [7c5159ff7d8f] [24_1] [TaskManager] Completed command task: 'extractSmallIndels' launched from master workflow\n",
      "[2022-02-02T20:33:50.159078Z] [7c5159ff7d8f] [24_1] [TaskManager] Launching command task: 'extractSmallIndels_tabix' from master workflow\n",
      "[2022-02-02T20:33:50.161226Z] [7c5159ff7d8f] [24_1] [TaskRunner:extractSmallIndels_tabix] Task initiated on local node\n",
      "[2022-02-02T20:33:50.273612Z] [7c5159ff7d8f] [24_1] [TaskManager] Completed command task: 'extractSmallIndels_tabix' launched from master workflow\n",
      "[2022-02-02T20:33:50.274061Z] [7c5159ff7d8f] [24_1] [TaskManager] Launching command task: 'tabix_sortCandidateSV' from master workflow\n",
      "[2022-02-02T20:33:50.276198Z] [7c5159ff7d8f] [24_1] [TaskRunner:tabix_sortCandidateSV] Task initiated on local node\n",
      "[2022-02-02T20:33:50.389250Z] [7c5159ff7d8f] [24_1] [TaskManager] Completed command task: 'tabix_sortCandidateSV' launched from master workflow\n",
      "[2022-02-02T20:33:50.390285Z] [7c5159ff7d8f] [24_1] [TaskManager] Launching command task: 'fixVcfHeader_sortSomaticSV' from master workflow\n",
      "[2022-02-02T20:33:50.393314Z] [7c5159ff7d8f] [24_1] [TaskRunner:fixVcfHeader_sortSomaticSV] Task initiated on local node\n",
      "[2022-02-02T20:33:50.505040Z] [7c5159ff7d8f] [24_1] [TaskManager] Completed command task: 'fixVcfHeader_sortSomaticSV' launched from master workflow\n",
      "[2022-02-02T20:33:50.505383Z] [7c5159ff7d8f] [24_1] [TaskManager] Launching sub-workflow task: 'sortSomaticSVInputList' from master workflow\n",
      "[2022-02-02T20:33:50.505661Z] [7c5159ff7d8f] [24_1] [TaskRunner:sortSomaticSVInputList] Starting task specification for sub-workflow\n",
      "[2022-02-02T20:33:50.506231Z] [7c5159ff7d8f] [24_1] [TaskManager] Launching command task: 'fixVcfHeader_sortDiploidSV' from master workflow\n",
      "[2022-02-02T20:33:50.506473Z] [7c5159ff7d8f] [24_1] [TaskRunner:sortSomaticSVInputList] Finished task specification for sub-workflow\n",
      "[2022-02-02T20:33:50.508832Z] [7c5159ff7d8f] [24_1] [TaskManager] Completed sub-workflow task: 'sortSomaticSVInputList' launched from master workflow\n",
      "[2022-02-02T20:33:50.509142Z] [7c5159ff7d8f] [24_1] [TaskRunner:fixVcfHeader_sortDiploidSV] Task initiated on local node\n",
      "[2022-02-02T20:33:50.624171Z] [7c5159ff7d8f] [24_1] [TaskManager] Completed command task: 'fixVcfHeader_sortDiploidSV' launched from master workflow\n",
      "[2022-02-02T20:33:50.624801Z] [7c5159ff7d8f] [24_1] [TaskManager] Launching sub-workflow task: 'sortDiploidSVInputList' from master workflow\n",
      "[2022-02-02T20:33:50.625236Z] [7c5159ff7d8f] [24_1] [TaskRunner:sortDiploidSVInputList] Starting task specification for sub-workflow\n",
      "[2022-02-02T20:33:50.625857Z] [7c5159ff7d8f] [24_1] [TaskManager] Launching command task: 'sort_sortSomaticSV' from master workflow\n",
      "[2022-02-02T20:33:50.626151Z] [7c5159ff7d8f] [24_1] [TaskRunner:sortDiploidSVInputList] Finished task specification for sub-workflow\n",
      "[2022-02-02T20:33:50.627459Z] [7c5159ff7d8f] [24_1] [TaskManager] Completed sub-workflow task: 'sortDiploidSVInputList' launched from master workflow\n",
      "[2022-02-02T20:33:50.629771Z] [7c5159ff7d8f] [24_1] [TaskRunner:sort_sortSomaticSV] Task initiated on local node\n",
      "[2022-02-02T20:33:50.794217Z] [7c5159ff7d8f] [24_1] [TaskManager] Completed command task: 'sort_sortSomaticSV' launched from master workflow\n",
      "[2022-02-02T20:33:50.794912Z] [7c5159ff7d8f] [24_1] [TaskManager] Launching command task: 'tabix_sortSomaticSV' from master workflow\n",
      "[2022-02-02T20:33:50.798340Z] [7c5159ff7d8f] [24_1] [TaskRunner:tabix_sortSomaticSV] Task initiated on local node\n",
      "[2022-02-02T20:33:50.911707Z] [7c5159ff7d8f] [24_1] [TaskManager] Completed command task: 'tabix_sortSomaticSV' launched from master workflow\n",
      "[2022-02-02T20:33:50.912678Z] [7c5159ff7d8f] [24_1] [TaskManager] Launching command task: 'sort_sortDiploidSV' from master workflow\n",
      "[2022-02-02T20:33:50.916165Z] [7c5159ff7d8f] [24_1] [TaskRunner:sort_sortDiploidSV] Task initiated on local node\n",
      "[2022-02-02T20:33:51.130102Z] [7c5159ff7d8f] [24_1] [TaskManager] Completed command task: 'sort_sortDiploidSV' launched from master workflow\n",
      "[2022-02-02T20:33:51.131071Z] [7c5159ff7d8f] [24_1] [TaskManager] Launching command task: 'tabix_sortDiploidSV' from master workflow\n",
      "[2022-02-02T20:33:51.134255Z] [7c5159ff7d8f] [24_1] [TaskRunner:tabix_sortDiploidSV] Task initiated on local node\n",
      "[2022-02-02T20:33:51.247980Z] [7c5159ff7d8f] [24_1] [TaskManager] Completed command task: 'tabix_sortDiploidSV' launched from master workflow\n",
      "[2022-02-02T20:33:51.248521Z] [7c5159ff7d8f] [24_1] [TaskManager] Launching command task: 'sortEdgeRuntimeLogs' from master workflow\n",
      "[2022-02-02T20:33:51.251881Z] [7c5159ff7d8f] [24_1] [TaskRunner:sortEdgeRuntimeLogs] Task initiated on local node\n",
      "[2022-02-02T20:33:51.415173Z] [7c5159ff7d8f] [24_1] [TaskManager] Completed command task: 'sortEdgeRuntimeLogs' launched from master workflow\n",
      "[2022-02-02T20:33:53.034623Z] [7c5159ff7d8f] [24_1] [WorkflowRunner] Manta workflow successfully completed.\n",
      "[2022-02-02T20:33:53.034623Z] [7c5159ff7d8f] [24_1] [WorkflowRunner] \n",
      "[2022-02-02T20:33:53.034623Z] [7c5159ff7d8f] [24_1] [WorkflowRunner] \tworkflow version: 1.6.0\n",
      "[2022-02-02T20:33:53.034715Z] [7c5159ff7d8f] [24_1] [WorkflowRunner] \n",
      "[2022-02-02T20:33:53.034734Z] [7c5159ff7d8f] [24_1] [WorkflowRunner] Workflow successfully completed all tasks\n"
     ]
    },
    {
     "name": "stderr",
     "output_type": "stream",
     "text": [
      "[2022-02-02T20:33:53.034868Z] [7c5159ff7d8f] [24_1] [WorkflowRunner] Elapsed time for full workflow: 5 sec\n",
      "\n",
      "**** Completed demo workflow execution.\n",
      "\n",
      "\n",
      "**** Starting comparison to expected results.\n",
      "**** Expected results dir: '/home/tool/manta-1.6.0.centos6_x86_64/share/demo/manta/expectedResults'\n",
      "**** Demo results dir: 'MantaDemoAnalysis/results/variants'\n",
      "\n",
      "\n",
      "**** No differences between expected and computed results.\n",
      "\n",
      "\n",
      "**** Demo/verification successfully completed\n",
      "\n",
      "\n",
      "**** Starting demo configuration and run.\n",
      "**** Configuration cmd: './home/tool/strelka-2.9.10.centos6_x86_64/bin/configureStrelkaGermlineWorkflow.py --bam='./home/tool/strelka-2.9.10.centos6_x86_64/bin/../share/demo/strelka/data/NA12891_demo20.bam' --bam='./home/tool/strelka-2.9.10.centos6_x86_64/bin/../share/demo/strelka/data/NA12892_demo20.bam' --referenceFasta='./home/tool/strelka-2.9.10.centos6_x86_64/bin/../share/demo/strelka/data/demo20.fa' --callMemMb=1024 --exome --disableSequenceErrorEstimation --runDir=./strelkaGermlineDemoAnalysis'\n",
      "\n",
      "\n",
      "**** Completed demo configuration.\n",
      "\n",
      "\n",
      "**** Starting demo workflow execution.\n",
      "**** Workflow cmd: './strelkaGermlineDemoAnalysis/runWorkflow.py -m local -j 1 -g 4'\n",
      "\n",
      "[2022-02-02T20:33:53.673781Z] [7c5159ff7d8f] [197_1] [WorkflowRunner] Initiating pyFlow run\n",
      "[2022-02-02T20:33:53.673859Z] [7c5159ff7d8f] [197_1] [WorkflowRunner] pyFlowClientWorkflowClass: StrelkaGermlineWorkflow\n",
      "[2022-02-02T20:33:53.673877Z] [7c5159ff7d8f] [197_1] [WorkflowRunner] pyFlowVersion: 1.1.20\n",
      "[2022-02-02T20:33:53.673890Z] [7c5159ff7d8f] [197_1] [WorkflowRunner] pythonVersion: 2.6.6.final.0\n",
      "[2022-02-02T20:33:53.673899Z] [7c5159ff7d8f] [197_1] [WorkflowRunner] WorkingDir: '/'\n",
      "[2022-02-02T20:33:53.673908Z] [7c5159ff7d8f] [197_1] [WorkflowRunner] ProcessCmdLine: './strelkaGermlineDemoAnalysis/runWorkflow.py -m local -j 1 -g 4'\n",
      "[2022-02-02T20:33:53.673918Z] [7c5159ff7d8f] [197_1] [WorkflowRunner] [RunParameters] mode: local\n",
      "[2022-02-02T20:33:53.673927Z] [7c5159ff7d8f] [197_1] [WorkflowRunner] [RunParameters] nCores: 1\n",
      "[2022-02-02T20:33:53.673936Z] [7c5159ff7d8f] [197_1] [WorkflowRunner] [RunParameters] memMb: 4096\n",
      "[2022-02-02T20:33:53.673945Z] [7c5159ff7d8f] [197_1] [WorkflowRunner] [RunParameters] dataDir: /strelkaGermlineDemoAnalysis/workspace/pyflow.data\n",
      "[2022-02-02T20:33:53.673955Z] [7c5159ff7d8f] [197_1] [WorkflowRunner] [RunParameters] isDryRun: False\n",
      "[2022-02-02T20:33:53.673964Z] [7c5159ff7d8f] [197_1] [WorkflowRunner] [RunParameters] isContinue: False\n",
      "[2022-02-02T20:33:53.673973Z] [7c5159ff7d8f] [197_1] [WorkflowRunner] [RunParameters] isForceContinue: True\n",
      "[2022-02-02T20:33:53.674008Z] [7c5159ff7d8f] [197_1] [WorkflowRunner] [RunParameters] mailTo: ''\n",
      "[2022-02-02T20:33:53.674557Z] [7c5159ff7d8f] [197_1] [TaskRunner:masterWorkflow] Starting task specification for master workflow\n",
      "[2022-02-02T20:33:53.674685Z] [7c5159ff7d8f] [197_1] [StrelkaGermlineWorkflow] Initiating Strelka germline workflow version: 2.9.10\n",
      "[2022-02-02T20:33:53.675335Z] [7c5159ff7d8f] [197_1] [WorkflowRunner] Adding sub-workflow task 'CallGenome' to master workflow\n",
      "[2022-02-02T20:33:53.676037Z] [7c5159ff7d8f] [197_1] [TaskRunner:masterWorkflow] Finished task specification for master workflow\n",
      "[2022-02-02T20:33:53.676190Z] [7c5159ff7d8f] [197_1] [TaskManager] Launching sub-workflow task: 'CallGenome' from master workflow\n",
      "[2022-02-02T20:33:53.676737Z] [7c5159ff7d8f] [197_1] [TaskRunner:CallGenome] Starting task specification for sub-workflow\n",
      "[2022-02-02T20:33:53.677156Z] [7c5159ff7d8f] [197_1] [WorkflowRunner] Adding command task 'CallGenome+makeTmpDir' to sub-workflow 'CallGenome'\n",
      "[2022-02-02T20:33:53.677721Z] [7c5159ff7d8f] [197_1] [WorkflowRunner] Adding command task 'CallGenome+callGenomeSegment_chromId_000_demo20_0000' to sub-workflow 'CallGenome'\n",
      "[2022-02-02T20:33:53.678074Z] [7c5159ff7d8f] [197_1] [WorkflowRunner] Adding command task 'CallGenome+compressGenomeSegment_chromId_000_demo20_0000_variants' to sub-workflow 'CallGenome'\n",
      "[2022-02-02T20:33:53.678449Z] [7c5159ff7d8f] [197_1] [WorkflowRunner] Adding command task 'CallGenome+compressGenomeSegment_chromId_000_demo20_0000_gVCF_S1' to sub-workflow 'CallGenome'\n",
      "[2022-02-02T20:33:53.678927Z] [7c5159ff7d8f] [197_1] [WorkflowRunner] Adding command task 'CallGenome+compressGenomeSegment_chromId_000_demo20_0000_gVCF_S2' to sub-workflow 'CallGenome'\n",
      "[2022-02-02T20:33:53.679679Z] [7c5159ff7d8f] [197_1] [WorkflowRunner] Adding command task 'CallGenome+completedAllGenomeSegments' to sub-workflow 'CallGenome'\n",
      "[2022-02-02T20:33:53.680340Z] [7c5159ff7d8f] [197_1] [TaskManager] Launching command task: 'CallGenome+makeTmpDir' from sub-workflow 'CallGenome'\n",
      "[2022-02-02T20:33:53.680919Z] [7c5159ff7d8f] [197_1] [WorkflowRunner] Adding command task 'CallGenome+variants_concat_vcf' to sub-workflow 'CallGenome'\n",
      "[2022-02-02T20:33:53.682100Z] [7c5159ff7d8f] [197_1] [WorkflowRunner] Adding command task 'CallGenome+variants_index_vcf' to sub-workflow 'CallGenome'\n",
      "[2022-02-02T20:33:53.683948Z] [7c5159ff7d8f] [197_1] [WorkflowRunner] Adding command task 'CallGenome+gVCF_S1_concat_vcf' to sub-workflow 'CallGenome'\n",
      "[2022-02-02T20:33:53.684377Z] [7c5159ff7d8f] [197_1] [TaskRunner:CallGenome+makeTmpDir] Task initiated on local node\n",
      "[2022-02-02T20:33:53.685189Z] [7c5159ff7d8f] [197_1] [WorkflowRunner] Adding command task 'CallGenome+gVCF_S1_index_vcf' to sub-workflow 'CallGenome'\n",
      "[2022-02-02T20:33:53.685901Z] [7c5159ff7d8f] [197_1] [WorkflowRunner] Adding command task 'CallGenome+addLegacyOutputLink' to sub-workflow 'CallGenome'\n",
      "[2022-02-02T20:33:53.686197Z] [7c5159ff7d8f] [197_1] [WorkflowRunner] Adding command task 'CallGenome+gVCF_S2_concat_vcf' to sub-workflow 'CallGenome'\n",
      "[2022-02-02T20:33:53.686441Z] [7c5159ff7d8f] [197_1] [WorkflowRunner] Adding command task 'CallGenome+gVCF_S2_index_vcf' to sub-workflow 'CallGenome'\n",
      "[2022-02-02T20:33:53.686893Z] [7c5159ff7d8f] [197_1] [WorkflowRunner] Adding command task 'CallGenome+mergeRunStats' to sub-workflow 'CallGenome'\n",
      "[2022-02-02T20:33:53.687328Z] [7c5159ff7d8f] [197_1] [WorkflowRunner] Adding command task 'CallGenome+removeTmpDir' to sub-workflow 'CallGenome'\n",
      "[2022-02-02T20:33:53.688075Z] [7c5159ff7d8f] [197_1] [TaskRunner:CallGenome] Finished task specification for sub-workflow\n",
      "[2022-02-02T20:33:53.802731Z] [7c5159ff7d8f] [197_1] [TaskManager] Completed command task: 'CallGenome+makeTmpDir' launched from sub-workflow 'CallGenome'\n",
      "[2022-02-02T20:33:53.803891Z] [7c5159ff7d8f] [197_1] [TaskManager] Launching command task: 'CallGenome+callGenomeSegment_chromId_000_demo20_0000' from sub-workflow 'CallGenome'\n",
      "[2022-02-02T20:33:53.806471Z] [7c5159ff7d8f] [197_1] [TaskRunner:CallGenome+callGenomeSegment_chromId_000_demo20_0000] Task initiated on local node\n",
      "[2022-02-02T20:33:54.018911Z] [7c5159ff7d8f] [197_1] [TaskManager] Completed command task: 'CallGenome+callGenomeSegment_chromId_000_demo20_0000' launched from sub-workflow 'CallGenome'\n",
      "[2022-02-02T20:33:54.019347Z] [7c5159ff7d8f] [197_1] [TaskManager] Launching command task: 'CallGenome+compressGenomeSegment_chromId_000_demo20_0000_gVCF_S1' from sub-workflow 'CallGenome'\n",
      "[2022-02-02T20:33:54.021491Z] [7c5159ff7d8f] [197_1] [TaskRunner:CallGenome+compressGenomeSegment_chromId_000_demo20_0000_gVCF_S1] Task initiated on local node\n",
      "[2022-02-02T20:33:54.134073Z] [7c5159ff7d8f] [197_1] [TaskManager] Completed command task: 'CallGenome+compressGenomeSegment_chromId_000_demo20_0000_gVCF_S1' launched from sub-workflow 'CallGenome'\n",
      "[2022-02-02T20:33:54.135066Z] [7c5159ff7d8f] [197_1] [TaskManager] Launching command task: 'CallGenome+compressGenomeSegment_chromId_000_demo20_0000_gVCF_S2' from sub-workflow 'CallGenome'\n",
      "[2022-02-02T20:33:54.138077Z] [7c5159ff7d8f] [197_1] [TaskRunner:CallGenome+compressGenomeSegment_chromId_000_demo20_0000_gVCF_S2] Task initiated on local node\n",
      "[2022-02-02T20:33:54.251425Z] [7c5159ff7d8f] [197_1] [TaskManager] Completed command task: 'CallGenome+compressGenomeSegment_chromId_000_demo20_0000_gVCF_S2' launched from sub-workflow 'CallGenome'\n",
      "[2022-02-02T20:33:54.252635Z] [7c5159ff7d8f] [197_1] [TaskManager] Launching command task: 'CallGenome+compressGenomeSegment_chromId_000_demo20_0000_variants' from sub-workflow 'CallGenome'\n",
      "[2022-02-02T20:33:54.256047Z] [7c5159ff7d8f] [197_1] [TaskRunner:CallGenome+compressGenomeSegment_chromId_000_demo20_0000_variants] Task initiated on local node\n",
      "[2022-02-02T20:33:54.368856Z] [7c5159ff7d8f] [197_1] [TaskManager] Completed command task: 'CallGenome+compressGenomeSegment_chromId_000_demo20_0000_variants' launched from sub-workflow 'CallGenome'\n",
      "[2022-02-02T20:33:54.369512Z] [7c5159ff7d8f] [197_1] [TaskManager] Completed command task: 'CallGenome+completedAllGenomeSegments' launched from sub-workflow 'CallGenome'\n",
      "[2022-02-02T20:33:54.370034Z] [7c5159ff7d8f] [197_1] [TaskManager] Launching command task: 'CallGenome+gVCF_S1_concat_vcf' from sub-workflow 'CallGenome'\n",
      "[2022-02-02T20:33:54.373024Z] [7c5159ff7d8f] [197_1] [TaskRunner:CallGenome+gVCF_S1_concat_vcf] Task initiated on local node\n",
      "[2022-02-02T20:33:54.486364Z] [7c5159ff7d8f] [197_1] [TaskManager] Completed command task: 'CallGenome+gVCF_S1_concat_vcf' launched from sub-workflow 'CallGenome'\n",
      "[2022-02-02T20:33:54.487294Z] [7c5159ff7d8f] [197_1] [TaskManager] Launching command task: 'CallGenome+gVCF_S1_index_vcf' from sub-workflow 'CallGenome'\n",
      "[2022-02-02T20:33:54.490641Z] [7c5159ff7d8f] [197_1] [TaskRunner:CallGenome+gVCF_S1_index_vcf] Task initiated on local node\n",
      "[2022-02-02T20:33:54.605045Z] [7c5159ff7d8f] [197_1] [TaskManager] Completed command task: 'CallGenome+gVCF_S1_index_vcf' launched from sub-workflow 'CallGenome'\n",
      "[2022-02-02T20:33:54.606235Z] [7c5159ff7d8f] [197_1] [TaskManager] Launching command task: 'CallGenome+addLegacyOutputLink' from sub-workflow 'CallGenome'\n",
      "[2022-02-02T20:33:54.609845Z] [7c5159ff7d8f] [197_1] [TaskRunner:CallGenome+addLegacyOutputLink] Task initiated on local node\n",
      "[2022-02-02T20:33:54.722513Z] [7c5159ff7d8f] [197_1] [TaskManager] Completed command task: 'CallGenome+addLegacyOutputLink' launched from sub-workflow 'CallGenome'\n",
      "[2022-02-02T20:33:54.723634Z] [7c5159ff7d8f] [197_1] [TaskManager] Launching command task: 'CallGenome+gVCF_S2_concat_vcf' from sub-workflow 'CallGenome'\n",
      "[2022-02-02T20:33:54.727408Z] [7c5159ff7d8f] [197_1] [TaskRunner:CallGenome+gVCF_S2_concat_vcf] Task initiated on local node\n"
     ]
    },
    {
     "name": "stderr",
     "output_type": "stream",
     "text": [
      "[2022-02-02T20:33:54.840070Z] [7c5159ff7d8f] [197_1] [TaskManager] Completed command task: 'CallGenome+gVCF_S2_concat_vcf' launched from sub-workflow 'CallGenome'\n",
      "[2022-02-02T20:33:54.840618Z] [7c5159ff7d8f] [197_1] [TaskManager] Launching command task: 'CallGenome+gVCF_S2_index_vcf' from sub-workflow 'CallGenome'\n",
      "[2022-02-02T20:33:54.843054Z] [7c5159ff7d8f] [197_1] [TaskRunner:CallGenome+gVCF_S2_index_vcf] Task initiated on local node\n",
      "[2022-02-02T20:33:55.942210Z] [7c5159ff7d8f] [197_1] [TaskManager] Completed command task: 'CallGenome+gVCF_S2_index_vcf' launched from sub-workflow 'CallGenome'\n",
      "[2022-02-02T20:33:55.942542Z] [7c5159ff7d8f] [197_1] [TaskManager] Launching command task: 'CallGenome+variants_concat_vcf' from sub-workflow 'CallGenome'\n",
      "[2022-02-02T20:33:55.945131Z] [7c5159ff7d8f] [197_1] [TaskRunner:CallGenome+variants_concat_vcf] Task initiated on local node\n",
      "[2022-02-02T20:33:56.058014Z] [7c5159ff7d8f] [197_1] [TaskManager] Completed command task: 'CallGenome+variants_concat_vcf' launched from sub-workflow 'CallGenome'\n",
      "[2022-02-02T20:33:56.058890Z] [7c5159ff7d8f] [197_1] [TaskManager] Launching command task: 'CallGenome+variants_index_vcf' from sub-workflow 'CallGenome'\n",
      "[2022-02-02T20:33:56.062726Z] [7c5159ff7d8f] [197_1] [TaskRunner:CallGenome+variants_index_vcf] Task initiated on local node\n",
      "[2022-02-02T20:33:56.175088Z] [7c5159ff7d8f] [197_1] [TaskManager] Completed command task: 'CallGenome+variants_index_vcf' launched from sub-workflow 'CallGenome'\n",
      "[2022-02-02T20:33:56.176016Z] [7c5159ff7d8f] [197_1] [TaskManager] Launching command task: 'CallGenome+mergeRunStats' from sub-workflow 'CallGenome'\n",
      "[2022-02-02T20:33:56.179266Z] [7c5159ff7d8f] [197_1] [TaskRunner:CallGenome+mergeRunStats] Task initiated on local node\n",
      "[2022-02-02T20:33:56.290961Z] [7c5159ff7d8f] [197_1] [TaskManager] Completed command task: 'CallGenome+mergeRunStats' launched from sub-workflow 'CallGenome'\n",
      "[2022-02-02T20:33:56.291286Z] [7c5159ff7d8f] [197_1] [TaskManager] Launching command task: 'CallGenome+removeTmpDir' from sub-workflow 'CallGenome'\n",
      "[2022-02-02T20:33:56.293483Z] [7c5159ff7d8f] [197_1] [TaskRunner:CallGenome+removeTmpDir] Task initiated on local node\n",
      "[2022-02-02T20:33:56.405778Z] [7c5159ff7d8f] [197_1] [TaskManager] Completed command task: 'CallGenome+removeTmpDir' launched from sub-workflow 'CallGenome'\n",
      "[2022-02-02T20:33:59.286880Z] [7c5159ff7d8f] [197_1] [TaskManager] Completed sub-workflow task: 'CallGenome' launched from master workflow\n",
      "[2022-02-02T20:34:04.230112Z] [7c5159ff7d8f] [197_1] [WorkflowRunner] Strelka germline workflow successfully completed.\n",
      "[2022-02-02T20:34:04.230112Z] [7c5159ff7d8f] [197_1] [WorkflowRunner] \n",
      "[2022-02-02T20:34:04.230112Z] [7c5159ff7d8f] [197_1] [WorkflowRunner] \tworkflow version: 2.9.10\n",
      "[2022-02-02T20:34:04.230202Z] [7c5159ff7d8f] [197_1] [WorkflowRunner] \n",
      "[2022-02-02T20:34:04.230218Z] [7c5159ff7d8f] [197_1] [WorkflowRunner] Workflow successfully completed all tasks\n",
      "[2022-02-02T20:34:04.230232Z] [7c5159ff7d8f] [197_1] [WorkflowRunner] Elapsed time for full workflow: 10 sec\n",
      "\n",
      "**** Completed demo workflow execution.\n",
      "\n",
      "\n",
      "**** Demo/verification successfully completed\n",
      "\n",
      "\n",
      "**** Starting demo configuration and run.\n",
      "**** Configuration cmd: './home/tool/strelka-2.9.10.centos6_x86_64/bin/configureStrelkaSomaticWorkflow.py --tumorBam='./home/tool/strelka-2.9.10.centos6_x86_64/bin/../share/demo/strelka/data/NA12891_demo20.bam' --normalBam='./home/tool/strelka-2.9.10.centos6_x86_64/bin/../share/demo/strelka/data/NA12892_demo20.bam' --referenceFasta='./home/tool/strelka-2.9.10.centos6_x86_64/bin/../share/demo/strelka/data/demo20.fa' --callMemMb=1024 --exome --runDir=./strelkaSomaticDemoAnalysis'\n",
      "\n",
      "\n",
      "**** Completed demo configuration.\n",
      "\n",
      "\n",
      "**** Starting demo workflow execution.\n",
      "**** Workflow cmd: './strelkaSomaticDemoAnalysis/runWorkflow.py -m local -j 1 -g 4'\n",
      "\n",
      "[2022-02-02T20:34:04.772306Z] [7c5159ff7d8f] [300_1] [WorkflowRunner] Initiating pyFlow run\n",
      "[2022-02-02T20:34:04.772376Z] [7c5159ff7d8f] [300_1] [WorkflowRunner] pyFlowClientWorkflowClass: StrelkaSomaticWorkflow\n",
      "[2022-02-02T20:34:04.772438Z] [7c5159ff7d8f] [300_1] [WorkflowRunner] pyFlowVersion: 1.1.20\n",
      "[2022-02-02T20:34:04.772452Z] [7c5159ff7d8f] [300_1] [WorkflowRunner] pythonVersion: 2.6.6.final.0\n",
      "[2022-02-02T20:34:04.772460Z] [7c5159ff7d8f] [300_1] [WorkflowRunner] WorkingDir: '/'\n",
      "[2022-02-02T20:34:04.772491Z] [7c5159ff7d8f] [300_1] [WorkflowRunner] ProcessCmdLine: './strelkaSomaticDemoAnalysis/runWorkflow.py -m local -j 1 -g 4'\n",
      "[2022-02-02T20:34:04.772817Z] [7c5159ff7d8f] [300_1] [WorkflowRunner] [RunParameters] mode: local\n",
      "[2022-02-02T20:34:04.772939Z] [7c5159ff7d8f] [300_1] [WorkflowRunner] [RunParameters] nCores: 1\n",
      "[2022-02-02T20:34:04.773016Z] [7c5159ff7d8f] [300_1] [WorkflowRunner] [RunParameters] memMb: 4096\n",
      "[2022-02-02T20:34:04.773027Z] [7c5159ff7d8f] [300_1] [WorkflowRunner] [RunParameters] dataDir: /strelkaSomaticDemoAnalysis/workspace/pyflow.data\n",
      "[2022-02-02T20:34:04.773039Z] [7c5159ff7d8f] [300_1] [WorkflowRunner] [RunParameters] isDryRun: False\n",
      "[2022-02-02T20:34:04.773048Z] [7c5159ff7d8f] [300_1] [WorkflowRunner] [RunParameters] isContinue: False\n",
      "[2022-02-02T20:34:04.773213Z] [7c5159ff7d8f] [300_1] [WorkflowRunner] [RunParameters] isForceContinue: True\n",
      "[2022-02-02T20:34:04.773351Z] [7c5159ff7d8f] [300_1] [WorkflowRunner] [RunParameters] mailTo: ''\n",
      "[2022-02-02T20:34:04.774275Z] [7c5159ff7d8f] [300_1] [TaskRunner:masterWorkflow] Starting task specification for master workflow\n",
      "[2022-02-02T20:34:04.774422Z] [7c5159ff7d8f] [300_1] [StrelkaSomaticWorkflow] Initiating Strelka somatic workflow version: 2.9.10\n",
      "[2022-02-02T20:34:04.775230Z] [7c5159ff7d8f] [300_1] [WorkflowRunner] Adding sub-workflow task 'CallGenome' to master workflow\n",
      "[2022-02-02T20:34:04.775965Z] [7c5159ff7d8f] [300_1] [TaskRunner:masterWorkflow] Finished task specification for master workflow\n",
      "[2022-02-02T20:34:04.776606Z] [7c5159ff7d8f] [300_1] [TaskManager] Launching sub-workflow task: 'CallGenome' from master workflow\n",
      "[2022-02-02T20:34:04.776888Z] [7c5159ff7d8f] [300_1] [TaskRunner:CallGenome] Starting task specification for sub-workflow\n",
      "[2022-02-02T20:34:04.777270Z] [7c5159ff7d8f] [300_1] [WorkflowRunner] Adding command task 'CallGenome+makeTmpDir' to sub-workflow 'CallGenome'\n",
      "[2022-02-02T20:34:04.778179Z] [7c5159ff7d8f] [300_1] [TaskManager] Launching command task: 'CallGenome+makeTmpDir' from sub-workflow 'CallGenome'\n",
      "[2022-02-02T20:34:04.778861Z] [7c5159ff7d8f] [300_1] [WorkflowRunner] Adding command task 'CallGenome+callGenomeSegment_chromId_000_demo20_0000' to sub-workflow 'CallGenome'\n",
      "[2022-02-02T20:34:04.779574Z] [7c5159ff7d8f] [300_1] [WorkflowRunner] Adding command task 'CallGenome+fixVcfHeader_chromId_000_demo20_0000' to sub-workflow 'CallGenome'\n",
      "[2022-02-02T20:34:04.779971Z] [7c5159ff7d8f] [300_1] [WorkflowRunner] Adding command task 'CallGenome+compressSegmentOutput_chromId_000_demo20_0000' to sub-workflow 'CallGenome'\n",
      "[2022-02-02T20:34:04.780898Z] [7c5159ff7d8f] [300_1] [WorkflowRunner] Adding command task 'CallGenome+completedAllGenomeSegments' to sub-workflow 'CallGenome'\n",
      "[2022-02-02T20:34:04.782614Z] [7c5159ff7d8f] [300_1] [TaskRunner:CallGenome+makeTmpDir] Task initiated on local node\n",
      "[2022-02-02T20:34:04.783132Z] [7c5159ff7d8f] [300_1] [WorkflowRunner] Adding command task 'CallGenome+SNV_concat_vcf' to sub-workflow 'CallGenome'\n",
      "[2022-02-02T20:34:04.783306Z] [7c5159ff7d8f] [300_1] [WorkflowRunner] Adding command task 'CallGenome+SNV_index_vcf' to sub-workflow 'CallGenome'\n",
      "[2022-02-02T20:34:04.783474Z] [7c5159ff7d8f] [300_1] [WorkflowRunner] Adding command task 'CallGenome+Indel_concat_vcf' to sub-workflow 'CallGenome'\n",
      "[2022-02-02T20:34:04.783661Z] [7c5159ff7d8f] [300_1] [WorkflowRunner] Adding command task 'CallGenome+Indel_index_vcf' to sub-workflow 'CallGenome'\n",
      "[2022-02-02T20:34:04.783838Z] [7c5159ff7d8f] [300_1] [WorkflowRunner] Adding command task 'CallGenome+mergeRunStats' to sub-workflow 'CallGenome'\n",
      "[2022-02-02T20:34:04.784069Z] [7c5159ff7d8f] [300_1] [WorkflowRunner] Adding command task 'CallGenome+removeTmpDir' to sub-workflow 'CallGenome'\n",
      "[2022-02-02T20:34:04.784425Z] [7c5159ff7d8f] [300_1] [TaskRunner:CallGenome] Finished task specification for sub-workflow\n",
      "[2022-02-02T20:34:04.900073Z] [7c5159ff7d8f] [300_1] [TaskManager] Completed command task: 'CallGenome+makeTmpDir' launched from sub-workflow 'CallGenome'\n",
      "[2022-02-02T20:34:04.901266Z] [7c5159ff7d8f] [300_1] [TaskManager] Launching command task: 'CallGenome+callGenomeSegment_chromId_000_demo20_0000' from sub-workflow 'CallGenome'\n",
      "[2022-02-02T20:34:04.904824Z] [7c5159ff7d8f] [300_1] [TaskRunner:CallGenome+callGenomeSegment_chromId_000_demo20_0000] Task initiated on local node\n",
      "[2022-02-02T20:34:05.117104Z] [7c5159ff7d8f] [300_1] [TaskManager] Completed command task: 'CallGenome+callGenomeSegment_chromId_000_demo20_0000' launched from sub-workflow 'CallGenome'\n",
      "[2022-02-02T20:34:05.117646Z] [7c5159ff7d8f] [300_1] [TaskManager] Launching command task: 'CallGenome+fixVcfHeader_chromId_000_demo20_0000' from sub-workflow 'CallGenome'\n",
      "[2022-02-02T20:34:05.119828Z] [7c5159ff7d8f] [300_1] [TaskRunner:CallGenome+fixVcfHeader_chromId_000_demo20_0000] Task initiated on local node\n",
      "[2022-02-02T20:34:05.232589Z] [7c5159ff7d8f] [300_1] [TaskManager] Completed command task: 'CallGenome+fixVcfHeader_chromId_000_demo20_0000' launched from sub-workflow 'CallGenome'\n",
      "[2022-02-02T20:34:05.233631Z] [7c5159ff7d8f] [300_1] [TaskManager] Launching command task: 'CallGenome+compressSegmentOutput_chromId_000_demo20_0000' from sub-workflow 'CallGenome'\n",
      "[2022-02-02T20:34:05.236751Z] [7c5159ff7d8f] [300_1] [TaskRunner:CallGenome+compressSegmentOutput_chromId_000_demo20_0000] Task initiated on local node\n",
      "[2022-02-02T20:34:05.349523Z] [7c5159ff7d8f] [300_1] [TaskManager] Completed command task: 'CallGenome+compressSegmentOutput_chromId_000_demo20_0000' launched from sub-workflow 'CallGenome'\n",
      "[2022-02-02T20:34:05.350425Z] [7c5159ff7d8f] [300_1] [TaskManager] Completed command task: 'CallGenome+completedAllGenomeSegments' launched from sub-workflow 'CallGenome'\n",
      "[2022-02-02T20:34:05.351112Z] [7c5159ff7d8f] [300_1] [TaskManager] Launching command task: 'CallGenome+mergeRunStats' from sub-workflow 'CallGenome'\n",
      "[2022-02-02T20:34:05.354650Z] [7c5159ff7d8f] [300_1] [TaskRunner:CallGenome+mergeRunStats] Task initiated on local node\n"
     ]
    },
    {
     "name": "stdout",
     "output_type": "stream",
     "text": [
      "/Users/kate/craft/tool/Fastq.jl/tool\n",
      " Successfully created workflow run script. To execute the workflow, run the following script and set appropriate options:  /MantaDemoAnalysis/runWorkflow.py\n",
      "\n",
      " Successfully created workflow run script. To execute the workflow, run the following script and set appropriate options:  /strelkaGermlineDemoAnalysis/runWorkflow.py\n",
      "\n",
      " Successfully created workflow run script. To execute the workflow, run the following script and set appropriate options:  /strelkaSomaticDemoAnalysis/runWorkflow.py\n",
      "\n",
      "Vector{String}\n",
      "7c5159ff7d8f9c50f77af561e3b7789cbc083a3e60251e7975e75e6a56c8a4df\n",
      "7c5159ff7d8f9c50f77af561e3b7789cbc083a3e60251e7975e75e6a56c8a4df\n",
      "Docker container was removed\n"
     ]
    },
    {
     "name": "stderr",
     "output_type": "stream",
     "text": [
      "[2022-02-02T20:34:05.467725Z] [7c5159ff7d8f] [300_1] [TaskManager] Completed command task: 'CallGenome+mergeRunStats' launched from sub-workflow 'CallGenome'\n",
      "[2022-02-02T20:34:05.468290Z] [7c5159ff7d8f] [300_1] [TaskManager] Launching command task: 'CallGenome+Indel_concat_vcf' from sub-workflow 'CallGenome'\n",
      "[2022-02-02T20:34:05.470463Z] [7c5159ff7d8f] [300_1] [TaskRunner:CallGenome+Indel_concat_vcf] Task initiated on local node\n",
      "[2022-02-02T20:34:05.584968Z] [7c5159ff7d8f] [300_1] [TaskManager] Completed command task: 'CallGenome+Indel_concat_vcf' launched from sub-workflow 'CallGenome'\n",
      "[2022-02-02T20:34:05.585911Z] [7c5159ff7d8f] [300_1] [TaskManager] Launching command task: 'CallGenome+Indel_index_vcf' from sub-workflow 'CallGenome'\n",
      "[2022-02-02T20:34:05.589445Z] [7c5159ff7d8f] [300_1] [TaskRunner:CallGenome+Indel_index_vcf] Task initiated on local node\n",
      "[2022-02-02T20:34:05.702203Z] [7c5159ff7d8f] [300_1] [TaskManager] Completed command task: 'CallGenome+Indel_index_vcf' launched from sub-workflow 'CallGenome'\n",
      "[2022-02-02T20:34:05.703259Z] [7c5159ff7d8f] [300_1] [TaskManager] Launching command task: 'CallGenome+SNV_concat_vcf' from sub-workflow 'CallGenome'\n",
      "[2022-02-02T20:34:05.707025Z] [7c5159ff7d8f] [300_1] [TaskRunner:CallGenome+SNV_concat_vcf] Task initiated on local node\n",
      "[2022-02-02T20:34:05.820009Z] [7c5159ff7d8f] [300_1] [TaskManager] Completed command task: 'CallGenome+SNV_concat_vcf' launched from sub-workflow 'CallGenome'\n",
      "[2022-02-02T20:34:05.821044Z] [7c5159ff7d8f] [300_1] [TaskManager] Launching command task: 'CallGenome+SNV_index_vcf' from sub-workflow 'CallGenome'\n",
      "[2022-02-02T20:34:05.824766Z] [7c5159ff7d8f] [300_1] [TaskRunner:CallGenome+SNV_index_vcf] Task initiated on local node\n",
      "[2022-02-02T20:34:05.937063Z] [7c5159ff7d8f] [300_1] [TaskManager] Completed command task: 'CallGenome+SNV_index_vcf' launched from sub-workflow 'CallGenome'\n",
      "[2022-02-02T20:34:05.937925Z] [7c5159ff7d8f] [300_1] [TaskManager] Launching command task: 'CallGenome+removeTmpDir' from sub-workflow 'CallGenome'\n",
      "[2022-02-02T20:34:05.941891Z] [7c5159ff7d8f] [300_1] [TaskRunner:CallGenome+removeTmpDir] Task initiated on local node\n",
      "[2022-02-02T20:34:06.054191Z] [7c5159ff7d8f] [300_1] [TaskManager] Completed command task: 'CallGenome+removeTmpDir' launched from sub-workflow 'CallGenome'\n",
      "[2022-02-02T20:34:07.523039Z] [7c5159ff7d8f] [300_1] [TaskManager] Completed sub-workflow task: 'CallGenome' launched from master workflow\n",
      "[2022-02-02T20:34:10.402295Z] [7c5159ff7d8f] [300_1] [WorkflowRunner] Strelka somatic workflow successfully completed.\n",
      "[2022-02-02T20:34:10.402295Z] [7c5159ff7d8f] [300_1] [WorkflowRunner] \n",
      "[2022-02-02T20:34:10.402295Z] [7c5159ff7d8f] [300_1] [WorkflowRunner] \tworkflow version: 2.9.10\n",
      "[2022-02-02T20:34:10.402381Z] [7c5159ff7d8f] [300_1] [WorkflowRunner] \n",
      "[2022-02-02T20:34:10.402398Z] [7c5159ff7d8f] [300_1] [WorkflowRunner] Workflow successfully completed all tasks\n",
      "[2022-02-02T20:34:10.402411Z] [7c5159ff7d8f] [300_1] [WorkflowRunner] Elapsed time for full workflow: 5 sec\n",
      "\n",
      "**** Completed demo workflow execution.\n",
      "\n",
      "\n",
      "**** Starting comparison to expected results.\n",
      "**** Expected results dir: ./home/tool/strelka-2.9.10.centos6_x86_64/bin/../share/demo/strelka/expectedResults\n",
      "**** Demo results dir: ./strelkaSomaticDemoAnalysis/results/variants\n",
      "\n",
      "\n",
      "**** No differences between expected and computed results.\n",
      "\n",
      "\n",
      "**** Demo/verification successfully completed\n",
      "\n"
     ]
    }
   ],
   "source": [
    "Fastq.test_strelka_and_manta(to)"
   ]
  },
  {
   "cell_type": "markdown",
   "id": "4106f56f",
   "metadata": {},
   "source": [
    "## find"
   ]
  },
  {
   "cell_type": "code",
   "execution_count": 7,
   "id": "97bfa424",
   "metadata": {},
   "outputs": [
    {
     "name": "stdout",
     "output_type": "stream",
     "text": [
      "File types found in ../test/data/:\n",
      "\n",
      "\"fq.gz\" => 0\n",
      "\"fastq.gz\" => 4\n",
      "\".fq\" => 0\n",
      "\".fastq\" => 0\n",
      "\n",
      "Size of gzipped files:\n",
      "\n",
      "File ../test/data/test_cdna_4k.R1.fastq.gz is: 276.464 KiB\n",
      "File ../test/data/test_cdna_4k.R2.fastq.gz is: 283.787 KiB\n",
      "File ../test/data/test_dna_4k.R1.fastq.gz is: 287.457 KiB\n",
      "File ../test/data/test_dna_4k.R2.fastq.gz is: 316.618 KiB\n"
     ]
    },
    {
     "data": {
      "text/plain": [
       "4-element Vector{Any}:\n",
       " \"../test/data/test_cdna_4k.R1.fastq.gz\"\n",
       " \"../test/data/test_cdna_4k.R2.fastq.gz\"\n",
       " \"../test/data/test_dna_4k.R1.fastq.gz\"\n",
       " \"../test/data/test_dna_4k.R2.fastq.gz\""
      ]
     },
     "execution_count": 7,
     "metadata": {},
     "output_type": "execute_result"
    }
   ],
   "source": [
    "di = \"../test/data/\"\n",
    "\n",
    "re_ = Fastq.find(di)"
   ]
  },
  {
   "cell_type": "markdown",
   "id": "d777573f",
   "metadata": {},
   "source": [
    "## check_read"
   ]
  },
  {
   "cell_type": "code",
   "execution_count": null,
   "id": "d0ba42ae",
   "metadata": {},
   "outputs": [],
   "source": [
    "pa = joinpath(TE, \"check_raw\")\n",
    "\n",
    "Fastq.check_read(re_, pa, n_jo)"
   ]
  },
  {
   "cell_type": "markdown",
   "id": "bedf1d8d",
   "metadata": {},
   "source": [
    "## concatenate"
   ]
  },
  {
   "cell_type": "code",
   "execution_count": null,
   "id": "601c65ca",
   "metadata": {},
   "outputs": [],
   "source": [
    "Fastq.concatenate(re_, \"R1\")"
   ]
  },
  {
   "cell_type": "markdown",
   "id": "6847b17a",
   "metadata": {},
   "source": [
    "## trim"
   ]
  },
  {
   "cell_type": "code",
   "execution_count": null,
   "id": "c9eca6a5",
   "metadata": {},
   "outputs": [],
   "source": [
    "fq1 = \"../test/data/test_dna_4k.R1.fastq.gz\"\n",
    "\n",
    "fq2 = \"../test/data/test_dna_4k.R2.fastq.gz\"\n",
    "\n",
    "pa = joinpath(TE, \"trim\")\n",
    "\n",
    "Fastq.trim(fq1, fq2, pa, n_jo)"
   ]
  },
  {
   "cell_type": "markdown",
   "id": "6fe77016",
   "metadata": {},
   "source": [
    "## align_dna"
   ]
  },
  {
   "cell_type": "code",
   "execution_count": null,
   "id": "b842a6c3",
   "metadata": {
    "scrolled": true
   },
   "outputs": [],
   "source": [
    "fa = \"../../../data/grch/GCA_000001405.15_GRCh38_no_alt_plus_hs38d1_analysis_set.fna.gz\"\n",
    "\n",
    "ba =  joinpath(TE, \"align_dna\", \"final.bam\")\n",
    "\n",
    "Fastq.align_dna(\"test\", fq1, fq2, fa, ba, n_jo, me)"
   ]
  },
  {
   "cell_type": "markdown",
   "id": "9cb92cc8",
   "metadata": {},
   "source": [
    "## align_cdna"
   ]
  },
  {
   "cell_type": "code",
   "execution_count": null,
   "id": "37b420b8",
   "metadata": {},
   "outputs": [],
   "source": [
    "fa = \"../../../data/grch/GCA_000001405.15_GRCh38_no_alt_plus_hs38d1_analysis_set.fna\"\n",
    "\n",
    "fq1 = \"../test/data/test_cdna_4k.R1.fastq.gz\"\n",
    "\n",
    "fq2 = \"../test/data/test_cdna_4k.R2.fastq.gz\"\n",
    "\n",
    "ba = joinpath(TE, \"align_cdna/\")\n",
    "\n",
    "Fastq.align_cdna(\"test\", fq1, fq2, fa, ba, n_jo, me)"
   ]
  },
  {
   "cell_type": "markdown",
   "id": "2005c44b",
   "metadata": {},
   "source": [
    "## call_germline_variant"
   ]
  },
  {
   "cell_type": "code",
   "execution_count": null,
   "id": "1868a4cb",
   "metadata": {},
   "outputs": [],
   "source": [
    "mo = \"dna\" # cdna\n",
    "\n",
    "ba =  joinpath(TE, \"align_dna\", \"final.bam\")\n",
    "\n",
    "ta = false\n",
    "\n",
    "fa = \"../../../data/grch/GCA_000001405.15_GRCh38_no_alt_plus_hs38d1_analysis_set.fna.gz\"\n",
    "\n",
    "chs = \"../../../data/grch/chromosome/chromosome.bed.gz\"\n",
    "\n",
    "chn = \"../../../data/grch/chromosome/chrn_n.tsv\"\n",
    "\n",
    "pao = joinpath(TE, \"call_germline_variant\")\n",
    "\n",
    "pas = \"../tool/snpEff/snpEff.jar\"\n",
    "\n",
    "Fastq.call_germline_variant(mo, ba, ta, fa, chs, chn, pao, n_jo, me, to, pas)"
   ]
  },
  {
   "cell_type": "markdown",
   "id": "34b1c051",
   "metadata": {},
   "source": [
    "## call_somatic_variant"
   ]
  },
  {
   "cell_type": "code",
   "execution_count": null,
   "id": "be7d881a",
   "metadata": {},
   "outputs": [],
   "source": [
    "Fastq.call_somatic_variant()"
   ]
  },
  {
   "cell_type": "markdown",
   "id": "2c30b1c3",
   "metadata": {},
   "source": [
    "## count_transcript"
   ]
  },
  {
   "cell_type": "code",
   "execution_count": null,
   "id": "d10bee1c",
   "metadata": {},
   "outputs": [],
   "source": [
    "Fastq.count_transcript()"
   ]
  },
  {
   "cell_type": "markdown",
   "id": "775b473c",
   "metadata": {},
   "source": [
    "## process_dna"
   ]
  },
  {
   "cell_type": "code",
   "execution_count": null,
   "id": "2d4a77e2",
   "metadata": {},
   "outputs": [],
   "source": [
    "Fastq.process_dna()"
   ]
  },
  {
   "cell_type": "markdown",
   "id": "ee8430c3",
   "metadata": {},
   "source": [
    "## process_soma_dna"
   ]
  },
  {
   "cell_type": "code",
   "execution_count": null,
   "id": "2190388d",
   "metadata": {},
   "outputs": [],
   "source": [
    "Fastq.process_soma_dna()"
   ]
  },
  {
   "cell_type": "markdown",
   "id": "80a887b0",
   "metadata": {},
   "source": [
    "## Cleanup"
   ]
  },
  {
   "cell_type": "code",
   "execution_count": null,
   "id": "84a09e67",
   "metadata": {},
   "outputs": [],
   "source": [
    "rm(TE; recursive = true)\n",
    "\n",
    "println(\"Removed \", TE)"
   ]
  }
 ],
 "metadata": {
  "@webio": {
   "lastCommId": null,
   "lastKernelId": null
  },
  "kernelspec": {
   "display_name": "Julia 1.7.1",
   "language": "julia",
   "name": "julia-1.7"
  },
  "language_info": {
   "file_extension": ".jl",
   "mimetype": "application/julia",
   "name": "julia",
   "version": "1.7.1"
  }
 },
 "nbformat": 4,
 "nbformat_minor": 5
}
