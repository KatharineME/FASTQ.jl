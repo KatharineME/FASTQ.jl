{
 "cells": [
  {
   "cell_type": "code",
   "execution_count": 3,
   "id": "ca6b338b",
   "metadata": {},
   "outputs": [],
   "source": [
    "using Revise\n",
    "\n",
    "using Fastq"
   ]
  },
  {
   "cell_type": "markdown",
   "id": "789a0cc7",
   "metadata": {},
   "source": [
    "## test_environment"
   ]
  },
  {
   "cell_type": "code",
   "execution_count": 4,
   "id": "9329cf6f",
   "metadata": {},
   "outputs": [
    {
     "name": "stdout",
     "output_type": "stream",
     "text": [
      "Checking for programs...\n",
      "\n",
      "/usr/local/bin/fastp\n",
      "/usr/local/bin/fastqc\n",
      "/Users/kate/.pyenv/versions/3.10.0/bin/multiqc\n",
      "/usr/local/bin/bgzip\n",
      "/usr/local/bin/tabix\n",
      "/usr/local/bin/minimap2\n",
      "/usr/local/bin/samtools\n",
      "/usr/local/bin/bcftools\n",
      "/usr/local/bin/kallisto\n",
      "/usr/local/bin/star\n"
     ]
    }
   ],
   "source": [
    "Fastq.test_environment()"
   ]
  },
  {
   "cell_type": "markdown",
   "id": "5cd9c21b",
   "metadata": {},
   "source": [
    "## test_strelka_and_manta"
   ]
  },
  {
   "cell_type": "code",
   "execution_count": 5,
   "id": "93a2346b",
   "metadata": {},
   "outputs": [
    {
     "name": "stderr",
     "output_type": "stream",
     "text": [
      "\n",
      "**** Starting demo configuration and run.\n",
      "**** Configuration cmd: \"/home/tool/manta-1.6.0.centos6_x86_64/bin/configManta.py\" --normalBam=\"/home/tool/manta-1.6.0.centos6_x86_64/share/demo/manta/data/HCC1954.NORMAL.30x.compare.COST16011_region.bam\" --tumorBam=\"/home/tool/manta-1.6.0.centos6_x86_64/share/demo/manta/data/G15512.HCC1954.1.COST16011_region.bam\" --referenceFasta=\"/home/tool/manta-1.6.0.centos6_x86_64/share/demo/manta/data/Homo_sapiens_assembly19.COST16011_region.fa\" --region=8:107652000-107655000 --region=11:94974000-94989000 --exome --runDir=\"MantaDemoAnalysis\"\n",
      "\n",
      "\n",
      "**** Completed demo configuration.\n",
      "\n",
      "\n",
      "**** Starting demo workflow execution.\n",
      "**** Workflow cmd: '/usr/bin/python MantaDemoAnalysis/runWorkflow.py -j 1 -g 4'\n",
      "\n",
      "[2022-01-25T23:20:06.918398Z] [5ca91b47ced8] [25_1] [WorkflowRunner] Initiating pyFlow run\n",
      "[2022-01-25T23:20:06.918507Z] [5ca91b47ced8] [25_1] [WorkflowRunner] pyFlowClientWorkflowClass: MantaWorkflow\n",
      "[2022-01-25T23:20:06.918528Z] [5ca91b47ced8] [25_1] [WorkflowRunner] pyFlowVersion: 1.1.20\n",
      "[2022-01-25T23:20:06.918552Z] [5ca91b47ced8] [25_1] [WorkflowRunner] pythonVersion: 2.6.6.final.0\n",
      "[2022-01-25T23:20:06.918591Z] [5ca91b47ced8] [25_1] [WorkflowRunner] WorkingDir: '/'\n",
      "[2022-01-25T23:20:06.918610Z] [5ca91b47ced8] [25_1] [WorkflowRunner] ProcessCmdLine: 'MantaDemoAnalysis/runWorkflow.py -j 1 -g 4'\n",
      "[2022-01-25T23:20:06.918622Z] [5ca91b47ced8] [25_1] [WorkflowRunner] [RunParameters] mode: local\n",
      "[2022-01-25T23:20:06.918635Z] [5ca91b47ced8] [25_1] [WorkflowRunner] [RunParameters] nCores: 1\n",
      "[2022-01-25T23:20:06.918659Z] [5ca91b47ced8] [25_1] [WorkflowRunner] [RunParameters] memMb: 4096\n",
      "[2022-01-25T23:20:06.918717Z] [5ca91b47ced8] [25_1] [WorkflowRunner] [RunParameters] dataDir: /MantaDemoAnalysis/workspace/pyflow.data\n",
      "[2022-01-25T23:20:06.918734Z] [5ca91b47ced8] [25_1] [WorkflowRunner] [RunParameters] isDryRun: False\n",
      "[2022-01-25T23:20:06.918772Z] [5ca91b47ced8] [25_1] [WorkflowRunner] [RunParameters] isContinue: False\n",
      "[2022-01-25T23:20:06.918782Z] [5ca91b47ced8] [25_1] [WorkflowRunner] [RunParameters] isForceContinue: True\n",
      "[2022-01-25T23:20:06.918866Z] [5ca91b47ced8] [25_1] [WorkflowRunner] [RunParameters] mailTo: ''\n",
      "[2022-01-25T23:20:06.919758Z] [5ca91b47ced8] [25_1] [TaskRunner:masterWorkflow] Starting task specification for master workflow\n",
      "[2022-01-25T23:20:06.920078Z] [5ca91b47ced8] [25_1] [MantaWorkflow] Initiating Manta workflow version: 1.6.0\n",
      "[2022-01-25T23:20:06.920741Z] [5ca91b47ced8] [25_1] [WorkflowRunner] Adding command task 'getAlignmentStats_makeTmpDir' to master workflow\n",
      "[2022-01-25T23:20:06.922107Z] [5ca91b47ced8] [25_1] [WorkflowRunner] Adding command task 'getAlignmentStats_generateStats_000' to master workflow\n",
      "[2022-01-25T23:20:06.922498Z] [5ca91b47ced8] [25_1] [WorkflowRunner] Adding command task 'getAlignmentStats_generateStats_001' to master workflow\n",
      "[2022-01-25T23:20:06.923088Z] [5ca91b47ced8] [25_1] [WorkflowRunner] Adding command task 'getAlignmentStats_mergeStats' to master workflow\n",
      "[2022-01-25T23:20:06.923654Z] [5ca91b47ced8] [25_1] [TaskManager] Launching command task: 'getAlignmentStats_makeTmpDir' from master workflow\n",
      "[2022-01-25T23:20:06.924419Z] [5ca91b47ced8] [25_1] [WorkflowRunner] Adding command task 'getAlignmentStats_removeTmpDir' to master workflow\n",
      "[2022-01-25T23:20:06.925927Z] [5ca91b47ced8] [25_1] [WorkflowRunner] Adding command task 'summarizeStats' to master workflow\n",
      "[2022-01-25T23:20:06.927221Z] [5ca91b47ced8] [25_1] [WorkflowRunner] Adding command task 'makeGraphTmpDir' to master workflow\n",
      "[2022-01-25T23:20:06.930398Z] [5ca91b47ced8] [25_1] [TaskRunner:getAlignmentStats_makeTmpDir] Task initiated on local node\n",
      "[2022-01-25T23:20:06.930976Z] [5ca91b47ced8] [25_1] [WorkflowRunner] Adding command task 'makeLocusGraph_chromId_000_8-107652000-107655000_0000_to_chromId_001_11-94974000-94989000_0000' to master workflow\n",
      "[2022-01-25T23:20:06.931874Z] [5ca91b47ced8] [25_1] [WorkflowRunner] Adding sub-workflow task 'mergeLocusGraphInputList' to master workflow\n",
      "[2022-01-25T23:20:06.932239Z] [5ca91b47ced8] [25_1] [WorkflowRunner] Adding command task 'mergeLocusGraph' to master workflow\n",
      "[2022-01-25T23:20:06.932671Z] [5ca91b47ced8] [25_1] [WorkflowRunner] Adding command task 'checkLocusGraph' to master workflow\n",
      "[2022-01-25T23:20:06.933104Z] [5ca91b47ced8] [25_1] [WorkflowRunner] Adding command task 'removeTmpDir' to master workflow\n",
      "[2022-01-25T23:20:06.933971Z] [5ca91b47ced8] [25_1] [WorkflowRunner] Adding command task 'locusGraphStats' to master workflow\n",
      "[2022-01-25T23:20:06.934765Z] [5ca91b47ced8] [25_1] [WorkflowRunner] Adding command task 'makeHyGenDir' to master workflow\n",
      "[2022-01-25T23:20:06.935636Z] [5ca91b47ced8] [25_1] [WorkflowRunner] Adding command task 'generateCandidateSV_0000' to master workflow\n",
      "[2022-01-25T23:20:06.936512Z] [5ca91b47ced8] [25_1] [WorkflowRunner] Adding command task 'fixVcfHeader_sortCandidateSV' to master workflow\n",
      "[2022-01-25T23:20:06.937135Z] [5ca91b47ced8] [25_1] [WorkflowRunner] Adding sub-workflow task 'sortCandidateSVInputList' to master workflow\n",
      "[2022-01-25T23:20:06.938208Z] [5ca91b47ced8] [25_1] [WorkflowRunner] Adding command task 'sort_sortCandidateSV' to master workflow\n",
      "[2022-01-25T23:20:06.939061Z] [5ca91b47ced8] [25_1] [WorkflowRunner] Adding command task 'tabix_sortCandidateSV' to master workflow\n",
      "[2022-01-25T23:20:06.940267Z] [5ca91b47ced8] [25_1] [WorkflowRunner] Adding command task 'fixVcfHeader_sortDiploidSV' to master workflow\n",
      "[2022-01-25T23:20:06.941147Z] [5ca91b47ced8] [25_1] [WorkflowRunner] Adding sub-workflow task 'sortDiploidSVInputList' to master workflow\n",
      "[2022-01-25T23:20:06.941682Z] [5ca91b47ced8] [25_1] [WorkflowRunner] Adding command task 'sort_sortDiploidSV' to master workflow\n",
      "[2022-01-25T23:20:06.942342Z] [5ca91b47ced8] [25_1] [WorkflowRunner] Adding command task 'tabix_sortDiploidSV' to master workflow\n",
      "[2022-01-25T23:20:06.942710Z] [5ca91b47ced8] [25_1] [WorkflowRunner] Adding command task 'fixVcfHeader_sortSomaticSV' to master workflow\n",
      "[2022-01-25T23:20:06.943124Z] [5ca91b47ced8] [25_1] [WorkflowRunner] Adding sub-workflow task 'sortSomaticSVInputList' to master workflow\n",
      "[2022-01-25T23:20:06.943407Z] [5ca91b47ced8] [25_1] [WorkflowRunner] Adding command task 'sort_sortSomaticSV' to master workflow\n",
      "[2022-01-25T23:20:06.943771Z] [5ca91b47ced8] [25_1] [WorkflowRunner] Adding command task 'tabix_sortSomaticSV' to master workflow\n",
      "[2022-01-25T23:20:06.944187Z] [5ca91b47ced8] [25_1] [WorkflowRunner] Adding command task 'extractSmallIndels' to master workflow\n",
      "[2022-01-25T23:20:06.944577Z] [5ca91b47ced8] [25_1] [WorkflowRunner] Adding command task 'extractSmallIndels_tabix' to master workflow\n",
      "[2022-01-25T23:20:06.945437Z] [5ca91b47ced8] [25_1] [WorkflowRunner] Adding sub-workflow task 'sortEdgeRuntimeLogsInputList' to master workflow\n",
      "[2022-01-25T23:20:06.945752Z] [5ca91b47ced8] [25_1] [WorkflowRunner] Adding command task 'sortEdgeRuntimeLogs' to master workflow\n",
      "[2022-01-25T23:20:06.945928Z] [5ca91b47ced8] [25_1] [TaskRunner:masterWorkflow] Finished task specification for master workflow\n",
      "[2022-01-25T23:20:07.062718Z] [5ca91b47ced8] [25_1] [TaskManager] Completed command task: 'getAlignmentStats_makeTmpDir' launched from master workflow\n",
      "[2022-01-25T23:20:07.065185Z] [5ca91b47ced8] [25_1] [TaskManager] Launching command task: 'getAlignmentStats_generateStats_001' from master workflow\n",
      "[2022-01-25T23:20:07.068319Z] [5ca91b47ced8] [25_1] [TaskRunner:getAlignmentStats_generateStats_001] Task initiated on local node\n",
      "[2022-01-25T23:20:07.230627Z] [5ca91b47ced8] [25_1] [TaskManager] Completed command task: 'getAlignmentStats_generateStats_001' launched from master workflow\n",
      "[2022-01-25T23:20:07.231565Z] [5ca91b47ced8] [25_1] [TaskManager] Launching command task: 'getAlignmentStats_generateStats_000' from master workflow\n",
      "[2022-01-25T23:20:07.233752Z] [5ca91b47ced8] [25_1] [TaskRunner:getAlignmentStats_generateStats_000] Task initiated on local node\n",
      "[2022-01-25T23:20:07.346607Z] [5ca91b47ced8] [25_1] [TaskManager] Completed command task: 'getAlignmentStats_generateStats_000' launched from master workflow\n",
      "[2022-01-25T23:20:07.347389Z] [5ca91b47ced8] [25_1] [TaskManager] Launching command task: 'getAlignmentStats_mergeStats' from master workflow\n",
      "[2022-01-25T23:20:07.349874Z] [5ca91b47ced8] [25_1] [TaskRunner:getAlignmentStats_mergeStats] Task initiated on local node\n",
      "[2022-01-25T23:20:07.462431Z] [5ca91b47ced8] [25_1] [TaskManager] Completed command task: 'getAlignmentStats_mergeStats' launched from master workflow\n",
      "[2022-01-25T23:20:07.463105Z] [5ca91b47ced8] [25_1] [TaskManager] Launching command task: 'makeGraphTmpDir' from master workflow\n",
      "[2022-01-25T23:20:07.465971Z] [5ca91b47ced8] [25_1] [TaskRunner:makeGraphTmpDir] Task initiated on local node\n",
      "[2022-01-25T23:20:07.578329Z] [5ca91b47ced8] [25_1] [TaskManager] Completed command task: 'makeGraphTmpDir' launched from master workflow\n",
      "[2022-01-25T23:20:07.578971Z] [5ca91b47ced8] [25_1] [TaskManager] Launching command task: 'makeLocusGraph_chromId_000_8-107652000-107655000_0000_to_chromId_001_11-94974000-94989000_0000' from master workflow\n",
      "[2022-01-25T23:20:07.581425Z] [5ca91b47ced8] [25_1] [TaskRunner:makeLocusGraph_chromId_000_8-107652000-107655000_0000_to_chromId_001_11-94974000-94989000_0000] Task initiated on local node\n",
      "[2022-01-25T23:20:07.744110Z] [5ca91b47ced8] [25_1] [TaskManager] Completed command task: 'makeLocusGraph_chromId_000_8-107652000-107655000_0000_to_chromId_001_11-94974000-94989000_0000' launched from master workflow\n",
      "[2022-01-25T23:20:07.744662Z] [5ca91b47ced8] [25_1] [TaskManager] Launching sub-workflow task: 'mergeLocusGraphInputList' from master workflow\n",
      "[2022-01-25T23:20:07.744960Z] [5ca91b47ced8] [25_1] [TaskRunner:mergeLocusGraphInputList] Starting task specification for sub-workflow\n",
      "[2022-01-25T23:20:07.745389Z] [5ca91b47ced8] [25_1] [TaskManager] Launching command task: 'summarizeStats' from master workflow\n",
      "[2022-01-25T23:20:07.745769Z] [5ca91b47ced8] [25_1] [TaskRunner:mergeLocusGraphInputList] Finished task specification for sub-workflow\n",
      "[2022-01-25T23:20:07.747558Z] [5ca91b47ced8] [25_1] [TaskManager] Completed sub-workflow task: 'mergeLocusGraphInputList' launched from master workflow\n",
      "[2022-01-25T23:20:07.748297Z] [5ca91b47ced8] [25_1] [TaskRunner:summarizeStats] Task initiated on local node\n"
     ]
    },
    {
     "name": "stderr",
     "output_type": "stream",
     "text": [
      "[2022-01-25T23:20:07.862882Z] [5ca91b47ced8] [25_1] [TaskManager] Completed command task: 'summarizeStats' launched from master workflow\n",
      "[2022-01-25T23:20:07.863410Z] [5ca91b47ced8] [25_1] [TaskManager] Launching command task: 'mergeLocusGraph' from master workflow\n",
      "[2022-01-25T23:20:07.865813Z] [5ca91b47ced8] [25_1] [TaskRunner:mergeLocusGraph] Task initiated on local node\n",
      "[2022-01-25T23:20:07.978080Z] [5ca91b47ced8] [25_1] [TaskManager] Completed command task: 'mergeLocusGraph' launched from master workflow\n",
      "[2022-01-25T23:20:07.978645Z] [5ca91b47ced8] [25_1] [TaskManager] Launching command task: 'locusGraphStats' from master workflow\n",
      "[2022-01-25T23:20:07.980919Z] [5ca91b47ced8] [25_1] [TaskRunner:locusGraphStats] Task initiated on local node\n",
      "[2022-01-25T23:20:08.093433Z] [5ca91b47ced8] [25_1] [TaskManager] Completed command task: 'locusGraphStats' launched from master workflow\n",
      "[2022-01-25T23:20:08.093990Z] [5ca91b47ced8] [25_1] [TaskManager] Launching command task: 'checkLocusGraph' from master workflow\n",
      "[2022-01-25T23:20:08.096359Z] [5ca91b47ced8] [25_1] [TaskRunner:checkLocusGraph] Task initiated on local node\n",
      "[2022-01-25T23:20:08.209344Z] [5ca91b47ced8] [25_1] [TaskManager] Completed command task: 'checkLocusGraph' launched from master workflow\n",
      "[2022-01-25T23:20:08.209910Z] [5ca91b47ced8] [25_1] [TaskManager] Launching command task: 'makeHyGenDir' from master workflow\n",
      "[2022-01-25T23:20:08.212352Z] [5ca91b47ced8] [25_1] [TaskRunner:makeHyGenDir] Task initiated on local node\n",
      "[2022-01-25T23:20:08.325053Z] [5ca91b47ced8] [25_1] [TaskManager] Completed command task: 'makeHyGenDir' launched from master workflow\n",
      "[2022-01-25T23:20:08.325713Z] [5ca91b47ced8] [25_1] [TaskManager] Launching command task: 'generateCandidateSV_0000' from master workflow\n",
      "[2022-01-25T23:20:08.328877Z] [5ca91b47ced8] [25_1] [TaskRunner:generateCandidateSV_0000] Task initiated on local node\n",
      "[2022-01-25T23:20:08.842975Z] [5ca91b47ced8] [25_1] [TaskManager] Completed command task: 'generateCandidateSV_0000' launched from master workflow\n",
      "[2022-01-25T23:20:08.843415Z] [5ca91b47ced8] [25_1] [TaskManager] Launching sub-workflow task: 'sortEdgeRuntimeLogsInputList' from master workflow\n",
      "[2022-01-25T23:20:08.843674Z] [5ca91b47ced8] [25_1] [TaskRunner:sortEdgeRuntimeLogsInputList] Starting task specification for sub-workflow\n",
      "[2022-01-25T23:20:08.844334Z] [5ca91b47ced8] [25_1] [TaskManager] Launching command task: 'removeTmpDir' from master workflow\n",
      "[2022-01-25T23:20:08.844559Z] [5ca91b47ced8] [25_1] [TaskRunner:sortEdgeRuntimeLogsInputList] Finished task specification for sub-workflow\n",
      "[2022-01-25T23:20:08.845240Z] [5ca91b47ced8] [25_1] [TaskManager] Completed sub-workflow task: 'sortEdgeRuntimeLogsInputList' launched from master workflow\n",
      "[2022-01-25T23:20:08.847691Z] [5ca91b47ced8] [25_1] [TaskRunner:removeTmpDir] Task initiated on local node\n",
      "[2022-01-25T23:20:08.960141Z] [5ca91b47ced8] [25_1] [TaskManager] Completed command task: 'removeTmpDir' launched from master workflow\n",
      "[2022-01-25T23:20:08.960703Z] [5ca91b47ced8] [25_1] [TaskManager] Launching command task: 'fixVcfHeader_sortSomaticSV' from master workflow\n",
      "[2022-01-25T23:20:08.963145Z] [5ca91b47ced8] [25_1] [TaskRunner:fixVcfHeader_sortSomaticSV] Task initiated on local node\n",
      "[2022-01-25T23:20:09.075352Z] [5ca91b47ced8] [25_1] [TaskManager] Completed command task: 'fixVcfHeader_sortSomaticSV' launched from master workflow\n",
      "[2022-01-25T23:20:09.075870Z] [5ca91b47ced8] [25_1] [TaskManager] Launching sub-workflow task: 'sortSomaticSVInputList' from master workflow\n",
      "[2022-01-25T23:20:09.076086Z] [5ca91b47ced8] [25_1] [TaskRunner:sortSomaticSVInputList] Starting task specification for sub-workflow\n",
      "[2022-01-25T23:20:09.076487Z] [5ca91b47ced8] [25_1] [TaskManager] Launching command task: 'getAlignmentStats_removeTmpDir' from master workflow\n",
      "[2022-01-25T23:20:09.077010Z] [5ca91b47ced8] [25_1] [TaskRunner:sortSomaticSVInputList] Finished task specification for sub-workflow\n",
      "[2022-01-25T23:20:09.078865Z] [5ca91b47ced8] [25_1] [TaskManager] Completed sub-workflow task: 'sortSomaticSVInputList' launched from master workflow\n",
      "[2022-01-25T23:20:09.079103Z] [5ca91b47ced8] [25_1] [TaskRunner:getAlignmentStats_removeTmpDir] Task initiated on local node\n",
      "[2022-01-25T23:20:09.194192Z] [5ca91b47ced8] [25_1] [TaskManager] Completed command task: 'getAlignmentStats_removeTmpDir' launched from master workflow\n",
      "[2022-01-25T23:20:09.194635Z] [5ca91b47ced8] [25_1] [TaskManager] Launching command task: 'sort_sortSomaticSV' from master workflow\n",
      "[2022-01-25T23:20:09.197111Z] [5ca91b47ced8] [25_1] [TaskRunner:sort_sortSomaticSV] Task initiated on local node\n",
      "[2022-01-25T23:20:09.359685Z] [5ca91b47ced8] [25_1] [TaskManager] Completed command task: 'sort_sortSomaticSV' launched from master workflow\n",
      "[2022-01-25T23:20:09.360133Z] [5ca91b47ced8] [25_1] [TaskManager] Launching command task: 'tabix_sortSomaticSV' from master workflow\n",
      "[2022-01-25T23:20:09.362490Z] [5ca91b47ced8] [25_1] [TaskRunner:tabix_sortSomaticSV] Task initiated on local node\n",
      "[2022-01-25T23:20:09.475152Z] [5ca91b47ced8] [25_1] [TaskManager] Completed command task: 'tabix_sortSomaticSV' launched from master workflow\n",
      "[2022-01-25T23:20:09.475593Z] [5ca91b47ced8] [25_1] [TaskManager] Launching command task: 'fixVcfHeader_sortCandidateSV' from master workflow\n",
      "[2022-01-25T23:20:09.477949Z] [5ca91b47ced8] [25_1] [TaskRunner:fixVcfHeader_sortCandidateSV] Task initiated on local node\n",
      "[2022-01-25T23:20:09.590313Z] [5ca91b47ced8] [25_1] [TaskManager] Completed command task: 'fixVcfHeader_sortCandidateSV' launched from master workflow\n",
      "[2022-01-25T23:20:09.590687Z] [5ca91b47ced8] [25_1] [TaskManager] Launching sub-workflow task: 'sortCandidateSVInputList' from master workflow\n",
      "[2022-01-25T23:20:09.590976Z] [5ca91b47ced8] [25_1] [TaskRunner:sortCandidateSVInputList] Starting task specification for sub-workflow\n",
      "[2022-01-25T23:20:09.591341Z] [5ca91b47ced8] [25_1] [TaskManager] Launching command task: 'sortEdgeRuntimeLogs' from master workflow\n",
      "[2022-01-25T23:20:09.591897Z] [5ca91b47ced8] [25_1] [TaskRunner:sortCandidateSVInputList] Finished task specification for sub-workflow\n",
      "[2022-01-25T23:20:09.593796Z] [5ca91b47ced8] [25_1] [TaskManager] Completed sub-workflow task: 'sortCandidateSVInputList' launched from master workflow\n",
      "[2022-01-25T23:20:09.594657Z] [5ca91b47ced8] [25_1] [TaskRunner:sortEdgeRuntimeLogs] Task initiated on local node\n",
      "[2022-01-25T23:20:09.759263Z] [5ca91b47ced8] [25_1] [TaskManager] Completed command task: 'sortEdgeRuntimeLogs' launched from master workflow\n",
      "[2022-01-25T23:20:09.759635Z] [5ca91b47ced8] [25_1] [TaskManager] Launching command task: 'sort_sortCandidateSV' from master workflow\n",
      "[2022-01-25T23:20:09.762154Z] [5ca91b47ced8] [25_1] [TaskRunner:sort_sortCandidateSV] Task initiated on local node\n",
      "[2022-01-25T23:20:09.924979Z] [5ca91b47ced8] [25_1] [TaskManager] Completed command task: 'sort_sortCandidateSV' launched from master workflow\n",
      "[2022-01-25T23:20:09.925452Z] [5ca91b47ced8] [25_1] [TaskManager] Launching command task: 'tabix_sortCandidateSV' from master workflow\n",
      "[2022-01-25T23:20:09.927933Z] [5ca91b47ced8] [25_1] [TaskRunner:tabix_sortCandidateSV] Task initiated on local node\n",
      "[2022-01-25T23:20:10.041040Z] [5ca91b47ced8] [25_1] [TaskManager] Completed command task: 'tabix_sortCandidateSV' launched from master workflow\n",
      "[2022-01-25T23:20:10.041435Z] [5ca91b47ced8] [25_1] [TaskManager] Launching command task: 'extractSmallIndels' from master workflow\n",
      "[2022-01-25T23:20:10.043892Z] [5ca91b47ced8] [25_1] [TaskRunner:extractSmallIndels] Task initiated on local node\n",
      "[2022-01-25T23:20:10.206579Z] [5ca91b47ced8] [25_1] [TaskManager] Completed command task: 'extractSmallIndels' launched from master workflow\n",
      "[2022-01-25T23:20:10.206975Z] [5ca91b47ced8] [25_1] [TaskManager] Launching command task: 'extractSmallIndels_tabix' from master workflow\n",
      "[2022-01-25T23:20:10.209330Z] [5ca91b47ced8] [25_1] [TaskRunner:extractSmallIndels_tabix] Task initiated on local node\n",
      "[2022-01-25T23:20:10.322172Z] [5ca91b47ced8] [25_1] [TaskManager] Completed command task: 'extractSmallIndels_tabix' launched from master workflow\n",
      "[2022-01-25T23:20:10.322670Z] [5ca91b47ced8] [25_1] [TaskManager] Launching command task: 'fixVcfHeader_sortDiploidSV' from master workflow\n",
      "[2022-01-25T23:20:10.325755Z] [5ca91b47ced8] [25_1] [TaskRunner:fixVcfHeader_sortDiploidSV] Task initiated on local node\n",
      "[2022-01-25T23:20:10.438271Z] [5ca91b47ced8] [25_1] [TaskManager] Completed command task: 'fixVcfHeader_sortDiploidSV' launched from master workflow\n",
      "[2022-01-25T23:20:10.438574Z] [5ca91b47ced8] [25_1] [TaskManager] Launching sub-workflow task: 'sortDiploidSVInputList' from master workflow\n",
      "[2022-01-25T23:20:10.438785Z] [5ca91b47ced8] [25_1] [TaskRunner:sortDiploidSVInputList] Starting task specification for sub-workflow\n",
      "[2022-01-25T23:20:10.439178Z] [5ca91b47ced8] [25_1] [TaskRunner:sortDiploidSVInputList] Finished task specification for sub-workflow\n",
      "[2022-01-25T23:20:10.440385Z] [5ca91b47ced8] [25_1] [TaskManager] Completed sub-workflow task: 'sortDiploidSVInputList' launched from master workflow\n",
      "[2022-01-25T23:20:10.440666Z] [5ca91b47ced8] [25_1] [TaskManager] Launching command task: 'sort_sortDiploidSV' from master workflow\n",
      "[2022-01-25T23:20:10.442994Z] [5ca91b47ced8] [25_1] [TaskRunner:sort_sortDiploidSV] Task initiated on local node\n",
      "[2022-01-25T23:20:10.706450Z] [5ca91b47ced8] [25_1] [TaskManager] Completed command task: 'sort_sortDiploidSV' launched from master workflow\n",
      "[2022-01-25T23:20:10.706986Z] [5ca91b47ced8] [25_1] [TaskManager] Launching command task: 'tabix_sortDiploidSV' from master workflow\n",
      "[2022-01-25T23:20:10.710345Z] [5ca91b47ced8] [25_1] [TaskRunner:tabix_sortDiploidSV] Task initiated on local node\n",
      "[2022-01-25T23:20:10.822655Z] [5ca91b47ced8] [25_1] [TaskManager] Completed command task: 'tabix_sortDiploidSV' launched from master workflow\n",
      "[2022-01-25T23:20:12.582618Z] [5ca91b47ced8] [25_1] [WorkflowRunner] Manta workflow successfully completed.\n",
      "[2022-01-25T23:20:12.582618Z] [5ca91b47ced8] [25_1] [WorkflowRunner] \n",
      "[2022-01-25T23:20:12.582618Z] [5ca91b47ced8] [25_1] [WorkflowRunner] \tworkflow version: 1.6.0\n",
      "[2022-01-25T23:20:12.582707Z] [5ca91b47ced8] [25_1] [WorkflowRunner] \n",
      "[2022-01-25T23:20:12.582727Z] [5ca91b47ced8] [25_1] [WorkflowRunner] Workflow successfully completed all tasks\n",
      "[2022-01-25T23:20:12.582744Z] [5ca91b47ced8] [25_1] [WorkflowRunner] Elapsed time for full workflow: 5 sec\n"
     ]
    },
    {
     "name": "stderr",
     "output_type": "stream",
     "text": [
      "\n",
      "**** Completed demo workflow execution.\n",
      "\n",
      "\n",
      "**** Starting comparison to expected results.\n",
      "**** Expected results dir: '/home/tool/manta-1.6.0.centos6_x86_64/share/demo/manta/expectedResults'\n",
      "**** Demo results dir: 'MantaDemoAnalysis/results/variants'\n",
      "\n",
      "\n",
      "**** No differences between expected and computed results.\n",
      "\n",
      "\n",
      "**** Demo/verification successfully completed\n",
      "\n",
      "\n",
      "**** Starting demo configuration and run.\n",
      "**** Configuration cmd: './home/tool/strelka-2.9.10.centos6_x86_64/bin/configureStrelkaGermlineWorkflow.py --bam='./home/tool/strelka-2.9.10.centos6_x86_64/bin/../share/demo/strelka/data/NA12891_demo20.bam' --bam='./home/tool/strelka-2.9.10.centos6_x86_64/bin/../share/demo/strelka/data/NA12892_demo20.bam' --referenceFasta='./home/tool/strelka-2.9.10.centos6_x86_64/bin/../share/demo/strelka/data/demo20.fa' --callMemMb=1024 --exome --disableSequenceErrorEstimation --runDir=./strelkaGermlineDemoAnalysis'\n",
      "\n",
      "\n",
      "**** Completed demo configuration.\n",
      "\n",
      "\n",
      "**** Starting demo workflow execution.\n",
      "**** Workflow cmd: './strelkaGermlineDemoAnalysis/runWorkflow.py -m local -j 1 -g 4'\n",
      "\n",
      "[2022-01-25T23:20:13.301756Z] [5ca91b47ced8] [199_1] [WorkflowRunner] Initiating pyFlow run\n",
      "[2022-01-25T23:20:13.301917Z] [5ca91b47ced8] [199_1] [WorkflowRunner] pyFlowClientWorkflowClass: StrelkaGermlineWorkflow\n",
      "[2022-01-25T23:20:13.301955Z] [5ca91b47ced8] [199_1] [WorkflowRunner] pyFlowVersion: 1.1.20\n",
      "[2022-01-25T23:20:13.301979Z] [5ca91b47ced8] [199_1] [WorkflowRunner] pythonVersion: 2.6.6.final.0\n",
      "[2022-01-25T23:20:13.302000Z] [5ca91b47ced8] [199_1] [WorkflowRunner] WorkingDir: '/'\n",
      "[2022-01-25T23:20:13.302011Z] [5ca91b47ced8] [199_1] [WorkflowRunner] ProcessCmdLine: './strelkaGermlineDemoAnalysis/runWorkflow.py -m local -j 1 -g 4'\n",
      "[2022-01-25T23:20:13.302025Z] [5ca91b47ced8] [199_1] [WorkflowRunner] [RunParameters] mode: local\n",
      "[2022-01-25T23:20:13.302064Z] [5ca91b47ced8] [199_1] [WorkflowRunner] [RunParameters] nCores: 1\n",
      "[2022-01-25T23:20:13.302084Z] [5ca91b47ced8] [199_1] [WorkflowRunner] [RunParameters] memMb: 4096\n",
      "[2022-01-25T23:20:13.302095Z] [5ca91b47ced8] [199_1] [WorkflowRunner] [RunParameters] dataDir: /strelkaGermlineDemoAnalysis/workspace/pyflow.data\n",
      "[2022-01-25T23:20:13.302104Z] [5ca91b47ced8] [199_1] [WorkflowRunner] [RunParameters] isDryRun: False\n",
      "[2022-01-25T23:20:13.302116Z] [5ca91b47ced8] [199_1] [WorkflowRunner] [RunParameters] isContinue: False\n",
      "[2022-01-25T23:20:13.302127Z] [5ca91b47ced8] [199_1] [WorkflowRunner] [RunParameters] isForceContinue: True\n",
      "[2022-01-25T23:20:13.302137Z] [5ca91b47ced8] [199_1] [WorkflowRunner] [RunParameters] mailTo: ''\n",
      "[2022-01-25T23:20:13.302911Z] [5ca91b47ced8] [199_1] [TaskRunner:masterWorkflow] Starting task specification for master workflow\n",
      "[2022-01-25T23:20:13.303151Z] [5ca91b47ced8] [199_1] [StrelkaGermlineWorkflow] Initiating Strelka germline workflow version: 2.9.10\n",
      "[2022-01-25T23:20:13.303995Z] [5ca91b47ced8] [199_1] [WorkflowRunner] Adding sub-workflow task 'CallGenome' to master workflow\n",
      "[2022-01-25T23:20:13.304647Z] [5ca91b47ced8] [199_1] [TaskManager] Launching sub-workflow task: 'CallGenome' from master workflow\n",
      "[2022-01-25T23:20:13.305001Z] [5ca91b47ced8] [199_1] [TaskRunner:masterWorkflow] Finished task specification for master workflow\n",
      "[2022-01-25T23:20:13.305245Z] [5ca91b47ced8] [199_1] [TaskRunner:CallGenome] Starting task specification for sub-workflow\n",
      "[2022-01-25T23:20:13.305734Z] [5ca91b47ced8] [199_1] [WorkflowRunner] Adding command task 'CallGenome+makeTmpDir' to sub-workflow 'CallGenome'\n",
      "[2022-01-25T23:20:13.306150Z] [5ca91b47ced8] [199_1] [WorkflowRunner] Adding command task 'CallGenome+callGenomeSegment_chromId_000_demo20_0000' to sub-workflow 'CallGenome'\n",
      "[2022-01-25T23:20:13.306343Z] [5ca91b47ced8] [199_1] [WorkflowRunner] Adding command task 'CallGenome+compressGenomeSegment_chromId_000_demo20_0000_variants' to sub-workflow 'CallGenome'\n",
      "[2022-01-25T23:20:13.306528Z] [5ca91b47ced8] [199_1] [WorkflowRunner] Adding command task 'CallGenome+compressGenomeSegment_chromId_000_demo20_0000_gVCF_S1' to sub-workflow 'CallGenome'\n",
      "[2022-01-25T23:20:13.306739Z] [5ca91b47ced8] [199_1] [WorkflowRunner] Adding command task 'CallGenome+compressGenomeSegment_chromId_000_demo20_0000_gVCF_S2' to sub-workflow 'CallGenome'\n",
      "[2022-01-25T23:20:13.307177Z] [5ca91b47ced8] [199_1] [WorkflowRunner] Adding command task 'CallGenome+completedAllGenomeSegments' to sub-workflow 'CallGenome'\n",
      "[2022-01-25T23:20:13.307702Z] [5ca91b47ced8] [199_1] [WorkflowRunner] Adding command task 'CallGenome+variants_concat_vcf' to sub-workflow 'CallGenome'\n",
      "[2022-01-25T23:20:13.307945Z] [5ca91b47ced8] [199_1] [WorkflowRunner] Adding command task 'CallGenome+variants_index_vcf' to sub-workflow 'CallGenome'\n",
      "[2022-01-25T23:20:13.308173Z] [5ca91b47ced8] [199_1] [WorkflowRunner] Adding command task 'CallGenome+gVCF_S1_concat_vcf' to sub-workflow 'CallGenome'\n",
      "[2022-01-25T23:20:13.308359Z] [5ca91b47ced8] [199_1] [WorkflowRunner] Adding command task 'CallGenome+gVCF_S1_index_vcf' to sub-workflow 'CallGenome'\n",
      "[2022-01-25T23:20:13.308565Z] [5ca91b47ced8] [199_1] [WorkflowRunner] Adding command task 'CallGenome+addLegacyOutputLink' to sub-workflow 'CallGenome'\n",
      "[2022-01-25T23:20:13.308748Z] [5ca91b47ced8] [199_1] [WorkflowRunner] Adding command task 'CallGenome+gVCF_S2_concat_vcf' to sub-workflow 'CallGenome'\n",
      "[2022-01-25T23:20:13.308971Z] [5ca91b47ced8] [199_1] [WorkflowRunner] Adding command task 'CallGenome+gVCF_S2_index_vcf' to sub-workflow 'CallGenome'\n",
      "[2022-01-25T23:20:13.309124Z] [5ca91b47ced8] [199_1] [WorkflowRunner] Adding command task 'CallGenome+mergeRunStats' to sub-workflow 'CallGenome'\n",
      "[2022-01-25T23:20:13.309408Z] [5ca91b47ced8] [199_1] [WorkflowRunner] Adding command task 'CallGenome+removeTmpDir' to sub-workflow 'CallGenome'\n",
      "[2022-01-25T23:20:13.309558Z] [5ca91b47ced8] [199_1] [TaskRunner:CallGenome] Finished task specification for sub-workflow\n",
      "[2022-01-25T23:20:13.309762Z] [5ca91b47ced8] [199_1] [TaskManager] Launching command task: 'CallGenome+makeTmpDir' from sub-workflow 'CallGenome'\n",
      "[2022-01-25T23:20:13.313698Z] [5ca91b47ced8] [199_1] [TaskRunner:CallGenome+makeTmpDir] Task initiated on local node\n",
      "[2022-01-25T23:20:13.427558Z] [5ca91b47ced8] [199_1] [TaskManager] Completed command task: 'CallGenome+makeTmpDir' launched from sub-workflow 'CallGenome'\n",
      "[2022-01-25T23:20:13.429418Z] [5ca91b47ced8] [199_1] [TaskManager] Launching command task: 'CallGenome+callGenomeSegment_chromId_000_demo20_0000' from sub-workflow 'CallGenome'\n",
      "[2022-01-25T23:20:13.432907Z] [5ca91b47ced8] [199_1] [TaskRunner:CallGenome+callGenomeSegment_chromId_000_demo20_0000] Task initiated on local node\n",
      "[2022-01-25T23:20:13.696545Z] [5ca91b47ced8] [199_1] [TaskManager] Completed command task: 'CallGenome+callGenomeSegment_chromId_000_demo20_0000' launched from sub-workflow 'CallGenome'\n",
      "[2022-01-25T23:20:13.697625Z] [5ca91b47ced8] [199_1] [TaskManager] Launching command task: 'CallGenome+compressGenomeSegment_chromId_000_demo20_0000_gVCF_S1' from sub-workflow 'CallGenome'\n",
      "[2022-01-25T23:20:13.701609Z] [5ca91b47ced8] [199_1] [TaskRunner:CallGenome+compressGenomeSegment_chromId_000_demo20_0000_gVCF_S1] Task initiated on local node\n",
      "[2022-01-25T23:20:13.813609Z] [5ca91b47ced8] [199_1] [TaskManager] Completed command task: 'CallGenome+compressGenomeSegment_chromId_000_demo20_0000_gVCF_S1' launched from sub-workflow 'CallGenome'\n",
      "[2022-01-25T23:20:13.814061Z] [5ca91b47ced8] [199_1] [TaskManager] Launching command task: 'CallGenome+compressGenomeSegment_chromId_000_demo20_0000_gVCF_S2' from sub-workflow 'CallGenome'\n",
      "[2022-01-25T23:20:13.816384Z] [5ca91b47ced8] [199_1] [TaskRunner:CallGenome+compressGenomeSegment_chromId_000_demo20_0000_gVCF_S2] Task initiated on local node\n",
      "[2022-01-25T23:20:13.928986Z] [5ca91b47ced8] [199_1] [TaskManager] Completed command task: 'CallGenome+compressGenomeSegment_chromId_000_demo20_0000_gVCF_S2' launched from sub-workflow 'CallGenome'\n",
      "[2022-01-25T23:20:13.929545Z] [5ca91b47ced8] [199_1] [TaskManager] Launching command task: 'CallGenome+compressGenomeSegment_chromId_000_demo20_0000_variants' from sub-workflow 'CallGenome'\n",
      "[2022-01-25T23:20:13.932102Z] [5ca91b47ced8] [199_1] [TaskRunner:CallGenome+compressGenomeSegment_chromId_000_demo20_0000_variants] Task initiated on local node\n",
      "[2022-01-25T23:20:14.044447Z] [5ca91b47ced8] [199_1] [TaskManager] Completed command task: 'CallGenome+compressGenomeSegment_chromId_000_demo20_0000_variants' launched from sub-workflow 'CallGenome'\n",
      "[2022-01-25T23:20:14.044733Z] [5ca91b47ced8] [199_1] [TaskManager] Completed command task: 'CallGenome+completedAllGenomeSegments' launched from sub-workflow 'CallGenome'\n",
      "[2022-01-25T23:20:14.044997Z] [5ca91b47ced8] [199_1] [TaskManager] Launching command task: 'CallGenome+gVCF_S1_concat_vcf' from sub-workflow 'CallGenome'\n",
      "[2022-01-25T23:20:14.047309Z] [5ca91b47ced8] [199_1] [TaskRunner:CallGenome+gVCF_S1_concat_vcf] Task initiated on local node\n",
      "[2022-01-25T23:20:14.160137Z] [5ca91b47ced8] [199_1] [TaskManager] Completed command task: 'CallGenome+gVCF_S1_concat_vcf' launched from sub-workflow 'CallGenome'\n",
      "[2022-01-25T23:20:14.160495Z] [5ca91b47ced8] [199_1] [TaskManager] Launching command task: 'CallGenome+gVCF_S1_index_vcf' from sub-workflow 'CallGenome'\n",
      "[2022-01-25T23:20:14.162810Z] [5ca91b47ced8] [199_1] [TaskRunner:CallGenome+gVCF_S1_index_vcf] Task initiated on local node\n",
      "[2022-01-25T23:20:14.275487Z] [5ca91b47ced8] [199_1] [TaskManager] Completed command task: 'CallGenome+gVCF_S1_index_vcf' launched from sub-workflow 'CallGenome'\n",
      "[2022-01-25T23:20:14.276078Z] [5ca91b47ced8] [199_1] [TaskManager] Launching command task: 'CallGenome+addLegacyOutputLink' from sub-workflow 'CallGenome'\n",
      "[2022-01-25T23:20:14.279134Z] [5ca91b47ced8] [199_1] [TaskRunner:CallGenome+addLegacyOutputLink] Task initiated on local node\n",
      "[2022-01-25T23:20:14.391935Z] [5ca91b47ced8] [199_1] [TaskManager] Completed command task: 'CallGenome+addLegacyOutputLink' launched from sub-workflow 'CallGenome'\n",
      "[2022-01-25T23:20:14.392443Z] [5ca91b47ced8] [199_1] [TaskManager] Launching command task: 'CallGenome+gVCF_S2_concat_vcf' from sub-workflow 'CallGenome'\n",
      "[2022-01-25T23:20:14.395368Z] [5ca91b47ced8] [199_1] [TaskRunner:CallGenome+gVCF_S2_concat_vcf] Task initiated on local node\n",
      "[2022-01-25T23:20:14.507809Z] [5ca91b47ced8] [199_1] [TaskManager] Completed command task: 'CallGenome+gVCF_S2_concat_vcf' launched from sub-workflow 'CallGenome'\n"
     ]
    },
    {
     "name": "stderr",
     "output_type": "stream",
     "text": [
      "[2022-01-25T23:20:14.508361Z] [5ca91b47ced8] [199_1] [TaskManager] Launching command task: 'CallGenome+gVCF_S2_index_vcf' from sub-workflow 'CallGenome'\n",
      "[2022-01-25T23:20:14.511562Z] [5ca91b47ced8] [199_1] [TaskRunner:CallGenome+gVCF_S2_index_vcf] Task initiated on local node\n",
      "[2022-01-25T23:20:14.624340Z] [5ca91b47ced8] [199_1] [TaskManager] Completed command task: 'CallGenome+gVCF_S2_index_vcf' launched from sub-workflow 'CallGenome'\n",
      "[2022-01-25T23:20:14.624708Z] [5ca91b47ced8] [199_1] [TaskManager] Launching command task: 'CallGenome+variants_concat_vcf' from sub-workflow 'CallGenome'\n",
      "[2022-01-25T23:20:14.627099Z] [5ca91b47ced8] [199_1] [TaskRunner:CallGenome+variants_concat_vcf] Task initiated on local node\n",
      "[2022-01-25T23:20:14.739597Z] [5ca91b47ced8] [199_1] [TaskManager] Completed command task: 'CallGenome+variants_concat_vcf' launched from sub-workflow 'CallGenome'\n",
      "[2022-01-25T23:20:14.740159Z] [5ca91b47ced8] [199_1] [TaskManager] Launching command task: 'CallGenome+variants_index_vcf' from sub-workflow 'CallGenome'\n",
      "[2022-01-25T23:20:14.743110Z] [5ca91b47ced8] [199_1] [TaskRunner:CallGenome+variants_index_vcf] Task initiated on local node\n",
      "[2022-01-25T23:20:14.856240Z] [5ca91b47ced8] [199_1] [TaskManager] Completed command task: 'CallGenome+variants_index_vcf' launched from sub-workflow 'CallGenome'\n",
      "[2022-01-25T23:20:14.856611Z] [5ca91b47ced8] [199_1] [TaskManager] Launching command task: 'CallGenome+mergeRunStats' from sub-workflow 'CallGenome'\n",
      "[2022-01-25T23:20:14.859185Z] [5ca91b47ced8] [199_1] [TaskRunner:CallGenome+mergeRunStats] Task initiated on local node\n",
      "[2022-01-25T23:20:14.971755Z] [5ca91b47ced8] [199_1] [TaskManager] Completed command task: 'CallGenome+mergeRunStats' launched from sub-workflow 'CallGenome'\n",
      "[2022-01-25T23:20:14.972076Z] [5ca91b47ced8] [199_1] [TaskManager] Launching command task: 'CallGenome+removeTmpDir' from sub-workflow 'CallGenome'\n",
      "[2022-01-25T23:20:14.974445Z] [5ca91b47ced8] [199_1] [TaskRunner:CallGenome+removeTmpDir] Task initiated on local node\n",
      "[2022-01-25T23:20:15.086977Z] [5ca91b47ced8] [199_1] [TaskManager] Completed command task: 'CallGenome+removeTmpDir' launched from sub-workflow 'CallGenome'\n",
      "[2022-01-25T23:20:16.062343Z] [5ca91b47ced8] [199_1] [TaskManager] Completed sub-workflow task: 'CallGenome' launched from master workflow\n",
      "[2022-01-25T23:20:18.914067Z] [5ca91b47ced8] [199_1] [WorkflowRunner] Strelka germline workflow successfully completed.\n",
      "[2022-01-25T23:20:18.914067Z] [5ca91b47ced8] [199_1] [WorkflowRunner] \n",
      "[2022-01-25T23:20:18.914067Z] [5ca91b47ced8] [199_1] [WorkflowRunner] \tworkflow version: 2.9.10\n",
      "[2022-01-25T23:20:18.914160Z] [5ca91b47ced8] [199_1] [WorkflowRunner] \n",
      "[2022-01-25T23:20:18.914192Z] [5ca91b47ced8] [199_1] [WorkflowRunner] Workflow successfully completed all tasks\n",
      "[2022-01-25T23:20:18.914223Z] [5ca91b47ced8] [199_1] [WorkflowRunner] Elapsed time for full workflow: 5 sec\n",
      "\n",
      "**** Completed demo workflow execution.\n",
      "\n",
      "\n",
      "**** Demo/verification successfully completed\n",
      "\n",
      "\n",
      "**** Starting demo configuration and run.\n",
      "**** Configuration cmd: './home/tool/strelka-2.9.10.centos6_x86_64/bin/configureStrelkaSomaticWorkflow.py --tumorBam='./home/tool/strelka-2.9.10.centos6_x86_64/bin/../share/demo/strelka/data/NA12891_demo20.bam' --normalBam='./home/tool/strelka-2.9.10.centos6_x86_64/bin/../share/demo/strelka/data/NA12892_demo20.bam' --referenceFasta='./home/tool/strelka-2.9.10.centos6_x86_64/bin/../share/demo/strelka/data/demo20.fa' --callMemMb=1024 --exome --runDir=./strelkaSomaticDemoAnalysis'\n",
      "\n",
      "\n",
      "**** Completed demo configuration.\n",
      "\n",
      "\n",
      "**** Starting demo workflow execution.\n",
      "**** Workflow cmd: './strelkaSomaticDemoAnalysis/runWorkflow.py -m local -j 1 -g 4'\n",
      "\n",
      "[2022-01-25T23:20:19.541949Z] [5ca91b47ced8] [302_1] [WorkflowRunner] Initiating pyFlow run\n",
      "[2022-01-25T23:20:19.542027Z] [5ca91b47ced8] [302_1] [WorkflowRunner] pyFlowClientWorkflowClass: StrelkaSomaticWorkflow\n",
      "[2022-01-25T23:20:19.542076Z] [5ca91b47ced8] [302_1] [WorkflowRunner] pyFlowVersion: 1.1.20\n",
      "[2022-01-25T23:20:19.542089Z] [5ca91b47ced8] [302_1] [WorkflowRunner] pythonVersion: 2.6.6.final.0\n",
      "[2022-01-25T23:20:19.542116Z] [5ca91b47ced8] [302_1] [WorkflowRunner] WorkingDir: '/'\n",
      "[2022-01-25T23:20:19.542127Z] [5ca91b47ced8] [302_1] [WorkflowRunner] ProcessCmdLine: './strelkaSomaticDemoAnalysis/runWorkflow.py -m local -j 1 -g 4'\n",
      "[2022-01-25T23:20:19.542141Z] [5ca91b47ced8] [302_1] [WorkflowRunner] [RunParameters] mode: local\n",
      "[2022-01-25T23:20:19.542152Z] [5ca91b47ced8] [302_1] [WorkflowRunner] [RunParameters] nCores: 1\n",
      "[2022-01-25T23:20:19.542162Z] [5ca91b47ced8] [302_1] [WorkflowRunner] [RunParameters] memMb: 4096\n",
      "[2022-01-25T23:20:19.542173Z] [5ca91b47ced8] [302_1] [WorkflowRunner] [RunParameters] dataDir: /strelkaSomaticDemoAnalysis/workspace/pyflow.data\n",
      "[2022-01-25T23:20:19.542185Z] [5ca91b47ced8] [302_1] [WorkflowRunner] [RunParameters] isDryRun: False\n",
      "[2022-01-25T23:20:19.542197Z] [5ca91b47ced8] [302_1] [WorkflowRunner] [RunParameters] isContinue: False\n",
      "[2022-01-25T23:20:19.542207Z] [5ca91b47ced8] [302_1] [WorkflowRunner] [RunParameters] isForceContinue: True\n",
      "[2022-01-25T23:20:19.542217Z] [5ca91b47ced8] [302_1] [WorkflowRunner] [RunParameters] mailTo: ''\n",
      "[2022-01-25T23:20:19.542905Z] [5ca91b47ced8] [302_1] [TaskRunner:masterWorkflow] Starting task specification for master workflow\n",
      "[2022-01-25T23:20:19.543169Z] [5ca91b47ced8] [302_1] [StrelkaSomaticWorkflow] Initiating Strelka somatic workflow version: 2.9.10\n",
      "[2022-01-25T23:20:19.544345Z] [5ca91b47ced8] [302_1] [WorkflowRunner] Adding sub-workflow task 'CallGenome' to master workflow\n",
      "[2022-01-25T23:20:19.545004Z] [5ca91b47ced8] [302_1] [TaskRunner:masterWorkflow] Finished task specification for master workflow\n",
      "[2022-01-25T23:20:19.545323Z] [5ca91b47ced8] [302_1] [TaskManager] Launching sub-workflow task: 'CallGenome' from master workflow\n",
      "[2022-01-25T23:20:19.545677Z] [5ca91b47ced8] [302_1] [TaskRunner:CallGenome] Starting task specification for sub-workflow\n",
      "[2022-01-25T23:20:19.546295Z] [5ca91b47ced8] [302_1] [WorkflowRunner] Adding command task 'CallGenome+makeTmpDir' to sub-workflow 'CallGenome'\n",
      "[2022-01-25T23:20:19.546925Z] [5ca91b47ced8] [302_1] [WorkflowRunner] Adding command task 'CallGenome+callGenomeSegment_chromId_000_demo20_0000' to sub-workflow 'CallGenome'\n",
      "[2022-01-25T23:20:19.547310Z] [5ca91b47ced8] [302_1] [WorkflowRunner] Adding command task 'CallGenome+fixVcfHeader_chromId_000_demo20_0000' to sub-workflow 'CallGenome'\n",
      "[2022-01-25T23:20:19.547743Z] [5ca91b47ced8] [302_1] [WorkflowRunner] Adding command task 'CallGenome+compressSegmentOutput_chromId_000_demo20_0000' to sub-workflow 'CallGenome'\n",
      "[2022-01-25T23:20:19.548470Z] [5ca91b47ced8] [302_1] [WorkflowRunner] Adding command task 'CallGenome+completedAllGenomeSegments' to sub-workflow 'CallGenome'\n",
      "[2022-01-25T23:20:19.548873Z] [5ca91b47ced8] [302_1] [TaskManager] Launching command task: 'CallGenome+makeTmpDir' from sub-workflow 'CallGenome'\n",
      "[2022-01-25T23:20:19.549230Z] [5ca91b47ced8] [302_1] [WorkflowRunner] Adding command task 'CallGenome+SNV_concat_vcf' to sub-workflow 'CallGenome'\n",
      "[2022-01-25T23:20:19.550148Z] [5ca91b47ced8] [302_1] [WorkflowRunner] Adding command task 'CallGenome+SNV_index_vcf' to sub-workflow 'CallGenome'\n",
      "[2022-01-25T23:20:19.550708Z] [5ca91b47ced8] [302_1] [WorkflowRunner] Adding command task 'CallGenome+Indel_concat_vcf' to sub-workflow 'CallGenome'\n",
      "[2022-01-25T23:20:19.551205Z] [5ca91b47ced8] [302_1] [WorkflowRunner] Adding command task 'CallGenome+Indel_index_vcf' to sub-workflow 'CallGenome'\n",
      "[2022-01-25T23:20:19.553310Z] [5ca91b47ced8] [302_1] [TaskRunner:CallGenome+makeTmpDir] Task initiated on local node\n",
      "[2022-01-25T23:20:19.553601Z] [5ca91b47ced8] [302_1] [WorkflowRunner] Adding command task 'CallGenome+mergeRunStats' to sub-workflow 'CallGenome'\n",
      "[2022-01-25T23:20:19.554158Z] [5ca91b47ced8] [302_1] [WorkflowRunner] Adding command task 'CallGenome+removeTmpDir' to sub-workflow 'CallGenome'\n",
      "[2022-01-25T23:20:19.554620Z] [5ca91b47ced8] [302_1] [TaskRunner:CallGenome] Finished task specification for sub-workflow\n",
      "[2022-01-25T23:20:19.670768Z] [5ca91b47ced8] [302_1] [TaskManager] Completed command task: 'CallGenome+makeTmpDir' launched from sub-workflow 'CallGenome'\n",
      "[2022-01-25T23:20:19.671763Z] [5ca91b47ced8] [302_1] [TaskManager] Launching command task: 'CallGenome+callGenomeSegment_chromId_000_demo20_0000' from sub-workflow 'CallGenome'\n",
      "[2022-01-25T23:20:19.676124Z] [5ca91b47ced8] [302_1] [TaskRunner:CallGenome+callGenomeSegment_chromId_000_demo20_0000] Task initiated on local node\n",
      "[2022-01-25T23:20:19.888666Z] [5ca91b47ced8] [302_1] [TaskManager] Completed command task: 'CallGenome+callGenomeSegment_chromId_000_demo20_0000' launched from sub-workflow 'CallGenome'\n",
      "[2022-01-25T23:20:19.889085Z] [5ca91b47ced8] [302_1] [TaskManager] Launching command task: 'CallGenome+fixVcfHeader_chromId_000_demo20_0000' from sub-workflow 'CallGenome'\n",
      "[2022-01-25T23:20:19.891556Z] [5ca91b47ced8] [302_1] [TaskRunner:CallGenome+fixVcfHeader_chromId_000_demo20_0000] Task initiated on local node\n",
      "[2022-01-25T23:20:20.004252Z] [5ca91b47ced8] [302_1] [TaskManager] Completed command task: 'CallGenome+fixVcfHeader_chromId_000_demo20_0000' launched from sub-workflow 'CallGenome'\n",
      "[2022-01-25T23:20:20.004605Z] [5ca91b47ced8] [302_1] [TaskManager] Launching command task: 'CallGenome+compressSegmentOutput_chromId_000_demo20_0000' from sub-workflow 'CallGenome'\n",
      "[2022-01-25T23:20:20.006870Z] [5ca91b47ced8] [302_1] [TaskRunner:CallGenome+compressSegmentOutput_chromId_000_demo20_0000] Task initiated on local node\n",
      "[2022-01-25T23:20:20.119334Z] [5ca91b47ced8] [302_1] [TaskManager] Completed command task: 'CallGenome+compressSegmentOutput_chromId_000_demo20_0000' launched from sub-workflow 'CallGenome'\n",
      "[2022-01-25T23:20:20.119541Z] [5ca91b47ced8] [302_1] [TaskManager] Completed command task: 'CallGenome+completedAllGenomeSegments' launched from sub-workflow 'CallGenome'\n",
      "[2022-01-25T23:20:20.119755Z] [5ca91b47ced8] [302_1] [TaskManager] Launching command task: 'CallGenome+mergeRunStats' from sub-workflow 'CallGenome'\n",
      "[2022-01-25T23:20:20.122073Z] [5ca91b47ced8] [302_1] [TaskRunner:CallGenome+mergeRunStats] Task initiated on local node\n",
      "[2022-01-25T23:20:20.234354Z] [5ca91b47ced8] [302_1] [TaskManager] Completed command task: 'CallGenome+mergeRunStats' launched from sub-workflow 'CallGenome'\n"
     ]
    },
    {
     "name": "stdout",
     "output_type": "stream",
     "text": [
      "\n",
      "Testing strelka and manta in docker container...\n",
      "\n",
      " Successfully created workflow run script. To execute the workflow, run the following script and set appropriate options:  /MantaDemoAnalysis/runWorkflow.py\n",
      "\n",
      " Successfully created workflow run script. To execute the workflow, run the following script and set appropriate options:  /strelkaGermlineDemoAnalysis/runWorkflow.py\n",
      "\n",
      " Successfully created workflow run script. To execute the workflow, run the following script and set appropriate options:  /strelkaSomaticDemoAnalysis/runWorkflow.py\n",
      "\n",
      "5ca91b47ced8a5c67286151c9f592078e5f464fbf1b02fd08c6b4f358bb07f5a\n",
      "5ca91b47ced8a5c67286151c9f592078e5f464fbf1b02fd08c6b4f358bb07f5a\n"
     ]
    },
    {
     "name": "stderr",
     "output_type": "stream",
     "text": [
      "[2022-01-25T23:20:20.234720Z] [5ca91b47ced8] [302_1] [TaskManager] Launching command task: 'CallGenome+Indel_concat_vcf' from sub-workflow 'CallGenome'\n",
      "[2022-01-25T23:20:20.237296Z] [5ca91b47ced8] [302_1] [TaskRunner:CallGenome+Indel_concat_vcf] Task initiated on local node\n",
      "[2022-01-25T23:20:20.349544Z] [5ca91b47ced8] [302_1] [TaskManager] Completed command task: 'CallGenome+Indel_concat_vcf' launched from sub-workflow 'CallGenome'\n",
      "[2022-01-25T23:20:20.349933Z] [5ca91b47ced8] [302_1] [TaskManager] Launching command task: 'CallGenome+Indel_index_vcf' from sub-workflow 'CallGenome'\n",
      "[2022-01-25T23:20:20.352331Z] [5ca91b47ced8] [302_1] [TaskRunner:CallGenome+Indel_index_vcf] Task initiated on local node\n",
      "[2022-01-25T23:20:20.464776Z] [5ca91b47ced8] [302_1] [TaskManager] Completed command task: 'CallGenome+Indel_index_vcf' launched from sub-workflow 'CallGenome'\n",
      "[2022-01-25T23:20:20.465281Z] [5ca91b47ced8] [302_1] [TaskManager] Launching command task: 'CallGenome+SNV_concat_vcf' from sub-workflow 'CallGenome'\n",
      "[2022-01-25T23:20:20.467583Z] [5ca91b47ced8] [302_1] [TaskRunner:CallGenome+SNV_concat_vcf] Task initiated on local node\n",
      "[2022-01-25T23:20:20.580122Z] [5ca91b47ced8] [302_1] [TaskManager] Completed command task: 'CallGenome+SNV_concat_vcf' launched from sub-workflow 'CallGenome'\n",
      "[2022-01-25T23:20:20.580468Z] [5ca91b47ced8] [302_1] [TaskManager] Launching command task: 'CallGenome+SNV_index_vcf' from sub-workflow 'CallGenome'\n",
      "[2022-01-25T23:20:20.583009Z] [5ca91b47ced8] [302_1] [TaskRunner:CallGenome+SNV_index_vcf] Task initiated on local node\n",
      "[2022-01-25T23:20:20.695599Z] [5ca91b47ced8] [302_1] [TaskManager] Completed command task: 'CallGenome+SNV_index_vcf' launched from sub-workflow 'CallGenome'\n",
      "[2022-01-25T23:20:20.696292Z] [5ca91b47ced8] [302_1] [TaskManager] Launching command task: 'CallGenome+removeTmpDir' from sub-workflow 'CallGenome'\n",
      "[2022-01-25T23:20:20.699654Z] [5ca91b47ced8] [302_1] [TaskRunner:CallGenome+removeTmpDir] Task initiated on local node\n",
      "[2022-01-25T23:20:20.812569Z] [5ca91b47ced8] [302_1] [TaskManager] Completed command task: 'CallGenome+removeTmpDir' launched from sub-workflow 'CallGenome'\n",
      "[2022-01-25T23:20:22.276769Z] [5ca91b47ced8] [302_1] [TaskManager] Completed sub-workflow task: 'CallGenome' launched from master workflow\n",
      "[2022-01-25T23:20:25.170344Z] [5ca91b47ced8] [302_1] [WorkflowRunner] Strelka somatic workflow successfully completed.\n",
      "[2022-01-25T23:20:25.170344Z] [5ca91b47ced8] [302_1] [WorkflowRunner] \n",
      "[2022-01-25T23:20:25.170344Z] [5ca91b47ced8] [302_1] [WorkflowRunner] \tworkflow version: 2.9.10\n",
      "[2022-01-25T23:20:25.170450Z] [5ca91b47ced8] [302_1] [WorkflowRunner] \n",
      "[2022-01-25T23:20:25.170486Z] [5ca91b47ced8] [302_1] [WorkflowRunner] Workflow successfully completed all tasks\n",
      "[2022-01-25T23:20:25.170512Z] [5ca91b47ced8] [302_1] [WorkflowRunner] Elapsed time for full workflow: 5 sec\n",
      "\n",
      "**** Completed demo workflow execution.\n",
      "\n",
      "\n",
      "**** Starting comparison to expected results.\n",
      "**** Expected results dir: ./home/tool/strelka-2.9.10.centos6_x86_64/bin/../share/demo/strelka/expectedResults\n",
      "**** Demo results dir: ./strelkaSomaticDemoAnalysis/results/variants\n",
      "\n",
      "\n",
      "**** No differences between expected and computed results.\n",
      "\n",
      "\n",
      "**** Demo/verification successfully completed\n",
      "\n"
     ]
    }
   ],
   "source": [
    "Fastq.test_strelka_and_manta(\"/Users/kate/craft/tool/Fastq.jl/tool\")"
   ]
  },
  {
   "cell_type": "markdown",
   "id": "4106f56f",
   "metadata": {},
   "source": [
    "## find"
   ]
  },
  {
   "cell_type": "code",
   "execution_count": null,
   "id": "97bfa424",
   "metadata": {},
   "outputs": [],
   "source": [
    "di = \"../test/data/\"\n",
    "\n",
    "re_ = Fastq.find(di)"
   ]
  },
  {
   "cell_type": "markdown",
   "id": "bf765fb1",
   "metadata": {},
   "source": [
    "## concatenate"
   ]
  },
  {
   "cell_type": "code",
   "execution_count": null,
   "id": "24771322",
   "metadata": {},
   "outputs": [],
   "source": [
    "Fastq.concatenate(re_, \"R1\")"
   ]
  },
  {
   "cell_type": "markdown",
   "id": "d777573f",
   "metadata": {},
   "source": [
    "## check_read"
   ]
  },
  {
   "cell_type": "code",
   "execution_count": null,
   "id": "d0ba42ae",
   "metadata": {},
   "outputs": [],
   "source": [
    "Fastq.check_read(re_, \"../test/data/check_raw/\", 2)"
   ]
  },
  {
   "cell_type": "markdown",
   "id": "bedf1d8d",
   "metadata": {},
   "source": [
    "## concatenate"
   ]
  },
  {
   "cell_type": "code",
   "execution_count": null,
   "id": "601c65ca",
   "metadata": {},
   "outputs": [],
   "source": [
    "Fastq.concatenate(re_, \"R1\")"
   ]
  },
  {
   "cell_type": "markdown",
   "id": "6847b17a",
   "metadata": {},
   "source": [
    "## trim"
   ]
  },
  {
   "cell_type": "code",
   "execution_count": null,
   "id": "c9eca6a5",
   "metadata": {},
   "outputs": [],
   "source": [
    "Fastq.trim()"
   ]
  },
  {
   "cell_type": "markdown",
   "id": "6fe77016",
   "metadata": {},
   "source": [
    "## align"
   ]
  },
  {
   "cell_type": "code",
   "execution_count": null,
   "id": "b842a6c3",
   "metadata": {},
   "outputs": [],
   "source": [
    "Fastq.align()"
   ]
  },
  {
   "cell_type": "markdown",
   "id": "2c30b1c3",
   "metadata": {},
   "source": [
    "## count_transcript"
   ]
  },
  {
   "cell_type": "code",
   "execution_count": null,
   "id": "d10bee1c",
   "metadata": {},
   "outputs": [],
   "source": [
    "Fastq.count_transcript()"
   ]
  },
  {
   "cell_type": "markdown",
   "id": "775b473c",
   "metadata": {},
   "source": [
    "## process_dna"
   ]
  },
  {
   "cell_type": "code",
   "execution_count": null,
   "id": "2d4a77e2",
   "metadata": {},
   "outputs": [],
   "source": [
    "Fastq.process_dna()"
   ]
  },
  {
   "cell_type": "markdown",
   "id": "ee8430c3",
   "metadata": {},
   "source": [
    "## process_soma_dna"
   ]
  },
  {
   "cell_type": "code",
   "execution_count": null,
   "id": "2190388d",
   "metadata": {},
   "outputs": [],
   "source": [
    "Fastq.process_soma_dna()"
   ]
  }
 ],
 "metadata": {
  "@webio": {
   "lastCommId": null,
   "lastKernelId": null
  },
  "kernelspec": {
   "display_name": "Julia 1.7.1",
   "language": "julia",
   "name": "julia-1.7"
  },
  "language_info": {
   "file_extension": ".jl",
   "mimetype": "application/julia",
   "name": "julia",
   "version": "1.7.1"
  }
 },
 "nbformat": 4,
 "nbformat_minor": 5
}
