{
 "cells": [
  {
   "cell_type": "code",
   "execution_count": 41,
   "id": "ca6b338b",
   "metadata": {},
   "outputs": [],
   "source": [
    "using Revise\n",
    "\n",
    "using Fastq"
   ]
  },
  {
   "cell_type": "markdown",
   "id": "789a0cc7",
   "metadata": {},
   "source": [
    "## test"
   ]
  },
  {
   "cell_type": "code",
   "execution_count": 16,
   "id": "9329cf6f",
   "metadata": {},
   "outputs": [
    {
     "name": "stderr",
     "output_type": "stream",
     "text": [
      "\n",
      "**** Starting demo configuration and run.\n",
      "**** Configuration cmd: \"/home/tool/manta-1.6.0.centos6_x86_64/bin/configManta.py\" --normalBam=\"/home/tool/manta-1.6.0.centos6_x86_64/share/demo/manta/data/HCC1954.NORMAL.30x.compare.COST16011_region.bam\" --tumorBam=\"/home/tool/manta-1.6.0.centos6_x86_64/share/demo/manta/data/G15512.HCC1954.1.COST16011_region.bam\" --referenceFasta=\"/home/tool/manta-1.6.0.centos6_x86_64/share/demo/manta/data/Homo_sapiens_assembly19.COST16011_region.fa\" --region=8:107652000-107655000 --region=11:94974000-94989000 --exome --runDir=\"MantaDemoAnalysis\"\n",
      "\n",
      "\n",
      "**** Completed demo configuration.\n",
      "\n",
      "\n",
      "**** Starting demo workflow execution.\n",
      "**** Workflow cmd: '/usr/bin/python MantaDemoAnalysis/runWorkflow.py -j 1 -g 4'\n",
      "\n",
      "[2022-01-25T20:46:48.209521Z] [8a74a51c1a0b] [26_1] [WorkflowRunner] Initiating pyFlow run\n",
      "[2022-01-25T20:46:48.209759Z] [8a74a51c1a0b] [26_1] [WorkflowRunner] pyFlowClientWorkflowClass: MantaWorkflow\n",
      "[2022-01-25T20:46:48.209817Z] [8a74a51c1a0b] [26_1] [WorkflowRunner] pyFlowVersion: 1.1.20\n",
      "[2022-01-25T20:46:48.209845Z] [8a74a51c1a0b] [26_1] [WorkflowRunner] pythonVersion: 2.6.6.final.0\n",
      "[2022-01-25T20:46:48.209866Z] [8a74a51c1a0b] [26_1] [WorkflowRunner] WorkingDir: '/'\n",
      "[2022-01-25T20:46:48.209891Z] [8a74a51c1a0b] [26_1] [WorkflowRunner] ProcessCmdLine: 'MantaDemoAnalysis/runWorkflow.py -j 1 -g 4'\n",
      "[2022-01-25T20:46:48.209915Z] [8a74a51c1a0b] [26_1] [WorkflowRunner] [RunParameters] mode: local\n",
      "[2022-01-25T20:46:48.209939Z] [8a74a51c1a0b] [26_1] [WorkflowRunner] [RunParameters] nCores: 1\n",
      "[2022-01-25T20:46:48.209962Z] [8a74a51c1a0b] [26_1] [WorkflowRunner] [RunParameters] memMb: 4096\n",
      "[2022-01-25T20:46:48.209985Z] [8a74a51c1a0b] [26_1] [WorkflowRunner] [RunParameters] dataDir: /MantaDemoAnalysis/workspace/pyflow.data\n",
      "[2022-01-25T20:46:48.210013Z] [8a74a51c1a0b] [26_1] [WorkflowRunner] [RunParameters] isDryRun: False\n",
      "[2022-01-25T20:46:48.210040Z] [8a74a51c1a0b] [26_1] [WorkflowRunner] [RunParameters] isContinue: False\n",
      "[2022-01-25T20:46:48.210070Z] [8a74a51c1a0b] [26_1] [WorkflowRunner] [RunParameters] isForceContinue: True\n",
      "[2022-01-25T20:46:48.210118Z] [8a74a51c1a0b] [26_1] [WorkflowRunner] [RunParameters] mailTo: ''\n",
      "[2022-01-25T20:46:48.211283Z] [8a74a51c1a0b] [26_1] [TaskRunner:masterWorkflow] Starting task specification for master workflow\n",
      "[2022-01-25T20:46:48.212171Z] [8a74a51c1a0b] [26_1] [MantaWorkflow] Initiating Manta workflow version: 1.6.0\n",
      "[2022-01-25T20:46:48.213537Z] [8a74a51c1a0b] [26_1] [WorkflowRunner] Adding command task 'getAlignmentStats_makeTmpDir' to master workflow\n",
      "[2022-01-25T20:46:48.215098Z] [8a74a51c1a0b] [26_1] [WorkflowRunner] Adding command task 'getAlignmentStats_generateStats_000' to master workflow\n",
      "[2022-01-25T20:46:48.215648Z] [8a74a51c1a0b] [26_1] [WorkflowRunner] Adding command task 'getAlignmentStats_generateStats_001' to master workflow\n",
      "[2022-01-25T20:46:48.216160Z] [8a74a51c1a0b] [26_1] [WorkflowRunner] Adding command task 'getAlignmentStats_mergeStats' to master workflow\n",
      "[2022-01-25T20:46:48.216889Z] [8a74a51c1a0b] [26_1] [WorkflowRunner] Adding command task 'getAlignmentStats_removeTmpDir' to master workflow\n",
      "[2022-01-25T20:46:48.217335Z] [8a74a51c1a0b] [26_1] [WorkflowRunner] Adding command task 'summarizeStats' to master workflow\n",
      "[2022-01-25T20:46:48.217866Z] [8a74a51c1a0b] [26_1] [WorkflowRunner] Adding command task 'makeGraphTmpDir' to master workflow\n",
      "[2022-01-25T20:46:48.218794Z] [8a74a51c1a0b] [26_1] [TaskManager] Launching command task: 'getAlignmentStats_makeTmpDir' from master workflow\n",
      "[2022-01-25T20:46:48.219767Z] [8a74a51c1a0b] [26_1] [WorkflowRunner] Adding command task 'makeLocusGraph_chromId_000_8-107652000-107655000_0000_to_chromId_001_11-94974000-94989000_0000' to master workflow\n",
      "[2022-01-25T20:46:48.221889Z] [8a74a51c1a0b] [26_1] [WorkflowRunner] Adding sub-workflow task 'mergeLocusGraphInputList' to master workflow\n",
      "[2022-01-25T20:46:48.223665Z] [8a74a51c1a0b] [26_1] [WorkflowRunner] Adding command task 'mergeLocusGraph' to master workflow\n",
      "[2022-01-25T20:46:48.228276Z] [8a74a51c1a0b] [26_1] [TaskRunner:getAlignmentStats_makeTmpDir] Task initiated on local node\n",
      "[2022-01-25T20:46:48.229046Z] [8a74a51c1a0b] [26_1] [WorkflowRunner] Adding command task 'checkLocusGraph' to master workflow\n",
      "[2022-01-25T20:46:48.230004Z] [8a74a51c1a0b] [26_1] [WorkflowRunner] Adding command task 'removeTmpDir' to master workflow\n",
      "[2022-01-25T20:46:48.231131Z] [8a74a51c1a0b] [26_1] [WorkflowRunner] Adding command task 'locusGraphStats' to master workflow\n",
      "[2022-01-25T20:46:48.231675Z] [8a74a51c1a0b] [26_1] [WorkflowRunner] Adding command task 'makeHyGenDir' to master workflow\n",
      "[2022-01-25T20:46:48.233060Z] [8a74a51c1a0b] [26_1] [WorkflowRunner] Adding command task 'generateCandidateSV_0000' to master workflow\n",
      "[2022-01-25T20:46:48.234665Z] [8a74a51c1a0b] [26_1] [WorkflowRunner] Adding command task 'fixVcfHeader_sortCandidateSV' to master workflow\n",
      "[2022-01-25T20:46:48.235732Z] [8a74a51c1a0b] [26_1] [WorkflowRunner] Adding sub-workflow task 'sortCandidateSVInputList' to master workflow\n",
      "[2022-01-25T20:46:48.236123Z] [8a74a51c1a0b] [26_1] [WorkflowRunner] Adding command task 'sort_sortCandidateSV' to master workflow\n",
      "[2022-01-25T20:46:48.236496Z] [8a74a51c1a0b] [26_1] [WorkflowRunner] Adding command task 'tabix_sortCandidateSV' to master workflow\n",
      "[2022-01-25T20:46:48.238299Z] [8a74a51c1a0b] [26_1] [WorkflowRunner] Adding command task 'fixVcfHeader_sortDiploidSV' to master workflow\n",
      "[2022-01-25T20:46:48.239409Z] [8a74a51c1a0b] [26_1] [WorkflowRunner] Adding sub-workflow task 'sortDiploidSVInputList' to master workflow\n",
      "[2022-01-25T20:46:48.240736Z] [8a74a51c1a0b] [26_1] [WorkflowRunner] Adding command task 'sort_sortDiploidSV' to master workflow\n",
      "[2022-01-25T20:46:48.241171Z] [8a74a51c1a0b] [26_1] [WorkflowRunner] Adding command task 'tabix_sortDiploidSV' to master workflow\n",
      "[2022-01-25T20:46:48.241603Z] [8a74a51c1a0b] [26_1] [WorkflowRunner] Adding command task 'fixVcfHeader_sortSomaticSV' to master workflow\n",
      "[2022-01-25T20:46:48.242868Z] [8a74a51c1a0b] [26_1] [WorkflowRunner] Adding sub-workflow task 'sortSomaticSVInputList' to master workflow\n",
      "[2022-01-25T20:46:48.244103Z] [8a74a51c1a0b] [26_1] [WorkflowRunner] Adding command task 'sort_sortSomaticSV' to master workflow\n",
      "[2022-01-25T20:46:48.244512Z] [8a74a51c1a0b] [26_1] [WorkflowRunner] Adding command task 'tabix_sortSomaticSV' to master workflow\n",
      "[2022-01-25T20:46:48.245023Z] [8a74a51c1a0b] [26_1] [WorkflowRunner] Adding command task 'extractSmallIndels' to master workflow\n",
      "[2022-01-25T20:46:48.246406Z] [8a74a51c1a0b] [26_1] [WorkflowRunner] Adding command task 'extractSmallIndels_tabix' to master workflow\n",
      "[2022-01-25T20:46:48.248350Z] [8a74a51c1a0b] [26_1] [WorkflowRunner] Adding sub-workflow task 'sortEdgeRuntimeLogsInputList' to master workflow\n",
      "[2022-01-25T20:46:48.248989Z] [8a74a51c1a0b] [26_1] [WorkflowRunner] Adding command task 'sortEdgeRuntimeLogs' to master workflow\n",
      "[2022-01-25T20:46:48.250241Z] [8a74a51c1a0b] [26_1] [TaskRunner:masterWorkflow] Finished task specification for master workflow\n",
      "[2022-01-25T20:46:48.468386Z] [8a74a51c1a0b] [26_1] [TaskManager] Completed command task: 'getAlignmentStats_makeTmpDir' launched from master workflow\n",
      "[2022-01-25T20:46:48.471299Z] [8a74a51c1a0b] [26_1] [TaskManager] Launching command task: 'getAlignmentStats_generateStats_001' from master workflow\n",
      "[2022-01-25T20:46:48.476145Z] [8a74a51c1a0b] [26_1] [TaskRunner:getAlignmentStats_generateStats_001] Task initiated on local node\n",
      "[2022-01-25T20:46:48.840167Z] [8a74a51c1a0b] [26_1] [TaskManager] Completed command task: 'getAlignmentStats_generateStats_001' launched from master workflow\n",
      "[2022-01-25T20:46:48.841883Z] [8a74a51c1a0b] [26_1] [TaskManager] Launching command task: 'getAlignmentStats_generateStats_000' from master workflow\n",
      "[2022-01-25T20:46:48.846638Z] [8a74a51c1a0b] [26_1] [TaskRunner:getAlignmentStats_generateStats_000] Task initiated on local node\n",
      "[2022-01-25T20:46:49.059699Z] [8a74a51c1a0b] [26_1] [TaskManager] Completed command task: 'getAlignmentStats_generateStats_000' launched from master workflow\n",
      "[2022-01-25T20:46:49.060971Z] [8a74a51c1a0b] [26_1] [TaskManager] Launching command task: 'getAlignmentStats_mergeStats' from master workflow\n",
      "[2022-01-25T20:46:49.065762Z] [8a74a51c1a0b] [26_1] [TaskRunner:getAlignmentStats_mergeStats] Task initiated on local node\n",
      "[2022-01-25T20:46:49.328811Z] [8a74a51c1a0b] [26_1] [TaskManager] Completed command task: 'getAlignmentStats_mergeStats' launched from master workflow\n",
      "[2022-01-25T20:46:49.330162Z] [8a74a51c1a0b] [26_1] [TaskManager] Launching command task: 'summarizeStats' from master workflow\n",
      "[2022-01-25T20:46:49.334884Z] [8a74a51c1a0b] [26_1] [TaskRunner:summarizeStats] Task initiated on local node\n",
      "[2022-01-25T20:46:49.599059Z] [8a74a51c1a0b] [26_1] [TaskManager] Completed command task: 'summarizeStats' launched from master workflow\n",
      "[2022-01-25T20:46:49.600266Z] [8a74a51c1a0b] [26_1] [TaskManager] Launching command task: 'makeGraphTmpDir' from master workflow\n",
      "[2022-01-25T20:46:49.605218Z] [8a74a51c1a0b] [26_1] [TaskRunner:makeGraphTmpDir] Task initiated on local node\n",
      "[2022-01-25T20:46:49.817714Z] [8a74a51c1a0b] [26_1] [TaskManager] Completed command task: 'makeGraphTmpDir' launched from master workflow\n",
      "[2022-01-25T20:46:49.819023Z] [8a74a51c1a0b] [26_1] [TaskManager] Launching command task: 'makeLocusGraph_chromId_000_8-107652000-107655000_0000_to_chromId_001_11-94974000-94989000_0000' from master workflow\n",
      "[2022-01-25T20:46:49.823641Z] [8a74a51c1a0b] [26_1] [TaskRunner:makeLocusGraph_chromId_000_8-107652000-107655000_0000_to_chromId_001_11-94974000-94989000_0000] Task initiated on local node\n",
      "[2022-01-25T20:46:50.188156Z] [8a74a51c1a0b] [26_1] [TaskManager] Completed command task: 'makeLocusGraph_chromId_000_8-107652000-107655000_0000_to_chromId_001_11-94974000-94989000_0000' launched from master workflow\n",
      "[2022-01-25T20:46:50.189303Z] [8a74a51c1a0b] [26_1] [TaskManager] Launching sub-workflow task: 'mergeLocusGraphInputList' from master workflow\n",
      "[2022-01-25T20:46:50.189900Z] [8a74a51c1a0b] [26_1] [TaskRunner:mergeLocusGraphInputList] Starting task specification for sub-workflow\n",
      "[2022-01-25T20:46:50.190882Z] [8a74a51c1a0b] [26_1] [TaskManager] Launching command task: 'getAlignmentStats_removeTmpDir' from master workflow\n"
     ]
    },
    {
     "name": "stderr",
     "output_type": "stream",
     "text": [
      "[2022-01-25T20:46:50.191443Z] [8a74a51c1a0b] [26_1] [TaskRunner:mergeLocusGraphInputList] Finished task specification for sub-workflow\n",
      "[2022-01-25T20:46:50.196026Z] [8a74a51c1a0b] [26_1] [TaskManager] Completed sub-workflow task: 'mergeLocusGraphInputList' launched from master workflow\n",
      "[2022-01-25T20:46:50.197065Z] [8a74a51c1a0b] [26_1] [TaskRunner:getAlignmentStats_removeTmpDir] Task initiated on local node\n",
      "[2022-01-25T20:46:50.415292Z] [8a74a51c1a0b] [26_1] [TaskManager] Completed command task: 'getAlignmentStats_removeTmpDir' launched from master workflow\n",
      "[2022-01-25T20:46:50.416437Z] [8a74a51c1a0b] [26_1] [TaskManager] Launching command task: 'mergeLocusGraph' from master workflow\n",
      "[2022-01-25T20:46:50.421179Z] [8a74a51c1a0b] [26_1] [TaskRunner:mergeLocusGraph] Task initiated on local node\n",
      "[2022-01-25T20:46:50.684319Z] [8a74a51c1a0b] [26_1] [TaskManager] Completed command task: 'mergeLocusGraph' launched from master workflow\n",
      "[2022-01-25T20:46:50.686477Z] [8a74a51c1a0b] [26_1] [TaskManager] Launching command task: 'checkLocusGraph' from master workflow\n",
      "[2022-01-25T20:46:50.691493Z] [8a74a51c1a0b] [26_1] [TaskRunner:checkLocusGraph] Task initiated on local node\n",
      "[2022-01-25T20:46:50.955103Z] [8a74a51c1a0b] [26_1] [TaskManager] Completed command task: 'checkLocusGraph' launched from master workflow\n",
      "[2022-01-25T20:46:50.956912Z] [8a74a51c1a0b] [26_1] [TaskManager] Launching command task: 'makeHyGenDir' from master workflow\n",
      "[2022-01-25T20:46:50.961870Z] [8a74a51c1a0b] [26_1] [TaskRunner:makeHyGenDir] Task initiated on local node\n",
      "[2022-01-25T20:46:51.174960Z] [8a74a51c1a0b] [26_1] [TaskManager] Completed command task: 'makeHyGenDir' launched from master workflow\n",
      "[2022-01-25T20:46:51.176120Z] [8a74a51c1a0b] [26_1] [TaskManager] Launching command task: 'generateCandidateSV_0000' from master workflow\n",
      "[2022-01-25T20:46:51.181217Z] [8a74a51c1a0b] [26_1] [TaskRunner:generateCandidateSV_0000] Task initiated on local node\n",
      "[2022-01-25T20:46:52.351137Z] [8a74a51c1a0b] [26_1] [TaskManager] Completed command task: 'generateCandidateSV_0000' launched from master workflow\n",
      "[2022-01-25T20:46:52.352389Z] [8a74a51c1a0b] [26_1] [TaskManager] Launching sub-workflow task: 'sortEdgeRuntimeLogsInputList' from master workflow\n",
      "[2022-01-25T20:46:52.352978Z] [8a74a51c1a0b] [26_1] [TaskRunner:sortEdgeRuntimeLogsInputList] Starting task specification for sub-workflow\n",
      "[2022-01-25T20:46:52.353993Z] [8a74a51c1a0b] [26_1] [TaskManager] Launching command task: 'fixVcfHeader_sortCandidateSV' from master workflow\n",
      "[2022-01-25T20:46:52.355026Z] [8a74a51c1a0b] [26_1] [TaskRunner:sortEdgeRuntimeLogsInputList] Finished task specification for sub-workflow\n",
      "[2022-01-25T20:46:52.360078Z] [8a74a51c1a0b] [26_1] [TaskManager] Completed sub-workflow task: 'sortEdgeRuntimeLogsInputList' launched from master workflow\n",
      "[2022-01-25T20:46:52.360689Z] [8a74a51c1a0b] [26_1] [TaskRunner:fixVcfHeader_sortCandidateSV] Task initiated on local node\n",
      "[2022-01-25T20:46:52.577861Z] [8a74a51c1a0b] [26_1] [TaskManager] Completed command task: 'fixVcfHeader_sortCandidateSV' launched from master workflow\n",
      "[2022-01-25T20:46:52.579137Z] [8a74a51c1a0b] [26_1] [TaskManager] Launching sub-workflow task: 'sortCandidateSVInputList' from master workflow\n",
      "[2022-01-25T20:46:52.579662Z] [8a74a51c1a0b] [26_1] [TaskRunner:sortCandidateSVInputList] Starting task specification for sub-workflow\n",
      "[2022-01-25T20:46:52.580811Z] [8a74a51c1a0b] [26_1] [TaskManager] Launching command task: 'removeTmpDir' from master workflow\n",
      "[2022-01-25T20:46:52.581295Z] [8a74a51c1a0b] [26_1] [TaskRunner:sortCandidateSVInputList] Finished task specification for sub-workflow\n",
      "[2022-01-25T20:46:52.582822Z] [8a74a51c1a0b] [26_1] [TaskManager] Completed sub-workflow task: 'sortCandidateSVInputList' launched from master workflow\n",
      "[2022-01-25T20:46:52.587615Z] [8a74a51c1a0b] [26_1] [TaskRunner:removeTmpDir] Task initiated on local node\n",
      "[2022-01-25T20:46:52.800687Z] [8a74a51c1a0b] [26_1] [TaskManager] Completed command task: 'removeTmpDir' launched from master workflow\n",
      "[2022-01-25T20:46:52.801799Z] [8a74a51c1a0b] [26_1] [TaskManager] Launching command task: 'fixVcfHeader_sortDiploidSV' from master workflow\n",
      "[2022-01-25T20:46:52.806742Z] [8a74a51c1a0b] [26_1] [TaskRunner:fixVcfHeader_sortDiploidSV] Task initiated on local node\n",
      "[2022-01-25T20:46:53.019747Z] [8a74a51c1a0b] [26_1] [TaskManager] Completed command task: 'fixVcfHeader_sortDiploidSV' launched from master workflow\n",
      "[2022-01-25T20:46:53.020494Z] [8a74a51c1a0b] [26_1] [TaskManager] Launching sub-workflow task: 'sortDiploidSVInputList' from master workflow\n",
      "[2022-01-25T20:46:53.020989Z] [8a74a51c1a0b] [26_1] [TaskRunner:sortDiploidSVInputList] Starting task specification for sub-workflow\n",
      "[2022-01-25T20:46:53.021816Z] [8a74a51c1a0b] [26_1] [TaskManager] Launching command task: 'sort_sortCandidateSV' from master workflow\n",
      "[2022-01-25T20:46:53.022307Z] [8a74a51c1a0b] [26_1] [TaskRunner:sortDiploidSVInputList] Finished task specification for sub-workflow\n",
      "[2022-01-25T20:46:53.023125Z] [8a74a51c1a0b] [26_1] [TaskManager] Completed sub-workflow task: 'sortDiploidSVInputList' launched from master workflow\n",
      "[2022-01-25T20:46:53.028676Z] [8a74a51c1a0b] [26_1] [TaskRunner:sort_sortCandidateSV] Task initiated on local node\n",
      "[2022-01-25T20:46:53.392270Z] [8a74a51c1a0b] [26_1] [TaskManager] Completed command task: 'sort_sortCandidateSV' launched from master workflow\n",
      "[2022-01-25T20:46:53.393417Z] [8a74a51c1a0b] [26_1] [TaskManager] Launching command task: 'extractSmallIndels' from master workflow\n",
      "[2022-01-25T20:46:53.398177Z] [8a74a51c1a0b] [26_1] [TaskRunner:extractSmallIndels] Task initiated on local node\n",
      "[2022-01-25T20:46:53.762017Z] [8a74a51c1a0b] [26_1] [TaskManager] Completed command task: 'extractSmallIndels' launched from master workflow\n",
      "[2022-01-25T20:46:53.762956Z] [8a74a51c1a0b] [26_1] [TaskManager] Launching command task: 'extractSmallIndels_tabix' from master workflow\n",
      "[2022-01-25T20:46:53.767960Z] [8a74a51c1a0b] [26_1] [TaskRunner:extractSmallIndels_tabix] Task initiated on local node\n",
      "[2022-01-25T20:46:53.980404Z] [8a74a51c1a0b] [26_1] [TaskManager] Completed command task: 'extractSmallIndels_tabix' launched from master workflow\n",
      "[2022-01-25T20:46:53.981261Z] [8a74a51c1a0b] [26_1] [TaskManager] Launching command task: 'sort_sortDiploidSV' from master workflow\n",
      "[2022-01-25T20:46:53.986106Z] [8a74a51c1a0b] [26_1] [TaskRunner:sort_sortDiploidSV] Task initiated on local node\n",
      "[2022-01-25T20:46:54.450498Z] [8a74a51c1a0b] [26_1] [TaskManager] Completed command task: 'sort_sortDiploidSV' launched from master workflow\n",
      "[2022-01-25T20:46:54.451360Z] [8a74a51c1a0b] [26_1] [TaskManager] Launching command task: 'tabix_sortDiploidSV' from master workflow\n",
      "[2022-01-25T20:46:54.456459Z] [8a74a51c1a0b] [26_1] [TaskRunner:tabix_sortDiploidSV] Task initiated on local node\n",
      "[2022-01-25T20:46:54.670025Z] [8a74a51c1a0b] [26_1] [TaskManager] Completed command task: 'tabix_sortDiploidSV' launched from master workflow\n",
      "[2022-01-25T20:46:54.670865Z] [8a74a51c1a0b] [26_1] [TaskManager] Launching command task: 'fixVcfHeader_sortSomaticSV' from master workflow\n",
      "[2022-01-25T20:46:54.675736Z] [8a74a51c1a0b] [26_1] [TaskRunner:fixVcfHeader_sortSomaticSV] Task initiated on local node\n",
      "[2022-01-25T20:46:54.888245Z] [8a74a51c1a0b] [26_1] [TaskManager] Completed command task: 'fixVcfHeader_sortSomaticSV' launched from master workflow\n",
      "[2022-01-25T20:46:54.888932Z] [8a74a51c1a0b] [26_1] [TaskManager] Launching sub-workflow task: 'sortSomaticSVInputList' from master workflow\n",
      "[2022-01-25T20:46:54.889332Z] [8a74a51c1a0b] [26_1] [TaskRunner:sortSomaticSVInputList] Starting task specification for sub-workflow\n",
      "[2022-01-25T20:46:54.890048Z] [8a74a51c1a0b] [26_1] [TaskManager] Launching command task: 'sortEdgeRuntimeLogs' from master workflow\n",
      "[2022-01-25T20:46:54.891047Z] [8a74a51c1a0b] [26_1] [TaskRunner:sortSomaticSVInputList] Finished task specification for sub-workflow\n",
      "[2022-01-25T20:46:54.892262Z] [8a74a51c1a0b] [26_1] [TaskManager] Completed sub-workflow task: 'sortSomaticSVInputList' launched from master workflow\n",
      "[2022-01-25T20:46:54.896576Z] [8a74a51c1a0b] [26_1] [TaskRunner:sortEdgeRuntimeLogs] Task initiated on local node\n",
      "[2022-01-25T20:46:55.212228Z] [8a74a51c1a0b] [26_1] [TaskManager] Completed command task: 'sortEdgeRuntimeLogs' launched from master workflow\n",
      "[2022-01-25T20:46:55.212956Z] [8a74a51c1a0b] [26_1] [TaskManager] Launching command task: 'sort_sortSomaticSV' from master workflow\n",
      "[2022-01-25T20:46:55.217834Z] [8a74a51c1a0b] [26_1] [TaskRunner:sort_sortSomaticSV] Task initiated on local node\n",
      "[2022-01-25T20:46:55.531436Z] [8a74a51c1a0b] [26_1] [TaskManager] Completed command task: 'sort_sortSomaticSV' launched from master workflow\n",
      "[2022-01-25T20:46:55.532155Z] [8a74a51c1a0b] [26_1] [TaskManager] Launching command task: 'tabix_sortSomaticSV' from master workflow\n",
      "[2022-01-25T20:46:55.537239Z] [8a74a51c1a0b] [26_1] [TaskRunner:tabix_sortSomaticSV] Task initiated on local node\n",
      "[2022-01-25T20:46:55.751392Z] [8a74a51c1a0b] [26_1] [TaskManager] Completed command task: 'tabix_sortSomaticSV' launched from master workflow\n",
      "[2022-01-25T20:46:55.752216Z] [8a74a51c1a0b] [26_1] [TaskManager] Launching command task: 'tabix_sortCandidateSV' from master workflow\n",
      "[2022-01-25T20:46:55.757878Z] [8a74a51c1a0b] [26_1] [TaskRunner:tabix_sortCandidateSV] Task initiated on local node\n",
      "[2022-01-25T20:46:55.973330Z] [8a74a51c1a0b] [26_1] [TaskManager] Completed command task: 'tabix_sortCandidateSV' launched from master workflow\n",
      "[2022-01-25T20:46:55.974067Z] [8a74a51c1a0b] [26_1] [TaskManager] Launching command task: 'locusGraphStats' from master workflow\n",
      "[2022-01-25T20:46:55.979152Z] [8a74a51c1a0b] [26_1] [TaskRunner:locusGraphStats] Task initiated on local node\n",
      "[2022-01-25T20:46:56.242458Z] [8a74a51c1a0b] [26_1] [TaskManager] Completed command task: 'locusGraphStats' launched from master workflow\n",
      "[2022-01-25T20:46:58.797398Z] [8a74a51c1a0b] [26_1] [WorkflowRunner] Manta workflow successfully completed.\n",
      "[2022-01-25T20:46:58.797398Z] [8a74a51c1a0b] [26_1] [WorkflowRunner] \n",
      "[2022-01-25T20:46:58.797398Z] [8a74a51c1a0b] [26_1] [WorkflowRunner] \tworkflow version: 1.6.0\n",
      "[2022-01-25T20:46:58.797555Z] [8a74a51c1a0b] [26_1] [WorkflowRunner] \n",
      "[2022-01-25T20:46:58.797680Z] [8a74a51c1a0b] [26_1] [WorkflowRunner] Workflow successfully completed all tasks\n",
      "[2022-01-25T20:46:58.797732Z] [8a74a51c1a0b] [26_1] [WorkflowRunner] Elapsed time for full workflow: 10 sec\n"
     ]
    },
    {
     "name": "stderr",
     "output_type": "stream",
     "text": [
      "\n",
      "**** Completed demo workflow execution.\n",
      "\n",
      "\n",
      "**** Starting comparison to expected results.\n",
      "**** Expected results dir: '/home/tool/manta-1.6.0.centos6_x86_64/share/demo/manta/expectedResults'\n",
      "**** Demo results dir: 'MantaDemoAnalysis/results/variants'\n",
      "\n",
      "\n",
      "**** No differences between expected and computed results.\n",
      "\n",
      "\n",
      "**** Demo/verification successfully completed\n",
      "\n",
      "\n",
      "**** Starting demo configuration and run.\n",
      "**** Configuration cmd: './home/tool/strelka-2.9.10.centos6_x86_64/bin/configureStrelkaGermlineWorkflow.py --bam='./home/tool/strelka-2.9.10.centos6_x86_64/bin/../share/demo/strelka/data/NA12891_demo20.bam' --bam='./home/tool/strelka-2.9.10.centos6_x86_64/bin/../share/demo/strelka/data/NA12892_demo20.bam' --referenceFasta='./home/tool/strelka-2.9.10.centos6_x86_64/bin/../share/demo/strelka/data/demo20.fa' --callMemMb=1024 --exome --disableSequenceErrorEstimation --runDir=./strelkaGermlineDemoAnalysis'\n",
      "\n",
      "\n",
      "**** Completed demo configuration.\n",
      "\n",
      "\n",
      "**** Starting demo workflow execution.\n",
      "**** Workflow cmd: './strelkaGermlineDemoAnalysis/runWorkflow.py -m local -j 1 -g 4'\n",
      "\n",
      "[2022-01-25T20:47:00.315882Z] [8a74a51c1a0b] [200_1] [WorkflowRunner] Initiating pyFlow run\n",
      "[2022-01-25T20:47:00.316049Z] [8a74a51c1a0b] [200_1] [WorkflowRunner] pyFlowClientWorkflowClass: StrelkaGermlineWorkflow\n",
      "[2022-01-25T20:47:00.316099Z] [8a74a51c1a0b] [200_1] [WorkflowRunner] pyFlowVersion: 1.1.20\n",
      "[2022-01-25T20:47:00.316157Z] [8a74a51c1a0b] [200_1] [WorkflowRunner] pythonVersion: 2.6.6.final.0\n",
      "[2022-01-25T20:47:00.316204Z] [8a74a51c1a0b] [200_1] [WorkflowRunner] WorkingDir: '/'\n",
      "[2022-01-25T20:47:00.316237Z] [8a74a51c1a0b] [200_1] [WorkflowRunner] ProcessCmdLine: './strelkaGermlineDemoAnalysis/runWorkflow.py -m local -j 1 -g 4'\n",
      "[2022-01-25T20:47:00.316295Z] [8a74a51c1a0b] [200_1] [WorkflowRunner] [RunParameters] mode: local\n",
      "[2022-01-25T20:47:00.316343Z] [8a74a51c1a0b] [200_1] [WorkflowRunner] [RunParameters] nCores: 1\n",
      "[2022-01-25T20:47:00.316376Z] [8a74a51c1a0b] [200_1] [WorkflowRunner] [RunParameters] memMb: 4096\n",
      "[2022-01-25T20:47:00.316430Z] [8a74a51c1a0b] [200_1] [WorkflowRunner] [RunParameters] dataDir: /strelkaGermlineDemoAnalysis/workspace/pyflow.data\n",
      "[2022-01-25T20:47:00.316469Z] [8a74a51c1a0b] [200_1] [WorkflowRunner] [RunParameters] isDryRun: False\n",
      "[2022-01-25T20:47:00.316522Z] [8a74a51c1a0b] [200_1] [WorkflowRunner] [RunParameters] isContinue: False\n",
      "[2022-01-25T20:47:00.316629Z] [8a74a51c1a0b] [200_1] [WorkflowRunner] [RunParameters] isForceContinue: True\n",
      "[2022-01-25T20:47:00.316690Z] [8a74a51c1a0b] [200_1] [WorkflowRunner] [RunParameters] mailTo: ''\n",
      "[2022-01-25T20:47:00.317842Z] [8a74a51c1a0b] [200_1] [TaskRunner:masterWorkflow] Starting task specification for master workflow\n",
      "[2022-01-25T20:47:00.318138Z] [8a74a51c1a0b] [200_1] [StrelkaGermlineWorkflow] Initiating Strelka germline workflow version: 2.9.10\n",
      "[2022-01-25T20:47:00.319401Z] [8a74a51c1a0b] [200_1] [WorkflowRunner] Adding sub-workflow task 'CallGenome' to master workflow\n",
      "[2022-01-25T20:47:00.320560Z] [8a74a51c1a0b] [200_1] [TaskManager] Launching sub-workflow task: 'CallGenome' from master workflow\n",
      "[2022-01-25T20:47:00.321203Z] [8a74a51c1a0b] [200_1] [TaskRunner:masterWorkflow] Finished task specification for master workflow\n",
      "[2022-01-25T20:47:00.322123Z] [8a74a51c1a0b] [200_1] [TaskRunner:CallGenome] Starting task specification for sub-workflow\n",
      "[2022-01-25T20:47:00.323259Z] [8a74a51c1a0b] [200_1] [WorkflowRunner] Adding command task 'CallGenome+makeTmpDir' to sub-workflow 'CallGenome'\n",
      "[2022-01-25T20:47:00.324763Z] [8a74a51c1a0b] [200_1] [WorkflowRunner] Adding command task 'CallGenome+callGenomeSegment_chromId_000_demo20_0000' to sub-workflow 'CallGenome'\n",
      "[2022-01-25T20:47:00.326142Z] [8a74a51c1a0b] [200_1] [WorkflowRunner] Adding command task 'CallGenome+compressGenomeSegment_chromId_000_demo20_0000_variants' to sub-workflow 'CallGenome'\n",
      "[2022-01-25T20:47:00.327176Z] [8a74a51c1a0b] [200_1] [WorkflowRunner] Adding command task 'CallGenome+compressGenomeSegment_chromId_000_demo20_0000_gVCF_S1' to sub-workflow 'CallGenome'\n",
      "[2022-01-25T20:47:00.327964Z] [8a74a51c1a0b] [200_1] [WorkflowRunner] Adding command task 'CallGenome+compressGenomeSegment_chromId_000_demo20_0000_gVCF_S2' to sub-workflow 'CallGenome'\n",
      "[2022-01-25T20:47:00.328669Z] [8a74a51c1a0b] [200_1] [TaskManager] Launching command task: 'CallGenome+makeTmpDir' from sub-workflow 'CallGenome'\n",
      "[2022-01-25T20:47:00.329946Z] [8a74a51c1a0b] [200_1] [WorkflowRunner] Adding command task 'CallGenome+completedAllGenomeSegments' to sub-workflow 'CallGenome'\n",
      "[2022-01-25T20:47:00.332226Z] [8a74a51c1a0b] [200_1] [WorkflowRunner] Adding command task 'CallGenome+variants_concat_vcf' to sub-workflow 'CallGenome'\n",
      "[2022-01-25T20:47:00.338258Z] [8a74a51c1a0b] [200_1] [WorkflowRunner] Adding command task 'CallGenome+variants_index_vcf' to sub-workflow 'CallGenome'\n",
      "[2022-01-25T20:47:00.339065Z] [8a74a51c1a0b] [200_1] [TaskRunner:CallGenome+makeTmpDir] Task initiated on local node\n",
      "[2022-01-25T20:47:00.340168Z] [8a74a51c1a0b] [200_1] [WorkflowRunner] Adding command task 'CallGenome+gVCF_S1_concat_vcf' to sub-workflow 'CallGenome'\n",
      "[2022-01-25T20:47:00.341472Z] [8a74a51c1a0b] [200_1] [WorkflowRunner] Adding command task 'CallGenome+gVCF_S1_index_vcf' to sub-workflow 'CallGenome'\n",
      "[2022-01-25T20:47:00.343097Z] [8a74a51c1a0b] [200_1] [WorkflowRunner] Adding command task 'CallGenome+addLegacyOutputLink' to sub-workflow 'CallGenome'\n",
      "[2022-01-25T20:47:00.344086Z] [8a74a51c1a0b] [200_1] [WorkflowRunner] Adding command task 'CallGenome+gVCF_S2_concat_vcf' to sub-workflow 'CallGenome'\n",
      "[2022-01-25T20:47:00.344486Z] [8a74a51c1a0b] [200_1] [WorkflowRunner] Adding command task 'CallGenome+gVCF_S2_index_vcf' to sub-workflow 'CallGenome'\n",
      "[2022-01-25T20:47:00.345111Z] [8a74a51c1a0b] [200_1] [WorkflowRunner] Adding command task 'CallGenome+mergeRunStats' to sub-workflow 'CallGenome'\n",
      "[2022-01-25T20:47:00.347280Z] [8a74a51c1a0b] [200_1] [WorkflowRunner] Adding command task 'CallGenome+removeTmpDir' to sub-workflow 'CallGenome'\n",
      "[2022-01-25T20:47:00.347706Z] [8a74a51c1a0b] [200_1] [TaskRunner:CallGenome] Finished task specification for sub-workflow\n",
      "[2022-01-25T20:47:00.566960Z] [8a74a51c1a0b] [200_1] [TaskManager] Completed command task: 'CallGenome+makeTmpDir' launched from sub-workflow 'CallGenome'\n",
      "[2022-01-25T20:47:00.569770Z] [8a74a51c1a0b] [200_1] [TaskManager] Launching command task: 'CallGenome+callGenomeSegment_chromId_000_demo20_0000' from sub-workflow 'CallGenome'\n",
      "[2022-01-25T20:47:00.574574Z] [8a74a51c1a0b] [200_1] [TaskRunner:CallGenome+callGenomeSegment_chromId_000_demo20_0000] Task initiated on local node\n",
      "[2022-01-25T20:47:01.240799Z] [8a74a51c1a0b] [200_1] [TaskManager] Completed command task: 'CallGenome+callGenomeSegment_chromId_000_demo20_0000' launched from sub-workflow 'CallGenome'\n",
      "[2022-01-25T20:47:01.242056Z] [8a74a51c1a0b] [200_1] [TaskManager] Launching command task: 'CallGenome+compressGenomeSegment_chromId_000_demo20_0000_gVCF_S1' from sub-workflow 'CallGenome'\n",
      "[2022-01-25T20:47:01.246849Z] [8a74a51c1a0b] [200_1] [TaskRunner:CallGenome+compressGenomeSegment_chromId_000_demo20_0000_gVCF_S1] Task initiated on local node\n",
      "[2022-01-25T20:47:01.460039Z] [8a74a51c1a0b] [200_1] [TaskManager] Completed command task: 'CallGenome+compressGenomeSegment_chromId_000_demo20_0000_gVCF_S1' launched from sub-workflow 'CallGenome'\n",
      "[2022-01-25T20:47:01.461307Z] [8a74a51c1a0b] [200_1] [TaskManager] Launching command task: 'CallGenome+compressGenomeSegment_chromId_000_demo20_0000_gVCF_S2' from sub-workflow 'CallGenome'\n",
      "[2022-01-25T20:47:01.466039Z] [8a74a51c1a0b] [200_1] [TaskRunner:CallGenome+compressGenomeSegment_chromId_000_demo20_0000_gVCF_S2] Task initiated on local node\n",
      "[2022-01-25T20:47:01.678942Z] [8a74a51c1a0b] [200_1] [TaskManager] Completed command task: 'CallGenome+compressGenomeSegment_chromId_000_demo20_0000_gVCF_S2' launched from sub-workflow 'CallGenome'\n",
      "[2022-01-25T20:47:01.680192Z] [8a74a51c1a0b] [200_1] [TaskManager] Launching command task: 'CallGenome+compressGenomeSegment_chromId_000_demo20_0000_variants' from sub-workflow 'CallGenome'\n",
      "[2022-01-25T20:47:01.685464Z] [8a74a51c1a0b] [200_1] [TaskRunner:CallGenome+compressGenomeSegment_chromId_000_demo20_0000_variants] Task initiated on local node\n",
      "[2022-01-25T20:47:01.898163Z] [8a74a51c1a0b] [200_1] [TaskManager] Completed command task: 'CallGenome+compressGenomeSegment_chromId_000_demo20_0000_variants' launched from sub-workflow 'CallGenome'\n",
      "[2022-01-25T20:47:01.899227Z] [8a74a51c1a0b] [200_1] [TaskManager] Completed command task: 'CallGenome+completedAllGenomeSegments' launched from sub-workflow 'CallGenome'\n",
      "[2022-01-25T20:47:01.900029Z] [8a74a51c1a0b] [200_1] [TaskManager] Launching command task: 'CallGenome+gVCF_S1_concat_vcf' from sub-workflow 'CallGenome'\n",
      "[2022-01-25T20:47:01.906030Z] [8a74a51c1a0b] [200_1] [TaskRunner:CallGenome+gVCF_S1_concat_vcf] Task initiated on local node\n",
      "[2022-01-25T20:47:02.118055Z] [8a74a51c1a0b] [200_1] [TaskManager] Completed command task: 'CallGenome+gVCF_S1_concat_vcf' launched from sub-workflow 'CallGenome'\n",
      "[2022-01-25T20:47:02.119221Z] [8a74a51c1a0b] [200_1] [TaskManager] Launching command task: 'CallGenome+gVCF_S1_index_vcf' from sub-workflow 'CallGenome'\n",
      "[2022-01-25T20:47:02.124395Z] [8a74a51c1a0b] [200_1] [TaskRunner:CallGenome+gVCF_S1_index_vcf] Task initiated on local node\n",
      "[2022-01-25T20:47:02.337853Z] [8a74a51c1a0b] [200_1] [TaskManager] Completed command task: 'CallGenome+gVCF_S1_index_vcf' launched from sub-workflow 'CallGenome'\n",
      "[2022-01-25T20:47:02.338808Z] [8a74a51c1a0b] [200_1] [TaskManager] Launching command task: 'CallGenome+addLegacyOutputLink' from sub-workflow 'CallGenome'\n",
      "[2022-01-25T20:47:02.343692Z] [8a74a51c1a0b] [200_1] [TaskRunner:CallGenome+addLegacyOutputLink] Task initiated on local node\n",
      "[2022-01-25T20:47:02.558056Z] [8a74a51c1a0b] [200_1] [TaskManager] Completed command task: 'CallGenome+addLegacyOutputLink' launched from sub-workflow 'CallGenome'\n",
      "[2022-01-25T20:47:02.558850Z] [8a74a51c1a0b] [200_1] [TaskManager] Launching command task: 'CallGenome+gVCF_S2_concat_vcf' from sub-workflow 'CallGenome'\n",
      "[2022-01-25T20:47:02.563776Z] [8a74a51c1a0b] [200_1] [TaskRunner:CallGenome+gVCF_S2_concat_vcf] Task initiated on local node\n",
      "[2022-01-25T20:47:02.778185Z] [8a74a51c1a0b] [200_1] [TaskManager] Completed command task: 'CallGenome+gVCF_S2_concat_vcf' launched from sub-workflow 'CallGenome'\n"
     ]
    },
    {
     "name": "stderr",
     "output_type": "stream",
     "text": [
      "[2022-01-25T20:47:02.779476Z] [8a74a51c1a0b] [200_1] [TaskManager] Launching command task: 'CallGenome+gVCF_S2_index_vcf' from sub-workflow 'CallGenome'\n",
      "[2022-01-25T20:47:02.784875Z] [8a74a51c1a0b] [200_1] [TaskRunner:CallGenome+gVCF_S2_index_vcf] Task initiated on local node\n",
      "[2022-01-25T20:47:02.998129Z] [8a74a51c1a0b] [200_1] [TaskManager] Completed command task: 'CallGenome+gVCF_S2_index_vcf' launched from sub-workflow 'CallGenome'\n",
      "[2022-01-25T20:47:02.999076Z] [8a74a51c1a0b] [200_1] [TaskManager] Launching command task: 'CallGenome+variants_concat_vcf' from sub-workflow 'CallGenome'\n",
      "[2022-01-25T20:47:03.003867Z] [8a74a51c1a0b] [200_1] [TaskRunner:CallGenome+variants_concat_vcf] Task initiated on local node\n",
      "[2022-01-25T20:47:03.218990Z] [8a74a51c1a0b] [200_1] [TaskManager] Completed command task: 'CallGenome+variants_concat_vcf' launched from sub-workflow 'CallGenome'\n",
      "[2022-01-25T20:47:03.219789Z] [8a74a51c1a0b] [200_1] [TaskManager] Launching command task: 'CallGenome+variants_index_vcf' from sub-workflow 'CallGenome'\n",
      "[2022-01-25T20:47:03.224572Z] [8a74a51c1a0b] [200_1] [TaskRunner:CallGenome+variants_index_vcf] Task initiated on local node\n",
      "[2022-01-25T20:47:03.438311Z] [8a74a51c1a0b] [200_1] [TaskManager] Completed command task: 'CallGenome+variants_index_vcf' launched from sub-workflow 'CallGenome'\n",
      "[2022-01-25T20:47:03.439157Z] [8a74a51c1a0b] [200_1] [TaskManager] Launching command task: 'CallGenome+mergeRunStats' from sub-workflow 'CallGenome'\n",
      "[2022-01-25T20:47:03.444166Z] [8a74a51c1a0b] [200_1] [TaskRunner:CallGenome+mergeRunStats] Task initiated on local node\n",
      "[2022-01-25T20:47:03.707928Z] [8a74a51c1a0b] [200_1] [TaskManager] Completed command task: 'CallGenome+mergeRunStats' launched from sub-workflow 'CallGenome'\n",
      "[2022-01-25T20:47:03.708661Z] [8a74a51c1a0b] [200_1] [TaskManager] Launching command task: 'CallGenome+removeTmpDir' from sub-workflow 'CallGenome'\n",
      "[2022-01-25T20:47:03.713263Z] [8a74a51c1a0b] [200_1] [TaskRunner:CallGenome+removeTmpDir] Task initiated on local node\n",
      "[2022-01-25T20:47:03.926872Z] [8a74a51c1a0b] [200_1] [TaskManager] Completed command task: 'CallGenome+removeTmpDir' launched from sub-workflow 'CallGenome'\n",
      "[2022-01-25T20:47:05.991581Z] [8a74a51c1a0b] [200_1] [TaskManager] Completed sub-workflow task: 'CallGenome' launched from master workflow\n",
      "[2022-01-25T20:47:10.852424Z] [8a74a51c1a0b] [200_1] [WorkflowRunner] Strelka germline workflow successfully completed.\n",
      "[2022-01-25T20:47:10.852424Z] [8a74a51c1a0b] [200_1] [WorkflowRunner] \n",
      "[2022-01-25T20:47:10.852424Z] [8a74a51c1a0b] [200_1] [WorkflowRunner] \tworkflow version: 2.9.10\n",
      "[2022-01-25T20:47:10.852917Z] [8a74a51c1a0b] [200_1] [WorkflowRunner] \n",
      "[2022-01-25T20:47:10.853371Z] [8a74a51c1a0b] [200_1] [WorkflowRunner] Workflow successfully completed all tasks\n",
      "[2022-01-25T20:47:10.853524Z] [8a74a51c1a0b] [200_1] [WorkflowRunner] Elapsed time for full workflow: 10 sec\n",
      "\n",
      "**** Completed demo workflow execution.\n",
      "\n",
      "\n",
      "**** Demo/verification successfully completed\n",
      "\n",
      "\n",
      "**** Starting demo configuration and run.\n",
      "**** Configuration cmd: './home/tool/strelka-2.9.10.centos6_x86_64/bin/configureStrelkaSomaticWorkflow.py --tumorBam='./home/tool/strelka-2.9.10.centos6_x86_64/bin/../share/demo/strelka/data/NA12891_demo20.bam' --normalBam='./home/tool/strelka-2.9.10.centos6_x86_64/bin/../share/demo/strelka/data/NA12892_demo20.bam' --referenceFasta='./home/tool/strelka-2.9.10.centos6_x86_64/bin/../share/demo/strelka/data/demo20.fa' --callMemMb=1024 --exome --runDir=./strelkaSomaticDemoAnalysis'\n",
      "\n",
      "\n",
      "**** Completed demo configuration.\n",
      "\n",
      "\n",
      "**** Starting demo workflow execution.\n",
      "**** Workflow cmd: './strelkaSomaticDemoAnalysis/runWorkflow.py -m local -j 1 -g 4'\n",
      "\n",
      "[2022-01-25T20:47:12.102901Z] [8a74a51c1a0b] [303_1] [WorkflowRunner] Initiating pyFlow run\n",
      "[2022-01-25T20:47:12.103080Z] [8a74a51c1a0b] [303_1] [WorkflowRunner] pyFlowClientWorkflowClass: StrelkaSomaticWorkflow\n",
      "[2022-01-25T20:47:12.103149Z] [8a74a51c1a0b] [303_1] [WorkflowRunner] pyFlowVersion: 1.1.20\n",
      "[2022-01-25T20:47:12.103208Z] [8a74a51c1a0b] [303_1] [WorkflowRunner] pythonVersion: 2.6.6.final.0\n",
      "[2022-01-25T20:47:12.103262Z] [8a74a51c1a0b] [303_1] [WorkflowRunner] WorkingDir: '/'\n",
      "[2022-01-25T20:47:12.103287Z] [8a74a51c1a0b] [303_1] [WorkflowRunner] ProcessCmdLine: './strelkaSomaticDemoAnalysis/runWorkflow.py -m local -j 1 -g 4'\n",
      "[2022-01-25T20:47:12.103313Z] [8a74a51c1a0b] [303_1] [WorkflowRunner] [RunParameters] mode: local\n",
      "[2022-01-25T20:47:12.103328Z] [8a74a51c1a0b] [303_1] [WorkflowRunner] [RunParameters] nCores: 1\n",
      "[2022-01-25T20:47:12.103357Z] [8a74a51c1a0b] [303_1] [WorkflowRunner] [RunParameters] memMb: 4096\n",
      "[2022-01-25T20:47:12.103383Z] [8a74a51c1a0b] [303_1] [WorkflowRunner] [RunParameters] dataDir: /strelkaSomaticDemoAnalysis/workspace/pyflow.data\n",
      "[2022-01-25T20:47:12.103414Z] [8a74a51c1a0b] [303_1] [WorkflowRunner] [RunParameters] isDryRun: False\n",
      "[2022-01-25T20:47:12.103435Z] [8a74a51c1a0b] [303_1] [WorkflowRunner] [RunParameters] isContinue: False\n",
      "[2022-01-25T20:47:12.103456Z] [8a74a51c1a0b] [303_1] [WorkflowRunner] [RunParameters] isForceContinue: True\n",
      "[2022-01-25T20:47:12.103487Z] [8a74a51c1a0b] [303_1] [WorkflowRunner] [RunParameters] mailTo: ''\n",
      "[2022-01-25T20:47:12.104520Z] [8a74a51c1a0b] [303_1] [TaskRunner:masterWorkflow] Starting task specification for master workflow\n",
      "[2022-01-25T20:47:12.104973Z] [8a74a51c1a0b] [303_1] [StrelkaSomaticWorkflow] Initiating Strelka somatic workflow version: 2.9.10\n",
      "[2022-01-25T20:47:12.106375Z] [8a74a51c1a0b] [303_1] [WorkflowRunner] Adding sub-workflow task 'CallGenome' to master workflow\n",
      "[2022-01-25T20:47:12.107673Z] [8a74a51c1a0b] [303_1] [TaskManager] Launching sub-workflow task: 'CallGenome' from master workflow\n",
      "[2022-01-25T20:47:12.108616Z] [8a74a51c1a0b] [303_1] [TaskRunner:masterWorkflow] Finished task specification for master workflow\n",
      "[2022-01-25T20:47:12.109653Z] [8a74a51c1a0b] [303_1] [TaskRunner:CallGenome] Starting task specification for sub-workflow\n",
      "[2022-01-25T20:47:12.110377Z] [8a74a51c1a0b] [303_1] [WorkflowRunner] Adding command task 'CallGenome+makeTmpDir' to sub-workflow 'CallGenome'\n",
      "[2022-01-25T20:47:12.111433Z] [8a74a51c1a0b] [303_1] [WorkflowRunner] Adding command task 'CallGenome+callGenomeSegment_chromId_000_demo20_0000' to sub-workflow 'CallGenome'\n",
      "[2022-01-25T20:47:12.112099Z] [8a74a51c1a0b] [303_1] [WorkflowRunner] Adding command task 'CallGenome+fixVcfHeader_chromId_000_demo20_0000' to sub-workflow 'CallGenome'\n",
      "[2022-01-25T20:47:12.112580Z] [8a74a51c1a0b] [303_1] [WorkflowRunner] Adding command task 'CallGenome+compressSegmentOutput_chromId_000_demo20_0000' to sub-workflow 'CallGenome'\n",
      "[2022-01-25T20:47:12.114144Z] [8a74a51c1a0b] [303_1] [WorkflowRunner] Adding command task 'CallGenome+completedAllGenomeSegments' to sub-workflow 'CallGenome'\n",
      "[2022-01-25T20:47:12.114704Z] [8a74a51c1a0b] [303_1] [TaskManager] Launching command task: 'CallGenome+makeTmpDir' from sub-workflow 'CallGenome'\n",
      "[2022-01-25T20:47:12.115999Z] [8a74a51c1a0b] [303_1] [WorkflowRunner] Adding command task 'CallGenome+SNV_concat_vcf' to sub-workflow 'CallGenome'\n",
      "[2022-01-25T20:47:12.117438Z] [8a74a51c1a0b] [303_1] [WorkflowRunner] Adding command task 'CallGenome+SNV_index_vcf' to sub-workflow 'CallGenome'\n",
      "[2022-01-25T20:47:12.119154Z] [8a74a51c1a0b] [303_1] [WorkflowRunner] Adding command task 'CallGenome+Indel_concat_vcf' to sub-workflow 'CallGenome'\n",
      "[2022-01-25T20:47:12.120695Z] [8a74a51c1a0b] [303_1] [WorkflowRunner] Adding command task 'CallGenome+Indel_index_vcf' to sub-workflow 'CallGenome'\n",
      "[2022-01-25T20:47:12.126616Z] [8a74a51c1a0b] [303_1] [WorkflowRunner] Adding command task 'CallGenome+mergeRunStats' to sub-workflow 'CallGenome'\n",
      "[2022-01-25T20:47:12.127106Z] [8a74a51c1a0b] [303_1] [TaskRunner:CallGenome+makeTmpDir] Task initiated on local node\n",
      "[2022-01-25T20:47:12.128317Z] [8a74a51c1a0b] [303_1] [WorkflowRunner] Adding command task 'CallGenome+removeTmpDir' to sub-workflow 'CallGenome'\n",
      "[2022-01-25T20:47:12.130596Z] [8a74a51c1a0b] [303_1] [TaskRunner:CallGenome] Finished task specification for sub-workflow\n",
      "[2022-01-25T20:47:12.347041Z] [8a74a51c1a0b] [303_1] [TaskManager] Completed command task: 'CallGenome+makeTmpDir' launched from sub-workflow 'CallGenome'\n",
      "[2022-01-25T20:47:12.348206Z] [8a74a51c1a0b] [303_1] [TaskManager] Launching command task: 'CallGenome+callGenomeSegment_chromId_000_demo20_0000' from sub-workflow 'CallGenome'\n",
      "[2022-01-25T20:47:12.353915Z] [8a74a51c1a0b] [303_1] [TaskRunner:CallGenome+callGenomeSegment_chromId_000_demo20_0000] Task initiated on local node\n",
      "[2022-01-25T20:47:12.818676Z] [8a74a51c1a0b] [303_1] [TaskManager] Completed command task: 'CallGenome+callGenomeSegment_chromId_000_demo20_0000' launched from sub-workflow 'CallGenome'\n",
      "[2022-01-25T20:47:12.819567Z] [8a74a51c1a0b] [303_1] [TaskManager] Launching command task: 'CallGenome+fixVcfHeader_chromId_000_demo20_0000' from sub-workflow 'CallGenome'\n",
      "[2022-01-25T20:47:12.824151Z] [8a74a51c1a0b] [303_1] [TaskRunner:CallGenome+fixVcfHeader_chromId_000_demo20_0000] Task initiated on local node\n",
      "[2022-01-25T20:47:13.088078Z] [8a74a51c1a0b] [303_1] [TaskManager] Completed command task: 'CallGenome+fixVcfHeader_chromId_000_demo20_0000' launched from sub-workflow 'CallGenome'\n",
      "[2022-01-25T20:47:13.088797Z] [8a74a51c1a0b] [303_1] [TaskManager] Launching command task: 'CallGenome+compressSegmentOutput_chromId_000_demo20_0000' from sub-workflow 'CallGenome'\n",
      "[2022-01-25T20:47:13.093554Z] [8a74a51c1a0b] [303_1] [TaskRunner:CallGenome+compressSegmentOutput_chromId_000_demo20_0000] Task initiated on local node\n",
      "[2022-01-25T20:47:13.307254Z] [8a74a51c1a0b] [303_1] [TaskManager] Completed command task: 'CallGenome+compressSegmentOutput_chromId_000_demo20_0000' launched from sub-workflow 'CallGenome'\n",
      "[2022-01-25T20:47:13.307722Z] [8a74a51c1a0b] [303_1] [TaskManager] Completed command task: 'CallGenome+completedAllGenomeSegments' launched from sub-workflow 'CallGenome'\n",
      "[2022-01-25T20:47:13.308309Z] [8a74a51c1a0b] [303_1] [TaskManager] Launching command task: 'CallGenome+mergeRunStats' from sub-workflow 'CallGenome'\n",
      "[2022-01-25T20:47:13.313337Z] [8a74a51c1a0b] [303_1] [TaskRunner:CallGenome+mergeRunStats] Task initiated on local node\n",
      "[2022-01-25T20:47:13.526351Z] [8a74a51c1a0b] [303_1] [TaskManager] Completed command task: 'CallGenome+mergeRunStats' launched from sub-workflow 'CallGenome'\n"
     ]
    },
    {
     "name": "stdout",
     "output_type": "stream",
     "text": [
      "Checking for programs...\n",
      "\n",
      "/usr/local/bin/fastp\n",
      "/usr/local/bin/fastqc\n",
      "/Users/kate/.pyenv/versions/3.10.0/bin/multiqc\n",
      "/usr/local/bin/bgzip\n",
      "/usr/local/bin/tabix\n",
      "/usr/local/bin/minimap2\n",
      "/usr/local/bin/samtools\n",
      "/usr/local/bin/bcftools\n",
      "/usr/local/bin/kallisto\n",
      "/usr/local/bin/star\n",
      "\n",
      "Testing manta and strelka in docker container...\n",
      "\n",
      " Successfully created workflow run script. To execute the workflow, run the following script and set appropriate options:  /MantaDemoAnalysis/runWorkflow.py\n",
      "\n",
      " Successfully created workflow run script. To execute the workflow, run the following script and set appropriate options:  /strelkaGermlineDemoAnalysis/runWorkflow.py\n",
      "\n",
      " Successfully created workflow run script. To execute the workflow, run the following script and set appropriate options:  /strelkaSomaticDemoAnalysis/runWorkflow.py\n",
      "\n",
      "Killing and removing docker container\n",
      "8a74a51c1a0b25cf6e476113c233431482ce7d0dedc8811707550114f2d4e30e\n",
      "8a74a51c1a0b25cf6e476113c233431482ce7d0dedc8811707550114f2d4e30e\n"
     ]
    },
    {
     "name": "stderr",
     "output_type": "stream",
     "text": [
      "[2022-01-25T20:47:13.527319Z] [8a74a51c1a0b] [303_1] [TaskManager] Launching command task: 'CallGenome+Indel_concat_vcf' from sub-workflow 'CallGenome'\n",
      "[2022-01-25T20:47:13.532426Z] [8a74a51c1a0b] [303_1] [TaskRunner:CallGenome+Indel_concat_vcf] Task initiated on local node\n",
      "[2022-01-25T20:47:13.745279Z] [8a74a51c1a0b] [303_1] [TaskManager] Completed command task: 'CallGenome+Indel_concat_vcf' launched from sub-workflow 'CallGenome'\n",
      "[2022-01-25T20:47:13.746233Z] [8a74a51c1a0b] [303_1] [TaskManager] Launching command task: 'CallGenome+Indel_index_vcf' from sub-workflow 'CallGenome'\n",
      "[2022-01-25T20:47:13.751316Z] [8a74a51c1a0b] [303_1] [TaskRunner:CallGenome+Indel_index_vcf] Task initiated on local node\n",
      "[2022-01-25T20:47:13.964262Z] [8a74a51c1a0b] [303_1] [TaskManager] Completed command task: 'CallGenome+Indel_index_vcf' launched from sub-workflow 'CallGenome'\n",
      "[2022-01-25T20:47:13.965094Z] [8a74a51c1a0b] [303_1] [TaskManager] Launching command task: 'CallGenome+SNV_concat_vcf' from sub-workflow 'CallGenome'\n",
      "[2022-01-25T20:47:13.970027Z] [8a74a51c1a0b] [303_1] [TaskRunner:CallGenome+SNV_concat_vcf] Task initiated on local node\n",
      "[2022-01-25T20:47:14.182838Z] [8a74a51c1a0b] [303_1] [TaskManager] Completed command task: 'CallGenome+SNV_concat_vcf' launched from sub-workflow 'CallGenome'\n",
      "[2022-01-25T20:47:14.183838Z] [8a74a51c1a0b] [303_1] [TaskManager] Launching command task: 'CallGenome+SNV_index_vcf' from sub-workflow 'CallGenome'\n",
      "[2022-01-25T20:47:14.188802Z] [8a74a51c1a0b] [303_1] [TaskRunner:CallGenome+SNV_index_vcf] Task initiated on local node\n",
      "[2022-01-25T20:47:14.402286Z] [8a74a51c1a0b] [303_1] [TaskManager] Completed command task: 'CallGenome+SNV_index_vcf' launched from sub-workflow 'CallGenome'\n",
      "[2022-01-25T20:47:14.402901Z] [8a74a51c1a0b] [303_1] [TaskManager] Launching command task: 'CallGenome+removeTmpDir' from sub-workflow 'CallGenome'\n",
      "[2022-01-25T20:47:14.407819Z] [8a74a51c1a0b] [303_1] [TaskRunner:CallGenome+removeTmpDir] Task initiated on local node\n",
      "[2022-01-25T20:47:14.621387Z] [8a74a51c1a0b] [303_1] [TaskManager] Completed command task: 'CallGenome+removeTmpDir' launched from sub-workflow 'CallGenome'\n",
      "[2022-01-25T20:47:14.845091Z] [8a74a51c1a0b] [303_1] [TaskManager] Completed sub-workflow task: 'CallGenome' launched from master workflow\n",
      "[2022-01-25T20:47:17.731538Z] [8a74a51c1a0b] [303_1] [WorkflowRunner] Strelka somatic workflow successfully completed.\n",
      "[2022-01-25T20:47:17.731538Z] [8a74a51c1a0b] [303_1] [WorkflowRunner] \n",
      "[2022-01-25T20:47:17.731538Z] [8a74a51c1a0b] [303_1] [WorkflowRunner] \tworkflow version: 2.9.10\n",
      "[2022-01-25T20:47:17.731696Z] [8a74a51c1a0b] [303_1] [WorkflowRunner] \n",
      "[2022-01-25T20:47:17.731743Z] [8a74a51c1a0b] [303_1] [WorkflowRunner] Workflow successfully completed all tasks\n",
      "[2022-01-25T20:47:17.731914Z] [8a74a51c1a0b] [303_1] [WorkflowRunner] Elapsed time for full workflow: 5 sec\n",
      "\n",
      "**** Completed demo workflow execution.\n",
      "\n",
      "\n",
      "**** Starting comparison to expected results.\n",
      "**** Expected results dir: ./home/tool/strelka-2.9.10.centos6_x86_64/bin/../share/demo/strelka/expectedResults\n",
      "**** Demo results dir: ./strelkaSomaticDemoAnalysis/results/variants\n",
      "\n",
      "\n",
      "**** No differences between expected and computed results.\n",
      "\n",
      "\n",
      "**** Demo/verification successfully completed\n",
      "\n"
     ]
    }
   ],
   "source": [
    "Fastq.test(\"/Users/kate/craft/tool/Fastq.jl/tool\")"
   ]
  },
  {
   "cell_type": "markdown",
   "id": "4106f56f",
   "metadata": {},
   "source": [
    "## find"
   ]
  },
  {
   "cell_type": "code",
   "execution_count": 47,
   "id": "97bfa424",
   "metadata": {},
   "outputs": [
    {
     "name": "stdout",
     "output_type": "stream",
     "text": [
      "File types found in ../test/data/:\n",
      "\n",
      "\"fq.gz\" => 0\n",
      "\"fastq.gz\" => 4\n",
      "\".fq\" => 0\n",
      "\".fastq\" => 0\n",
      "\n",
      "Size of gzipped files:\n",
      "\n",
      "File ../test/data/test_cdna_4k.R1.fastq.gz is: 276.464 KiB\n",
      "File ../test/data/test_cdna_4k.R2.fastq.gz is: 283.787 KiB\n",
      "File ../test/data/test_dna_4k.R1.fastq.gz is: 287.457 KiB\n",
      "File ../test/data/test_dna_4k.R2.fastq.gz is: 316.618 KiB\n"
     ]
    },
    {
     "data": {
      "text/plain": [
       "4-element Vector{Any}:\n",
       " \"../test/data/test_cdna_4k.R1.fastq.gz\"\n",
       " \"../test/data/test_cdna_4k.R2.fastq.gz\"\n",
       " \"../test/data/test_dna_4k.R1.fastq.gz\"\n",
       " \"../test/data/test_dna_4k.R2.fastq.gz\""
      ]
     },
     "execution_count": 47,
     "metadata": {},
     "output_type": "execute_result"
    }
   ],
   "source": [
    "di = \"../test/data/\"\n",
    "\n",
    "re_ = Fastq.find(di)"
   ]
  },
  {
   "cell_type": "markdown",
   "id": "bf765fb1",
   "metadata": {},
   "source": [
    "## concatenate"
   ]
  },
  {
   "cell_type": "code",
   "execution_count": 49,
   "id": "24771322",
   "metadata": {},
   "outputs": [
    {
     "name": "stdout",
     "output_type": "stream",
     "text": [
      "Number of forward read files found = 2\n",
      "Number of reverse read files found = 2\n",
      "\n",
      "Skipping concatenation because directory already exists: ../test/data_concat\n"
     ]
    }
   ],
   "source": [
    "Fastq.concatenate(re_, \"R1\")"
   ]
  },
  {
   "cell_type": "markdown",
   "id": "d777573f",
   "metadata": {},
   "source": [
    "## check_read"
   ]
  },
  {
   "cell_type": "code",
   "execution_count": null,
   "id": "d0ba42ae",
   "metadata": {},
   "outputs": [],
   "source": [
    "Fastq.check_read()"
   ]
  },
  {
   "cell_type": "markdown",
   "id": "bedf1d8d",
   "metadata": {},
   "source": [
    "## concatenate"
   ]
  },
  {
   "cell_type": "code",
   "execution_count": null,
   "id": "601c65ca",
   "metadata": {},
   "outputs": [],
   "source": [
    "Fastq.concatenate(re_, \"R1\")"
   ]
  },
  {
   "cell_type": "markdown",
   "id": "6847b17a",
   "metadata": {},
   "source": [
    "## trim"
   ]
  },
  {
   "cell_type": "code",
   "execution_count": null,
   "id": "c9eca6a5",
   "metadata": {},
   "outputs": [],
   "source": [
    "Fastq.trim()"
   ]
  },
  {
   "cell_type": "markdown",
   "id": "6fe77016",
   "metadata": {},
   "source": [
    "## align"
   ]
  },
  {
   "cell_type": "code",
   "execution_count": null,
   "id": "b842a6c3",
   "metadata": {},
   "outputs": [],
   "source": [
    "Fastq.align()"
   ]
  },
  {
   "cell_type": "markdown",
   "id": "2c30b1c3",
   "metadata": {},
   "source": [
    "## count_transcript"
   ]
  },
  {
   "cell_type": "code",
   "execution_count": null,
   "id": "d10bee1c",
   "metadata": {},
   "outputs": [],
   "source": [
    "Fastq.count_transcript()"
   ]
  },
  {
   "cell_type": "markdown",
   "id": "775b473c",
   "metadata": {},
   "source": [
    "## process_dna"
   ]
  },
  {
   "cell_type": "code",
   "execution_count": null,
   "id": "2d4a77e2",
   "metadata": {},
   "outputs": [],
   "source": [
    "Fastq.process_dna()"
   ]
  },
  {
   "cell_type": "markdown",
   "id": "ee8430c3",
   "metadata": {},
   "source": [
    "## process_soma_dna"
   ]
  },
  {
   "cell_type": "code",
   "execution_count": null,
   "id": "2190388d",
   "metadata": {},
   "outputs": [],
   "source": [
    "Fastq.process_soma_dna()"
   ]
  }
 ],
 "metadata": {
  "@webio": {
   "lastCommId": null,
   "lastKernelId": null
  },
  "kernelspec": {
   "display_name": "Julia 1.7.1",
   "language": "julia",
   "name": "julia-1.7"
  },
  "language_info": {
   "file_extension": ".jl",
   "mimetype": "application/julia",
   "name": "julia",
   "version": "1.7.1"
  }
 },
 "nbformat": 4,
 "nbformat_minor": 5
}
