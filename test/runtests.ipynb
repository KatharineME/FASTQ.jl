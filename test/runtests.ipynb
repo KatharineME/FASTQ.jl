{
 "cells": [
  {
   "cell_type": "code",
   "execution_count": 2,
   "id": "ca6b338b",
   "metadata": {},
   "outputs": [
    {
     "name": "stderr",
     "output_type": "stream",
     "text": [
      "┌ Info: Precompiling Fastq [ee7f7801-48cc-40da-98c9-e39305ba84b2]\n",
      "└ @ Base loading.jl:1423\n"
     ]
    }
   ],
   "source": [
    "using Revise\n",
    "\n",
    "using Fastq"
   ]
  },
  {
   "cell_type": "markdown",
   "id": "789a0cc7",
   "metadata": {},
   "source": [
    "## test_environment"
   ]
  },
  {
   "cell_type": "code",
   "execution_count": null,
   "id": "9329cf6f",
   "metadata": {},
   "outputs": [],
   "source": [
    "Fastq.test_environment()"
   ]
  },
  {
   "cell_type": "markdown",
   "id": "aad2ddb6",
   "metadata": {},
   "source": [
    "## test_strelka_and_manta"
   ]
  },
  {
   "cell_type": "code",
   "execution_count": null,
   "id": "1e9c03f2",
   "metadata": {},
   "outputs": [],
   "source": [
    "Fastq.test_strelka_and_manta(\"/Users/kate/craft/tool/Fastq.jl/tool\")"
   ]
  },
  {
   "cell_type": "markdown",
   "id": "4106f56f",
   "metadata": {},
   "source": [
    "## find"
   ]
  },
  {
   "cell_type": "code",
   "execution_count": null,
   "id": "97bfa424",
   "metadata": {},
   "outputs": [],
   "source": [
    "di = \"../test/data/\"\n",
    "\n",
    "re_ = Fastq.find(di)"
   ]
  },
  {
   "cell_type": "markdown",
   "id": "d777573f",
   "metadata": {},
   "source": [
    "## check_read"
   ]
  },
  {
   "cell_type": "code",
   "execution_count": null,
   "id": "d0ba42ae",
   "metadata": {},
   "outputs": [],
   "source": [
    "Fastq.check_read(re_, \"../test/data/check_raw/\", 2)"
   ]
  },
  {
   "cell_type": "markdown",
   "id": "bedf1d8d",
   "metadata": {},
   "source": [
    "## concatenate"
   ]
  },
  {
   "cell_type": "code",
   "execution_count": null,
   "id": "601c65ca",
   "metadata": {},
   "outputs": [],
   "source": [
    "Fastq.concatenate(re_, \"R1\")"
   ]
  },
  {
   "cell_type": "markdown",
   "id": "6847b17a",
   "metadata": {},
   "source": [
    "## trim"
   ]
  },
  {
   "cell_type": "code",
   "execution_count": 11,
   "id": "c9eca6a5",
   "metadata": {},
   "outputs": [
    {
     "name": "stdout",
     "output_type": "stream",
     "text": [
      "Trimming...\n"
     ]
    },
    {
     "name": "stderr",
     "output_type": "stream",
     "text": [
      "Detecting adapter sequence for read1...\n",
      "No adapter detected for read1\n",
      "\n",
      "Detecting adapter sequence for read2...\n",
      "No adapter detected for read2\n",
      "\n",
      "Read1 before filtering:\n",
      "total reads: 4000\n",
      "total bases: 499211\n",
      "Q20 bases: 492539(98.6635%)\n",
      "Q30 bases: 480459(96.2437%)\n",
      "\n",
      "Read2 before filtering:\n",
      "total reads: 4000\n",
      "total bases: 499062\n",
      "Q20 bases: 483993(96.9805%)\n",
      "Q30 bases: 462617(92.6973%)\n",
      "\n",
      "Read1 after filtering:\n",
      "total reads: 3945\n",
      "total bases: 492050\n",
      "Q20 bases: 486674(98.9074%)\n",
      "Q30 bases: 475520(96.6406%)\n",
      "\n",
      "Read2 after filtering:\n",
      "total reads: 3945\n",
      "total bases: 491879\n",
      "Q20 bases: 479569(97.4974%)\n",
      "Q30 bases: 459681(93.4541%)\n",
      "\n",
      "Filtering result:\n",
      "reads passed filter: 7890\n",
      "reads failed due to low quality: 100\n",
      "reads failed due to too many N: 10\n",
      "reads failed due to too short: 0\n",
      "reads with adapter trimmed: 14\n",
      "bases trimmed due to adapters: 547\n",
      "\n",
      "Duplication rate: 0.025%\n",
      "\n",
      "Insert size peak (evaluated by paired-end reads): 181\n",
      "\n",
      "JSON report: fastp.json\n",
      "HTML report: ../test/trim/fastp.html\n",
      "\n",
      "fastp --detect_adapter_for_pe --html ../test/trim/fastp.html --in1 ../test/data/test_dna_4k.R1.fastq.gz --in2 ../test/data/test_dna_4k.R2.fastq.gz --out1 ../test/trim/test_dna_4k.R1.fastq.gz --out2 ../test/trim/test_dna_4k.R2.fastq.gz \n",
      "fastp v0.23.2, time used: 1 seconds\n"
     ]
    }
   ],
   "source": [
    "fq1 = \"../test/data/test_dna_4k.R1.fastq.gz\"\n",
    "\n",
    "fq2 = \"../test/data/test_dna_4k.R2.fastq.gz\"\n",
    "\n",
    "pa = \"../test/trim/\"\n",
    "\n",
    "Fastq.trim(fq1, fq2, pa, 2)"
   ]
  },
  {
   "cell_type": "markdown",
   "id": "6fe77016",
   "metadata": {},
   "source": [
    "## align"
   ]
  },
  {
   "cell_type": "code",
   "execution_count": null,
   "id": "b842a6c3",
   "metadata": {},
   "outputs": [],
   "source": [
    "Fastq.align()"
   ]
  },
  {
   "cell_type": "markdown",
   "id": "2c30b1c3",
   "metadata": {},
   "source": [
    "## count_transcript"
   ]
  },
  {
   "cell_type": "code",
   "execution_count": null,
   "id": "d10bee1c",
   "metadata": {},
   "outputs": [],
   "source": [
    "Fastq.count_transcript()"
   ]
  },
  {
   "cell_type": "markdown",
   "id": "775b473c",
   "metadata": {},
   "source": [
    "## process_dna"
   ]
  },
  {
   "cell_type": "code",
   "execution_count": null,
   "id": "2d4a77e2",
   "metadata": {},
   "outputs": [],
   "source": [
    "Fastq.process_dna()"
   ]
  },
  {
   "cell_type": "markdown",
   "id": "ee8430c3",
   "metadata": {},
   "source": [
    "## process_soma_dna"
   ]
  },
  {
   "cell_type": "code",
   "execution_count": null,
   "id": "2190388d",
   "metadata": {},
   "outputs": [],
   "source": [
    "Fastq.process_soma_dna()"
   ]
  }
 ],
 "metadata": {
  "@webio": {
   "lastCommId": null,
   "lastKernelId": null
  },
  "kernelspec": {
   "display_name": "Julia 1.7.1",
   "language": "julia",
   "name": "julia-1.7"
  },
  "language_info": {
   "file_extension": ".jl",
   "mimetype": "application/julia",
   "name": "julia",
   "version": "1.7.1"
  }
 },
 "nbformat": 4,
 "nbformat_minor": 5
}
