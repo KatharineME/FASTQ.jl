{
 "cells": [
  {
   "cell_type": "code",
   "execution_count": 1,
   "id": "b51abb85",
   "metadata": {},
   "outputs": [
    {
     "name": "stdout",
     "output_type": "stream",
     "text": [
      "Made /var/folders/z_/r2n_rt396917fl9qm_t5h7jm0000gn/T/Fastq.test/\n"
     ]
    }
   ],
   "source": [
    "TE = joinpath(tempdir(), \"Fastq.test\", \"\")\n",
    "\n",
    "if isdir(TE)\n",
    "\n",
    "    rm(TE; recursive = true)\n",
    "\n",
    "end\n",
    "\n",
    "mkdir(TE)\n",
    "\n",
    "println(\"Made \", TE)"
   ]
  },
  {
   "cell_type": "code",
   "execution_count": 2,
   "id": "ca6b338b",
   "metadata": {},
   "outputs": [
    {
     "name": "stderr",
     "output_type": "stream",
     "text": [
      "┌ Info: Precompiling Fastq [46d2c298-02f7-4954-99b1-382187c21301]\n",
      "└ @ Base loading.jl:1423\n"
     ]
    }
   ],
   "source": [
    "using Revise\n",
    "using BenchmarkTools\n",
    "\n",
    "using Fastq"
   ]
  },
  {
   "cell_type": "code",
   "execution_count": 3,
   "id": "6a83d429",
   "metadata": {},
   "outputs": [
    {
     "data": {
      "text/plain": [
       "2"
      ]
     },
     "execution_count": 3,
     "metadata": {},
     "output_type": "execute_result"
    }
   ],
   "source": [
    "n_jo = 4\n",
    "\n",
    "me = 2 #memory\n",
    "\n",
    "to = \"/Users/kate/craft/tool/Fastq.jl/tool\""
   ]
  },
  {
   "cell_type": "markdown",
   "id": "789a0cc7",
   "metadata": {},
   "source": [
    "## test_environment"
   ]
  },
  {
   "cell_type": "code",
   "execution_count": 4,
   "id": "9329cf6f",
   "metadata": {},
   "outputs": [
    {
     "name": "stdout",
     "output_type": "stream",
     "text": [
      "Checking for programs...\n",
      "\n",
      "/usr/local/bin/fastp\n",
      "/usr/local/bin/fastqc\n",
      "/Users/kate/.pyenv/versions/3.10.0/bin/multiqc\n",
      "/usr/local/bin/bgzip\n",
      "/usr/local/bin/tabix\n",
      "/usr/local/bin/minimap2\n",
      "/usr/local/bin/samtools\n",
      "/usr/local/bin/bcftools\n",
      "/usr/local/bin/kallisto\n",
      "/usr/local/bin/star\n",
      "/usr/local/bin/docker\n"
     ]
    }
   ],
   "source": [
    "Fastq.test_environment()"
   ]
  },
  {
   "cell_type": "markdown",
   "id": "622003bb",
   "metadata": {},
   "source": [
    "## test_strelka_and_manta"
   ]
  },
  {
   "cell_type": "code",
   "execution_count": 5,
   "id": "a4f7a205",
   "metadata": {},
   "outputs": [
    {
     "name": "stderr",
     "output_type": "stream",
     "text": [
      "\n",
      "**** Starting demo configuration and run.\n",
      "**** Configuration cmd: \"/home/tool/manta-1.6.0.centos6_x86_64/bin/configManta.py\" --normalBam=\"/home/tool/manta-1.6.0.centos6_x86_64/share/demo/manta/data/HCC1954.NORMAL.30x.compare.COST16011_region.bam\" --tumorBam=\"/home/tool/manta-1.6.0.centos6_x86_64/share/demo/manta/data/G15512.HCC1954.1.COST16011_region.bam\" --referenceFasta=\"/home/tool/manta-1.6.0.centos6_x86_64/share/demo/manta/data/Homo_sapiens_assembly19.COST16011_region.fa\" --region=8:107652000-107655000 --region=11:94974000-94989000 --exome --runDir=\"MantaDemoAnalysis\"\n",
      "\n",
      "\n",
      "**** Completed demo configuration.\n",
      "\n",
      "\n",
      "**** Starting demo workflow execution.\n",
      "**** Workflow cmd: '/usr/bin/python MantaDemoAnalysis/runWorkflow.py -j 1 -g 4'\n",
      "\n",
      "[2022-02-01T22:13:50.346424Z] [64394e9bef86] [25_1] [WorkflowRunner] Initiating pyFlow run\n",
      "[2022-02-01T22:13:50.346498Z] [64394e9bef86] [25_1] [WorkflowRunner] pyFlowClientWorkflowClass: MantaWorkflow\n",
      "[2022-02-01T22:13:50.346578Z] [64394e9bef86] [25_1] [WorkflowRunner] pyFlowVersion: 1.1.20\n",
      "[2022-02-01T22:13:50.346598Z] [64394e9bef86] [25_1] [WorkflowRunner] pythonVersion: 2.6.6.final.0\n",
      "[2022-02-01T22:13:50.346616Z] [64394e9bef86] [25_1] [WorkflowRunner] WorkingDir: '/'\n",
      "[2022-02-01T22:13:50.346627Z] [64394e9bef86] [25_1] [WorkflowRunner] ProcessCmdLine: 'MantaDemoAnalysis/runWorkflow.py -j 1 -g 4'\n",
      "[2022-02-01T22:13:50.346637Z] [64394e9bef86] [25_1] [WorkflowRunner] [RunParameters] mode: local\n",
      "[2022-02-01T22:13:50.346674Z] [64394e9bef86] [25_1] [WorkflowRunner] [RunParameters] nCores: 1\n",
      "[2022-02-01T22:13:50.346997Z] [64394e9bef86] [25_1] [WorkflowRunner] [RunParameters] memMb: 4096\n",
      "[2022-02-01T22:13:50.347019Z] [64394e9bef86] [25_1] [WorkflowRunner] [RunParameters] dataDir: /MantaDemoAnalysis/workspace/pyflow.data\n",
      "[2022-02-01T22:13:50.347036Z] [64394e9bef86] [25_1] [WorkflowRunner] [RunParameters] isDryRun: False\n",
      "[2022-02-01T22:13:50.347109Z] [64394e9bef86] [25_1] [WorkflowRunner] [RunParameters] isContinue: False\n",
      "[2022-02-01T22:13:50.347263Z] [64394e9bef86] [25_1] [WorkflowRunner] [RunParameters] isForceContinue: True\n",
      "[2022-02-01T22:13:50.347304Z] [64394e9bef86] [25_1] [WorkflowRunner] [RunParameters] mailTo: ''\n",
      "[2022-02-01T22:13:50.348186Z] [64394e9bef86] [25_1] [TaskRunner:masterWorkflow] Starting task specification for master workflow\n",
      "[2022-02-01T22:13:50.348344Z] [64394e9bef86] [25_1] [MantaWorkflow] Initiating Manta workflow version: 1.6.0\n",
      "[2022-02-01T22:13:50.348609Z] [64394e9bef86] [25_1] [WorkflowRunner] Adding command task 'getAlignmentStats_makeTmpDir' to master workflow\n",
      "[2022-02-01T22:13:50.349620Z] [64394e9bef86] [25_1] [WorkflowRunner] Adding command task 'getAlignmentStats_generateStats_000' to master workflow\n",
      "[2022-02-01T22:13:50.350099Z] [64394e9bef86] [25_1] [WorkflowRunner] Adding command task 'getAlignmentStats_generateStats_001' to master workflow\n",
      "[2022-02-01T22:13:50.350509Z] [64394e9bef86] [25_1] [WorkflowRunner] Adding command task 'getAlignmentStats_mergeStats' to master workflow\n",
      "[2022-02-01T22:13:50.350914Z] [64394e9bef86] [25_1] [WorkflowRunner] Adding command task 'getAlignmentStats_removeTmpDir' to master workflow\n",
      "[2022-02-01T22:13:50.351406Z] [64394e9bef86] [25_1] [WorkflowRunner] Adding command task 'summarizeStats' to master workflow\n",
      "[2022-02-01T22:13:50.351922Z] [64394e9bef86] [25_1] [WorkflowRunner] Adding command task 'makeGraphTmpDir' to master workflow\n",
      "[2022-02-01T22:13:50.352816Z] [64394e9bef86] [25_1] [TaskManager] Launching command task: 'getAlignmentStats_makeTmpDir' from master workflow\n",
      "[2022-02-01T22:13:50.353055Z] [64394e9bef86] [25_1] [WorkflowRunner] Adding command task 'makeLocusGraph_chromId_000_8-107652000-107655000_0000_to_chromId_001_11-94974000-94989000_0000' to master workflow\n",
      "[2022-02-01T22:13:50.354362Z] [64394e9bef86] [25_1] [WorkflowRunner] Adding sub-workflow task 'mergeLocusGraphInputList' to master workflow\n",
      "[2022-02-01T22:13:50.357326Z] [64394e9bef86] [25_1] [TaskRunner:getAlignmentStats_makeTmpDir] Task initiated on local node\n",
      "[2022-02-01T22:13:50.358146Z] [64394e9bef86] [25_1] [WorkflowRunner] Adding command task 'mergeLocusGraph' to master workflow\n",
      "[2022-02-01T22:13:50.358811Z] [64394e9bef86] [25_1] [WorkflowRunner] Adding command task 'checkLocusGraph' to master workflow\n",
      "[2022-02-01T22:13:50.359075Z] [64394e9bef86] [25_1] [WorkflowRunner] Adding command task 'removeTmpDir' to master workflow\n",
      "[2022-02-01T22:13:50.360289Z] [64394e9bef86] [25_1] [WorkflowRunner] Adding command task 'locusGraphStats' to master workflow\n",
      "[2022-02-01T22:13:50.360911Z] [64394e9bef86] [25_1] [WorkflowRunner] Adding command task 'makeHyGenDir' to master workflow\n",
      "[2022-02-01T22:13:50.361411Z] [64394e9bef86] [25_1] [WorkflowRunner] Adding command task 'generateCandidateSV_0000' to master workflow\n",
      "[2022-02-01T22:13:50.362157Z] [64394e9bef86] [25_1] [WorkflowRunner] Adding command task 'fixVcfHeader_sortCandidateSV' to master workflow\n",
      "[2022-02-01T22:13:50.362457Z] [64394e9bef86] [25_1] [WorkflowRunner] Adding sub-workflow task 'sortCandidateSVInputList' to master workflow\n",
      "[2022-02-01T22:13:50.362641Z] [64394e9bef86] [25_1] [WorkflowRunner] Adding command task 'sort_sortCandidateSV' to master workflow\n",
      "[2022-02-01T22:13:50.362885Z] [64394e9bef86] [25_1] [WorkflowRunner] Adding command task 'tabix_sortCandidateSV' to master workflow\n",
      "[2022-02-01T22:13:50.363088Z] [64394e9bef86] [25_1] [WorkflowRunner] Adding command task 'fixVcfHeader_sortDiploidSV' to master workflow\n",
      "[2022-02-01T22:13:50.363430Z] [64394e9bef86] [25_1] [WorkflowRunner] Adding sub-workflow task 'sortDiploidSVInputList' to master workflow\n",
      "[2022-02-01T22:13:50.364376Z] [64394e9bef86] [25_1] [WorkflowRunner] Adding command task 'sort_sortDiploidSV' to master workflow\n",
      "[2022-02-01T22:13:50.365287Z] [64394e9bef86] [25_1] [WorkflowRunner] Adding command task 'tabix_sortDiploidSV' to master workflow\n",
      "[2022-02-01T22:13:50.366176Z] [64394e9bef86] [25_1] [WorkflowRunner] Adding command task 'fixVcfHeader_sortSomaticSV' to master workflow\n",
      "[2022-02-01T22:13:50.366476Z] [64394e9bef86] [25_1] [WorkflowRunner] Adding sub-workflow task 'sortSomaticSVInputList' to master workflow\n",
      "[2022-02-01T22:13:50.366659Z] [64394e9bef86] [25_1] [WorkflowRunner] Adding command task 'sort_sortSomaticSV' to master workflow\n",
      "[2022-02-01T22:13:50.366962Z] [64394e9bef86] [25_1] [WorkflowRunner] Adding command task 'tabix_sortSomaticSV' to master workflow\n",
      "[2022-02-01T22:13:50.367204Z] [64394e9bef86] [25_1] [WorkflowRunner] Adding command task 'extractSmallIndels' to master workflow\n",
      "[2022-02-01T22:13:50.367835Z] [64394e9bef86] [25_1] [WorkflowRunner] Adding command task 'extractSmallIndels_tabix' to master workflow\n",
      "[2022-02-01T22:13:50.369124Z] [64394e9bef86] [25_1] [WorkflowRunner] Adding sub-workflow task 'sortEdgeRuntimeLogsInputList' to master workflow\n",
      "[2022-02-01T22:13:50.370134Z] [64394e9bef86] [25_1] [WorkflowRunner] Adding command task 'sortEdgeRuntimeLogs' to master workflow\n",
      "[2022-02-01T22:13:50.371396Z] [64394e9bef86] [25_1] [TaskRunner:masterWorkflow] Finished task specification for master workflow\n",
      "[2022-02-01T22:13:50.491547Z] [64394e9bef86] [25_1] [TaskManager] Completed command task: 'getAlignmentStats_makeTmpDir' launched from master workflow\n",
      "[2022-02-01T22:13:50.493234Z] [64394e9bef86] [25_1] [TaskManager] Launching command task: 'getAlignmentStats_generateStats_001' from master workflow\n",
      "[2022-02-01T22:13:50.496547Z] [64394e9bef86] [25_1] [TaskRunner:getAlignmentStats_generateStats_001] Task initiated on local node\n",
      "[2022-02-01T22:13:50.660016Z] [64394e9bef86] [25_1] [TaskManager] Completed command task: 'getAlignmentStats_generateStats_001' launched from master workflow\n",
      "[2022-02-01T22:13:50.661545Z] [64394e9bef86] [25_1] [TaskManager] Launching command task: 'getAlignmentStats_generateStats_000' from master workflow\n",
      "[2022-02-01T22:13:50.665014Z] [64394e9bef86] [25_1] [TaskRunner:getAlignmentStats_generateStats_000] Task initiated on local node\n",
      "[2022-02-01T22:13:50.777059Z] [64394e9bef86] [25_1] [TaskManager] Completed command task: 'getAlignmentStats_generateStats_000' launched from master workflow\n",
      "[2022-02-01T22:13:50.778042Z] [64394e9bef86] [25_1] [TaskManager] Launching command task: 'getAlignmentStats_mergeStats' from master workflow\n",
      "[2022-02-01T22:13:50.780474Z] [64394e9bef86] [25_1] [TaskRunner:getAlignmentStats_mergeStats] Task initiated on local node\n",
      "[2022-02-01T22:13:50.894628Z] [64394e9bef86] [25_1] [TaskManager] Completed command task: 'getAlignmentStats_mergeStats' launched from master workflow\n",
      "[2022-02-01T22:13:50.896069Z] [64394e9bef86] [25_1] [TaskManager] Launching command task: 'summarizeStats' from master workflow\n",
      "[2022-02-01T22:13:50.899534Z] [64394e9bef86] [25_1] [TaskRunner:summarizeStats] Task initiated on local node\n",
      "[2022-02-01T22:13:51.011943Z] [64394e9bef86] [25_1] [TaskManager] Completed command task: 'summarizeStats' launched from master workflow\n",
      "[2022-02-01T22:13:51.012606Z] [64394e9bef86] [25_1] [TaskManager] Launching command task: 'makeGraphTmpDir' from master workflow\n",
      "[2022-02-01T22:13:51.014763Z] [64394e9bef86] [25_1] [TaskRunner:makeGraphTmpDir] Task initiated on local node\n",
      "[2022-02-01T22:13:51.128144Z] [64394e9bef86] [25_1] [TaskManager] Completed command task: 'makeGraphTmpDir' launched from master workflow\n",
      "[2022-02-01T22:13:51.129356Z] [64394e9bef86] [25_1] [TaskManager] Launching command task: 'makeLocusGraph_chromId_000_8-107652000-107655000_0000_to_chromId_001_11-94974000-94989000_0000' from master workflow\n",
      "[2022-02-01T22:13:51.133044Z] [64394e9bef86] [25_1] [TaskRunner:makeLocusGraph_chromId_000_8-107652000-107655000_0000_to_chromId_001_11-94974000-94989000_0000] Task initiated on local node\n",
      "[2022-02-01T22:13:51.299615Z] [64394e9bef86] [25_1] [TaskManager] Completed command task: 'makeLocusGraph_chromId_000_8-107652000-107655000_0000_to_chromId_001_11-94974000-94989000_0000' launched from master workflow\n",
      "[2022-02-01T22:13:51.300939Z] [64394e9bef86] [25_1] [TaskManager] Launching sub-workflow task: 'mergeLocusGraphInputList' from master workflow\n",
      "[2022-02-01T22:13:51.301423Z] [64394e9bef86] [25_1] [TaskRunner:mergeLocusGraphInputList] Starting task specification for sub-workflow\n",
      "[2022-02-01T22:13:51.302298Z] [64394e9bef86] [25_1] [TaskManager] Launching command task: 'getAlignmentStats_removeTmpDir' from master workflow\n"
     ]
    },
    {
     "name": "stderr",
     "output_type": "stream",
     "text": [
      "[2022-02-01T22:13:51.303094Z] [64394e9bef86] [25_1] [TaskRunner:mergeLocusGraphInputList] Finished task specification for sub-workflow\n",
      "[2022-02-01T22:13:51.305806Z] [64394e9bef86] [25_1] [TaskManager] Completed sub-workflow task: 'mergeLocusGraphInputList' launched from master workflow\n",
      "[2022-02-01T22:13:51.306325Z] [64394e9bef86] [25_1] [TaskRunner:getAlignmentStats_removeTmpDir] Task initiated on local node\n",
      "[2022-02-01T22:13:51.421691Z] [64394e9bef86] [25_1] [TaskManager] Completed command task: 'getAlignmentStats_removeTmpDir' launched from master workflow\n",
      "[2022-02-01T22:13:51.422343Z] [64394e9bef86] [25_1] [TaskManager] Launching command task: 'mergeLocusGraph' from master workflow\n",
      "[2022-02-01T22:13:51.424905Z] [64394e9bef86] [25_1] [TaskRunner:mergeLocusGraph] Task initiated on local node\n",
      "[2022-02-01T22:13:51.537621Z] [64394e9bef86] [25_1] [TaskManager] Completed command task: 'mergeLocusGraph' launched from master workflow\n",
      "[2022-02-01T22:13:51.538437Z] [64394e9bef86] [25_1] [TaskManager] Launching command task: 'checkLocusGraph' from master workflow\n",
      "[2022-02-01T22:13:51.541869Z] [64394e9bef86] [25_1] [TaskRunner:checkLocusGraph] Task initiated on local node\n",
      "[2022-02-01T22:13:51.654235Z] [64394e9bef86] [25_1] [TaskManager] Completed command task: 'checkLocusGraph' launched from master workflow\n",
      "[2022-02-01T22:13:51.654821Z] [64394e9bef86] [25_1] [TaskManager] Launching command task: 'makeHyGenDir' from master workflow\n",
      "[2022-02-01T22:13:51.656947Z] [64394e9bef86] [25_1] [TaskRunner:makeHyGenDir] Task initiated on local node\n",
      "[2022-02-01T22:13:51.771456Z] [64394e9bef86] [25_1] [TaskManager] Completed command task: 'makeHyGenDir' launched from master workflow\n",
      "[2022-02-01T22:13:51.772206Z] [64394e9bef86] [25_1] [TaskManager] Launching command task: 'generateCandidateSV_0000' from master workflow\n",
      "[2022-02-01T22:13:51.775233Z] [64394e9bef86] [25_1] [TaskRunner:generateCandidateSV_0000] Task initiated on local node\n",
      "[2022-02-01T22:13:52.290610Z] [64394e9bef86] [25_1] [TaskManager] Completed command task: 'generateCandidateSV_0000' launched from master workflow\n",
      "[2022-02-01T22:13:52.291658Z] [64394e9bef86] [25_1] [TaskManager] Launching sub-workflow task: 'sortEdgeRuntimeLogsInputList' from master workflow\n",
      "[2022-02-01T22:13:52.293051Z] [64394e9bef86] [25_1] [TaskRunner:sortEdgeRuntimeLogsInputList] Starting task specification for sub-workflow\n",
      "[2022-02-01T22:13:52.293692Z] [64394e9bef86] [25_1] [TaskManager] Launching command task: 'removeTmpDir' from master workflow\n",
      "[2022-02-01T22:13:52.294471Z] [64394e9bef86] [25_1] [TaskRunner:sortEdgeRuntimeLogsInputList] Finished task specification for sub-workflow\n",
      "[2022-02-01T22:13:52.296953Z] [64394e9bef86] [25_1] [TaskManager] Completed sub-workflow task: 'sortEdgeRuntimeLogsInputList' launched from master workflow\n",
      "[2022-02-01T22:13:52.297320Z] [64394e9bef86] [25_1] [TaskRunner:removeTmpDir] Task initiated on local node\n",
      "[2022-02-01T22:13:52.413363Z] [64394e9bef86] [25_1] [TaskManager] Completed command task: 'removeTmpDir' launched from master workflow\n",
      "[2022-02-01T22:13:52.414434Z] [64394e9bef86] [25_1] [TaskManager] Launching command task: 'fixVcfHeader_sortCandidateSV' from master workflow\n",
      "[2022-02-01T22:13:52.418130Z] [64394e9bef86] [25_1] [TaskRunner:fixVcfHeader_sortCandidateSV] Task initiated on local node\n",
      "[2022-02-01T22:13:52.530133Z] [64394e9bef86] [25_1] [TaskManager] Completed command task: 'fixVcfHeader_sortCandidateSV' launched from master workflow\n",
      "[2022-02-01T22:13:52.530528Z] [64394e9bef86] [25_1] [TaskManager] Launching sub-workflow task: 'sortCandidateSVInputList' from master workflow\n",
      "[2022-02-01T22:13:52.530904Z] [64394e9bef86] [25_1] [TaskRunner:sortCandidateSVInputList] Starting task specification for sub-workflow\n",
      "[2022-02-01T22:13:52.531258Z] [64394e9bef86] [25_1] [TaskManager] Launching command task: 'fixVcfHeader_sortSomaticSV' from master workflow\n",
      "[2022-02-01T22:13:52.531914Z] [64394e9bef86] [25_1] [TaskRunner:sortCandidateSVInputList] Finished task specification for sub-workflow\n",
      "[2022-02-01T22:13:52.533663Z] [64394e9bef86] [25_1] [TaskManager] Completed sub-workflow task: 'sortCandidateSVInputList' launched from master workflow\n",
      "[2022-02-01T22:13:52.534232Z] [64394e9bef86] [25_1] [TaskRunner:fixVcfHeader_sortSomaticSV] Task initiated on local node\n",
      "[2022-02-01T22:13:52.649251Z] [64394e9bef86] [25_1] [TaskManager] Completed command task: 'fixVcfHeader_sortSomaticSV' launched from master workflow\n",
      "[2022-02-01T22:13:52.649645Z] [64394e9bef86] [25_1] [TaskManager] Launching sub-workflow task: 'sortSomaticSVInputList' from master workflow\n",
      "[2022-02-01T22:13:52.649913Z] [64394e9bef86] [25_1] [TaskRunner:sortSomaticSVInputList] Starting task specification for sub-workflow\n",
      "[2022-02-01T22:13:52.650269Z] [64394e9bef86] [25_1] [TaskManager] Launching command task: 'sort_sortCandidateSV' from master workflow\n",
      "[2022-02-01T22:13:52.651002Z] [64394e9bef86] [25_1] [TaskRunner:sortSomaticSVInputList] Finished task specification for sub-workflow\n",
      "[2022-02-01T22:13:52.652741Z] [64394e9bef86] [25_1] [TaskManager] Completed sub-workflow task: 'sortSomaticSVInputList' launched from master workflow\n",
      "[2022-02-01T22:13:52.653389Z] [64394e9bef86] [25_1] [TaskRunner:sort_sortCandidateSV] Task initiated on local node\n",
      "[2022-02-01T22:13:52.818323Z] [64394e9bef86] [25_1] [TaskManager] Completed command task: 'sort_sortCandidateSV' launched from master workflow\n",
      "[2022-02-01T22:13:52.819060Z] [64394e9bef86] [25_1] [TaskManager] Launching command task: 'sort_sortSomaticSV' from master workflow\n",
      "[2022-02-01T22:13:52.821307Z] [64394e9bef86] [25_1] [TaskRunner:sort_sortSomaticSV] Task initiated on local node\n",
      "[2022-02-01T22:13:52.984580Z] [64394e9bef86] [25_1] [TaskManager] Completed command task: 'sort_sortSomaticSV' launched from master workflow\n",
      "[2022-02-01T22:13:52.985260Z] [64394e9bef86] [25_1] [TaskManager] Launching command task: 'tabix_sortSomaticSV' from master workflow\n",
      "[2022-02-01T22:13:52.987629Z] [64394e9bef86] [25_1] [TaskRunner:tabix_sortSomaticSV] Task initiated on local node\n",
      "[2022-02-01T22:13:53.101000Z] [64394e9bef86] [25_1] [TaskManager] Completed command task: 'tabix_sortSomaticSV' launched from master workflow\n",
      "[2022-02-01T22:13:53.101437Z] [64394e9bef86] [25_1] [TaskManager] Launching command task: 'extractSmallIndels' from master workflow\n",
      "[2022-02-01T22:13:53.103950Z] [64394e9bef86] [25_1] [TaskRunner:extractSmallIndels] Task initiated on local node\n",
      "[2022-02-01T22:13:53.266433Z] [64394e9bef86] [25_1] [TaskManager] Completed command task: 'extractSmallIndels' launched from master workflow\n",
      "[2022-02-01T22:13:53.266861Z] [64394e9bef86] [25_1] [TaskManager] Launching command task: 'extractSmallIndels_tabix' from master workflow\n",
      "[2022-02-01T22:13:53.269266Z] [64394e9bef86] [25_1] [TaskRunner:extractSmallIndels_tabix] Task initiated on local node\n",
      "[2022-02-01T22:13:53.382237Z] [64394e9bef86] [25_1] [TaskManager] Completed command task: 'extractSmallIndels_tabix' launched from master workflow\n",
      "[2022-02-01T22:13:53.382662Z] [64394e9bef86] [25_1] [TaskManager] Launching command task: 'fixVcfHeader_sortDiploidSV' from master workflow\n",
      "[2022-02-01T22:13:53.385038Z] [64394e9bef86] [25_1] [TaskRunner:fixVcfHeader_sortDiploidSV] Task initiated on local node\n",
      "[2022-02-01T22:13:53.497533Z] [64394e9bef86] [25_1] [TaskManager] Completed command task: 'fixVcfHeader_sortDiploidSV' launched from master workflow\n",
      "[2022-02-01T22:13:53.497919Z] [64394e9bef86] [25_1] [TaskManager] Launching sub-workflow task: 'sortDiploidSVInputList' from master workflow\n",
      "[2022-02-01T22:13:53.498187Z] [64394e9bef86] [25_1] [TaskRunner:sortDiploidSVInputList] Starting task specification for sub-workflow\n",
      "[2022-02-01T22:13:53.498661Z] [64394e9bef86] [25_1] [TaskManager] Launching command task: 'sortEdgeRuntimeLogs' from master workflow\n",
      "[2022-02-01T22:13:53.499011Z] [64394e9bef86] [25_1] [TaskRunner:sortDiploidSVInputList] Finished task specification for sub-workflow\n",
      "[2022-02-01T22:13:53.500947Z] [64394e9bef86] [25_1] [TaskManager] Completed sub-workflow task: 'sortDiploidSVInputList' launched from master workflow\n",
      "[2022-02-01T22:13:53.503047Z] [64394e9bef86] [25_1] [TaskRunner:sortEdgeRuntimeLogs] Task initiated on local node\n",
      "[2022-02-01T22:13:53.666250Z] [64394e9bef86] [25_1] [TaskManager] Completed command task: 'sortEdgeRuntimeLogs' launched from master workflow\n",
      "[2022-02-01T22:13:53.666621Z] [64394e9bef86] [25_1] [TaskManager] Launching command task: 'sort_sortDiploidSV' from master workflow\n",
      "[2022-02-01T22:13:53.668940Z] [64394e9bef86] [25_1] [TaskRunner:sort_sortDiploidSV] Task initiated on local node\n",
      "[2022-02-01T22:13:53.932490Z] [64394e9bef86] [25_1] [TaskManager] Completed command task: 'sort_sortDiploidSV' launched from master workflow\n",
      "[2022-02-01T22:13:53.933040Z] [64394e9bef86] [25_1] [TaskManager] Launching command task: 'tabix_sortDiploidSV' from master workflow\n",
      "[2022-02-01T22:13:53.936089Z] [64394e9bef86] [25_1] [TaskRunner:tabix_sortDiploidSV] Task initiated on local node\n",
      "[2022-02-01T22:13:54.048333Z] [64394e9bef86] [25_1] [TaskManager] Completed command task: 'tabix_sortDiploidSV' launched from master workflow\n",
      "[2022-02-01T22:13:54.048662Z] [64394e9bef86] [25_1] [TaskManager] Launching command task: 'tabix_sortCandidateSV' from master workflow\n",
      "[2022-02-01T22:13:54.050869Z] [64394e9bef86] [25_1] [TaskRunner:tabix_sortCandidateSV] Task initiated on local node\n",
      "[2022-02-01T22:13:54.163820Z] [64394e9bef86] [25_1] [TaskManager] Completed command task: 'tabix_sortCandidateSV' launched from master workflow\n",
      "[2022-02-01T22:13:54.164137Z] [64394e9bef86] [25_1] [TaskManager] Launching command task: 'locusGraphStats' from master workflow\n",
      "[2022-02-01T22:13:54.166303Z] [64394e9bef86] [25_1] [TaskRunner:locusGraphStats] Task initiated on local node\n",
      "[2022-02-01T22:13:54.279620Z] [64394e9bef86] [25_1] [TaskManager] Completed command task: 'locusGraphStats' launched from master workflow\n",
      "[2022-02-01T22:13:55.977958Z] [64394e9bef86] [25_1] [WorkflowRunner] Manta workflow successfully completed.\n",
      "[2022-02-01T22:13:55.977958Z] [64394e9bef86] [25_1] [WorkflowRunner] \n",
      "[2022-02-01T22:13:55.977958Z] [64394e9bef86] [25_1] [WorkflowRunner] \tworkflow version: 1.6.0\n",
      "[2022-02-01T22:13:55.978106Z] [64394e9bef86] [25_1] [WorkflowRunner] \n",
      "[2022-02-01T22:13:55.978137Z] [64394e9bef86] [25_1] [WorkflowRunner] Workflow successfully completed all tasks\n",
      "[2022-02-01T22:13:55.978160Z] [64394e9bef86] [25_1] [WorkflowRunner] Elapsed time for full workflow: 5 sec\n"
     ]
    },
    {
     "name": "stderr",
     "output_type": "stream",
     "text": [
      "\n",
      "**** Completed demo workflow execution.\n",
      "\n",
      "\n",
      "**** Starting comparison to expected results.\n",
      "**** Expected results dir: '/home/tool/manta-1.6.0.centos6_x86_64/share/demo/manta/expectedResults'\n",
      "**** Demo results dir: 'MantaDemoAnalysis/results/variants'\n",
      "\n",
      "\n",
      "**** No differences between expected and computed results.\n",
      "\n",
      "\n",
      "**** Demo/verification successfully completed\n",
      "\n",
      "\n",
      "**** Starting demo configuration and run.\n",
      "**** Configuration cmd: './home/tool/strelka-2.9.10.centos6_x86_64/bin/configureStrelkaGermlineWorkflow.py --bam='./home/tool/strelka-2.9.10.centos6_x86_64/bin/../share/demo/strelka/data/NA12891_demo20.bam' --bam='./home/tool/strelka-2.9.10.centos6_x86_64/bin/../share/demo/strelka/data/NA12892_demo20.bam' --referenceFasta='./home/tool/strelka-2.9.10.centos6_x86_64/bin/../share/demo/strelka/data/demo20.fa' --callMemMb=1024 --exome --disableSequenceErrorEstimation --runDir=./strelkaGermlineDemoAnalysis'\n",
      "\n",
      "\n",
      "**** Completed demo configuration.\n",
      "\n",
      "\n",
      "**** Starting demo workflow execution.\n",
      "**** Workflow cmd: './strelkaGermlineDemoAnalysis/runWorkflow.py -m local -j 1 -g 4'\n",
      "\n",
      "[2022-02-01T22:13:56.792068Z] [64394e9bef86] [199_1] [WorkflowRunner] Initiating pyFlow run\n",
      "[2022-02-01T22:13:56.792180Z] [64394e9bef86] [199_1] [WorkflowRunner] pyFlowClientWorkflowClass: StrelkaGermlineWorkflow\n",
      "[2022-02-01T22:13:56.792208Z] [64394e9bef86] [199_1] [WorkflowRunner] pyFlowVersion: 1.1.20\n",
      "[2022-02-01T22:13:56.792260Z] [64394e9bef86] [199_1] [WorkflowRunner] pythonVersion: 2.6.6.final.0\n",
      "[2022-02-01T22:13:56.792271Z] [64394e9bef86] [199_1] [WorkflowRunner] WorkingDir: '/'\n",
      "[2022-02-01T22:13:56.792282Z] [64394e9bef86] [199_1] [WorkflowRunner] ProcessCmdLine: './strelkaGermlineDemoAnalysis/runWorkflow.py -m local -j 1 -g 4'\n",
      "[2022-02-01T22:13:56.792294Z] [64394e9bef86] [199_1] [WorkflowRunner] [RunParameters] mode: local\n",
      "[2022-02-01T22:13:56.792304Z] [64394e9bef86] [199_1] [WorkflowRunner] [RunParameters] nCores: 1\n",
      "[2022-02-01T22:13:56.792313Z] [64394e9bef86] [199_1] [WorkflowRunner] [RunParameters] memMb: 4096\n",
      "[2022-02-01T22:13:56.792323Z] [64394e9bef86] [199_1] [WorkflowRunner] [RunParameters] dataDir: /strelkaGermlineDemoAnalysis/workspace/pyflow.data\n",
      "[2022-02-01T22:13:56.792350Z] [64394e9bef86] [199_1] [WorkflowRunner] [RunParameters] isDryRun: False\n",
      "[2022-02-01T22:13:56.792383Z] [64394e9bef86] [199_1] [WorkflowRunner] [RunParameters] isContinue: False\n",
      "[2022-02-01T22:13:56.792392Z] [64394e9bef86] [199_1] [WorkflowRunner] [RunParameters] isForceContinue: True\n",
      "[2022-02-01T22:13:56.792421Z] [64394e9bef86] [199_1] [WorkflowRunner] [RunParameters] mailTo: ''\n",
      "[2022-02-01T22:13:56.793105Z] [64394e9bef86] [199_1] [TaskRunner:masterWorkflow] Starting task specification for master workflow\n",
      "[2022-02-01T22:13:56.793422Z] [64394e9bef86] [199_1] [StrelkaGermlineWorkflow] Initiating Strelka germline workflow version: 2.9.10\n",
      "[2022-02-01T22:13:56.794297Z] [64394e9bef86] [199_1] [WorkflowRunner] Adding sub-workflow task 'CallGenome' to master workflow\n",
      "[2022-02-01T22:13:56.794990Z] [64394e9bef86] [199_1] [TaskManager] Launching sub-workflow task: 'CallGenome' from master workflow\n",
      "[2022-02-01T22:13:56.795248Z] [64394e9bef86] [199_1] [TaskRunner:CallGenome] Starting task specification for sub-workflow\n",
      "[2022-02-01T22:13:56.796104Z] [64394e9bef86] [199_1] [TaskRunner:masterWorkflow] Finished task specification for master workflow\n",
      "[2022-02-01T22:13:56.796393Z] [64394e9bef86] [199_1] [WorkflowRunner] Adding command task 'CallGenome+makeTmpDir' to sub-workflow 'CallGenome'\n",
      "[2022-02-01T22:13:56.797044Z] [64394e9bef86] [199_1] [WorkflowRunner] Adding command task 'CallGenome+callGenomeSegment_chromId_000_demo20_0000' to sub-workflow 'CallGenome'\n",
      "[2022-02-01T22:13:56.797348Z] [64394e9bef86] [199_1] [WorkflowRunner] Adding command task 'CallGenome+compressGenomeSegment_chromId_000_demo20_0000_variants' to sub-workflow 'CallGenome'\n",
      "[2022-02-01T22:13:56.797721Z] [64394e9bef86] [199_1] [WorkflowRunner] Adding command task 'CallGenome+compressGenomeSegment_chromId_000_demo20_0000_gVCF_S1' to sub-workflow 'CallGenome'\n",
      "[2022-02-01T22:13:56.798399Z] [64394e9bef86] [199_1] [WorkflowRunner] Adding command task 'CallGenome+compressGenomeSegment_chromId_000_demo20_0000_gVCF_S2' to sub-workflow 'CallGenome'\n",
      "[2022-02-01T22:13:56.798679Z] [64394e9bef86] [199_1] [WorkflowRunner] Adding command task 'CallGenome+completedAllGenomeSegments' to sub-workflow 'CallGenome'\n",
      "[2022-02-01T22:13:56.799051Z] [64394e9bef86] [199_1] [WorkflowRunner] Adding command task 'CallGenome+variants_concat_vcf' to sub-workflow 'CallGenome'\n",
      "[2022-02-01T22:13:56.799407Z] [64394e9bef86] [199_1] [WorkflowRunner] Adding command task 'CallGenome+variants_index_vcf' to sub-workflow 'CallGenome'\n",
      "[2022-02-01T22:13:56.799904Z] [64394e9bef86] [199_1] [TaskManager] Launching command task: 'CallGenome+makeTmpDir' from sub-workflow 'CallGenome'\n",
      "[2022-02-01T22:13:56.800320Z] [64394e9bef86] [199_1] [WorkflowRunner] Adding command task 'CallGenome+gVCF_S1_concat_vcf' to sub-workflow 'CallGenome'\n",
      "[2022-02-01T22:13:56.801162Z] [64394e9bef86] [199_1] [WorkflowRunner] Adding command task 'CallGenome+gVCF_S1_index_vcf' to sub-workflow 'CallGenome'\n",
      "[2022-02-01T22:13:56.803316Z] [64394e9bef86] [199_1] [WorkflowRunner] Adding command task 'CallGenome+addLegacyOutputLink' to sub-workflow 'CallGenome'\n",
      "[2022-02-01T22:13:56.803800Z] [64394e9bef86] [199_1] [TaskRunner:CallGenome+makeTmpDir] Task initiated on local node\n",
      "[2022-02-01T22:13:56.804509Z] [64394e9bef86] [199_1] [WorkflowRunner] Adding command task 'CallGenome+gVCF_S2_concat_vcf' to sub-workflow 'CallGenome'\n",
      "[2022-02-01T22:13:56.804839Z] [64394e9bef86] [199_1] [WorkflowRunner] Adding command task 'CallGenome+gVCF_S2_index_vcf' to sub-workflow 'CallGenome'\n",
      "[2022-02-01T22:13:56.805154Z] [64394e9bef86] [199_1] [WorkflowRunner] Adding command task 'CallGenome+mergeRunStats' to sub-workflow 'CallGenome'\n",
      "[2022-02-01T22:13:56.805381Z] [64394e9bef86] [199_1] [WorkflowRunner] Adding command task 'CallGenome+removeTmpDir' to sub-workflow 'CallGenome'\n",
      "[2022-02-01T22:13:56.805624Z] [64394e9bef86] [199_1] [TaskRunner:CallGenome] Finished task specification for sub-workflow\n",
      "[2022-02-01T22:13:56.921491Z] [64394e9bef86] [199_1] [TaskManager] Completed command task: 'CallGenome+makeTmpDir' launched from sub-workflow 'CallGenome'\n",
      "[2022-02-01T22:13:56.922023Z] [64394e9bef86] [199_1] [TaskManager] Launching command task: 'CallGenome+callGenomeSegment_chromId_000_demo20_0000' from sub-workflow 'CallGenome'\n",
      "[2022-02-01T22:13:56.924581Z] [64394e9bef86] [199_1] [TaskRunner:CallGenome+callGenomeSegment_chromId_000_demo20_0000] Task initiated on local node\n",
      "[2022-02-01T22:13:57.138767Z] [64394e9bef86] [199_1] [TaskManager] Completed command task: 'CallGenome+callGenomeSegment_chromId_000_demo20_0000' launched from sub-workflow 'CallGenome'\n",
      "[2022-02-01T22:13:57.139867Z] [64394e9bef86] [199_1] [TaskManager] Launching command task: 'CallGenome+compressGenomeSegment_chromId_000_demo20_0000_gVCF_S1' from sub-workflow 'CallGenome'\n",
      "[2022-02-01T22:13:57.143534Z] [64394e9bef86] [199_1] [TaskRunner:CallGenome+compressGenomeSegment_chromId_000_demo20_0000_gVCF_S1] Task initiated on local node\n",
      "[2022-02-01T22:13:57.256092Z] [64394e9bef86] [199_1] [TaskManager] Completed command task: 'CallGenome+compressGenomeSegment_chromId_000_demo20_0000_gVCF_S1' launched from sub-workflow 'CallGenome'\n",
      "[2022-02-01T22:13:57.256496Z] [64394e9bef86] [199_1] [TaskManager] Launching command task: 'CallGenome+compressGenomeSegment_chromId_000_demo20_0000_gVCF_S2' from sub-workflow 'CallGenome'\n",
      "[2022-02-01T22:13:57.258622Z] [64394e9bef86] [199_1] [TaskRunner:CallGenome+compressGenomeSegment_chromId_000_demo20_0000_gVCF_S2] Task initiated on local node\n",
      "[2022-02-01T22:13:57.371148Z] [64394e9bef86] [199_1] [TaskManager] Completed command task: 'CallGenome+compressGenomeSegment_chromId_000_demo20_0000_gVCF_S2' launched from sub-workflow 'CallGenome'\n",
      "[2022-02-01T22:13:57.371610Z] [64394e9bef86] [199_1] [TaskManager] Launching command task: 'CallGenome+compressGenomeSegment_chromId_000_demo20_0000_variants' from sub-workflow 'CallGenome'\n",
      "[2022-02-01T22:13:57.374048Z] [64394e9bef86] [199_1] [TaskRunner:CallGenome+compressGenomeSegment_chromId_000_demo20_0000_variants] Task initiated on local node\n",
      "[2022-02-01T22:13:57.486492Z] [64394e9bef86] [199_1] [TaskManager] Completed command task: 'CallGenome+compressGenomeSegment_chromId_000_demo20_0000_variants' launched from sub-workflow 'CallGenome'\n",
      "[2022-02-01T22:13:57.486829Z] [64394e9bef86] [199_1] [TaskManager] Completed command task: 'CallGenome+completedAllGenomeSegments' launched from sub-workflow 'CallGenome'\n",
      "[2022-02-01T22:13:57.487039Z] [64394e9bef86] [199_1] [TaskManager] Launching command task: 'CallGenome+gVCF_S1_concat_vcf' from sub-workflow 'CallGenome'\n",
      "[2022-02-01T22:13:57.489124Z] [64394e9bef86] [199_1] [TaskRunner:CallGenome+gVCF_S1_concat_vcf] Task initiated on local node\n",
      "[2022-02-01T22:13:57.602934Z] [64394e9bef86] [199_1] [TaskManager] Completed command task: 'CallGenome+gVCF_S1_concat_vcf' launched from sub-workflow 'CallGenome'\n",
      "[2022-02-01T22:13:57.603576Z] [64394e9bef86] [199_1] [TaskManager] Launching command task: 'CallGenome+gVCF_S1_index_vcf' from sub-workflow 'CallGenome'\n",
      "[2022-02-01T22:13:57.607008Z] [64394e9bef86] [199_1] [TaskRunner:CallGenome+gVCF_S1_index_vcf] Task initiated on local node\n",
      "[2022-02-01T22:13:57.719527Z] [64394e9bef86] [199_1] [TaskManager] Completed command task: 'CallGenome+gVCF_S1_index_vcf' launched from sub-workflow 'CallGenome'\n",
      "[2022-02-01T22:13:57.720016Z] [64394e9bef86] [199_1] [TaskManager] Launching command task: 'CallGenome+addLegacyOutputLink' from sub-workflow 'CallGenome'\n",
      "[2022-02-01T22:13:57.722309Z] [64394e9bef86] [199_1] [TaskRunner:CallGenome+addLegacyOutputLink] Task initiated on local node\n",
      "[2022-02-01T22:13:57.835432Z] [64394e9bef86] [199_1] [TaskManager] Completed command task: 'CallGenome+addLegacyOutputLink' launched from sub-workflow 'CallGenome'\n",
      "[2022-02-01T22:13:57.835899Z] [64394e9bef86] [199_1] [TaskManager] Launching command task: 'CallGenome+gVCF_S2_concat_vcf' from sub-workflow 'CallGenome'\n",
      "[2022-02-01T22:13:57.838530Z] [64394e9bef86] [199_1] [TaskRunner:CallGenome+gVCF_S2_concat_vcf] Task initiated on local node\n",
      "[2022-02-01T22:13:57.951698Z] [64394e9bef86] [199_1] [TaskManager] Completed command task: 'CallGenome+gVCF_S2_concat_vcf' launched from sub-workflow 'CallGenome'\n"
     ]
    },
    {
     "name": "stderr",
     "output_type": "stream",
     "text": [
      "[2022-02-01T22:13:57.952243Z] [64394e9bef86] [199_1] [TaskManager] Launching command task: 'CallGenome+gVCF_S2_index_vcf' from sub-workflow 'CallGenome'\n",
      "[2022-02-01T22:13:57.955621Z] [64394e9bef86] [199_1] [TaskRunner:CallGenome+gVCF_S2_index_vcf] Task initiated on local node\n",
      "[2022-02-01T22:13:58.068169Z] [64394e9bef86] [199_1] [TaskManager] Completed command task: 'CallGenome+gVCF_S2_index_vcf' launched from sub-workflow 'CallGenome'\n",
      "[2022-02-01T22:13:58.068564Z] [64394e9bef86] [199_1] [TaskManager] Launching command task: 'CallGenome+variants_concat_vcf' from sub-workflow 'CallGenome'\n",
      "[2022-02-01T22:13:58.070953Z] [64394e9bef86] [199_1] [TaskRunner:CallGenome+variants_concat_vcf] Task initiated on local node\n",
      "[2022-02-01T22:13:58.184996Z] [64394e9bef86] [199_1] [TaskManager] Completed command task: 'CallGenome+variants_concat_vcf' launched from sub-workflow 'CallGenome'\n",
      "[2022-02-01T22:13:58.185637Z] [64394e9bef86] [199_1] [TaskManager] Launching command task: 'CallGenome+variants_index_vcf' from sub-workflow 'CallGenome'\n",
      "[2022-02-01T22:13:58.188769Z] [64394e9bef86] [199_1] [TaskRunner:CallGenome+variants_index_vcf] Task initiated on local node\n",
      "[2022-02-01T22:13:58.301075Z] [64394e9bef86] [199_1] [TaskManager] Completed command task: 'CallGenome+variants_index_vcf' launched from sub-workflow 'CallGenome'\n",
      "[2022-02-01T22:13:58.301462Z] [64394e9bef86] [199_1] [TaskManager] Launching command task: 'CallGenome+mergeRunStats' from sub-workflow 'CallGenome'\n",
      "[2022-02-01T22:13:58.304097Z] [64394e9bef86] [199_1] [TaskRunner:CallGenome+mergeRunStats] Task initiated on local node\n",
      "[2022-02-01T22:13:58.418165Z] [64394e9bef86] [199_1] [TaskManager] Completed command task: 'CallGenome+mergeRunStats' launched from sub-workflow 'CallGenome'\n",
      "[2022-02-01T22:13:58.418899Z] [64394e9bef86] [199_1] [TaskManager] Launching command task: 'CallGenome+removeTmpDir' from sub-workflow 'CallGenome'\n",
      "[2022-02-01T22:13:58.422122Z] [64394e9bef86] [199_1] [TaskRunner:CallGenome+removeTmpDir] Task initiated on local node\n",
      "[2022-02-01T22:13:58.534297Z] [64394e9bef86] [199_1] [TaskManager] Completed command task: 'CallGenome+removeTmpDir' launched from sub-workflow 'CallGenome'\n",
      "[2022-02-01T22:13:59.522151Z] [64394e9bef86] [199_1] [TaskManager] Completed sub-workflow task: 'CallGenome' launched from master workflow\n",
      "[2022-02-01T22:14:02.407280Z] [64394e9bef86] [199_1] [WorkflowRunner] Strelka germline workflow successfully completed.\n",
      "[2022-02-01T22:14:02.407280Z] [64394e9bef86] [199_1] [WorkflowRunner] \n",
      "[2022-02-01T22:14:02.407280Z] [64394e9bef86] [199_1] [WorkflowRunner] \tworkflow version: 2.9.10\n",
      "[2022-02-01T22:14:02.407372Z] [64394e9bef86] [199_1] [WorkflowRunner] \n",
      "[2022-02-01T22:14:02.407390Z] [64394e9bef86] [199_1] [WorkflowRunner] Workflow successfully completed all tasks\n",
      "[2022-02-01T22:14:02.407409Z] [64394e9bef86] [199_1] [WorkflowRunner] Elapsed time for full workflow: 5 sec\n",
      "\n",
      "**** Completed demo workflow execution.\n",
      "\n",
      "\n",
      "**** Demo/verification successfully completed\n",
      "\n",
      "\n",
      "**** Starting demo configuration and run.\n",
      "**** Configuration cmd: './home/tool/strelka-2.9.10.centos6_x86_64/bin/configureStrelkaSomaticWorkflow.py --tumorBam='./home/tool/strelka-2.9.10.centos6_x86_64/bin/../share/demo/strelka/data/NA12891_demo20.bam' --normalBam='./home/tool/strelka-2.9.10.centos6_x86_64/bin/../share/demo/strelka/data/NA12892_demo20.bam' --referenceFasta='./home/tool/strelka-2.9.10.centos6_x86_64/bin/../share/demo/strelka/data/demo20.fa' --callMemMb=1024 --exome --runDir=./strelkaSomaticDemoAnalysis'\n",
      "\n",
      "\n",
      "**** Completed demo configuration.\n",
      "\n",
      "\n",
      "**** Starting demo workflow execution.\n",
      "**** Workflow cmd: './strelkaSomaticDemoAnalysis/runWorkflow.py -m local -j 1 -g 4'\n",
      "\n",
      "[2022-02-01T22:14:03.057200Z] [64394e9bef86] [302_1] [WorkflowRunner] Initiating pyFlow run\n",
      "[2022-02-01T22:14:03.057275Z] [64394e9bef86] [302_1] [WorkflowRunner] pyFlowClientWorkflowClass: StrelkaSomaticWorkflow\n",
      "[2022-02-01T22:14:03.057292Z] [64394e9bef86] [302_1] [WorkflowRunner] pyFlowVersion: 1.1.20\n",
      "[2022-02-01T22:14:03.057304Z] [64394e9bef86] [302_1] [WorkflowRunner] pythonVersion: 2.6.6.final.0\n",
      "[2022-02-01T22:14:03.057313Z] [64394e9bef86] [302_1] [WorkflowRunner] WorkingDir: '/'\n",
      "[2022-02-01T22:14:03.057324Z] [64394e9bef86] [302_1] [WorkflowRunner] ProcessCmdLine: './strelkaSomaticDemoAnalysis/runWorkflow.py -m local -j 1 -g 4'\n",
      "[2022-02-01T22:14:03.057336Z] [64394e9bef86] [302_1] [WorkflowRunner] [RunParameters] mode: local\n",
      "[2022-02-01T22:14:03.057345Z] [64394e9bef86] [302_1] [WorkflowRunner] [RunParameters] nCores: 1\n",
      "[2022-02-01T22:14:03.057358Z] [64394e9bef86] [302_1] [WorkflowRunner] [RunParameters] memMb: 4096\n",
      "[2022-02-01T22:14:03.057380Z] [64394e9bef86] [302_1] [WorkflowRunner] [RunParameters] dataDir: /strelkaSomaticDemoAnalysis/workspace/pyflow.data\n",
      "[2022-02-01T22:14:03.057396Z] [64394e9bef86] [302_1] [WorkflowRunner] [RunParameters] isDryRun: False\n",
      "[2022-02-01T22:14:03.057420Z] [64394e9bef86] [302_1] [WorkflowRunner] [RunParameters] isContinue: False\n",
      "[2022-02-01T22:14:03.057465Z] [64394e9bef86] [302_1] [WorkflowRunner] [RunParameters] isForceContinue: True\n",
      "[2022-02-01T22:14:03.057489Z] [64394e9bef86] [302_1] [WorkflowRunner] [RunParameters] mailTo: ''\n",
      "[2022-02-01T22:14:03.058213Z] [64394e9bef86] [302_1] [TaskRunner:masterWorkflow] Starting task specification for master workflow\n",
      "[2022-02-01T22:14:03.058393Z] [64394e9bef86] [302_1] [StrelkaSomaticWorkflow] Initiating Strelka somatic workflow version: 2.9.10\n",
      "[2022-02-01T22:14:03.059183Z] [64394e9bef86] [302_1] [WorkflowRunner] Adding sub-workflow task 'CallGenome' to master workflow\n",
      "[2022-02-01T22:14:03.059927Z] [64394e9bef86] [302_1] [TaskManager] Launching sub-workflow task: 'CallGenome' from master workflow\n",
      "[2022-02-01T22:14:03.060187Z] [64394e9bef86] [302_1] [TaskRunner:masterWorkflow] Finished task specification for master workflow\n",
      "[2022-02-01T22:14:03.060581Z] [64394e9bef86] [302_1] [TaskRunner:CallGenome] Starting task specification for sub-workflow\n",
      "[2022-02-01T22:14:03.061210Z] [64394e9bef86] [302_1] [WorkflowRunner] Adding command task 'CallGenome+makeTmpDir' to sub-workflow 'CallGenome'\n",
      "[2022-02-01T22:14:03.062160Z] [64394e9bef86] [302_1] [WorkflowRunner] Adding command task 'CallGenome+callGenomeSegment_chromId_000_demo20_0000' to sub-workflow 'CallGenome'\n",
      "[2022-02-01T22:14:03.063013Z] [64394e9bef86] [302_1] [TaskManager] Launching command task: 'CallGenome+makeTmpDir' from sub-workflow 'CallGenome'\n",
      "[2022-02-01T22:14:03.063594Z] [64394e9bef86] [302_1] [WorkflowRunner] Adding command task 'CallGenome+fixVcfHeader_chromId_000_demo20_0000' to sub-workflow 'CallGenome'\n",
      "[2022-02-01T22:14:03.064307Z] [64394e9bef86] [302_1] [WorkflowRunner] Adding command task 'CallGenome+compressSegmentOutput_chromId_000_demo20_0000' to sub-workflow 'CallGenome'\n",
      "[2022-02-01T22:14:03.065094Z] [64394e9bef86] [302_1] [WorkflowRunner] Adding command task 'CallGenome+completedAllGenomeSegments' to sub-workflow 'CallGenome'\n",
      "[2022-02-01T22:14:03.067927Z] [64394e9bef86] [302_1] [WorkflowRunner] Adding command task 'CallGenome+SNV_concat_vcf' to sub-workflow 'CallGenome'\n",
      "[2022-02-01T22:14:03.069136Z] [64394e9bef86] [302_1] [WorkflowRunner] Adding command task 'CallGenome+SNV_index_vcf' to sub-workflow 'CallGenome'\n",
      "[2022-02-01T22:14:03.069952Z] [64394e9bef86] [302_1] [TaskRunner:CallGenome+makeTmpDir] Task initiated on local node\n",
      "[2022-02-01T22:14:03.070270Z] [64394e9bef86] [302_1] [WorkflowRunner] Adding command task 'CallGenome+Indel_concat_vcf' to sub-workflow 'CallGenome'\n",
      "[2022-02-01T22:14:03.070755Z] [64394e9bef86] [302_1] [WorkflowRunner] Adding command task 'CallGenome+Indel_index_vcf' to sub-workflow 'CallGenome'\n",
      "[2022-02-01T22:14:03.071367Z] [64394e9bef86] [302_1] [WorkflowRunner] Adding command task 'CallGenome+mergeRunStats' to sub-workflow 'CallGenome'\n",
      "[2022-02-01T22:14:03.072239Z] [64394e9bef86] [302_1] [WorkflowRunner] Adding command task 'CallGenome+removeTmpDir' to sub-workflow 'CallGenome'\n",
      "[2022-02-01T22:14:03.072678Z] [64394e9bef86] [302_1] [TaskRunner:CallGenome] Finished task specification for sub-workflow\n",
      "[2022-02-01T22:14:03.190533Z] [64394e9bef86] [302_1] [TaskManager] Completed command task: 'CallGenome+makeTmpDir' launched from sub-workflow 'CallGenome'\n",
      "[2022-02-01T22:14:03.191563Z] [64394e9bef86] [302_1] [TaskManager] Launching command task: 'CallGenome+callGenomeSegment_chromId_000_demo20_0000' from sub-workflow 'CallGenome'\n",
      "[2022-02-01T22:14:03.195564Z] [64394e9bef86] [302_1] [TaskRunner:CallGenome+callGenomeSegment_chromId_000_demo20_0000] Task initiated on local node\n",
      "[2022-02-01T22:14:03.410218Z] [64394e9bef86] [302_1] [TaskManager] Completed command task: 'CallGenome+callGenomeSegment_chromId_000_demo20_0000' launched from sub-workflow 'CallGenome'\n",
      "[2022-02-01T22:14:03.410666Z] [64394e9bef86] [302_1] [TaskManager] Launching command task: 'CallGenome+fixVcfHeader_chromId_000_demo20_0000' from sub-workflow 'CallGenome'\n",
      "[2022-02-01T22:14:03.413227Z] [64394e9bef86] [302_1] [TaskRunner:CallGenome+fixVcfHeader_chromId_000_demo20_0000] Task initiated on local node\n",
      "[2022-02-01T22:14:03.525740Z] [64394e9bef86] [302_1] [TaskManager] Completed command task: 'CallGenome+fixVcfHeader_chromId_000_demo20_0000' launched from sub-workflow 'CallGenome'\n",
      "[2022-02-01T22:14:03.526125Z] [64394e9bef86] [302_1] [TaskManager] Launching command task: 'CallGenome+compressSegmentOutput_chromId_000_demo20_0000' from sub-workflow 'CallGenome'\n",
      "[2022-02-01T22:14:03.528404Z] [64394e9bef86] [302_1] [TaskRunner:CallGenome+compressSegmentOutput_chromId_000_demo20_0000] Task initiated on local node\n",
      "[2022-02-01T22:14:03.641284Z] [64394e9bef86] [302_1] [TaskManager] Completed command task: 'CallGenome+compressSegmentOutput_chromId_000_demo20_0000' launched from sub-workflow 'CallGenome'\n",
      "[2022-02-01T22:14:03.641633Z] [64394e9bef86] [302_1] [TaskManager] Completed command task: 'CallGenome+completedAllGenomeSegments' launched from sub-workflow 'CallGenome'\n",
      "[2022-02-01T22:14:03.641904Z] [64394e9bef86] [302_1] [TaskManager] Launching command task: 'CallGenome+mergeRunStats' from sub-workflow 'CallGenome'\n",
      "[2022-02-01T22:14:03.644494Z] [64394e9bef86] [302_1] [TaskRunner:CallGenome+mergeRunStats] Task initiated on local node\n",
      "[2022-02-01T22:14:03.758934Z] [64394e9bef86] [302_1] [TaskManager] Completed command task: 'CallGenome+mergeRunStats' launched from sub-workflow 'CallGenome'\n"
     ]
    },
    {
     "name": "stdout",
     "output_type": "stream",
     "text": [
      " Successfully created workflow run script. To execute the workflow, run the following script and set appropriate options:  /MantaDemoAnalysis/runWorkflow.py\n",
      "\n",
      " Successfully created workflow run script. To execute the workflow, run the following script and set appropriate options:  /strelkaGermlineDemoAnalysis/runWorkflow.py\n",
      "\n",
      " Successfully created workflow run script. To execute the workflow, run the following script and set appropriate options:  /strelkaSomaticDemoAnalysis/runWorkflow.py\n",
      "\n",
      "Vector{String}\n",
      "64394e9bef860138712aa4b3b3504da5277ec4324965e40bf56eda3b7d7341dc\n",
      "64394e9bef860138712aa4b3b3504da5277ec4324965e40bf56eda3b7d7341dc\n"
     ]
    },
    {
     "name": "stderr",
     "output_type": "stream",
     "text": [
      "[2022-02-01T22:14:03.759689Z] [64394e9bef86] [302_1] [TaskManager] Launching command task: 'CallGenome+Indel_concat_vcf' from sub-workflow 'CallGenome'\n",
      "[2022-02-01T22:14:03.763481Z] [64394e9bef86] [302_1] [TaskRunner:CallGenome+Indel_concat_vcf] Task initiated on local node\n",
      "[2022-02-01T22:14:03.876870Z] [64394e9bef86] [302_1] [TaskManager] Completed command task: 'CallGenome+Indel_concat_vcf' launched from sub-workflow 'CallGenome'\n",
      "[2022-02-01T22:14:03.877660Z] [64394e9bef86] [302_1] [TaskManager] Launching command task: 'CallGenome+Indel_index_vcf' from sub-workflow 'CallGenome'\n",
      "[2022-02-01T22:14:03.881029Z] [64394e9bef86] [302_1] [TaskRunner:CallGenome+Indel_index_vcf] Task initiated on local node\n",
      "[2022-02-01T22:14:03.993732Z] [64394e9bef86] [302_1] [TaskManager] Completed command task: 'CallGenome+Indel_index_vcf' launched from sub-workflow 'CallGenome'\n",
      "[2022-02-01T22:14:03.994464Z] [64394e9bef86] [302_1] [TaskManager] Launching command task: 'CallGenome+SNV_concat_vcf' from sub-workflow 'CallGenome'\n",
      "[2022-02-01T22:14:03.998044Z] [64394e9bef86] [302_1] [TaskRunner:CallGenome+SNV_concat_vcf] Task initiated on local node\n",
      "[2022-02-01T22:14:04.110557Z] [64394e9bef86] [302_1] [TaskManager] Completed command task: 'CallGenome+SNV_concat_vcf' launched from sub-workflow 'CallGenome'\n",
      "[2022-02-01T22:14:04.111233Z] [64394e9bef86] [302_1] [TaskManager] Launching command task: 'CallGenome+SNV_index_vcf' from sub-workflow 'CallGenome'\n",
      "[2022-02-01T22:14:04.115116Z] [64394e9bef86] [302_1] [TaskRunner:CallGenome+SNV_index_vcf] Task initiated on local node\n",
      "[2022-02-01T22:14:04.228177Z] [64394e9bef86] [302_1] [TaskManager] Completed command task: 'CallGenome+SNV_index_vcf' launched from sub-workflow 'CallGenome'\n",
      "[2022-02-01T22:14:04.228934Z] [64394e9bef86] [302_1] [TaskManager] Launching command task: 'CallGenome+removeTmpDir' from sub-workflow 'CallGenome'\n",
      "[2022-02-01T22:14:04.232465Z] [64394e9bef86] [302_1] [TaskRunner:CallGenome+removeTmpDir] Task initiated on local node\n",
      "[2022-02-01T22:14:04.344874Z] [64394e9bef86] [302_1] [TaskManager] Completed command task: 'CallGenome+removeTmpDir' launched from sub-workflow 'CallGenome'\n",
      "[2022-02-01T22:14:05.825149Z] [64394e9bef86] [302_1] [TaskManager] Completed sub-workflow task: 'CallGenome' launched from master workflow\n",
      "[2022-02-01T22:14:08.663141Z] [64394e9bef86] [302_1] [WorkflowRunner] Strelka somatic workflow successfully completed.\n",
      "[2022-02-01T22:14:08.663141Z] [64394e9bef86] [302_1] [WorkflowRunner] \n",
      "[2022-02-01T22:14:08.663141Z] [64394e9bef86] [302_1] [WorkflowRunner] \tworkflow version: 2.9.10\n",
      "[2022-02-01T22:14:08.663321Z] [64394e9bef86] [302_1] [WorkflowRunner] \n",
      "[2022-02-01T22:14:08.663360Z] [64394e9bef86] [302_1] [WorkflowRunner] Workflow successfully completed all tasks\n",
      "[2022-02-01T22:14:08.663389Z] [64394e9bef86] [302_1] [WorkflowRunner] Elapsed time for full workflow: 5 sec\n",
      "\n",
      "**** Completed demo workflow execution.\n",
      "\n",
      "\n",
      "**** Starting comparison to expected results.\n",
      "**** Expected results dir: ./home/tool/strelka-2.9.10.centos6_x86_64/bin/../share/demo/strelka/expectedResults\n",
      "**** Demo results dir: ./strelkaSomaticDemoAnalysis/results/variants\n",
      "\n",
      "\n",
      "**** No differences between expected and computed results.\n",
      "\n",
      "\n",
      "**** Demo/verification successfully completed\n",
      "\n"
     ]
    }
   ],
   "source": [
    "Fastq.test_strelka_and_manta(to)"
   ]
  },
  {
   "cell_type": "markdown",
   "id": "4106f56f",
   "metadata": {},
   "source": [
    "## find"
   ]
  },
  {
   "cell_type": "code",
   "execution_count": 10,
   "id": "97bfa424",
   "metadata": {},
   "outputs": [
    {
     "name": "stdout",
     "output_type": "stream",
     "text": [
      "File types found in ../test/data/:\n",
      "\n",
      "\"fq.gz\" => 0\n",
      "\"fastq.gz\" => 4\n",
      "\".fq\" => 0\n",
      "\".fastq\" => 0\n",
      "\n",
      "Size of gzipped files:\n",
      "\n",
      "File ../test/data/test_cdna_4k.R1.fastq.gz is: 276.464 KiB\n",
      "File ../test/data/test_cdna_4k.R2.fastq.gz is: 283.787 KiB\n",
      "File ../test/data/test_dna_4k.R1.fastq.gz is: 287.457 KiB\n",
      "File ../test/data/test_dna_4k.R2.fastq.gz is: 316.618 KiB\n"
     ]
    },
    {
     "data": {
      "text/plain": [
       "4-element Vector{Any}:\n",
       " \"../test/data/test_cdna_4k.R1.fastq.gz\"\n",
       " \"../test/data/test_cdna_4k.R2.fastq.gz\"\n",
       " \"../test/data/test_dna_4k.R1.fastq.gz\"\n",
       " \"../test/data/test_dna_4k.R2.fastq.gz\""
      ]
     },
     "execution_count": 10,
     "metadata": {},
     "output_type": "execute_result"
    }
   ],
   "source": [
    "di = \"../test/data/\"\n",
    "\n",
    "re_ = Fastq.find(di)"
   ]
  },
  {
   "cell_type": "markdown",
   "id": "d777573f",
   "metadata": {},
   "source": [
    "## check_read"
   ]
  },
  {
   "cell_type": "code",
   "execution_count": 11,
   "id": "d0ba42ae",
   "metadata": {},
   "outputs": [
    {
     "name": "stdout",
     "output_type": "stream",
     "text": [
      "Running FastQC ...\n",
      "Analysis complete for test_cdna_4k.R1.fastq.gz\n",
      "Analysis complete for test_cdna_4k.R2.fastq.gz\n",
      "Analysis complete for test_dna_4k.R1.fastq.gz\n",
      "Analysis complete for test_dna_4k.R2.fastq.gz\n",
      "Running MultiQC ...\n",
      "|         searching | ━━━━━━━━━━━━━━━━━━━━━━━━━━━━━━━━━━━━━━━━ 100% 8/8  \n"
     ]
    },
    {
     "name": "stderr",
     "output_type": "stream",
     "text": [
      "Started analysis of test_cdna_4k.R1.fastq.gz\n",
      "Approx 25% complete for test_cdna_4k.R1.fastq.gz\n",
      "Approx 45% complete for test_cdna_4k.R1.fastq.gz\n",
      "Approx 75% complete for test_cdna_4k.R1.fastq.gz\n",
      "Approx 100% complete for test_cdna_4k.R1.fastq.gz\n",
      "Started analysis of test_cdna_4k.R2.fastq.gz\n",
      "Approx 25% complete for test_cdna_4k.R2.fastq.gz\n",
      "Approx 45% complete for test_cdna_4k.R2.fastq.gz\n",
      "Approx 75% complete for test_cdna_4k.R2.fastq.gz\n",
      "Approx 100% complete for test_cdna_4k.R2.fastq.gz\n",
      "Started analysis of test_dna_4k.R1.fastq.gz\n",
      "Approx 25% complete for test_dna_4k.R1.fastq.gz\n",
      "Approx 50% complete for test_dna_4k.R1.fastq.gz\n",
      "Approx 75% complete for test_dna_4k.R1.fastq.gz\n",
      "Approx 100% complete for test_dna_4k.R1.fastq.gz\n",
      "Started analysis of test_dna_4k.R2.fastq.gz\n",
      "Approx 25% complete for test_dna_4k.R2.fastq.gz\n",
      "Approx 50% complete for test_dna_4k.R2.fastq.gz\n",
      "Approx 75% complete for test_dna_4k.R2.fastq.gz\n",
      "Approx 100% complete for test_dna_4k.R2.fastq.gz\n",
      "\n",
      "  /// MultiQC 🔍 | v1.11\n",
      "\n",
      "|           multiqc | Search path : /var/folders/z_/r2n_rt396917fl9qm_t5h7jm0000gn/T/Fastq.test/check_raw\n",
      "|            fastqc | Found 4 reports\n",
      "|           multiqc | Compressing plot data\n",
      "|           multiqc | Report      : ../../../../../../var/folders/z_/r2n_rt396917fl9qm_t5h7jm0000gn/T/Fastq.test/check_raw/multiqc_report.html\n",
      "|           multiqc | Data        : ../../../../../../var/folders/z_/r2n_rt396917fl9qm_t5h7jm0000gn/T/Fastq.test/check_raw/multiqc_data\n",
      "|           multiqc | MultiQC complete\n"
     ]
    }
   ],
   "source": [
    "pa = joinpath(TE, \"check_raw\")\n",
    "\n",
    "Fastq.check_read(re_, pa, n_jo)"
   ]
  },
  {
   "cell_type": "markdown",
   "id": "bedf1d8d",
   "metadata": {},
   "source": [
    "## concatenate"
   ]
  },
  {
   "cell_type": "code",
   "execution_count": 12,
   "id": "601c65ca",
   "metadata": {},
   "outputs": [
    {
     "name": "stdout",
     "output_type": "stream",
     "text": [
      "Number of forward read files found = 2\n",
      "Number of reverse read files found = 2\n",
      "\n",
      "Concatenating ...\n",
      "\n",
      "Concatenated files saved at: ../test/data_concat\n"
     ]
    }
   ],
   "source": [
    "Fastq.concatenate(re_, \"R1\")"
   ]
  },
  {
   "cell_type": "markdown",
   "id": "6847b17a",
   "metadata": {},
   "source": [
    "## trim"
   ]
  },
  {
   "cell_type": "code",
   "execution_count": 13,
   "id": "c9eca6a5",
   "metadata": {},
   "outputs": [
    {
     "name": "stdout",
     "output_type": "stream",
     "text": [
      "Trimming...\n"
     ]
    },
    {
     "name": "stderr",
     "output_type": "stream",
     "text": [
      "Detecting adapter sequence for read1...\n",
      "No adapter detected for read1\n",
      "\n",
      "Detecting adapter sequence for read2...\n",
      "No adapter detected for read2\n",
      "\n",
      "Read1 before filtering:\n",
      "total reads: 4000\n",
      "total bases: 499211\n",
      "Q20 bases: 492539(98.6635%)\n",
      "Q30 bases: 480459(96.2437%)\n",
      "\n",
      "Read2 before filtering:\n",
      "total reads: 4000\n",
      "total bases: 499062\n",
      "Q20 bases: 483993(96.9805%)\n",
      "Q30 bases: 462617(92.6973%)\n",
      "\n",
      "Read1 after filtering:\n",
      "total reads: 3945\n",
      "total bases: 492050\n",
      "Q20 bases: 486674(98.9074%)\n",
      "Q30 bases: 475520(96.6406%)\n",
      "\n",
      "Read2 after filtering:\n",
      "total reads: 3945\n",
      "total bases: 491879\n",
      "Q20 bases: 479569(97.4974%)\n",
      "Q30 bases: 459681(93.4541%)\n",
      "\n",
      "Filtering result:\n",
      "reads passed filter: 7890\n",
      "reads failed due to low quality: 100\n",
      "reads failed due to too many N: 10\n",
      "reads failed due to too short: 0\n",
      "reads with adapter trimmed: 14\n",
      "bases trimmed due to adapters: 547\n",
      "\n",
      "Duplication rate: 0.025%\n",
      "\n",
      "Insert size peak (evaluated by paired-end reads): 181\n",
      "\n",
      "JSON report: /var/folders/z_/r2n_rt396917fl9qm_t5h7jm0000gn/T/Fastq.test/trim/fastp.json\n",
      "HTML report: /var/folders/z_/r2n_rt396917fl9qm_t5h7jm0000gn/T/Fastq.test/trim/fastp.html\n",
      "\n",
      "fastp --detect_adapter_for_pe --json /var/folders/z_/r2n_rt396917fl9qm_t5h7jm0000gn/T/Fastq.test/trim/fastp.json --html /var/folders/z_/r2n_rt396917fl9qm_t5h7jm0000gn/T/Fastq.test/trim/fastp.html --in1 ../test/data/test_dna_4k.R1.fastq.gz --in2 ../test/data/test_dna_4k.R2.fastq.gz --out1 /var/folders/z_/r2n_rt396917fl9qm_t5h7jm0000gn/T/Fastq.test/trim/test_dna_4k.R1.fastq.gz --out2 /var/folders/z_/r2n_rt396917fl9qm_t5h7jm0000gn/T/Fastq.test/trim/test_dna_4k.R2.fastq.gz \n",
      "fastp v0.23.2, time used: 1 seconds\n"
     ]
    }
   ],
   "source": [
    "fq1 = \"../test/data/test_dna_4k.R1.fastq.gz\"\n",
    "\n",
    "fq2 = \"../test/data/test_dna_4k.R2.fastq.gz\"\n",
    "\n",
    "pa = joinpath(TE, \"trim\")\n",
    "\n",
    "Fastq.trim(fq1, fq2, pa, n_jo)"
   ]
  },
  {
   "cell_type": "markdown",
   "id": "6fe77016",
   "metadata": {},
   "source": [
    "## align_dna"
   ]
  },
  {
   "cell_type": "code",
   "execution_count": 14,
   "id": "b842a6c3",
   "metadata": {
    "scrolled": true
   },
   "outputs": [
    {
     "name": "stdout",
     "output_type": "stream",
     "text": [
      "\n",
      "Alignment finished.\n",
      "\n"
     ]
    },
    {
     "name": "stderr",
     "output_type": "stream",
     "text": [
      "[WARNING]\u001b[1;31m Indexing parameters (-k, -w or -H) overridden by parameters used in the prebuilt index.\u001b[0m\n",
      "[M::main::8.406*1.00] loaded/built the index for 2580 target sequence(s)\n",
      "[M::mm_mapopt_update::8.407*1.00] mid_occ = 1000\n",
      "[M::mm_idx_stat] kmer size: 15; skip: 10; is_hpc: 0; #seq: 2580\n",
      "[M::mm_idx_stat::9.132*1.00] distinct minimizers: 100229022 (38.78% are singletons); average occurrences: 5.527; average spacing: 5.607; total length: 3105715063\n",
      "[M::worker_pipeline::9.260*1.03] mapped 8000 sequences\n",
      "[M::main] Version: 2.24-r1122\n",
      "[M::main] CMD: minimap2 -ax sr -t 4 -K 2G -R @RG\\tID:test\\tSM:test ../../../data/grch/GCA_000001405.15_GRCh38_no_alt_plus_hs38d1_analysis_set.fna.gz.mmi ../test/data/test_dna_4k.R1.fastq.gz ../test/data/test_dna_4k.R2.fastq.gz\n",
      "[M::main] Real time: 10.621 sec; CPU: 10.880 sec; Peak RSS: 7.363 GB\n",
      "[bam_sort_core] merging from 0 files and 4 in-memory blocks...\n"
     ]
    }
   ],
   "source": [
    "fa = \"../../../data/grch/GCA_000001405.15_GRCh38_no_alt_plus_hs38d1_analysis_set.fna.gz\"\n",
    "\n",
    "ba =  joinpath(TE, \"align_dna\", \"final.bam\")\n",
    "\n",
    "Fastq.align_dna(\"test\", fq1, fq2, fa, ba, n_jo, me)"
   ]
  },
  {
   "cell_type": "markdown",
   "id": "9cb92cc8",
   "metadata": {},
   "source": [
    "## align_cdna"
   ]
  },
  {
   "cell_type": "code",
   "execution_count": 15,
   "id": "37b420b8",
   "metadata": {},
   "outputs": [
    {
     "name": "stdout",
     "output_type": "stream",
     "text": [
      "\n",
      "Running STAR...\n",
      "\n",
      "\tstar --runThreadN 4 --genomeDir ../../../data/grch/star_indexes --readFilesIn ../test/data/test_cdna_4k.R1.fastq.gz ../test/data/test_cdna_4k.R2.fastq.gz --readFilesCommand \"gzip --decompress --stdout\" --outSAMtype BAM SortedByCoordinate --outFileNamePrefix test\n",
      "\tSTAR version: 2.7.9a   compiled:  :/Users/cshl/data/STAR/STAR/source\n",
      "Feb 01 14:05:00 ..... started STAR run\n",
      "Feb 01 14:05:00 ..... loading genome\n",
      "Feb 01 14:05:50 ..... started mapping\n",
      "Feb 01 14:05:50 ..... finished mapping\n",
      "Feb 01 14:05:52 ..... started sorting BAM\n",
      "Feb 01 14:05:52 ..... finished successfully\n"
     ]
    }
   ],
   "source": [
    "fa = \"../../../data/grch/GCA_000001405.15_GRCh38_no_alt_plus_hs38d1_analysis_set.fna\"\n",
    "\n",
    "fq1 = \"../test/data/test_cdna_4k.R1.fastq.gz\"\n",
    "\n",
    "fq2 = \"../test/data/test_cdna_4k.R2.fastq.gz\"\n",
    "\n",
    "ba = joinpath(TE, \"align_cdna/\")\n",
    "\n",
    "Fastq.align_cdna(\"test\", fq1, fq2, fa, ba, n_jo, me)"
   ]
  },
  {
   "cell_type": "markdown",
   "id": "2005c44b",
   "metadata": {},
   "source": [
    "## call_germline_variant"
   ]
  },
  {
   "cell_type": "code",
   "execution_count": 5,
   "id": "1868a4cb",
   "metadata": {},
   "outputs": [
    {
     "name": "stderr",
     "output_type": "stream",
     "text": [
      "bash: activate: No such file or directory\n"
     ]
    },
    {
     "ename": "LoadError",
     "evalue": "failed process: Process(`\u001b[4mbash\u001b[24m \u001b[4m-c\u001b[24m \u001b[4m'source activate py2 && configManta.py --referenceFasta ../../../data/grch/GCA_000001405.15_GRCh38_no_alt_plus_hs38d1_analysis_set.fna.gz --callRegions ../../../data/grch/chromosome/chromosome.bed.gz --bam /var/folders/z_/r2n_rt396917fl9qm_t5h7jm0000gn/T/Fastq.test/align_dna/final.bam --outputContig --runDir /var/folders/z_/r2n_rt396917fl9qm_t5h7jm0000gn/T/Fastq.test/call_germline_variant/manta && /var/folders/z_/r2n_rt396917fl9qm_t5h7jm0000gn/T/Fastq.test/call_germline_variant/manta/runWorkflow.py --mode local --jobs 4 --memGb 2 --quiet'\u001b[24m`, ProcessExited(1)) [1]\n",
     "output_type": "error",
     "traceback": [
      "failed process: Process(`\u001b[4mbash\u001b[24m \u001b[4m-c\u001b[24m \u001b[4m'source activate py2 && configManta.py --referenceFasta ../../../data/grch/GCA_000001405.15_GRCh38_no_alt_plus_hs38d1_analysis_set.fna.gz --callRegions ../../../data/grch/chromosome/chromosome.bed.gz --bam /var/folders/z_/r2n_rt396917fl9qm_t5h7jm0000gn/T/Fastq.test/align_dna/final.bam --outputContig --runDir /var/folders/z_/r2n_rt396917fl9qm_t5h7jm0000gn/T/Fastq.test/call_germline_variant/manta && /var/folders/z_/r2n_rt396917fl9qm_t5h7jm0000gn/T/Fastq.test/call_germline_variant/manta/runWorkflow.py --mode local --jobs 4 --memGb 2 --quiet'\u001b[24m`, ProcessExited(1)) [1]\n",
      "",
      "Stacktrace:",
      " [1] pipeline_error",
      "   @ ./process.jl:531 [inlined]",
      " [2] run(::Cmd; wait::Bool)",
      "   @ Base ./process.jl:446",
      " [3] run",
      "   @ ./process.jl:444 [inlined]",
      " [4] call_germline_variant(mo::String, ba::String, ta::Bool, fa::String, chs::String, chn::String, pao::String, n_jo::Int64, me::Int64, pas::String)",
      "   @ Fastq ~/craft/tool/Fastq.jl/src/call_germline_variant.jl:54",
      " [5] top-level scope",
      "   @ In[5]:17",
      " [6] eval",
      "   @ ./boot.jl:373 [inlined]",
      " [7] include_string(mapexpr::typeof(REPL.softscope), mod::Module, code::String, filename::String)",
      "   @ Base ./loading.jl:1196"
     ]
    }
   ],
   "source": [
    "mo = \"dna\" # cdna\n",
    "\n",
    "ba =  joinpath(TE, \"align_dna\", \"final.bam\")\n",
    "\n",
    "ta = false\n",
    "\n",
    "fa = \"../../../data/grch/GCA_000001405.15_GRCh38_no_alt_plus_hs38d1_analysis_set.fna.gz\"\n",
    "\n",
    "chs = \"../../../data/grch/chromosome/chromosome.bed.gz\"\n",
    "\n",
    "chn = \"../../../data/grch/chromosome/chrn_n.tsv\"\n",
    "\n",
    "pao = joinpath(TE, \"call_germline_variant\")\n",
    "\n",
    "pas = \"../tool/snpEff/snpEff.jar\"\n",
    "\n",
    "Fastq.call_germline_variant(mo, ba, ta, fa, chs, chn, pao, n_jo, me, to, pas)"
   ]
  },
  {
   "cell_type": "markdown",
   "id": "34b1c051",
   "metadata": {},
   "source": [
    "## call_somatic_variant"
   ]
  },
  {
   "cell_type": "code",
   "execution_count": null,
   "id": "be7d881a",
   "metadata": {},
   "outputs": [],
   "source": [
    "Fastq.call_somatic_variant()"
   ]
  },
  {
   "cell_type": "markdown",
   "id": "2c30b1c3",
   "metadata": {},
   "source": [
    "## count_transcript"
   ]
  },
  {
   "cell_type": "code",
   "execution_count": null,
   "id": "d10bee1c",
   "metadata": {},
   "outputs": [],
   "source": [
    "Fastq.count_transcript()"
   ]
  },
  {
   "cell_type": "markdown",
   "id": "775b473c",
   "metadata": {},
   "source": [
    "## process_dna"
   ]
  },
  {
   "cell_type": "code",
   "execution_count": null,
   "id": "2d4a77e2",
   "metadata": {},
   "outputs": [],
   "source": [
    "Fastq.process_dna()"
   ]
  },
  {
   "cell_type": "markdown",
   "id": "ee8430c3",
   "metadata": {},
   "source": [
    "## process_soma_dna"
   ]
  },
  {
   "cell_type": "code",
   "execution_count": null,
   "id": "2190388d",
   "metadata": {},
   "outputs": [],
   "source": [
    "Fastq.process_soma_dna()"
   ]
  },
  {
   "cell_type": "markdown",
   "id": "80a887b0",
   "metadata": {},
   "source": [
    "## Cleanup"
   ]
  },
  {
   "cell_type": "code",
   "execution_count": null,
   "id": "84a09e67",
   "metadata": {},
   "outputs": [],
   "source": [
    "rm(TE; recursive = true)\n",
    "\n",
    "println(\"Removed \", TE)"
   ]
  }
 ],
 "metadata": {
  "@webio": {
   "lastCommId": null,
   "lastKernelId": null
  },
  "kernelspec": {
   "display_name": "Julia 1.7.1",
   "language": "julia",
   "name": "julia-1.7"
  },
  "language_info": {
   "file_extension": ".jl",
   "mimetype": "application/julia",
   "name": "julia",
   "version": "1.7.1"
  }
 },
 "nbformat": 4,
 "nbformat_minor": 5
}
