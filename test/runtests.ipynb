{
 "cells": [
  {
   "cell_type": "code",
   "execution_count": 1,
   "id": "ca6b338b",
   "metadata": {},
   "outputs": [
    {
     "name": "stderr",
     "output_type": "stream",
     "text": [
      "┌ Info: Precompiling Fastq [ee7f7801-48cc-40da-98c9-e39305ba84b2]\n",
      "└ @ Base loading.jl:1423\n"
     ]
    }
   ],
   "source": [
    "using Revise\n",
    "\n",
    "using Fastq"
   ]
  },
  {
   "cell_type": "markdown",
   "id": "789a0cc7",
   "metadata": {},
   "source": [
    "## test_environment"
   ]
  },
  {
   "cell_type": "code",
   "execution_count": 2,
   "id": "9329cf6f",
   "metadata": {},
   "outputs": [
    {
     "name": "stdout",
     "output_type": "stream",
     "text": [
      "Checking for programs...\n",
      "\n",
      "/usr/local/bin/fastp\n",
      "/usr/local/bin/fastqc\n",
      "/Users/kate/.pyenv/versions/3.10.0/bin/multiqc\n",
      "/usr/local/bin/bgzip\n",
      "/usr/local/bin/tabix\n",
      "/usr/local/bin/minimap2\n",
      "/usr/local/bin/samtools\n",
      "/usr/local/bin/bcftools\n",
      "/usr/local/bin/kallisto\n",
      "/usr/local/bin/star\n",
      "/usr/local/bin/docker\n"
     ]
    }
   ],
   "source": [
    "Fastq.test_environment()"
   ]
  },
  {
   "cell_type": "markdown",
   "id": "e9b7234c",
   "metadata": {},
   "source": [
    "## test_strelka_and_manta"
   ]
  },
  {
   "cell_type": "code",
   "execution_count": 3,
   "id": "ea592cec",
   "metadata": {},
   "outputs": [
    {
     "name": "stderr",
     "output_type": "stream",
     "text": [
      "\n",
      "**** Starting demo configuration and run.\n",
      "**** Configuration cmd: \"/home/tool/manta-1.6.0.centos6_x86_64/bin/configManta.py\" --normalBam=\"/home/tool/manta-1.6.0.centos6_x86_64/share/demo/manta/data/HCC1954.NORMAL.30x.compare.COST16011_region.bam\" --tumorBam=\"/home/tool/manta-1.6.0.centos6_x86_64/share/demo/manta/data/G15512.HCC1954.1.COST16011_region.bam\" --referenceFasta=\"/home/tool/manta-1.6.0.centos6_x86_64/share/demo/manta/data/Homo_sapiens_assembly19.COST16011_region.fa\" --region=8:107652000-107655000 --region=11:94974000-94989000 --exome --runDir=\"MantaDemoAnalysis\"\n",
      "\n",
      "\n",
      "**** Completed demo configuration.\n",
      "\n",
      "\n",
      "**** Starting demo workflow execution.\n",
      "**** Workflow cmd: '/usr/bin/python MantaDemoAnalysis/runWorkflow.py -j 1 -g 4'\n",
      "\n",
      "[2022-01-26T17:18:24.612211Z] [c8a36a5c4be4] [24_1] [WorkflowRunner] Initiating pyFlow run\n",
      "[2022-01-26T17:18:24.612304Z] [c8a36a5c4be4] [24_1] [WorkflowRunner] pyFlowClientWorkflowClass: MantaWorkflow\n",
      "[2022-01-26T17:18:24.612332Z] [c8a36a5c4be4] [24_1] [WorkflowRunner] pyFlowVersion: 1.1.20\n",
      "[2022-01-26T17:18:24.612376Z] [c8a36a5c4be4] [24_1] [WorkflowRunner] pythonVersion: 2.6.6.final.0\n",
      "[2022-01-26T17:18:24.612390Z] [c8a36a5c4be4] [24_1] [WorkflowRunner] WorkingDir: '/'\n",
      "[2022-01-26T17:18:24.612416Z] [c8a36a5c4be4] [24_1] [WorkflowRunner] ProcessCmdLine: 'MantaDemoAnalysis/runWorkflow.py -j 1 -g 4'\n",
      "[2022-01-26T17:18:24.612452Z] [c8a36a5c4be4] [24_1] [WorkflowRunner] [RunParameters] mode: local\n",
      "[2022-01-26T17:18:24.612463Z] [c8a36a5c4be4] [24_1] [WorkflowRunner] [RunParameters] nCores: 1\n",
      "[2022-01-26T17:18:24.612546Z] [c8a36a5c4be4] [24_1] [WorkflowRunner] [RunParameters] memMb: 4096\n",
      "[2022-01-26T17:18:24.612622Z] [c8a36a5c4be4] [24_1] [WorkflowRunner] [RunParameters] dataDir: /MantaDemoAnalysis/workspace/pyflow.data\n",
      "[2022-01-26T17:18:24.612661Z] [c8a36a5c4be4] [24_1] [WorkflowRunner] [RunParameters] isDryRun: False\n",
      "[2022-01-26T17:18:24.612671Z] [c8a36a5c4be4] [24_1] [WorkflowRunner] [RunParameters] isContinue: False\n",
      "[2022-01-26T17:18:24.612681Z] [c8a36a5c4be4] [24_1] [WorkflowRunner] [RunParameters] isForceContinue: True\n",
      "[2022-01-26T17:18:24.612695Z] [c8a36a5c4be4] [24_1] [WorkflowRunner] [RunParameters] mailTo: ''\n",
      "[2022-01-26T17:18:24.613398Z] [c8a36a5c4be4] [24_1] [TaskRunner:masterWorkflow] Starting task specification for master workflow\n",
      "[2022-01-26T17:18:24.613501Z] [c8a36a5c4be4] [24_1] [MantaWorkflow] Initiating Manta workflow version: 1.6.0\n",
      "[2022-01-26T17:18:24.614153Z] [c8a36a5c4be4] [24_1] [WorkflowRunner] Adding command task 'getAlignmentStats_makeTmpDir' to master workflow\n",
      "[2022-01-26T17:18:24.615365Z] [c8a36a5c4be4] [24_1] [WorkflowRunner] Adding command task 'getAlignmentStats_generateStats_000' to master workflow\n",
      "[2022-01-26T17:18:24.616486Z] [c8a36a5c4be4] [24_1] [WorkflowRunner] Adding command task 'getAlignmentStats_generateStats_001' to master workflow\n",
      "[2022-01-26T17:18:24.617575Z] [c8a36a5c4be4] [24_1] [WorkflowRunner] Adding command task 'getAlignmentStats_mergeStats' to master workflow\n",
      "[2022-01-26T17:18:24.618035Z] [c8a36a5c4be4] [24_1] [TaskManager] Launching command task: 'getAlignmentStats_makeTmpDir' from master workflow\n",
      "[2022-01-26T17:18:24.619232Z] [c8a36a5c4be4] [24_1] [WorkflowRunner] Adding command task 'getAlignmentStats_removeTmpDir' to master workflow\n",
      "[2022-01-26T17:18:24.620695Z] [c8a36a5c4be4] [24_1] [WorkflowRunner] Adding command task 'summarizeStats' to master workflow\n",
      "[2022-01-26T17:18:24.623358Z] [c8a36a5c4be4] [24_1] [WorkflowRunner] Adding command task 'makeGraphTmpDir' to master workflow\n",
      "[2022-01-26T17:18:24.623969Z] [c8a36a5c4be4] [24_1] [TaskRunner:getAlignmentStats_makeTmpDir] Task initiated on local node\n",
      "[2022-01-26T17:18:24.625238Z] [c8a36a5c4be4] [24_1] [WorkflowRunner] Adding command task 'makeLocusGraph_chromId_000_8-107652000-107655000_0000_to_chromId_001_11-94974000-94989000_0000' to master workflow\n",
      "[2022-01-26T17:18:24.625670Z] [c8a36a5c4be4] [24_1] [WorkflowRunner] Adding sub-workflow task 'mergeLocusGraphInputList' to master workflow\n",
      "[2022-01-26T17:18:24.625967Z] [c8a36a5c4be4] [24_1] [WorkflowRunner] Adding command task 'mergeLocusGraph' to master workflow\n",
      "[2022-01-26T17:18:24.626199Z] [c8a36a5c4be4] [24_1] [WorkflowRunner] Adding command task 'checkLocusGraph' to master workflow\n",
      "[2022-01-26T17:18:24.626408Z] [c8a36a5c4be4] [24_1] [WorkflowRunner] Adding command task 'removeTmpDir' to master workflow\n",
      "[2022-01-26T17:18:24.626863Z] [c8a36a5c4be4] [24_1] [WorkflowRunner] Adding command task 'locusGraphStats' to master workflow\n",
      "[2022-01-26T17:18:24.627355Z] [c8a36a5c4be4] [24_1] [WorkflowRunner] Adding command task 'makeHyGenDir' to master workflow\n",
      "[2022-01-26T17:18:24.627805Z] [c8a36a5c4be4] [24_1] [WorkflowRunner] Adding command task 'generateCandidateSV_0000' to master workflow\n",
      "[2022-01-26T17:18:24.628158Z] [c8a36a5c4be4] [24_1] [WorkflowRunner] Adding command task 'fixVcfHeader_sortCandidateSV' to master workflow\n",
      "[2022-01-26T17:18:24.628797Z] [c8a36a5c4be4] [24_1] [WorkflowRunner] Adding sub-workflow task 'sortCandidateSVInputList' to master workflow\n",
      "[2022-01-26T17:18:24.629356Z] [c8a36a5c4be4] [24_1] [WorkflowRunner] Adding command task 'sort_sortCandidateSV' to master workflow\n",
      "[2022-01-26T17:18:24.630124Z] [c8a36a5c4be4] [24_1] [WorkflowRunner] Adding command task 'tabix_sortCandidateSV' to master workflow\n",
      "[2022-01-26T17:18:24.630283Z] [c8a36a5c4be4] [24_1] [WorkflowRunner] Adding command task 'fixVcfHeader_sortDiploidSV' to master workflow\n",
      "[2022-01-26T17:18:24.630544Z] [c8a36a5c4be4] [24_1] [WorkflowRunner] Adding sub-workflow task 'sortDiploidSVInputList' to master workflow\n",
      "[2022-01-26T17:18:24.630756Z] [c8a36a5c4be4] [24_1] [WorkflowRunner] Adding command task 'sort_sortDiploidSV' to master workflow\n",
      "[2022-01-26T17:18:24.631165Z] [c8a36a5c4be4] [24_1] [WorkflowRunner] Adding command task 'tabix_sortDiploidSV' to master workflow\n",
      "[2022-01-26T17:18:24.632353Z] [c8a36a5c4be4] [24_1] [WorkflowRunner] Adding command task 'fixVcfHeader_sortSomaticSV' to master workflow\n",
      "[2022-01-26T17:18:24.632644Z] [c8a36a5c4be4] [24_1] [WorkflowRunner] Adding sub-workflow task 'sortSomaticSVInputList' to master workflow\n",
      "[2022-01-26T17:18:24.632994Z] [c8a36a5c4be4] [24_1] [WorkflowRunner] Adding command task 'sort_sortSomaticSV' to master workflow\n",
      "[2022-01-26T17:18:24.633196Z] [c8a36a5c4be4] [24_1] [WorkflowRunner] Adding command task 'tabix_sortSomaticSV' to master workflow\n",
      "[2022-01-26T17:18:24.633391Z] [c8a36a5c4be4] [24_1] [WorkflowRunner] Adding command task 'extractSmallIndels' to master workflow\n",
      "[2022-01-26T17:18:24.634392Z] [c8a36a5c4be4] [24_1] [WorkflowRunner] Adding command task 'extractSmallIndels_tabix' to master workflow\n",
      "[2022-01-26T17:18:24.635714Z] [c8a36a5c4be4] [24_1] [WorkflowRunner] Adding sub-workflow task 'sortEdgeRuntimeLogsInputList' to master workflow\n",
      "[2022-01-26T17:18:24.637022Z] [c8a36a5c4be4] [24_1] [WorkflowRunner] Adding command task 'sortEdgeRuntimeLogs' to master workflow\n",
      "[2022-01-26T17:18:24.637330Z] [c8a36a5c4be4] [24_1] [TaskRunner:masterWorkflow] Finished task specification for master workflow\n",
      "[2022-01-26T17:18:24.754589Z] [c8a36a5c4be4] [24_1] [TaskManager] Completed command task: 'getAlignmentStats_makeTmpDir' launched from master workflow\n",
      "[2022-01-26T17:18:24.757074Z] [c8a36a5c4be4] [24_1] [TaskManager] Launching command task: 'getAlignmentStats_generateStats_001' from master workflow\n",
      "[2022-01-26T17:18:24.760502Z] [c8a36a5c4be4] [24_1] [TaskRunner:getAlignmentStats_generateStats_001] Task initiated on local node\n",
      "[2022-01-26T17:18:24.922826Z] [c8a36a5c4be4] [24_1] [TaskManager] Completed command task: 'getAlignmentStats_generateStats_001' launched from master workflow\n",
      "[2022-01-26T17:18:24.923537Z] [c8a36a5c4be4] [24_1] [TaskManager] Launching command task: 'getAlignmentStats_generateStats_000' from master workflow\n",
      "[2022-01-26T17:18:24.925891Z] [c8a36a5c4be4] [24_1] [TaskRunner:getAlignmentStats_generateStats_000] Task initiated on local node\n",
      "[2022-01-26T17:18:25.038375Z] [c8a36a5c4be4] [24_1] [TaskManager] Completed command task: 'getAlignmentStats_generateStats_000' launched from master workflow\n",
      "[2022-01-26T17:18:25.039046Z] [c8a36a5c4be4] [24_1] [TaskManager] Launching command task: 'getAlignmentStats_mergeStats' from master workflow\n",
      "[2022-01-26T17:18:25.041435Z] [c8a36a5c4be4] [24_1] [TaskRunner:getAlignmentStats_mergeStats] Task initiated on local node\n",
      "[2022-01-26T17:18:25.154130Z] [c8a36a5c4be4] [24_1] [TaskManager] Completed command task: 'getAlignmentStats_mergeStats' launched from master workflow\n",
      "[2022-01-26T17:18:25.154871Z] [c8a36a5c4be4] [24_1] [TaskManager] Launching command task: 'makeGraphTmpDir' from master workflow\n",
      "[2022-01-26T17:18:25.157444Z] [c8a36a5c4be4] [24_1] [TaskRunner:makeGraphTmpDir] Task initiated on local node\n",
      "[2022-01-26T17:18:25.270082Z] [c8a36a5c4be4] [24_1] [TaskManager] Completed command task: 'makeGraphTmpDir' launched from master workflow\n",
      "[2022-01-26T17:18:25.271077Z] [c8a36a5c4be4] [24_1] [TaskManager] Launching command task: 'makeLocusGraph_chromId_000_8-107652000-107655000_0000_to_chromId_001_11-94974000-94989000_0000' from master workflow\n",
      "[2022-01-26T17:18:25.273507Z] [c8a36a5c4be4] [24_1] [TaskRunner:makeLocusGraph_chromId_000_8-107652000-107655000_0000_to_chromId_001_11-94974000-94989000_0000] Task initiated on local node\n",
      "[2022-01-26T17:18:25.436301Z] [c8a36a5c4be4] [24_1] [TaskManager] Completed command task: 'makeLocusGraph_chromId_000_8-107652000-107655000_0000_to_chromId_001_11-94974000-94989000_0000' launched from master workflow\n",
      "[2022-01-26T17:18:25.436785Z] [c8a36a5c4be4] [24_1] [TaskManager] Launching sub-workflow task: 'mergeLocusGraphInputList' from master workflow\n",
      "[2022-01-26T17:18:25.437087Z] [c8a36a5c4be4] [24_1] [TaskRunner:mergeLocusGraphInputList] Starting task specification for sub-workflow\n",
      "[2022-01-26T17:18:25.437517Z] [c8a36a5c4be4] [24_1] [TaskManager] Launching command task: 'summarizeStats' from master workflow\n",
      "[2022-01-26T17:18:25.437845Z] [c8a36a5c4be4] [24_1] [TaskRunner:mergeLocusGraphInputList] Finished task specification for sub-workflow\n",
      "[2022-01-26T17:18:25.439938Z] [c8a36a5c4be4] [24_1] [TaskManager] Completed sub-workflow task: 'mergeLocusGraphInputList' launched from master workflow\n",
      "[2022-01-26T17:18:25.440652Z] [c8a36a5c4be4] [24_1] [TaskRunner:summarizeStats] Task initiated on local node\n"
     ]
    },
    {
     "name": "stderr",
     "output_type": "stream",
     "text": [
      "[2022-01-26T17:18:25.555572Z] [c8a36a5c4be4] [24_1] [TaskManager] Completed command task: 'summarizeStats' launched from master workflow\n",
      "[2022-01-26T17:18:25.556181Z] [c8a36a5c4be4] [24_1] [TaskManager] Launching command task: 'mergeLocusGraph' from master workflow\n",
      "[2022-01-26T17:18:25.558414Z] [c8a36a5c4be4] [24_1] [TaskRunner:mergeLocusGraph] Task initiated on local node\n",
      "[2022-01-26T17:18:25.671295Z] [c8a36a5c4be4] [24_1] [TaskManager] Completed command task: 'mergeLocusGraph' launched from master workflow\n",
      "[2022-01-26T17:18:25.671968Z] [c8a36a5c4be4] [24_1] [TaskManager] Launching command task: 'locusGraphStats' from master workflow\n",
      "[2022-01-26T17:18:25.674431Z] [c8a36a5c4be4] [24_1] [TaskRunner:locusGraphStats] Task initiated on local node\n",
      "[2022-01-26T17:18:25.787012Z] [c8a36a5c4be4] [24_1] [TaskManager] Completed command task: 'locusGraphStats' launched from master workflow\n",
      "[2022-01-26T17:18:25.787804Z] [c8a36a5c4be4] [24_1] [TaskManager] Launching command task: 'checkLocusGraph' from master workflow\n",
      "[2022-01-26T17:18:25.790591Z] [c8a36a5c4be4] [24_1] [TaskRunner:checkLocusGraph] Task initiated on local node\n",
      "[2022-01-26T17:18:25.903368Z] [c8a36a5c4be4] [24_1] [TaskManager] Completed command task: 'checkLocusGraph' launched from master workflow\n",
      "[2022-01-26T17:18:25.904107Z] [c8a36a5c4be4] [24_1] [TaskManager] Launching command task: 'makeHyGenDir' from master workflow\n",
      "[2022-01-26T17:18:25.906809Z] [c8a36a5c4be4] [24_1] [TaskRunner:makeHyGenDir] Task initiated on local node\n",
      "[2022-01-26T17:18:26.019535Z] [c8a36a5c4be4] [24_1] [TaskManager] Completed command task: 'makeHyGenDir' launched from master workflow\n",
      "[2022-01-26T17:18:26.020131Z] [c8a36a5c4be4] [24_1] [TaskManager] Launching command task: 'generateCandidateSV_0000' from master workflow\n",
      "[2022-01-26T17:18:26.023072Z] [c8a36a5c4be4] [24_1] [TaskRunner:generateCandidateSV_0000] Task initiated on local node\n",
      "[2022-01-26T17:18:26.587843Z] [c8a36a5c4be4] [24_1] [TaskManager] Completed command task: 'generateCandidateSV_0000' launched from master workflow\n",
      "[2022-01-26T17:18:26.588875Z] [c8a36a5c4be4] [24_1] [TaskManager] Launching sub-workflow task: 'sortEdgeRuntimeLogsInputList' from master workflow\n",
      "[2022-01-26T17:18:26.589534Z] [c8a36a5c4be4] [24_1] [TaskRunner:sortEdgeRuntimeLogsInputList] Starting task specification for sub-workflow\n",
      "[2022-01-26T17:18:26.590323Z] [c8a36a5c4be4] [24_1] [TaskManager] Launching command task: 'removeTmpDir' from master workflow\n",
      "[2022-01-26T17:18:26.591017Z] [c8a36a5c4be4] [24_1] [TaskRunner:sortEdgeRuntimeLogsInputList] Finished task specification for sub-workflow\n",
      "[2022-01-26T17:18:26.592014Z] [c8a36a5c4be4] [24_1] [TaskManager] Completed sub-workflow task: 'sortEdgeRuntimeLogsInputList' launched from master workflow\n",
      "[2022-01-26T17:18:26.595036Z] [c8a36a5c4be4] [24_1] [TaskRunner:removeTmpDir] Task initiated on local node\n",
      "[2022-01-26T17:18:26.709417Z] [c8a36a5c4be4] [24_1] [TaskManager] Completed command task: 'removeTmpDir' launched from master workflow\n",
      "[2022-01-26T17:18:26.709915Z] [c8a36a5c4be4] [24_1] [TaskManager] Launching command task: 'fixVcfHeader_sortCandidateSV' from master workflow\n",
      "[2022-01-26T17:18:26.712192Z] [c8a36a5c4be4] [24_1] [TaskRunner:fixVcfHeader_sortCandidateSV] Task initiated on local node\n",
      "[2022-01-26T17:18:26.824806Z] [c8a36a5c4be4] [24_1] [TaskManager] Completed command task: 'fixVcfHeader_sortCandidateSV' launched from master workflow\n",
      "[2022-01-26T17:18:26.825344Z] [c8a36a5c4be4] [24_1] [TaskManager] Launching sub-workflow task: 'sortCandidateSVInputList' from master workflow\n",
      "[2022-01-26T17:18:26.825609Z] [c8a36a5c4be4] [24_1] [TaskRunner:sortCandidateSVInputList] Starting task specification for sub-workflow\n",
      "[2022-01-26T17:18:26.826140Z] [c8a36a5c4be4] [24_1] [TaskManager] Launching command task: 'getAlignmentStats_removeTmpDir' from master workflow\n",
      "[2022-01-26T17:18:26.826607Z] [c8a36a5c4be4] [24_1] [TaskRunner:sortCandidateSVInputList] Finished task specification for sub-workflow\n",
      "[2022-01-26T17:18:26.828786Z] [c8a36a5c4be4] [24_1] [TaskManager] Completed sub-workflow task: 'sortCandidateSVInputList' launched from master workflow\n",
      "[2022-01-26T17:18:26.829610Z] [c8a36a5c4be4] [24_1] [TaskRunner:getAlignmentStats_removeTmpDir] Task initiated on local node\n",
      "[2022-01-26T17:18:26.944228Z] [c8a36a5c4be4] [24_1] [TaskManager] Completed command task: 'getAlignmentStats_removeTmpDir' launched from master workflow\n",
      "[2022-01-26T17:18:26.944720Z] [c8a36a5c4be4] [24_1] [TaskManager] Launching command task: 'sort_sortCandidateSV' from master workflow\n",
      "[2022-01-26T17:18:26.947662Z] [c8a36a5c4be4] [24_1] [TaskRunner:sort_sortCandidateSV] Task initiated on local node\n",
      "[2022-01-26T17:18:27.110387Z] [c8a36a5c4be4] [24_1] [TaskManager] Completed command task: 'sort_sortCandidateSV' launched from master workflow\n",
      "[2022-01-26T17:18:27.110835Z] [c8a36a5c4be4] [24_1] [TaskManager] Launching command task: 'extractSmallIndels' from master workflow\n",
      "[2022-01-26T17:18:27.113373Z] [c8a36a5c4be4] [24_1] [TaskRunner:extractSmallIndels] Task initiated on local node\n",
      "[2022-01-26T17:18:27.275795Z] [c8a36a5c4be4] [24_1] [TaskManager] Completed command task: 'extractSmallIndels' launched from master workflow\n",
      "[2022-01-26T17:18:27.276298Z] [c8a36a5c4be4] [24_1] [TaskManager] Launching command task: 'extractSmallIndels_tabix' from master workflow\n",
      "[2022-01-26T17:18:27.278778Z] [c8a36a5c4be4] [24_1] [TaskRunner:extractSmallIndels_tabix] Task initiated on local node\n",
      "[2022-01-26T17:18:27.391309Z] [c8a36a5c4be4] [24_1] [TaskManager] Completed command task: 'extractSmallIndels_tabix' launched from master workflow\n",
      "[2022-01-26T17:18:27.392333Z] [c8a36a5c4be4] [24_1] [TaskManager] Launching command task: 'tabix_sortCandidateSV' from master workflow\n",
      "[2022-01-26T17:18:27.395663Z] [c8a36a5c4be4] [24_1] [TaskRunner:tabix_sortCandidateSV] Task initiated on local node\n",
      "[2022-01-26T17:18:27.507846Z] [c8a36a5c4be4] [24_1] [TaskManager] Completed command task: 'tabix_sortCandidateSV' launched from master workflow\n",
      "[2022-01-26T17:18:27.508368Z] [c8a36a5c4be4] [24_1] [TaskManager] Launching command task: 'fixVcfHeader_sortSomaticSV' from master workflow\n",
      "[2022-01-26T17:18:27.510812Z] [c8a36a5c4be4] [24_1] [TaskRunner:fixVcfHeader_sortSomaticSV] Task initiated on local node\n",
      "[2022-01-26T17:18:27.624106Z] [c8a36a5c4be4] [24_1] [TaskManager] Completed command task: 'fixVcfHeader_sortSomaticSV' launched from master workflow\n",
      "[2022-01-26T17:18:27.624403Z] [c8a36a5c4be4] [24_1] [TaskManager] Launching sub-workflow task: 'sortSomaticSVInputList' from master workflow\n",
      "[2022-01-26T17:18:27.624869Z] [c8a36a5c4be4] [24_1] [TaskRunner:sortSomaticSVInputList] Starting task specification for sub-workflow\n",
      "[2022-01-26T17:18:27.625408Z] [c8a36a5c4be4] [24_1] [TaskRunner:sortSomaticSVInputList] Finished task specification for sub-workflow\n",
      "[2022-01-26T17:18:27.625836Z] [c8a36a5c4be4] [24_1] [TaskManager] Launching command task: 'sortEdgeRuntimeLogs' from master workflow\n",
      "[2022-01-26T17:18:27.626618Z] [c8a36a5c4be4] [24_1] [TaskManager] Completed sub-workflow task: 'sortSomaticSVInputList' launched from master workflow\n",
      "[2022-01-26T17:18:27.629178Z] [c8a36a5c4be4] [24_1] [TaskRunner:sortEdgeRuntimeLogs] Task initiated on local node\n",
      "[2022-01-26T17:18:27.792165Z] [c8a36a5c4be4] [24_1] [TaskManager] Completed command task: 'sortEdgeRuntimeLogs' launched from master workflow\n",
      "[2022-01-26T17:18:27.792552Z] [c8a36a5c4be4] [24_1] [TaskManager] Launching command task: 'sort_sortSomaticSV' from master workflow\n",
      "[2022-01-26T17:18:27.795267Z] [c8a36a5c4be4] [24_1] [TaskRunner:sort_sortSomaticSV] Task initiated on local node\n",
      "[2022-01-26T17:18:27.958192Z] [c8a36a5c4be4] [24_1] [TaskManager] Completed command task: 'sort_sortSomaticSV' launched from master workflow\n",
      "[2022-01-26T17:18:27.958634Z] [c8a36a5c4be4] [24_1] [TaskManager] Launching command task: 'tabix_sortSomaticSV' from master workflow\n",
      "[2022-01-26T17:18:27.961302Z] [c8a36a5c4be4] [24_1] [TaskRunner:tabix_sortSomaticSV] Task initiated on local node\n",
      "[2022-01-26T17:18:28.075055Z] [c8a36a5c4be4] [24_1] [TaskManager] Completed command task: 'tabix_sortSomaticSV' launched from master workflow\n",
      "[2022-01-26T17:18:28.075614Z] [c8a36a5c4be4] [24_1] [TaskManager] Launching command task: 'fixVcfHeader_sortDiploidSV' from master workflow\n",
      "[2022-01-26T17:18:28.078863Z] [c8a36a5c4be4] [24_1] [TaskRunner:fixVcfHeader_sortDiploidSV] Task initiated on local node\n",
      "[2022-01-26T17:18:28.191451Z] [c8a36a5c4be4] [24_1] [TaskManager] Completed command task: 'fixVcfHeader_sortDiploidSV' launched from master workflow\n",
      "[2022-01-26T17:18:28.191770Z] [c8a36a5c4be4] [24_1] [TaskManager] Launching sub-workflow task: 'sortDiploidSVInputList' from master workflow\n",
      "[2022-01-26T17:18:28.192058Z] [c8a36a5c4be4] [24_1] [TaskRunner:sortDiploidSVInputList] Starting task specification for sub-workflow\n",
      "[2022-01-26T17:18:28.192427Z] [c8a36a5c4be4] [24_1] [TaskRunner:sortDiploidSVInputList] Finished task specification for sub-workflow\n",
      "[2022-01-26T17:18:28.193677Z] [c8a36a5c4be4] [24_1] [TaskManager] Completed sub-workflow task: 'sortDiploidSVInputList' launched from master workflow\n",
      "[2022-01-26T17:18:28.194009Z] [c8a36a5c4be4] [24_1] [TaskManager] Launching command task: 'sort_sortDiploidSV' from master workflow\n",
      "[2022-01-26T17:18:28.196468Z] [c8a36a5c4be4] [24_1] [TaskRunner:sort_sortDiploidSV] Task initiated on local node\n",
      "[2022-01-26T17:18:28.459778Z] [c8a36a5c4be4] [24_1] [TaskManager] Completed command task: 'sort_sortDiploidSV' launched from master workflow\n",
      "[2022-01-26T17:18:28.460173Z] [c8a36a5c4be4] [24_1] [TaskManager] Launching command task: 'tabix_sortDiploidSV' from master workflow\n",
      "[2022-01-26T17:18:28.462801Z] [c8a36a5c4be4] [24_1] [TaskRunner:tabix_sortDiploidSV] Task initiated on local node\n",
      "[2022-01-26T17:18:28.575387Z] [c8a36a5c4be4] [24_1] [TaskManager] Completed command task: 'tabix_sortDiploidSV' launched from master workflow\n",
      "[2022-01-26T17:18:30.253320Z] [c8a36a5c4be4] [24_1] [WorkflowRunner] Manta workflow successfully completed.\n",
      "[2022-01-26T17:18:30.253320Z] [c8a36a5c4be4] [24_1] [WorkflowRunner] \n",
      "[2022-01-26T17:18:30.253320Z] [c8a36a5c4be4] [24_1] [WorkflowRunner] \tworkflow version: 1.6.0\n",
      "[2022-01-26T17:18:30.253403Z] [c8a36a5c4be4] [24_1] [WorkflowRunner] \n",
      "[2022-01-26T17:18:30.253422Z] [c8a36a5c4be4] [24_1] [WorkflowRunner] Workflow successfully completed all tasks\n",
      "[2022-01-26T17:18:30.253439Z] [c8a36a5c4be4] [24_1] [WorkflowRunner] Elapsed time for full workflow: 5 sec\n"
     ]
    },
    {
     "name": "stderr",
     "output_type": "stream",
     "text": [
      "\n",
      "**** Completed demo workflow execution.\n",
      "\n",
      "\n",
      "**** Starting comparison to expected results.\n",
      "**** Expected results dir: '/home/tool/manta-1.6.0.centos6_x86_64/share/demo/manta/expectedResults'\n",
      "**** Demo results dir: 'MantaDemoAnalysis/results/variants'\n",
      "\n",
      "\n",
      "**** No differences between expected and computed results.\n",
      "\n",
      "\n",
      "**** Demo/verification successfully completed\n",
      "\n",
      "\n",
      "**** Starting demo configuration and run.\n",
      "**** Configuration cmd: './home/tool/strelka-2.9.10.centos6_x86_64/bin/configureStrelkaGermlineWorkflow.py --bam='./home/tool/strelka-2.9.10.centos6_x86_64/bin/../share/demo/strelka/data/NA12891_demo20.bam' --bam='./home/tool/strelka-2.9.10.centos6_x86_64/bin/../share/demo/strelka/data/NA12892_demo20.bam' --referenceFasta='./home/tool/strelka-2.9.10.centos6_x86_64/bin/../share/demo/strelka/data/demo20.fa' --callMemMb=1024 --exome --disableSequenceErrorEstimation --runDir=./strelkaGermlineDemoAnalysis'\n",
      "\n",
      "\n",
      "**** Completed demo configuration.\n",
      "\n",
      "\n",
      "**** Starting demo workflow execution.\n",
      "**** Workflow cmd: './strelkaGermlineDemoAnalysis/runWorkflow.py -m local -j 1 -g 4'\n",
      "\n",
      "[2022-01-26T17:18:31.015681Z] [c8a36a5c4be4] [198_1] [WorkflowRunner] Initiating pyFlow run\n",
      "[2022-01-26T17:18:31.015769Z] [c8a36a5c4be4] [198_1] [WorkflowRunner] pyFlowClientWorkflowClass: StrelkaGermlineWorkflow\n",
      "[2022-01-26T17:18:31.015798Z] [c8a36a5c4be4] [198_1] [WorkflowRunner] pyFlowVersion: 1.1.20\n",
      "[2022-01-26T17:18:31.015809Z] [c8a36a5c4be4] [198_1] [WorkflowRunner] pythonVersion: 2.6.6.final.0\n",
      "[2022-01-26T17:18:31.015821Z] [c8a36a5c4be4] [198_1] [WorkflowRunner] WorkingDir: '/'\n",
      "[2022-01-26T17:18:31.015832Z] [c8a36a5c4be4] [198_1] [WorkflowRunner] ProcessCmdLine: './strelkaGermlineDemoAnalysis/runWorkflow.py -m local -j 1 -g 4'\n",
      "[2022-01-26T17:18:31.015843Z] [c8a36a5c4be4] [198_1] [WorkflowRunner] [RunParameters] mode: local\n",
      "[2022-01-26T17:18:31.015855Z] [c8a36a5c4be4] [198_1] [WorkflowRunner] [RunParameters] nCores: 1\n",
      "[2022-01-26T17:18:31.015864Z] [c8a36a5c4be4] [198_1] [WorkflowRunner] [RunParameters] memMb: 4096\n",
      "[2022-01-26T17:18:31.015875Z] [c8a36a5c4be4] [198_1] [WorkflowRunner] [RunParameters] dataDir: /strelkaGermlineDemoAnalysis/workspace/pyflow.data\n",
      "[2022-01-26T17:18:31.016018Z] [c8a36a5c4be4] [198_1] [WorkflowRunner] [RunParameters] isDryRun: False\n",
      "[2022-01-26T17:18:31.016042Z] [c8a36a5c4be4] [198_1] [WorkflowRunner] [RunParameters] isContinue: False\n",
      "[2022-01-26T17:18:31.016053Z] [c8a36a5c4be4] [198_1] [WorkflowRunner] [RunParameters] isForceContinue: True\n",
      "[2022-01-26T17:18:31.016067Z] [c8a36a5c4be4] [198_1] [WorkflowRunner] [RunParameters] mailTo: ''\n",
      "[2022-01-26T17:18:31.016596Z] [c8a36a5c4be4] [198_1] [TaskRunner:masterWorkflow] Starting task specification for master workflow\n",
      "[2022-01-26T17:18:31.016819Z] [c8a36a5c4be4] [198_1] [StrelkaGermlineWorkflow] Initiating Strelka germline workflow version: 2.9.10\n",
      "[2022-01-26T17:18:31.017562Z] [c8a36a5c4be4] [198_1] [WorkflowRunner] Adding sub-workflow task 'CallGenome' to master workflow\n",
      "[2022-01-26T17:18:31.018098Z] [c8a36a5c4be4] [198_1] [TaskRunner:masterWorkflow] Finished task specification for master workflow\n",
      "[2022-01-26T17:18:31.018486Z] [c8a36a5c4be4] [198_1] [TaskManager] Launching sub-workflow task: 'CallGenome' from master workflow\n",
      "[2022-01-26T17:18:31.018733Z] [c8a36a5c4be4] [198_1] [TaskRunner:CallGenome] Starting task specification for sub-workflow\n",
      "[2022-01-26T17:18:31.019375Z] [c8a36a5c4be4] [198_1] [WorkflowRunner] Adding command task 'CallGenome+makeTmpDir' to sub-workflow 'CallGenome'\n",
      "[2022-01-26T17:18:31.019771Z] [c8a36a5c4be4] [198_1] [WorkflowRunner] Adding command task 'CallGenome+callGenomeSegment_chromId_000_demo20_0000' to sub-workflow 'CallGenome'\n",
      "[2022-01-26T17:18:31.019990Z] [c8a36a5c4be4] [198_1] [WorkflowRunner] Adding command task 'CallGenome+compressGenomeSegment_chromId_000_demo20_0000_variants' to sub-workflow 'CallGenome'\n",
      "[2022-01-26T17:18:31.020232Z] [c8a36a5c4be4] [198_1] [WorkflowRunner] Adding command task 'CallGenome+compressGenomeSegment_chromId_000_demo20_0000_gVCF_S1' to sub-workflow 'CallGenome'\n",
      "[2022-01-26T17:18:31.020915Z] [c8a36a5c4be4] [198_1] [WorkflowRunner] Adding command task 'CallGenome+compressGenomeSegment_chromId_000_demo20_0000_gVCF_S2' to sub-workflow 'CallGenome'\n",
      "[2022-01-26T17:18:31.021116Z] [c8a36a5c4be4] [198_1] [WorkflowRunner] Adding command task 'CallGenome+completedAllGenomeSegments' to sub-workflow 'CallGenome'\n",
      "[2022-01-26T17:18:31.021511Z] [c8a36a5c4be4] [198_1] [WorkflowRunner] Adding command task 'CallGenome+variants_concat_vcf' to sub-workflow 'CallGenome'\n",
      "[2022-01-26T17:18:31.021679Z] [c8a36a5c4be4] [198_1] [WorkflowRunner] Adding command task 'CallGenome+variants_index_vcf' to sub-workflow 'CallGenome'\n",
      "[2022-01-26T17:18:31.022144Z] [c8a36a5c4be4] [198_1] [WorkflowRunner] Adding command task 'CallGenome+gVCF_S1_concat_vcf' to sub-workflow 'CallGenome'\n",
      "[2022-01-26T17:18:31.022548Z] [c8a36a5c4be4] [198_1] [TaskManager] Launching command task: 'CallGenome+makeTmpDir' from sub-workflow 'CallGenome'\n",
      "[2022-01-26T17:18:31.022695Z] [c8a36a5c4be4] [198_1] [WorkflowRunner] Adding command task 'CallGenome+gVCF_S1_index_vcf' to sub-workflow 'CallGenome'\n",
      "[2022-01-26T17:18:31.025171Z] [c8a36a5c4be4] [198_1] [WorkflowRunner] Adding command task 'CallGenome+addLegacyOutputLink' to sub-workflow 'CallGenome'\n",
      "[2022-01-26T17:18:31.026154Z] [c8a36a5c4be4] [198_1] [TaskRunner:CallGenome+makeTmpDir] Task initiated on local node\n",
      "[2022-01-26T17:18:31.026487Z] [c8a36a5c4be4] [198_1] [WorkflowRunner] Adding command task 'CallGenome+gVCF_S2_concat_vcf' to sub-workflow 'CallGenome'\n",
      "[2022-01-26T17:18:31.026745Z] [c8a36a5c4be4] [198_1] [WorkflowRunner] Adding command task 'CallGenome+gVCF_S2_index_vcf' to sub-workflow 'CallGenome'\n",
      "[2022-01-26T17:18:31.027113Z] [c8a36a5c4be4] [198_1] [WorkflowRunner] Adding command task 'CallGenome+mergeRunStats' to sub-workflow 'CallGenome'\n",
      "[2022-01-26T17:18:31.027685Z] [c8a36a5c4be4] [198_1] [WorkflowRunner] Adding command task 'CallGenome+removeTmpDir' to sub-workflow 'CallGenome'\n",
      "[2022-01-26T17:18:31.028130Z] [c8a36a5c4be4] [198_1] [TaskRunner:CallGenome] Finished task specification for sub-workflow\n",
      "[2022-01-26T17:18:31.143805Z] [c8a36a5c4be4] [198_1] [TaskManager] Completed command task: 'CallGenome+makeTmpDir' launched from sub-workflow 'CallGenome'\n",
      "[2022-01-26T17:18:31.145045Z] [c8a36a5c4be4] [198_1] [TaskManager] Launching command task: 'CallGenome+callGenomeSegment_chromId_000_demo20_0000' from sub-workflow 'CallGenome'\n",
      "[2022-01-26T17:18:31.147575Z] [c8a36a5c4be4] [198_1] [TaskRunner:CallGenome+callGenomeSegment_chromId_000_demo20_0000] Task initiated on local node\n",
      "[2022-01-26T17:18:31.460619Z] [c8a36a5c4be4] [198_1] [TaskManager] Completed command task: 'CallGenome+callGenomeSegment_chromId_000_demo20_0000' launched from sub-workflow 'CallGenome'\n",
      "[2022-01-26T17:18:31.461243Z] [c8a36a5c4be4] [198_1] [TaskManager] Launching command task: 'CallGenome+compressGenomeSegment_chromId_000_demo20_0000_gVCF_S1' from sub-workflow 'CallGenome'\n",
      "[2022-01-26T17:18:31.464114Z] [c8a36a5c4be4] [198_1] [TaskRunner:CallGenome+compressGenomeSegment_chromId_000_demo20_0000_gVCF_S1] Task initiated on local node\n",
      "[2022-01-26T17:18:31.576461Z] [c8a36a5c4be4] [198_1] [TaskManager] Completed command task: 'CallGenome+compressGenomeSegment_chromId_000_demo20_0000_gVCF_S1' launched from sub-workflow 'CallGenome'\n",
      "[2022-01-26T17:18:31.576914Z] [c8a36a5c4be4] [198_1] [TaskManager] Launching command task: 'CallGenome+compressGenomeSegment_chromId_000_demo20_0000_gVCF_S2' from sub-workflow 'CallGenome'\n",
      "[2022-01-26T17:18:31.579330Z] [c8a36a5c4be4] [198_1] [TaskRunner:CallGenome+compressGenomeSegment_chromId_000_demo20_0000_gVCF_S2] Task initiated on local node\n",
      "[2022-01-26T17:18:31.691930Z] [c8a36a5c4be4] [198_1] [TaskManager] Completed command task: 'CallGenome+compressGenomeSegment_chromId_000_demo20_0000_gVCF_S2' launched from sub-workflow 'CallGenome'\n",
      "[2022-01-26T17:18:31.692372Z] [c8a36a5c4be4] [198_1] [TaskManager] Launching command task: 'CallGenome+compressGenomeSegment_chromId_000_demo20_0000_variants' from sub-workflow 'CallGenome'\n",
      "[2022-01-26T17:18:31.694781Z] [c8a36a5c4be4] [198_1] [TaskRunner:CallGenome+compressGenomeSegment_chromId_000_demo20_0000_variants] Task initiated on local node\n",
      "[2022-01-26T17:18:31.807318Z] [c8a36a5c4be4] [198_1] [TaskManager] Completed command task: 'CallGenome+compressGenomeSegment_chromId_000_demo20_0000_variants' launched from sub-workflow 'CallGenome'\n",
      "[2022-01-26T17:18:31.807563Z] [c8a36a5c4be4] [198_1] [TaskManager] Completed command task: 'CallGenome+completedAllGenomeSegments' launched from sub-workflow 'CallGenome'\n",
      "[2022-01-26T17:18:31.807921Z] [c8a36a5c4be4] [198_1] [TaskManager] Launching command task: 'CallGenome+gVCF_S1_concat_vcf' from sub-workflow 'CallGenome'\n",
      "[2022-01-26T17:18:31.810607Z] [c8a36a5c4be4] [198_1] [TaskRunner:CallGenome+gVCF_S1_concat_vcf] Task initiated on local node\n",
      "[2022-01-26T17:18:31.923381Z] [c8a36a5c4be4] [198_1] [TaskManager] Completed command task: 'CallGenome+gVCF_S1_concat_vcf' launched from sub-workflow 'CallGenome'\n",
      "[2022-01-26T17:18:31.923707Z] [c8a36a5c4be4] [198_1] [TaskManager] Launching command task: 'CallGenome+gVCF_S1_index_vcf' from sub-workflow 'CallGenome'\n",
      "[2022-01-26T17:18:31.926387Z] [c8a36a5c4be4] [198_1] [TaskRunner:CallGenome+gVCF_S1_index_vcf] Task initiated on local node\n",
      "[2022-01-26T17:18:32.039340Z] [c8a36a5c4be4] [198_1] [TaskManager] Completed command task: 'CallGenome+gVCF_S1_index_vcf' launched from sub-workflow 'CallGenome'\n",
      "[2022-01-26T17:18:32.039782Z] [c8a36a5c4be4] [198_1] [TaskManager] Launching command task: 'CallGenome+addLegacyOutputLink' from sub-workflow 'CallGenome'\n",
      "[2022-01-26T17:18:32.042325Z] [c8a36a5c4be4] [198_1] [TaskRunner:CallGenome+addLegacyOutputLink] Task initiated on local node\n",
      "[2022-01-26T17:18:32.154725Z] [c8a36a5c4be4] [198_1] [TaskManager] Completed command task: 'CallGenome+addLegacyOutputLink' launched from sub-workflow 'CallGenome'\n",
      "[2022-01-26T17:18:32.155123Z] [c8a36a5c4be4] [198_1] [TaskManager] Launching command task: 'CallGenome+gVCF_S2_concat_vcf' from sub-workflow 'CallGenome'\n",
      "[2022-01-26T17:18:32.157720Z] [c8a36a5c4be4] [198_1] [TaskRunner:CallGenome+gVCF_S2_concat_vcf] Task initiated on local node\n",
      "[2022-01-26T17:18:32.271246Z] [c8a36a5c4be4] [198_1] [TaskManager] Completed command task: 'CallGenome+gVCF_S2_concat_vcf' launched from sub-workflow 'CallGenome'\n"
     ]
    },
    {
     "name": "stderr",
     "output_type": "stream",
     "text": [
      "[2022-01-26T17:18:32.271617Z] [c8a36a5c4be4] [198_1] [TaskManager] Launching command task: 'CallGenome+gVCF_S2_index_vcf' from sub-workflow 'CallGenome'\n",
      "[2022-01-26T17:18:32.274157Z] [c8a36a5c4be4] [198_1] [TaskRunner:CallGenome+gVCF_S2_index_vcf] Task initiated on local node\n",
      "[2022-01-26T17:18:32.386723Z] [c8a36a5c4be4] [198_1] [TaskManager] Completed command task: 'CallGenome+gVCF_S2_index_vcf' launched from sub-workflow 'CallGenome'\n",
      "[2022-01-26T17:18:32.387146Z] [c8a36a5c4be4] [198_1] [TaskManager] Launching command task: 'CallGenome+variants_concat_vcf' from sub-workflow 'CallGenome'\n",
      "[2022-01-26T17:18:32.389765Z] [c8a36a5c4be4] [198_1] [TaskRunner:CallGenome+variants_concat_vcf] Task initiated on local node\n",
      "[2022-01-26T17:18:32.502428Z] [c8a36a5c4be4] [198_1] [TaskManager] Completed command task: 'CallGenome+variants_concat_vcf' launched from sub-workflow 'CallGenome'\n",
      "[2022-01-26T17:18:32.502833Z] [c8a36a5c4be4] [198_1] [TaskManager] Launching command task: 'CallGenome+variants_index_vcf' from sub-workflow 'CallGenome'\n",
      "[2022-01-26T17:18:32.505305Z] [c8a36a5c4be4] [198_1] [TaskRunner:CallGenome+variants_index_vcf] Task initiated on local node\n",
      "[2022-01-26T17:18:32.617941Z] [c8a36a5c4be4] [198_1] [TaskManager] Completed command task: 'CallGenome+variants_index_vcf' launched from sub-workflow 'CallGenome'\n",
      "[2022-01-26T17:18:32.618293Z] [c8a36a5c4be4] [198_1] [TaskManager] Launching command task: 'CallGenome+mergeRunStats' from sub-workflow 'CallGenome'\n",
      "[2022-01-26T17:18:32.621097Z] [c8a36a5c4be4] [198_1] [TaskRunner:CallGenome+mergeRunStats] Task initiated on local node\n",
      "[2022-01-26T17:18:32.733239Z] [c8a36a5c4be4] [198_1] [TaskManager] Completed command task: 'CallGenome+mergeRunStats' launched from sub-workflow 'CallGenome'\n",
      "[2022-01-26T17:18:32.733722Z] [c8a36a5c4be4] [198_1] [TaskManager] Launching command task: 'CallGenome+removeTmpDir' from sub-workflow 'CallGenome'\n",
      "[2022-01-26T17:18:32.736346Z] [c8a36a5c4be4] [198_1] [TaskRunner:CallGenome+removeTmpDir] Task initiated on local node\n",
      "[2022-01-26T17:18:32.848646Z] [c8a36a5c4be4] [198_1] [TaskManager] Completed command task: 'CallGenome+removeTmpDir' launched from sub-workflow 'CallGenome'\n",
      "[2022-01-26T17:18:33.735645Z] [c8a36a5c4be4] [198_1] [TaskManager] Completed sub-workflow task: 'CallGenome' launched from master workflow\n",
      "[2022-01-26T17:18:36.624953Z] [c8a36a5c4be4] [198_1] [WorkflowRunner] Strelka germline workflow successfully completed.\n",
      "[2022-01-26T17:18:36.624953Z] [c8a36a5c4be4] [198_1] [WorkflowRunner] \n",
      "[2022-01-26T17:18:36.624953Z] [c8a36a5c4be4] [198_1] [WorkflowRunner] \tworkflow version: 2.9.10\n",
      "[2022-01-26T17:18:36.625182Z] [c8a36a5c4be4] [198_1] [WorkflowRunner] \n",
      "[2022-01-26T17:18:36.625260Z] [c8a36a5c4be4] [198_1] [WorkflowRunner] Workflow successfully completed all tasks\n",
      "[2022-01-26T17:18:36.625370Z] [c8a36a5c4be4] [198_1] [WorkflowRunner] Elapsed time for full workflow: 5 sec\n",
      "\n",
      "**** Completed demo workflow execution.\n",
      "\n",
      "\n",
      "**** Demo/verification successfully completed\n",
      "\n",
      "\n",
      "**** Starting demo configuration and run.\n",
      "**** Configuration cmd: './home/tool/strelka-2.9.10.centos6_x86_64/bin/configureStrelkaSomaticWorkflow.py --tumorBam='./home/tool/strelka-2.9.10.centos6_x86_64/bin/../share/demo/strelka/data/NA12891_demo20.bam' --normalBam='./home/tool/strelka-2.9.10.centos6_x86_64/bin/../share/demo/strelka/data/NA12892_demo20.bam' --referenceFasta='./home/tool/strelka-2.9.10.centos6_x86_64/bin/../share/demo/strelka/data/demo20.fa' --callMemMb=1024 --exome --runDir=./strelkaSomaticDemoAnalysis'\n",
      "\n",
      "\n",
      "**** Completed demo configuration.\n",
      "\n",
      "\n",
      "**** Starting demo workflow execution.\n",
      "**** Workflow cmd: './strelkaSomaticDemoAnalysis/runWorkflow.py -m local -j 1 -g 4'\n",
      "\n",
      "[2022-01-26T17:18:37.263175Z] [c8a36a5c4be4] [301_1] [WorkflowRunner] Initiating pyFlow run\n",
      "[2022-01-26T17:18:37.263318Z] [c8a36a5c4be4] [301_1] [WorkflowRunner] pyFlowClientWorkflowClass: StrelkaSomaticWorkflow\n",
      "[2022-01-26T17:18:37.263341Z] [c8a36a5c4be4] [301_1] [WorkflowRunner] pyFlowVersion: 1.1.20\n",
      "[2022-01-26T17:18:37.263387Z] [c8a36a5c4be4] [301_1] [WorkflowRunner] pythonVersion: 2.6.6.final.0\n",
      "[2022-01-26T17:18:37.263408Z] [c8a36a5c4be4] [301_1] [WorkflowRunner] WorkingDir: '/'\n",
      "[2022-01-26T17:18:37.263423Z] [c8a36a5c4be4] [301_1] [WorkflowRunner] ProcessCmdLine: './strelkaSomaticDemoAnalysis/runWorkflow.py -m local -j 1 -g 4'\n",
      "[2022-01-26T17:18:37.263436Z] [c8a36a5c4be4] [301_1] [WorkflowRunner] [RunParameters] mode: local\n",
      "[2022-01-26T17:18:37.263445Z] [c8a36a5c4be4] [301_1] [WorkflowRunner] [RunParameters] nCores: 1\n",
      "[2022-01-26T17:18:37.263456Z] [c8a36a5c4be4] [301_1] [WorkflowRunner] [RunParameters] memMb: 4096\n",
      "[2022-01-26T17:18:37.263467Z] [c8a36a5c4be4] [301_1] [WorkflowRunner] [RunParameters] dataDir: /strelkaSomaticDemoAnalysis/workspace/pyflow.data\n",
      "[2022-01-26T17:18:37.263480Z] [c8a36a5c4be4] [301_1] [WorkflowRunner] [RunParameters] isDryRun: False\n",
      "[2022-01-26T17:18:37.263494Z] [c8a36a5c4be4] [301_1] [WorkflowRunner] [RunParameters] isContinue: False\n",
      "[2022-01-26T17:18:37.263519Z] [c8a36a5c4be4] [301_1] [WorkflowRunner] [RunParameters] isForceContinue: True\n",
      "[2022-01-26T17:18:37.263555Z] [c8a36a5c4be4] [301_1] [WorkflowRunner] [RunParameters] mailTo: ''\n",
      "[2022-01-26T17:18:37.264325Z] [c8a36a5c4be4] [301_1] [TaskRunner:masterWorkflow] Starting task specification for master workflow\n",
      "[2022-01-26T17:18:37.264513Z] [c8a36a5c4be4] [301_1] [StrelkaSomaticWorkflow] Initiating Strelka somatic workflow version: 2.9.10\n",
      "[2022-01-26T17:18:37.265363Z] [c8a36a5c4be4] [301_1] [WorkflowRunner] Adding sub-workflow task 'CallGenome' to master workflow\n",
      "[2022-01-26T17:18:37.266190Z] [c8a36a5c4be4] [301_1] [TaskManager] Launching sub-workflow task: 'CallGenome' from master workflow\n",
      "[2022-01-26T17:18:37.266695Z] [c8a36a5c4be4] [301_1] [TaskRunner:masterWorkflow] Finished task specification for master workflow\n",
      "[2022-01-26T17:18:37.266913Z] [c8a36a5c4be4] [301_1] [TaskRunner:CallGenome] Starting task specification for sub-workflow\n",
      "[2022-01-26T17:18:37.267252Z] [c8a36a5c4be4] [301_1] [WorkflowRunner] Adding command task 'CallGenome+makeTmpDir' to sub-workflow 'CallGenome'\n",
      "[2022-01-26T17:18:37.267828Z] [c8a36a5c4be4] [301_1] [WorkflowRunner] Adding command task 'CallGenome+callGenomeSegment_chromId_000_demo20_0000' to sub-workflow 'CallGenome'\n",
      "[2022-01-26T17:18:37.268186Z] [c8a36a5c4be4] [301_1] [WorkflowRunner] Adding command task 'CallGenome+fixVcfHeader_chromId_000_demo20_0000' to sub-workflow 'CallGenome'\n",
      "[2022-01-26T17:18:37.268662Z] [c8a36a5c4be4] [301_1] [WorkflowRunner] Adding command task 'CallGenome+compressSegmentOutput_chromId_000_demo20_0000' to sub-workflow 'CallGenome'\n",
      "[2022-01-26T17:18:37.269213Z] [c8a36a5c4be4] [301_1] [WorkflowRunner] Adding command task 'CallGenome+completedAllGenomeSegments' to sub-workflow 'CallGenome'\n",
      "[2022-01-26T17:18:37.269744Z] [c8a36a5c4be4] [301_1] [TaskManager] Launching command task: 'CallGenome+makeTmpDir' from sub-workflow 'CallGenome'\n",
      "[2022-01-26T17:18:37.270412Z] [c8a36a5c4be4] [301_1] [WorkflowRunner] Adding command task 'CallGenome+SNV_concat_vcf' to sub-workflow 'CallGenome'\n",
      "[2022-01-26T17:18:37.271127Z] [c8a36a5c4be4] [301_1] [WorkflowRunner] Adding command task 'CallGenome+SNV_index_vcf' to sub-workflow 'CallGenome'\n",
      "[2022-01-26T17:18:37.271733Z] [c8a36a5c4be4] [301_1] [WorkflowRunner] Adding command task 'CallGenome+Indel_concat_vcf' to sub-workflow 'CallGenome'\n",
      "[2022-01-26T17:18:37.272145Z] [c8a36a5c4be4] [301_1] [WorkflowRunner] Adding command task 'CallGenome+Indel_index_vcf' to sub-workflow 'CallGenome'\n",
      "[2022-01-26T17:18:37.272919Z] [c8a36a5c4be4] [301_1] [WorkflowRunner] Adding command task 'CallGenome+mergeRunStats' to sub-workflow 'CallGenome'\n",
      "[2022-01-26T17:18:37.273605Z] [c8a36a5c4be4] [301_1] [WorkflowRunner] Adding command task 'CallGenome+removeTmpDir' to sub-workflow 'CallGenome'\n",
      "[2022-01-26T17:18:37.274071Z] [c8a36a5c4be4] [301_1] [TaskRunner:CallGenome] Finished task specification for sub-workflow\n",
      "[2022-01-26T17:18:37.276411Z] [c8a36a5c4be4] [301_1] [TaskRunner:CallGenome+makeTmpDir] Task initiated on local node\n",
      "[2022-01-26T17:18:37.391294Z] [c8a36a5c4be4] [301_1] [TaskManager] Completed command task: 'CallGenome+makeTmpDir' launched from sub-workflow 'CallGenome'\n",
      "[2022-01-26T17:18:37.391902Z] [c8a36a5c4be4] [301_1] [TaskManager] Launching command task: 'CallGenome+callGenomeSegment_chromId_000_demo20_0000' from sub-workflow 'CallGenome'\n",
      "[2022-01-26T17:18:37.395591Z] [c8a36a5c4be4] [301_1] [TaskRunner:CallGenome+callGenomeSegment_chromId_000_demo20_0000] Task initiated on local node\n",
      "[2022-01-26T17:18:37.658357Z] [c8a36a5c4be4] [301_1] [TaskManager] Completed command task: 'CallGenome+callGenomeSegment_chromId_000_demo20_0000' launched from sub-workflow 'CallGenome'\n",
      "[2022-01-26T17:18:37.658895Z] [c8a36a5c4be4] [301_1] [TaskManager] Launching command task: 'CallGenome+fixVcfHeader_chromId_000_demo20_0000' from sub-workflow 'CallGenome'\n",
      "[2022-01-26T17:18:37.661320Z] [c8a36a5c4be4] [301_1] [TaskRunner:CallGenome+fixVcfHeader_chromId_000_demo20_0000] Task initiated on local node\n",
      "[2022-01-26T17:18:37.773824Z] [c8a36a5c4be4] [301_1] [TaskManager] Completed command task: 'CallGenome+fixVcfHeader_chromId_000_demo20_0000' launched from sub-workflow 'CallGenome'\n",
      "[2022-01-26T17:18:37.774579Z] [c8a36a5c4be4] [301_1] [TaskManager] Launching command task: 'CallGenome+compressSegmentOutput_chromId_000_demo20_0000' from sub-workflow 'CallGenome'\n",
      "[2022-01-26T17:18:37.777294Z] [c8a36a5c4be4] [301_1] [TaskRunner:CallGenome+compressSegmentOutput_chromId_000_demo20_0000] Task initiated on local node\n",
      "[2022-01-26T17:18:37.890167Z] [c8a36a5c4be4] [301_1] [TaskManager] Completed command task: 'CallGenome+compressSegmentOutput_chromId_000_demo20_0000' launched from sub-workflow 'CallGenome'\n",
      "[2022-01-26T17:18:37.890438Z] [c8a36a5c4be4] [301_1] [TaskManager] Completed command task: 'CallGenome+completedAllGenomeSegments' launched from sub-workflow 'CallGenome'\n",
      "[2022-01-26T17:18:37.890679Z] [c8a36a5c4be4] [301_1] [TaskManager] Launching command task: 'CallGenome+mergeRunStats' from sub-workflow 'CallGenome'\n",
      "[2022-01-26T17:18:37.893775Z] [c8a36a5c4be4] [301_1] [TaskRunner:CallGenome+mergeRunStats] Task initiated on local node\n",
      "[2022-01-26T17:18:38.006056Z] [c8a36a5c4be4] [301_1] [TaskManager] Completed command task: 'CallGenome+mergeRunStats' launched from sub-workflow 'CallGenome'\n",
      "[2022-01-26T17:18:38.006418Z] [c8a36a5c4be4] [301_1] [TaskManager] Launching command task: 'CallGenome+Indel_concat_vcf' from sub-workflow 'CallGenome'\n"
     ]
    },
    {
     "name": "stdout",
     "output_type": "stream",
     "text": [
      " Successfully created workflow run script. To execute the workflow, run the following script and set appropriate options:  /MantaDemoAnalysis/runWorkflow.py\n",
      "\n",
      " Successfully created workflow run script. To execute the workflow, run the following script and set appropriate options:  /strelkaGermlineDemoAnalysis/runWorkflow.py\n",
      "\n",
      " Successfully created workflow run script. To execute the workflow, run the following script and set appropriate options:  /strelkaSomaticDemoAnalysis/runWorkflow.py\n",
      "\n",
      "c8a36a5c4be4d0cc35057cebb5847070351dfa5def8872a8e99b99726695d858\n",
      "c8a36a5c4be4d0cc35057cebb5847070351dfa5def8872a8e99b99726695d858\n"
     ]
    },
    {
     "name": "stderr",
     "output_type": "stream",
     "text": [
      "[2022-01-26T17:18:38.008931Z] [c8a36a5c4be4] [301_1] [TaskRunner:CallGenome+Indel_concat_vcf] Task initiated on local node\n",
      "[2022-01-26T17:18:38.121092Z] [c8a36a5c4be4] [301_1] [TaskManager] Completed command task: 'CallGenome+Indel_concat_vcf' launched from sub-workflow 'CallGenome'\n",
      "[2022-01-26T17:18:38.121386Z] [c8a36a5c4be4] [301_1] [TaskManager] Launching command task: 'CallGenome+Indel_index_vcf' from sub-workflow 'CallGenome'\n",
      "[2022-01-26T17:18:38.123761Z] [c8a36a5c4be4] [301_1] [TaskRunner:CallGenome+Indel_index_vcf] Task initiated on local node\n",
      "[2022-01-26T17:18:38.236701Z] [c8a36a5c4be4] [301_1] [TaskManager] Completed command task: 'CallGenome+Indel_index_vcf' launched from sub-workflow 'CallGenome'\n",
      "[2022-01-26T17:18:38.237094Z] [c8a36a5c4be4] [301_1] [TaskManager] Launching command task: 'CallGenome+SNV_concat_vcf' from sub-workflow 'CallGenome'\n",
      "[2022-01-26T17:18:38.239540Z] [c8a36a5c4be4] [301_1] [TaskRunner:CallGenome+SNV_concat_vcf] Task initiated on local node\n",
      "[2022-01-26T17:18:38.352321Z] [c8a36a5c4be4] [301_1] [TaskManager] Completed command task: 'CallGenome+SNV_concat_vcf' launched from sub-workflow 'CallGenome'\n",
      "[2022-01-26T17:18:38.352695Z] [c8a36a5c4be4] [301_1] [TaskManager] Launching command task: 'CallGenome+SNV_index_vcf' from sub-workflow 'CallGenome'\n",
      "[2022-01-26T17:18:38.355335Z] [c8a36a5c4be4] [301_1] [TaskRunner:CallGenome+SNV_index_vcf] Task initiated on local node\n",
      "[2022-01-26T17:18:38.467747Z] [c8a36a5c4be4] [301_1] [TaskManager] Completed command task: 'CallGenome+SNV_index_vcf' launched from sub-workflow 'CallGenome'\n",
      "[2022-01-26T17:18:38.468104Z] [c8a36a5c4be4] [301_1] [TaskManager] Launching command task: 'CallGenome+removeTmpDir' from sub-workflow 'CallGenome'\n",
      "[2022-01-26T17:18:38.470739Z] [c8a36a5c4be4] [301_1] [TaskRunner:CallGenome+removeTmpDir] Task initiated on local node\n",
      "[2022-01-26T17:18:38.540105Z] [c8a36a5c4be4] [301_1] [TaskManager] Completed command task: 'CallGenome+removeTmpDir' launched from sub-workflow 'CallGenome'\n",
      "[2022-01-26T17:18:39.979520Z] [c8a36a5c4be4] [301_1] [TaskManager] Completed sub-workflow task: 'CallGenome' launched from master workflow\n",
      "[2022-01-26T17:18:42.864944Z] [c8a36a5c4be4] [301_1] [WorkflowRunner] Strelka somatic workflow successfully completed.\n",
      "[2022-01-26T17:18:42.864944Z] [c8a36a5c4be4] [301_1] [WorkflowRunner] \n",
      "[2022-01-26T17:18:42.864944Z] [c8a36a5c4be4] [301_1] [WorkflowRunner] \tworkflow version: 2.9.10\n",
      "[2022-01-26T17:18:42.865048Z] [c8a36a5c4be4] [301_1] [WorkflowRunner] \n",
      "[2022-01-26T17:18:42.865085Z] [c8a36a5c4be4] [301_1] [WorkflowRunner] Workflow successfully completed all tasks\n",
      "[2022-01-26T17:18:42.865122Z] [c8a36a5c4be4] [301_1] [WorkflowRunner] Elapsed time for full workflow: 5 sec\n",
      "\n",
      "**** Completed demo workflow execution.\n",
      "\n",
      "\n",
      "**** Starting comparison to expected results.\n",
      "**** Expected results dir: ./home/tool/strelka-2.9.10.centos6_x86_64/bin/../share/demo/strelka/expectedResults\n",
      "**** Demo results dir: ./strelkaSomaticDemoAnalysis/results/variants\n",
      "\n",
      "\n",
      "**** No differences between expected and computed results.\n",
      "\n",
      "\n",
      "**** Demo/verification successfully completed\n",
      "\n"
     ]
    }
   ],
   "source": [
    "Fastq.test_strelka_and_manta(\"/Users/kate/craft/tool/Fastq.jl/tool\")"
   ]
  },
  {
   "cell_type": "markdown",
   "id": "4106f56f",
   "metadata": {},
   "source": [
    "## find"
   ]
  },
  {
   "cell_type": "code",
   "execution_count": 4,
   "id": "97bfa424",
   "metadata": {},
   "outputs": [
    {
     "name": "stdout",
     "output_type": "stream",
     "text": [
      "File types found in ../test/data/:\n",
      "\n",
      "\"fq.gz\" => 0\n",
      "\"fastq.gz\" => 6\n",
      "\".fq\" => 0\n",
      "\".fastq\" => 0\n",
      "\n",
      "Size of gzipped files:\n",
      "\n",
      "File ../test/data/test_cdna_4k.R1.fastq.gz is: 276.464 KiB\n",
      "File ../test/data/test_cdna_4k.R2.fastq.gz is: 283.787 KiB\n",
      "File ../test/data/test_dna_4k.R1.fastp.fastq.gz is: 283.745 KiB\n",
      "File ../test/data/test_dna_4k.R1.fastq.gz is: 287.457 KiB\n",
      "File ../test/data/test_dna_4k.R2.fastp.fastq.gz is: 311.916 KiB\n",
      "File ../test/data/test_dna_4k.R2.fastq.gz is: 316.618 KiB\n"
     ]
    },
    {
     "data": {
      "text/plain": [
       "6-element Vector{Any}:\n",
       " \"../test/data/test_cdna_4k.R1.fastq.gz\"\n",
       " \"../test/data/test_cdna_4k.R2.fastq.gz\"\n",
       " \"../test/data/test_dna_4k.R1.fastp.fastq.gz\"\n",
       " \"../test/data/test_dna_4k.R1.fastq.gz\"\n",
       " \"../test/data/test_dna_4k.R2.fastp.fastq.gz\"\n",
       " \"../test/data/test_dna_4k.R2.fastq.gz\""
      ]
     },
     "execution_count": 4,
     "metadata": {},
     "output_type": "execute_result"
    }
   ],
   "source": [
    "di = \"../test/data/\"\n",
    "\n",
    "re_ = Fastq.find(di)"
   ]
  },
  {
   "cell_type": "markdown",
   "id": "bf765fb1",
   "metadata": {},
   "source": [
    "## concatenate"
   ]
  },
  {
   "cell_type": "code",
   "execution_count": null,
   "id": "24771322",
   "metadata": {},
   "outputs": [],
   "source": [
    "Fastq.concatenate(re_, \"R1\")"
   ]
  },
  {
   "cell_type": "markdown",
   "id": "d777573f",
   "metadata": {},
   "source": [
    "## check_read"
   ]
  },
  {
   "cell_type": "code",
   "execution_count": 5,
   "id": "d0ba42ae",
   "metadata": {},
   "outputs": [
    {
     "name": "stdout",
     "output_type": "stream",
     "text": [
      "Running FastQC ...\n",
      "Analysis complete for test_cdna_4k.R1.fastq.gz\n",
      "Analysis complete for test_cdna_4k.R2.fastq.gz\n",
      "Analysis complete for test_dna_4k.R1.fastp.fastq.gz\n",
      "Analysis complete for test_dna_4k.R1.fastq.gz\n",
      "Analysis complete for test_dna_4k.R2.fastp.fastq.gz\n",
      "Analysis complete for test_dna_4k.R2.fastq.gz\n",
      "Running MultiQC ...\n",
      "|         searching | ━━━━━━━━━━━━━━━━━━━━━━━━━━━━━━━━━━━━━━━━ 100% 12/12  \n"
     ]
    },
    {
     "name": "stderr",
     "output_type": "stream",
     "text": [
      "Started analysis of test_cdna_4k.R1.fastq.gz\n",
      "Approx 25% complete for test_cdna_4k.R1.fastq.gz\n",
      "Approx 45% complete for test_cdna_4k.R1.fastq.gz\n",
      "Approx 75% complete for test_cdna_4k.R1.fastq.gz\n",
      "Approx 100% complete for test_cdna_4k.R1.fastq.gz\n",
      "Started analysis of test_cdna_4k.R2.fastq.gz\n",
      "Approx 25% complete for test_cdna_4k.R2.fastq.gz\n",
      "Approx 45% complete for test_cdna_4k.R2.fastq.gz\n",
      "Approx 75% complete for test_cdna_4k.R2.fastq.gz\n",
      "Approx 100% complete for test_cdna_4k.R2.fastq.gz\n",
      "Started analysis of test_dna_4k.R1.fastp.fastq.gz\n",
      "Approx 25% complete for test_dna_4k.R1.fastp.fastq.gz\n",
      "Approx 50% complete for test_dna_4k.R1.fastp.fastq.gz\n",
      "Approx 75% complete for test_dna_4k.R1.fastp.fastq.gz\n",
      "Started analysis of test_dna_4k.R1.fastq.gz\n",
      "Approx 25% complete for test_dna_4k.R1.fastq.gz\n",
      "Approx 50% complete for test_dna_4k.R1.fastq.gz\n",
      "Approx 75% complete for test_dna_4k.R1.fastq.gz\n",
      "Approx 100% complete for test_dna_4k.R1.fastq.gz\n",
      "Started analysis of test_dna_4k.R2.fastp.fastq.gz\n",
      "Approx 25% complete for test_dna_4k.R2.fastp.fastq.gz\n",
      "Approx 50% complete for test_dna_4k.R2.fastp.fastq.gz\n",
      "Approx 75% complete for test_dna_4k.R2.fastp.fastq.gz\n",
      "Started analysis of test_dna_4k.R2.fastq.gz\n",
      "Approx 25% complete for test_dna_4k.R2.fastq.gz\n",
      "Approx 50% complete for test_dna_4k.R2.fastq.gz\n",
      "Approx 75% complete for test_dna_4k.R2.fastq.gz\n",
      "Approx 100% complete for test_dna_4k.R2.fastq.gz\n",
      "\n",
      "  /// MultiQC 🔍 | v1.11\n",
      "\n",
      "|           multiqc | Search path : /Users/kate/craft/tool/Fastq.jl/test/data/check_raw\n",
      "|            fastqc | Found 4 reports\n",
      "|           multiqc | Compressing plot data\n",
      "|           multiqc | Report      : data/check_raw/multiqc_report.html\n",
      "|           multiqc | Data        : data/check_raw/multiqc_data\n",
      "|           multiqc | MultiQC complete\n"
     ]
    }
   ],
   "source": [
    "Fastq.check_read(re_, \"../test/data/check_raw/\", 2)"
   ]
  },
  {
   "cell_type": "markdown",
   "id": "bedf1d8d",
   "metadata": {},
   "source": [
    "## concatenate"
   ]
  },
  {
   "cell_type": "code",
   "execution_count": 14,
   "id": "601c65ca",
   "metadata": {},
   "outputs": [
    {
     "name": "stdout",
     "output_type": "stream",
     "text": [
      "Number of forward read files found = 3\n",
      "Number of reverse read files found = 3\n",
      "\n",
      "Skipping concatenation because directory already exists: ../test/data_concat\n"
     ]
    }
   ],
   "source": [
    "Fastq.concatenate(re_, \"R1\")"
   ]
  },
  {
   "cell_type": "markdown",
   "id": "6847b17a",
   "metadata": {},
   "source": [
    "## trim"
   ]
  },
  {
   "cell_type": "code",
   "execution_count": 13,
   "id": "c9eca6a5",
   "metadata": {},
   "outputs": [
    {
     "name": "stdout",
     "output_type": "stream",
     "text": [
      "Skipping trimming because directory already exists: ../test/trim/\n"
     ]
    }
   ],
   "source": [
    "fq1 = \"../test/data/test_dna_4k.R1.fastq.gz\"\n",
    "\n",
    "fq2 = \"../test/data/test_dna_4k.R2.fastq.gz\"\n",
    "\n",
    "pa = \"../test/trim/\"\n",
    "\n",
    "Fastq.trim(fq1, fq2, pa, 2)"
   ]
  },
  {
   "cell_type": "markdown",
   "id": "6fe77016",
   "metadata": {},
   "source": [
    "## align_dna"
   ]
  },
  {
   "cell_type": "code",
   "execution_count": null,
   "id": "b842a6c3",
   "metadata": {},
   "outputs": [],
   "source": [
    "Fastq.align_dna(\"test\", fq1, fq2, )"
   ]
  },
  {
   "cell_type": "markdown",
   "id": "eb0c8ee3",
   "metadata": {},
   "source": [
    "## align_cdna"
   ]
  },
  {
   "cell_type": "code",
   "execution_count": null,
   "id": "8b92bc7b",
   "metadata": {},
   "outputs": [],
   "source": [
    "Fastq.align_cdna(\"test\", fq1, fq2, )"
   ]
  },
  {
   "cell_type": "markdown",
   "id": "2c30b1c3",
   "metadata": {},
   "source": [
    "## count_transcript"
   ]
  },
  {
   "cell_type": "code",
   "execution_count": null,
   "id": "d10bee1c",
   "metadata": {},
   "outputs": [],
   "source": [
    "Fastq.count_transcript()"
   ]
  },
  {
   "cell_type": "markdown",
   "id": "775b473c",
   "metadata": {},
   "source": [
    "## process_dna"
   ]
  },
  {
   "cell_type": "code",
   "execution_count": null,
   "id": "2d4a77e2",
   "metadata": {},
   "outputs": [],
   "source": [
    "Fastq.process_dna()"
   ]
  },
  {
   "cell_type": "markdown",
   "id": "ee8430c3",
   "metadata": {},
   "source": [
    "## process_soma_dna"
   ]
  },
  {
   "cell_type": "code",
   "execution_count": null,
   "id": "2190388d",
   "metadata": {},
   "outputs": [],
   "source": [
    "Fastq.process_soma_dna()"
   ]
  }
 ],
 "metadata": {
  "@webio": {
   "lastCommId": null,
   "lastKernelId": null
  },
  "kernelspec": {
   "display_name": "Julia 1.7.1",
   "language": "julia",
   "name": "julia-1.7"
  },
  "language_info": {
   "file_extension": ".jl",
   "mimetype": "application/julia",
   "name": "julia",
   "version": "1.7.1"
  }
 },
 "nbformat": 4,
 "nbformat_minor": 5
}
