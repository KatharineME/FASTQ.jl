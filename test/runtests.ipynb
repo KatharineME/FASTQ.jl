{
 "cells": [
  {
   "cell_type": "code",
   "execution_count": null,
   "id": "ca6b338b",
   "metadata": {},
   "outputs": [],
   "source": [
    "using Revise\n",
    "\n",
    "using Fastq"
   ]
  },
  {
   "cell_type": "markdown",
   "id": "789a0cc7",
   "metadata": {},
   "source": [
    "## test"
   ]
  },
  {
   "cell_type": "code",
   "execution_count": null,
   "id": "9329cf6f",
   "metadata": {},
   "outputs": [],
   "source": [
    "Fastq.test(\"/Users/kate/craft/tool/Fastq.jl/tool\")"
   ]
  },
  {
   "cell_type": "markdown",
   "id": "4106f56f",
   "metadata": {},
   "source": [
    "## find"
   ]
  },
  {
   "cell_type": "code",
   "execution_count": null,
   "id": "97bfa424",
   "metadata": {},
   "outputs": [],
   "source": [
    "di = \"../test/data\"\n",
    "\n",
    "re_ = Fastq.find(di)"
   ]
  },
  {
   "cell_type": "markdown",
   "id": "bf765fb1",
   "metadata": {},
   "source": [
    "## concatenate"
   ]
  },
  {
   "cell_type": "code",
   "execution_count": null,
   "id": "24771322",
   "metadata": {},
   "outputs": [],
   "source": [
    "Fastq.concatenate(re_, \"R1\")"
   ]
  },
  {
   "cell_type": "markdown",
   "id": "d777573f",
   "metadata": {},
   "source": [
    "## check_read"
   ]
  },
  {
   "cell_type": "code",
   "execution_count": null,
   "id": "d0ba42ae",
   "metadata": {},
   "outputs": [],
   "source": [
    "Fastq.check_read()"
   ]
  },
  {
   "cell_type": "markdown",
   "id": "bedf1d8d",
   "metadata": {},
   "source": [
    "## concatenate"
   ]
  },
  {
   "cell_type": "code",
   "execution_count": null,
   "id": "601c65ca",
   "metadata": {},
   "outputs": [],
   "source": [
    "Fastq.concatenate(re_, \"R1\")"
   ]
  },
  {
   "cell_type": "markdown",
   "id": "6847b17a",
   "metadata": {},
   "source": [
    "## trim"
   ]
  },
  {
   "cell_type": "code",
   "execution_count": null,
   "id": "c9eca6a5",
   "metadata": {},
   "outputs": [],
   "source": [
    "Fastq.trim()"
   ]
  },
  {
   "cell_type": "markdown",
   "id": "6fe77016",
   "metadata": {},
   "source": [
    "## align"
   ]
  },
  {
   "cell_type": "code",
   "execution_count": null,
   "id": "b842a6c3",
   "metadata": {},
   "outputs": [],
   "source": [
    "Fastq.align()"
   ]
  },
  {
   "cell_type": "markdown",
   "id": "2c30b1c3",
   "metadata": {},
   "source": [
    "## count_transcript"
   ]
  },
  {
   "cell_type": "code",
   "execution_count": null,
   "id": "d10bee1c",
   "metadata": {},
   "outputs": [],
   "source": [
    "Fastq.count_transcript()"
   ]
  },
  {
   "cell_type": "markdown",
   "id": "775b473c",
   "metadata": {},
   "source": [
    "## process_dna"
   ]
  },
  {
   "cell_type": "code",
   "execution_count": null,
   "id": "2d4a77e2",
   "metadata": {},
   "outputs": [],
   "source": [
    "Fastq.process_dna()"
   ]
  },
  {
   "cell_type": "markdown",
   "id": "ee8430c3",
   "metadata": {},
   "source": [
    "## process_soma_dna"
   ]
  },
  {
   "cell_type": "code",
   "execution_count": null,
   "id": "2190388d",
   "metadata": {},
   "outputs": [],
   "source": [
    "Fastq.process_soma_dna()"
   ]
  }
 ],
 "metadata": {
  "@webio": {
   "lastCommId": null,
   "lastKernelId": null
  },
  "kernelspec": {
   "display_name": "Julia 1.7.1",
   "language": "julia",
   "name": "julia-1.7"
  },
  "language_info": {
   "file_extension": ".jl",
   "mimetype": "application/julia",
   "name": "julia",
   "version": "1.7.1"
  }
 },
 "nbformat": 4,
 "nbformat_minor": 5
}
