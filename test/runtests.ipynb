{
 "cells": [
  {
   "cell_type": "code",
   "execution_count": null,
   "id": "ca6b338b",
   "metadata": {},
   "outputs": [],
   "source": [
    "using Fastq.jl"
   ]
  }
 ],
 "metadata": {
  "kernelspec": {
   "display_name": "Julia 1.6.3",
   "language": "julia",
   "name": "julia-1.6"
  },
  "language_info": {
   "file_extension": ".jl",
   "mimetype": "application/julia",
   "name": "julia",
   "version": "1.6.3"
  }
 },
 "nbformat": 4,
 "nbformat_minor": 5
}
