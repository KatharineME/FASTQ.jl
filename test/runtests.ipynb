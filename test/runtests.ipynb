{
 "cells": [
  {
   "cell_type": "code",
   "execution_count": 1,
   "id": "ca6b338b",
   "metadata": {},
   "outputs": [
    {
     "name": "stderr",
     "output_type": "stream",
     "text": [
      "┌ Info: Precompiling Fastq [ee7f7801-48cc-40da-98c9-e39305ba84b2]\n",
      "└ @ Base loading.jl:1423\n"
     ]
    }
   ],
   "source": [
    "using Revise\n",
    "using BenchmarkTools\n",
    "\n",
    "using Fastq"
   ]
  },
  {
   "cell_type": "code",
   "execution_count": 2,
   "id": "6a83d429",
   "metadata": {},
   "outputs": [],
   "source": [
    "n_jo = 8\n",
    "\n",
    "me = 8 # memory per job\n",
    "\n",
    "to = \"/Users/kate/craft/tool/Fastq.jl/tool\"\n",
    "\n",
    "pou = \"data/output/\"\n",
    "\n",
    "dr1 = \"data/dna/test_dna_4k.R1.fastq.gz\"\n",
    "\n",
    "dr2 = \"data/dna/test_dna_4k.R2.fastq.gz\"\n",
    "\n",
    "cr1 = \"data/cdna/test_cdna_4k.R1.fastq.gz\"\n",
    "\n",
    "cr2 = \"data/cdna/test_cdna_4k.R2.fastq.gz\"\n",
    "\n",
    "rege = \"../../../data/grch/GCA_000001405.15_GRCh38_no_alt_plus_hs38d1_analysis_set.fna.gz\"\n",
    "\n",
    "retr = \"../../../data/human_reference_transcriptome/Homo_sapiens.GRCh38.cdna.all.fa.gz\"\n",
    "\n",
    "chs = \"../../../data/grch/chromosome/chromosome.bed.gz\"\n",
    "\n",
    "chn = \"../../../data/grch/chromosome/chrn_n.tsv\"\n",
    "\n",
    "pas = \"../tool/snpEff/snpEff.jar\"\n",
    "\n",
    ";"
   ]
  },
  {
   "cell_type": "code",
   "execution_count": 3,
   "id": "fed9542b",
   "metadata": {},
   "outputs": [],
   "source": [
    "if !isdir(pou)\n",
    "    \n",
    "    mkdir(pou)\n",
    "    \n",
    "end"
   ]
  },
  {
   "cell_type": "markdown",
   "id": "789a0cc7",
   "metadata": {},
   "source": [
    "## test_local_environment"
   ]
  },
  {
   "cell_type": "code",
   "execution_count": 4,
   "id": "9329cf6f",
   "metadata": {},
   "outputs": [
    {
     "name": "stdout",
     "output_type": "stream",
     "text": [
      "Checking for programs...\n",
      "\n",
      "/usr/local/bin/fastp\n",
      "/usr/local/bin/fastqc\n",
      "/Users/kate/.pyenv/versions/3.10.2/bin/multiqc\n",
      "/usr/local/bin/bgzip\n",
      "/usr/local/bin/tabix\n",
      "/usr/local/bin/minimap2\n",
      "/usr/local/bin/samtools\n",
      "/usr/local/bin/bcftools\n",
      "/usr/local/bin/kallisto\n",
      "/usr/local/bin/star\n",
      "/usr/local/bin/docker\n"
     ]
    }
   ],
   "source": [
    "Fastq.test_local_environment()"
   ]
  },
  {
   "cell_type": "markdown",
   "id": "622003bb",
   "metadata": {},
   "source": [
    "## test_strelka_and_manta"
   ]
  },
  {
   "cell_type": "code",
   "execution_count": 5,
   "id": "a4f7a205",
   "metadata": {},
   "outputs": [
    {
     "name": "stderr",
     "output_type": "stream",
     "text": [
      "\n",
      "**** Starting demo configuration and run.\n",
      "**** Configuration cmd: \"/home/tool/manta-1.6.0.centos6_x86_64/bin/configManta.py\" --normalBam=\"/home/tool/manta-1.6.0.centos6_x86_64/share/demo/manta/data/HCC1954.NORMAL.30x.compare.COST16011_region.bam\" --tumorBam=\"/home/tool/manta-1.6.0.centos6_x86_64/share/demo/manta/data/G15512.HCC1954.1.COST16011_region.bam\" --referenceFasta=\"/home/tool/manta-1.6.0.centos6_x86_64/share/demo/manta/data/Homo_sapiens_assembly19.COST16011_region.fa\" --region=8:107652000-107655000 --region=11:94974000-94989000 --exome --runDir=\"MantaDemoAnalysis\"\n",
      "\n",
      "\n",
      "**** Completed demo configuration.\n",
      "\n",
      "\n",
      "**** Starting demo workflow execution.\n",
      "**** Workflow cmd: '/usr/bin/python MantaDemoAnalysis/runWorkflow.py -j 1 -g 4'\n",
      "\n",
      "[2022-02-14T17:40:04.380908Z] [ea1bd52fd4f7] [24_1] [WorkflowRunner] Initiating pyFlow run\n",
      "[2022-02-14T17:40:04.381018Z] [ea1bd52fd4f7] [24_1] [WorkflowRunner] pyFlowClientWorkflowClass: MantaWorkflow\n",
      "[2022-02-14T17:40:04.381035Z] [ea1bd52fd4f7] [24_1] [WorkflowRunner] pyFlowVersion: 1.1.20\n",
      "[2022-02-14T17:40:04.381045Z] [ea1bd52fd4f7] [24_1] [WorkflowRunner] pythonVersion: 2.6.6.final.0\n",
      "[2022-02-14T17:40:04.381055Z] [ea1bd52fd4f7] [24_1] [WorkflowRunner] WorkingDir: '/'\n",
      "[2022-02-14T17:40:04.381063Z] [ea1bd52fd4f7] [24_1] [WorkflowRunner] ProcessCmdLine: 'MantaDemoAnalysis/runWorkflow.py -j 1 -g 4'\n",
      "[2022-02-14T17:40:04.381073Z] [ea1bd52fd4f7] [24_1] [WorkflowRunner] [RunParameters] mode: local\n",
      "[2022-02-14T17:40:04.381104Z] [ea1bd52fd4f7] [24_1] [WorkflowRunner] [RunParameters] nCores: 1\n",
      "[2022-02-14T17:40:04.381119Z] [ea1bd52fd4f7] [24_1] [WorkflowRunner] [RunParameters] memMb: 4096\n",
      "[2022-02-14T17:40:04.381131Z] [ea1bd52fd4f7] [24_1] [WorkflowRunner] [RunParameters] dataDir: /MantaDemoAnalysis/workspace/pyflow.data\n",
      "[2022-02-14T17:40:04.381141Z] [ea1bd52fd4f7] [24_1] [WorkflowRunner] [RunParameters] isDryRun: False\n",
      "[2022-02-14T17:40:04.381150Z] [ea1bd52fd4f7] [24_1] [WorkflowRunner] [RunParameters] isContinue: False\n",
      "[2022-02-14T17:40:04.381159Z] [ea1bd52fd4f7] [24_1] [WorkflowRunner] [RunParameters] isForceContinue: True\n",
      "[2022-02-14T17:40:04.381192Z] [ea1bd52fd4f7] [24_1] [WorkflowRunner] [RunParameters] mailTo: ''\n",
      "[2022-02-14T17:40:04.381650Z] [ea1bd52fd4f7] [24_1] [TaskRunner:masterWorkflow] Starting task specification for master workflow\n",
      "[2022-02-14T17:40:04.381892Z] [ea1bd52fd4f7] [24_1] [MantaWorkflow] Initiating Manta workflow version: 1.6.0\n",
      "[2022-02-14T17:40:04.382288Z] [ea1bd52fd4f7] [24_1] [WorkflowRunner] Adding command task 'getAlignmentStats_makeTmpDir' to master workflow\n",
      "[2022-02-14T17:40:04.382874Z] [ea1bd52fd4f7] [24_1] [WorkflowRunner] Adding command task 'getAlignmentStats_generateStats_000' to master workflow\n",
      "[2022-02-14T17:40:04.383458Z] [ea1bd52fd4f7] [24_1] [WorkflowRunner] Adding command task 'getAlignmentStats_generateStats_001' to master workflow\n",
      "[2022-02-14T17:40:04.383647Z] [ea1bd52fd4f7] [24_1] [WorkflowRunner] Adding command task 'getAlignmentStats_mergeStats' to master workflow\n",
      "[2022-02-14T17:40:04.383862Z] [ea1bd52fd4f7] [24_1] [WorkflowRunner] Adding command task 'getAlignmentStats_removeTmpDir' to master workflow\n",
      "[2022-02-14T17:40:04.384122Z] [ea1bd52fd4f7] [24_1] [TaskManager] Launching command task: 'getAlignmentStats_makeTmpDir' from master workflow\n",
      "[2022-02-14T17:40:04.384369Z] [ea1bd52fd4f7] [24_1] [WorkflowRunner] Adding command task 'summarizeStats' to master workflow\n",
      "[2022-02-14T17:40:04.385408Z] [ea1bd52fd4f7] [24_1] [WorkflowRunner] Adding command task 'makeGraphTmpDir' to master workflow\n",
      "[2022-02-14T17:40:04.388078Z] [ea1bd52fd4f7] [24_1] [TaskRunner:getAlignmentStats_makeTmpDir] Task initiated on local node\n",
      "[2022-02-14T17:40:04.388319Z] [ea1bd52fd4f7] [24_1] [WorkflowRunner] Adding command task 'makeLocusGraph_chromId_000_8-107652000-107655000_0000_to_chromId_001_11-94974000-94989000_0000' to master workflow\n",
      "[2022-02-14T17:40:04.388634Z] [ea1bd52fd4f7] [24_1] [WorkflowRunner] Adding sub-workflow task 'mergeLocusGraphInputList' to master workflow\n",
      "[2022-02-14T17:40:04.389155Z] [ea1bd52fd4f7] [24_1] [WorkflowRunner] Adding command task 'mergeLocusGraph' to master workflow\n",
      "[2022-02-14T17:40:04.389719Z] [ea1bd52fd4f7] [24_1] [WorkflowRunner] Adding command task 'checkLocusGraph' to master workflow\n",
      "[2022-02-14T17:40:04.390408Z] [ea1bd52fd4f7] [24_1] [WorkflowRunner] Adding command task 'removeTmpDir' to master workflow\n",
      "[2022-02-14T17:40:04.390708Z] [ea1bd52fd4f7] [24_1] [WorkflowRunner] Adding command task 'locusGraphStats' to master workflow\n",
      "[2022-02-14T17:40:04.390916Z] [ea1bd52fd4f7] [24_1] [WorkflowRunner] Adding command task 'makeHyGenDir' to master workflow\n",
      "[2022-02-14T17:40:04.391228Z] [ea1bd52fd4f7] [24_1] [WorkflowRunner] Adding command task 'generateCandidateSV_0000' to master workflow\n",
      "[2022-02-14T17:40:04.391420Z] [ea1bd52fd4f7] [24_1] [WorkflowRunner] Adding command task 'fixVcfHeader_sortCandidateSV' to master workflow\n",
      "[2022-02-14T17:40:04.391657Z] [ea1bd52fd4f7] [24_1] [WorkflowRunner] Adding sub-workflow task 'sortCandidateSVInputList' to master workflow\n",
      "[2022-02-14T17:40:04.392318Z] [ea1bd52fd4f7] [24_1] [WorkflowRunner] Adding command task 'sort_sortCandidateSV' to master workflow\n",
      "[2022-02-14T17:40:04.392794Z] [ea1bd52fd4f7] [24_1] [WorkflowRunner] Adding command task 'tabix_sortCandidateSV' to master workflow\n",
      "[2022-02-14T17:40:04.392964Z] [ea1bd52fd4f7] [24_1] [WorkflowRunner] Adding command task 'fixVcfHeader_sortDiploidSV' to master workflow\n",
      "[2022-02-14T17:40:04.393185Z] [ea1bd52fd4f7] [24_1] [WorkflowRunner] Adding sub-workflow task 'sortDiploidSVInputList' to master workflow\n",
      "[2022-02-14T17:40:04.393321Z] [ea1bd52fd4f7] [24_1] [WorkflowRunner] Adding command task 'sort_sortDiploidSV' to master workflow\n",
      "[2022-02-14T17:40:04.393483Z] [ea1bd52fd4f7] [24_1] [WorkflowRunner] Adding command task 'tabix_sortDiploidSV' to master workflow\n",
      "[2022-02-14T17:40:04.393650Z] [ea1bd52fd4f7] [24_1] [WorkflowRunner] Adding command task 'fixVcfHeader_sortSomaticSV' to master workflow\n",
      "[2022-02-14T17:40:04.394340Z] [ea1bd52fd4f7] [24_1] [WorkflowRunner] Adding sub-workflow task 'sortSomaticSVInputList' to master workflow\n",
      "[2022-02-14T17:40:04.395157Z] [ea1bd52fd4f7] [24_1] [WorkflowRunner] Adding command task 'sort_sortSomaticSV' to master workflow\n",
      "[2022-02-14T17:40:04.396349Z] [ea1bd52fd4f7] [24_1] [WorkflowRunner] Adding command task 'tabix_sortSomaticSV' to master workflow\n",
      "[2022-02-14T17:40:04.396549Z] [ea1bd52fd4f7] [24_1] [WorkflowRunner] Adding command task 'extractSmallIndels' to master workflow\n",
      "[2022-02-14T17:40:04.396741Z] [ea1bd52fd4f7] [24_1] [WorkflowRunner] Adding command task 'extractSmallIndels_tabix' to master workflow\n",
      "[2022-02-14T17:40:04.397294Z] [ea1bd52fd4f7] [24_1] [WorkflowRunner] Adding sub-workflow task 'sortEdgeRuntimeLogsInputList' to master workflow\n",
      "[2022-02-14T17:40:04.397875Z] [ea1bd52fd4f7] [24_1] [WorkflowRunner] Adding command task 'sortEdgeRuntimeLogs' to master workflow\n",
      "[2022-02-14T17:40:04.398536Z] [ea1bd52fd4f7] [24_1] [TaskRunner:masterWorkflow] Finished task specification for master workflow\n",
      "[2022-02-14T17:40:04.464073Z] [ea1bd52fd4f7] [24_1] [TaskManager] Completed command task: 'getAlignmentStats_makeTmpDir' launched from master workflow\n",
      "[2022-02-14T17:40:04.465318Z] [ea1bd52fd4f7] [24_1] [TaskManager] Launching command task: 'getAlignmentStats_generateStats_001' from master workflow\n",
      "[2022-02-14T17:40:04.467500Z] [ea1bd52fd4f7] [24_1] [TaskRunner:getAlignmentStats_generateStats_001] Task initiated on local node\n",
      "[2022-02-14T17:40:04.631425Z] [ea1bd52fd4f7] [24_1] [TaskManager] Completed command task: 'getAlignmentStats_generateStats_001' launched from master workflow\n",
      "[2022-02-14T17:40:04.632660Z] [ea1bd52fd4f7] [24_1] [TaskManager] Launching command task: 'getAlignmentStats_generateStats_000' from master workflow\n",
      "[2022-02-14T17:40:04.635496Z] [ea1bd52fd4f7] [24_1] [TaskRunner:getAlignmentStats_generateStats_000] Task initiated on local node\n",
      "[2022-02-14T17:40:04.749549Z] [ea1bd52fd4f7] [24_1] [TaskManager] Completed command task: 'getAlignmentStats_generateStats_000' launched from master workflow\n",
      "[2022-02-14T17:40:04.750598Z] [ea1bd52fd4f7] [24_1] [TaskManager] Launching command task: 'getAlignmentStats_mergeStats' from master workflow\n",
      "[2022-02-14T17:40:04.753151Z] [ea1bd52fd4f7] [24_1] [TaskRunner:getAlignmentStats_mergeStats] Task initiated on local node\n",
      "[2022-02-14T17:40:04.866498Z] [ea1bd52fd4f7] [24_1] [TaskManager] Completed command task: 'getAlignmentStats_mergeStats' launched from master workflow\n",
      "[2022-02-14T17:40:04.867114Z] [ea1bd52fd4f7] [24_1] [TaskManager] Launching command task: 'summarizeStats' from master workflow\n",
      "[2022-02-14T17:40:04.869166Z] [ea1bd52fd4f7] [24_1] [TaskRunner:summarizeStats] Task initiated on local node\n",
      "[2022-02-14T17:40:04.981563Z] [ea1bd52fd4f7] [24_1] [TaskManager] Completed command task: 'summarizeStats' launched from master workflow\n",
      "[2022-02-14T17:40:04.982175Z] [ea1bd52fd4f7] [24_1] [TaskManager] Launching command task: 'makeGraphTmpDir' from master workflow\n",
      "[2022-02-14T17:40:04.984244Z] [ea1bd52fd4f7] [24_1] [TaskRunner:makeGraphTmpDir] Task initiated on local node\n",
      "[2022-02-14T17:40:05.097662Z] [ea1bd52fd4f7] [24_1] [TaskManager] Completed command task: 'makeGraphTmpDir' launched from master workflow\n",
      "[2022-02-14T17:40:05.098919Z] [ea1bd52fd4f7] [24_1] [TaskManager] Launching command task: 'makeLocusGraph_chromId_000_8-107652000-107655000_0000_to_chromId_001_11-94974000-94989000_0000' from master workflow\n",
      "[2022-02-14T17:40:05.102185Z] [ea1bd52fd4f7] [24_1] [TaskRunner:makeLocusGraph_chromId_000_8-107652000-107655000_0000_to_chromId_001_11-94974000-94989000_0000] Task initiated on local node\n",
      "[2022-02-14T17:40:05.264931Z] [ea1bd52fd4f7] [24_1] [TaskManager] Completed command task: 'makeLocusGraph_chromId_000_8-107652000-107655000_0000_to_chromId_001_11-94974000-94989000_0000' launched from master workflow\n",
      "[2022-02-14T17:40:05.265456Z] [ea1bd52fd4f7] [24_1] [TaskManager] Launching sub-workflow task: 'mergeLocusGraphInputList' from master workflow\n",
      "[2022-02-14T17:40:05.265660Z] [ea1bd52fd4f7] [24_1] [TaskRunner:mergeLocusGraphInputList] Starting task specification for sub-workflow\n",
      "[2022-02-14T17:40:05.266131Z] [ea1bd52fd4f7] [24_1] [TaskManager] Launching command task: 'getAlignmentStats_removeTmpDir' from master workflow\n"
     ]
    },
    {
     "name": "stderr",
     "output_type": "stream",
     "text": [
      "[2022-02-14T17:40:05.266521Z] [ea1bd52fd4f7] [24_1] [TaskRunner:mergeLocusGraphInputList] Finished task specification for sub-workflow\n",
      "[2022-02-14T17:40:05.268372Z] [ea1bd52fd4f7] [24_1] [TaskManager] Completed sub-workflow task: 'mergeLocusGraphInputList' launched from master workflow\n",
      "[2022-02-14T17:40:05.268971Z] [ea1bd52fd4f7] [24_1] [TaskRunner:getAlignmentStats_removeTmpDir] Task initiated on local node\n",
      "[2022-02-14T17:40:05.383919Z] [ea1bd52fd4f7] [24_1] [TaskManager] Completed command task: 'getAlignmentStats_removeTmpDir' launched from master workflow\n",
      "[2022-02-14T17:40:05.384459Z] [ea1bd52fd4f7] [24_1] [TaskManager] Launching command task: 'mergeLocusGraph' from master workflow\n",
      "[2022-02-14T17:40:05.386587Z] [ea1bd52fd4f7] [24_1] [TaskRunner:mergeLocusGraph] Task initiated on local node\n",
      "[2022-02-14T17:40:05.499273Z] [ea1bd52fd4f7] [24_1] [TaskManager] Completed command task: 'mergeLocusGraph' launched from master workflow\n",
      "[2022-02-14T17:40:05.500317Z] [ea1bd52fd4f7] [24_1] [TaskManager] Launching command task: 'removeTmpDir' from master workflow\n",
      "[2022-02-14T17:40:05.503759Z] [ea1bd52fd4f7] [24_1] [TaskRunner:removeTmpDir] Task initiated on local node\n",
      "[2022-02-14T17:40:05.616415Z] [ea1bd52fd4f7] [24_1] [TaskManager] Completed command task: 'removeTmpDir' launched from master workflow\n",
      "[2022-02-14T17:40:05.617635Z] [ea1bd52fd4f7] [24_1] [TaskManager] Launching command task: 'checkLocusGraph' from master workflow\n",
      "[2022-02-14T17:40:05.621128Z] [ea1bd52fd4f7] [24_1] [TaskRunner:checkLocusGraph] Task initiated on local node\n",
      "[2022-02-14T17:40:05.733682Z] [ea1bd52fd4f7] [24_1] [TaskManager] Completed command task: 'checkLocusGraph' launched from master workflow\n",
      "[2022-02-14T17:40:05.734874Z] [ea1bd52fd4f7] [24_1] [TaskManager] Launching command task: 'makeHyGenDir' from master workflow\n",
      "[2022-02-14T17:40:05.738309Z] [ea1bd52fd4f7] [24_1] [TaskRunner:makeHyGenDir] Task initiated on local node\n",
      "[2022-02-14T17:40:05.850771Z] [ea1bd52fd4f7] [24_1] [TaskManager] Completed command task: 'makeHyGenDir' launched from master workflow\n",
      "[2022-02-14T17:40:05.851950Z] [ea1bd52fd4f7] [24_1] [TaskManager] Launching command task: 'generateCandidateSV_0000' from master workflow\n",
      "[2022-02-14T17:40:05.855650Z] [ea1bd52fd4f7] [24_1] [TaskRunner:generateCandidateSV_0000] Task initiated on local node\n",
      "[2022-02-14T17:40:06.369616Z] [ea1bd52fd4f7] [24_1] [TaskManager] Completed command task: 'generateCandidateSV_0000' launched from master workflow\n",
      "[2022-02-14T17:40:06.370468Z] [ea1bd52fd4f7] [24_1] [TaskManager] Launching sub-workflow task: 'sortEdgeRuntimeLogsInputList' from master workflow\n",
      "[2022-02-14T17:40:06.371107Z] [ea1bd52fd4f7] [24_1] [TaskRunner:sortEdgeRuntimeLogsInputList] Starting task specification for sub-workflow\n",
      "[2022-02-14T17:40:06.371914Z] [ea1bd52fd4f7] [24_1] [TaskManager] Launching command task: 'fixVcfHeader_sortCandidateSV' from master workflow\n",
      "[2022-02-14T17:40:06.372669Z] [ea1bd52fd4f7] [24_1] [TaskRunner:sortEdgeRuntimeLogsInputList] Finished task specification for sub-workflow\n",
      "[2022-02-14T17:40:06.375279Z] [ea1bd52fd4f7] [24_1] [TaskManager] Completed sub-workflow task: 'sortEdgeRuntimeLogsInputList' launched from master workflow\n",
      "[2022-02-14T17:40:06.376107Z] [ea1bd52fd4f7] [24_1] [TaskRunner:fixVcfHeader_sortCandidateSV] Task initiated on local node\n",
      "[2022-02-14T17:40:06.490697Z] [ea1bd52fd4f7] [24_1] [TaskManager] Completed command task: 'fixVcfHeader_sortCandidateSV' launched from master workflow\n",
      "[2022-02-14T17:40:06.491570Z] [ea1bd52fd4f7] [24_1] [TaskManager] Launching sub-workflow task: 'sortCandidateSVInputList' from master workflow\n",
      "[2022-02-14T17:40:06.492145Z] [ea1bd52fd4f7] [24_1] [TaskRunner:sortCandidateSVInputList] Starting task specification for sub-workflow\n",
      "[2022-02-14T17:40:06.492803Z] [ea1bd52fd4f7] [24_1] [TaskManager] Launching command task: 'fixVcfHeader_sortSomaticSV' from master workflow\n",
      "[2022-02-14T17:40:06.493564Z] [ea1bd52fd4f7] [24_1] [TaskRunner:sortCandidateSVInputList] Finished task specification for sub-workflow\n",
      "[2022-02-14T17:40:06.496064Z] [ea1bd52fd4f7] [24_1] [TaskManager] Completed sub-workflow task: 'sortCandidateSVInputList' launched from master workflow\n",
      "[2022-02-14T17:40:06.497049Z] [ea1bd52fd4f7] [24_1] [TaskRunner:fixVcfHeader_sortSomaticSV] Task initiated on local node\n",
      "[2022-02-14T17:40:06.612107Z] [ea1bd52fd4f7] [24_1] [TaskManager] Completed command task: 'fixVcfHeader_sortSomaticSV' launched from master workflow\n",
      "[2022-02-14T17:40:06.612950Z] [ea1bd52fd4f7] [24_1] [TaskManager] Launching sub-workflow task: 'sortSomaticSVInputList' from master workflow\n",
      "[2022-02-14T17:40:06.613439Z] [ea1bd52fd4f7] [24_1] [TaskRunner:sortSomaticSVInputList] Starting task specification for sub-workflow\n",
      "[2022-02-14T17:40:06.614350Z] [ea1bd52fd4f7] [24_1] [TaskManager] Launching command task: 'sort_sortCandidateSV' from master workflow\n",
      "[2022-02-14T17:40:06.615440Z] [ea1bd52fd4f7] [24_1] [TaskRunner:sortSomaticSVInputList] Finished task specification for sub-workflow\n",
      "[2022-02-14T17:40:06.618029Z] [ea1bd52fd4f7] [24_1] [TaskManager] Completed sub-workflow task: 'sortSomaticSVInputList' launched from master workflow\n",
      "[2022-02-14T17:40:06.618935Z] [ea1bd52fd4f7] [24_1] [TaskRunner:sort_sortCandidateSV] Task initiated on local node\n",
      "[2022-02-14T17:40:06.782973Z] [ea1bd52fd4f7] [24_1] [TaskManager] Completed command task: 'sort_sortCandidateSV' launched from master workflow\n",
      "[2022-02-14T17:40:06.783403Z] [ea1bd52fd4f7] [24_1] [TaskManager] Launching command task: 'sort_sortSomaticSV' from master workflow\n",
      "[2022-02-14T17:40:06.785552Z] [ea1bd52fd4f7] [24_1] [TaskRunner:sort_sortSomaticSV] Task initiated on local node\n",
      "[2022-02-14T17:40:06.948269Z] [ea1bd52fd4f7] [24_1] [TaskManager] Completed command task: 'sort_sortSomaticSV' launched from master workflow\n",
      "[2022-02-14T17:40:06.949111Z] [ea1bd52fd4f7] [24_1] [TaskManager] Launching command task: 'tabix_sortSomaticSV' from master workflow\n",
      "[2022-02-14T17:40:06.952080Z] [ea1bd52fd4f7] [24_1] [TaskRunner:tabix_sortSomaticSV] Task initiated on local node\n",
      "[2022-02-14T17:40:07.064366Z] [ea1bd52fd4f7] [24_1] [TaskManager] Completed command task: 'tabix_sortSomaticSV' launched from master workflow\n",
      "[2022-02-14T17:40:07.065316Z] [ea1bd52fd4f7] [24_1] [TaskManager] Launching command task: 'extractSmallIndels' from master workflow\n",
      "[2022-02-14T17:40:07.068703Z] [ea1bd52fd4f7] [24_1] [TaskRunner:extractSmallIndels] Task initiated on local node\n",
      "[2022-02-14T17:40:07.230958Z] [ea1bd52fd4f7] [24_1] [TaskManager] Completed command task: 'extractSmallIndels' launched from master workflow\n",
      "[2022-02-14T17:40:07.231327Z] [ea1bd52fd4f7] [24_1] [TaskManager] Launching command task: 'extractSmallIndels_tabix' from master workflow\n",
      "[2022-02-14T17:40:07.233482Z] [ea1bd52fd4f7] [24_1] [TaskRunner:extractSmallIndels_tabix] Task initiated on local node\n",
      "[2022-02-14T17:40:07.346196Z] [ea1bd52fd4f7] [24_1] [TaskManager] Completed command task: 'extractSmallIndels_tabix' launched from master workflow\n",
      "[2022-02-14T17:40:07.346721Z] [ea1bd52fd4f7] [24_1] [TaskManager] Launching command task: 'tabix_sortCandidateSV' from master workflow\n",
      "[2022-02-14T17:40:07.349171Z] [ea1bd52fd4f7] [24_1] [TaskRunner:tabix_sortCandidateSV] Task initiated on local node\n",
      "[2022-02-14T17:40:07.461980Z] [ea1bd52fd4f7] [24_1] [TaskManager] Completed command task: 'tabix_sortCandidateSV' launched from master workflow\n",
      "[2022-02-14T17:40:07.462619Z] [ea1bd52fd4f7] [24_1] [TaskManager] Launching command task: 'sortEdgeRuntimeLogs' from master workflow\n",
      "[2022-02-14T17:40:07.465819Z] [ea1bd52fd4f7] [24_1] [TaskRunner:sortEdgeRuntimeLogs] Task initiated on local node\n",
      "[2022-02-14T17:40:07.628664Z] [ea1bd52fd4f7] [24_1] [TaskManager] Completed command task: 'sortEdgeRuntimeLogs' launched from master workflow\n",
      "[2022-02-14T17:40:07.629478Z] [ea1bd52fd4f7] [24_1] [TaskManager] Launching command task: 'locusGraphStats' from master workflow\n",
      "[2022-02-14T17:40:07.633139Z] [ea1bd52fd4f7] [24_1] [TaskRunner:locusGraphStats] Task initiated on local node\n",
      "[2022-02-14T17:40:07.745680Z] [ea1bd52fd4f7] [24_1] [TaskManager] Completed command task: 'locusGraphStats' launched from master workflow\n",
      "[2022-02-14T17:40:07.746262Z] [ea1bd52fd4f7] [24_1] [TaskManager] Launching command task: 'fixVcfHeader_sortDiploidSV' from master workflow\n",
      "[2022-02-14T17:40:07.748308Z] [ea1bd52fd4f7] [24_1] [TaskRunner:fixVcfHeader_sortDiploidSV] Task initiated on local node\n",
      "[2022-02-14T17:40:07.861680Z] [ea1bd52fd4f7] [24_1] [TaskManager] Completed command task: 'fixVcfHeader_sortDiploidSV' launched from master workflow\n",
      "[2022-02-14T17:40:07.862251Z] [ea1bd52fd4f7] [24_1] [TaskManager] Launching sub-workflow task: 'sortDiploidSVInputList' from master workflow\n",
      "[2022-02-14T17:40:07.862839Z] [ea1bd52fd4f7] [24_1] [TaskRunner:sortDiploidSVInputList] Starting task specification for sub-workflow\n",
      "[2022-02-14T17:40:07.863411Z] [ea1bd52fd4f7] [24_1] [TaskRunner:sortDiploidSVInputList] Finished task specification for sub-workflow\n",
      "[2022-02-14T17:40:07.864672Z] [ea1bd52fd4f7] [24_1] [TaskManager] Completed sub-workflow task: 'sortDiploidSVInputList' launched from master workflow\n",
      "[2022-02-14T17:40:07.865180Z] [ea1bd52fd4f7] [24_1] [TaskManager] Launching command task: 'sort_sortDiploidSV' from master workflow\n",
      "[2022-02-14T17:40:07.868095Z] [ea1bd52fd4f7] [24_1] [TaskRunner:sort_sortDiploidSV] Task initiated on local node\n",
      "[2022-02-14T17:40:08.030590Z] [ea1bd52fd4f7] [24_1] [TaskManager] Completed command task: 'sort_sortDiploidSV' launched from master workflow\n",
      "[2022-02-14T17:40:08.030879Z] [ea1bd52fd4f7] [24_1] [TaskManager] Launching command task: 'tabix_sortDiploidSV' from master workflow\n",
      "[2022-02-14T17:40:08.032708Z] [ea1bd52fd4f7] [24_1] [TaskRunner:tabix_sortDiploidSV] Task initiated on local node\n",
      "[2022-02-14T17:40:08.147234Z] [ea1bd52fd4f7] [24_1] [TaskManager] Completed command task: 'tabix_sortDiploidSV' launched from master workflow\n",
      "[2022-02-14T17:40:10.006916Z] [ea1bd52fd4f7] [24_1] [WorkflowRunner] Manta workflow successfully completed.\n",
      "[2022-02-14T17:40:10.006916Z] [ea1bd52fd4f7] [24_1] [WorkflowRunner] \n",
      "[2022-02-14T17:40:10.006916Z] [ea1bd52fd4f7] [24_1] [WorkflowRunner] \tworkflow version: 1.6.0\n",
      "[2022-02-14T17:40:10.007022Z] [ea1bd52fd4f7] [24_1] [WorkflowRunner] \n",
      "[2022-02-14T17:40:10.007041Z] [ea1bd52fd4f7] [24_1] [WorkflowRunner] Workflow successfully completed all tasks\n",
      "[2022-02-14T17:40:10.007053Z] [ea1bd52fd4f7] [24_1] [WorkflowRunner] Elapsed time for full workflow: 5 sec\n"
     ]
    },
    {
     "name": "stderr",
     "output_type": "stream",
     "text": [
      "\n",
      "**** Completed demo workflow execution.\n",
      "\n",
      "\n",
      "**** Starting comparison to expected results.\n",
      "**** Expected results dir: '/home/tool/manta-1.6.0.centos6_x86_64/share/demo/manta/expectedResults'\n",
      "**** Demo results dir: 'MantaDemoAnalysis/results/variants'\n",
      "\n",
      "\n",
      "**** No differences between expected and computed results.\n",
      "\n",
      "\n",
      "**** Demo/verification successfully completed\n",
      "\n",
      "\n",
      "**** Starting demo configuration and run.\n",
      "**** Configuration cmd: './home/tool/strelka-2.9.10.centos6_x86_64/bin/configureStrelkaGermlineWorkflow.py --bam='./home/tool/strelka-2.9.10.centos6_x86_64/bin/../share/demo/strelka/data/NA12891_demo20.bam' --bam='./home/tool/strelka-2.9.10.centos6_x86_64/bin/../share/demo/strelka/data/NA12892_demo20.bam' --referenceFasta='./home/tool/strelka-2.9.10.centos6_x86_64/bin/../share/demo/strelka/data/demo20.fa' --callMemMb=1024 --exome --disableSequenceErrorEstimation --runDir=./strelkaGermlineDemoAnalysis'\n",
      "\n",
      "\n",
      "**** Completed demo configuration.\n",
      "\n",
      "\n",
      "**** Starting demo workflow execution.\n",
      "**** Workflow cmd: './strelkaGermlineDemoAnalysis/runWorkflow.py -m local -j 1 -g 4'\n",
      "\n",
      "[2022-02-14T17:40:10.633631Z] [ea1bd52fd4f7] [197_1] [WorkflowRunner] Initiating pyFlow run\n",
      "[2022-02-14T17:40:10.633719Z] [ea1bd52fd4f7] [197_1] [WorkflowRunner] pyFlowClientWorkflowClass: StrelkaGermlineWorkflow\n",
      "[2022-02-14T17:40:10.633736Z] [ea1bd52fd4f7] [197_1] [WorkflowRunner] pyFlowVersion: 1.1.20\n",
      "[2022-02-14T17:40:10.633746Z] [ea1bd52fd4f7] [197_1] [WorkflowRunner] pythonVersion: 2.6.6.final.0\n",
      "[2022-02-14T17:40:10.633754Z] [ea1bd52fd4f7] [197_1] [WorkflowRunner] WorkingDir: '/'\n",
      "[2022-02-14T17:40:10.633867Z] [ea1bd52fd4f7] [197_1] [WorkflowRunner] ProcessCmdLine: './strelkaGermlineDemoAnalysis/runWorkflow.py -m local -j 1 -g 4'\n",
      "[2022-02-14T17:40:10.633903Z] [ea1bd52fd4f7] [197_1] [WorkflowRunner] [RunParameters] mode: local\n",
      "[2022-02-14T17:40:10.633917Z] [ea1bd52fd4f7] [197_1] [WorkflowRunner] [RunParameters] nCores: 1\n",
      "[2022-02-14T17:40:10.633942Z] [ea1bd52fd4f7] [197_1] [WorkflowRunner] [RunParameters] memMb: 4096\n",
      "[2022-02-14T17:40:10.633950Z] [ea1bd52fd4f7] [197_1] [WorkflowRunner] [RunParameters] dataDir: /strelkaGermlineDemoAnalysis/workspace/pyflow.data\n",
      "[2022-02-14T17:40:10.633959Z] [ea1bd52fd4f7] [197_1] [WorkflowRunner] [RunParameters] isDryRun: False\n",
      "[2022-02-14T17:40:10.634000Z] [ea1bd52fd4f7] [197_1] [WorkflowRunner] [RunParameters] isContinue: False\n",
      "[2022-02-14T17:40:10.634056Z] [ea1bd52fd4f7] [197_1] [WorkflowRunner] [RunParameters] isForceContinue: True\n",
      "[2022-02-14T17:40:10.634155Z] [ea1bd52fd4f7] [197_1] [WorkflowRunner] [RunParameters] mailTo: ''\n",
      "[2022-02-14T17:40:10.635136Z] [ea1bd52fd4f7] [197_1] [TaskRunner:masterWorkflow] Starting task specification for master workflow\n",
      "[2022-02-14T17:40:10.635303Z] [ea1bd52fd4f7] [197_1] [StrelkaGermlineWorkflow] Initiating Strelka germline workflow version: 2.9.10\n",
      "[2022-02-14T17:40:10.636362Z] [ea1bd52fd4f7] [197_1] [WorkflowRunner] Adding sub-workflow task 'CallGenome' to master workflow\n",
      "[2022-02-14T17:40:10.637096Z] [ea1bd52fd4f7] [197_1] [TaskRunner:masterWorkflow] Finished task specification for master workflow\n",
      "[2022-02-14T17:40:10.637661Z] [ea1bd52fd4f7] [197_1] [TaskManager] Launching sub-workflow task: 'CallGenome' from master workflow\n",
      "[2022-02-14T17:40:10.637950Z] [ea1bd52fd4f7] [197_1] [TaskRunner:CallGenome] Starting task specification for sub-workflow\n",
      "[2022-02-14T17:40:10.638699Z] [ea1bd52fd4f7] [197_1] [WorkflowRunner] Adding command task 'CallGenome+makeTmpDir' to sub-workflow 'CallGenome'\n",
      "[2022-02-14T17:40:10.639172Z] [ea1bd52fd4f7] [197_1] [WorkflowRunner] Adding command task 'CallGenome+callGenomeSegment_chromId_000_demo20_0000' to sub-workflow 'CallGenome'\n",
      "[2022-02-14T17:40:10.639448Z] [ea1bd52fd4f7] [197_1] [WorkflowRunner] Adding command task 'CallGenome+compressGenomeSegment_chromId_000_demo20_0000_variants' to sub-workflow 'CallGenome'\n",
      "[2022-02-14T17:40:10.639688Z] [ea1bd52fd4f7] [197_1] [WorkflowRunner] Adding command task 'CallGenome+compressGenomeSegment_chromId_000_demo20_0000_gVCF_S1' to sub-workflow 'CallGenome'\n",
      "[2022-02-14T17:40:10.640224Z] [ea1bd52fd4f7] [197_1] [WorkflowRunner] Adding command task 'CallGenome+compressGenomeSegment_chromId_000_demo20_0000_gVCF_S2' to sub-workflow 'CallGenome'\n",
      "[2022-02-14T17:40:10.640779Z] [ea1bd52fd4f7] [197_1] [WorkflowRunner] Adding command task 'CallGenome+completedAllGenomeSegments' to sub-workflow 'CallGenome'\n",
      "[2022-02-14T17:40:10.641107Z] [ea1bd52fd4f7] [197_1] [WorkflowRunner] Adding command task 'CallGenome+variants_concat_vcf' to sub-workflow 'CallGenome'\n",
      "[2022-02-14T17:40:10.641380Z] [ea1bd52fd4f7] [197_1] [WorkflowRunner] Adding command task 'CallGenome+variants_index_vcf' to sub-workflow 'CallGenome'\n",
      "[2022-02-14T17:40:10.641674Z] [ea1bd52fd4f7] [197_1] [TaskManager] Launching command task: 'CallGenome+makeTmpDir' from sub-workflow 'CallGenome'\n",
      "[2022-02-14T17:40:10.642189Z] [ea1bd52fd4f7] [197_1] [WorkflowRunner] Adding command task 'CallGenome+gVCF_S1_concat_vcf' to sub-workflow 'CallGenome'\n",
      "[2022-02-14T17:40:10.643309Z] [ea1bd52fd4f7] [197_1] [WorkflowRunner] Adding command task 'CallGenome+gVCF_S1_index_vcf' to sub-workflow 'CallGenome'\n",
      "[2022-02-14T17:40:10.645124Z] [ea1bd52fd4f7] [197_1] [TaskRunner:CallGenome+makeTmpDir] Task initiated on local node\n",
      "[2022-02-14T17:40:10.645941Z] [ea1bd52fd4f7] [197_1] [WorkflowRunner] Adding command task 'CallGenome+addLegacyOutputLink' to sub-workflow 'CallGenome'\n",
      "[2022-02-14T17:40:10.646261Z] [ea1bd52fd4f7] [197_1] [WorkflowRunner] Adding command task 'CallGenome+gVCF_S2_concat_vcf' to sub-workflow 'CallGenome'\n",
      "[2022-02-14T17:40:10.646481Z] [ea1bd52fd4f7] [197_1] [WorkflowRunner] Adding command task 'CallGenome+gVCF_S2_index_vcf' to sub-workflow 'CallGenome'\n",
      "[2022-02-14T17:40:10.647151Z] [ea1bd52fd4f7] [197_1] [WorkflowRunner] Adding command task 'CallGenome+mergeRunStats' to sub-workflow 'CallGenome'\n",
      "[2022-02-14T17:40:10.647730Z] [ea1bd52fd4f7] [197_1] [WorkflowRunner] Adding command task 'CallGenome+removeTmpDir' to sub-workflow 'CallGenome'\n",
      "[2022-02-14T17:40:10.648378Z] [ea1bd52fd4f7] [197_1] [TaskRunner:CallGenome] Finished task specification for sub-workflow\n",
      "[2022-02-14T17:40:10.712671Z] [ea1bd52fd4f7] [197_1] [TaskManager] Completed command task: 'CallGenome+makeTmpDir' launched from sub-workflow 'CallGenome'\n",
      "[2022-02-14T17:40:10.713674Z] [ea1bd52fd4f7] [197_1] [TaskManager] Launching command task: 'CallGenome+callGenomeSegment_chromId_000_demo20_0000' from sub-workflow 'CallGenome'\n",
      "[2022-02-14T17:40:10.715725Z] [ea1bd52fd4f7] [197_1] [TaskRunner:CallGenome+callGenomeSegment_chromId_000_demo20_0000] Task initiated on local node\n",
      "[2022-02-14T17:40:10.928604Z] [ea1bd52fd4f7] [197_1] [TaskManager] Completed command task: 'CallGenome+callGenomeSegment_chromId_000_demo20_0000' launched from sub-workflow 'CallGenome'\n",
      "[2022-02-14T17:40:10.929091Z] [ea1bd52fd4f7] [197_1] [TaskManager] Launching command task: 'CallGenome+compressGenomeSegment_chromId_000_demo20_0000_gVCF_S1' from sub-workflow 'CallGenome'\n",
      "[2022-02-14T17:40:10.931312Z] [ea1bd52fd4f7] [197_1] [TaskRunner:CallGenome+compressGenomeSegment_chromId_000_demo20_0000_gVCF_S1] Task initiated on local node\n",
      "[2022-02-14T17:40:11.044067Z] [ea1bd52fd4f7] [197_1] [TaskManager] Completed command task: 'CallGenome+compressGenomeSegment_chromId_000_demo20_0000_gVCF_S1' launched from sub-workflow 'CallGenome'\n",
      "[2022-02-14T17:40:11.044534Z] [ea1bd52fd4f7] [197_1] [TaskManager] Launching command task: 'CallGenome+compressGenomeSegment_chromId_000_demo20_0000_gVCF_S2' from sub-workflow 'CallGenome'\n",
      "[2022-02-14T17:40:11.047068Z] [ea1bd52fd4f7] [197_1] [TaskRunner:CallGenome+compressGenomeSegment_chromId_000_demo20_0000_gVCF_S2] Task initiated on local node\n",
      "[2022-02-14T17:40:11.159370Z] [ea1bd52fd4f7] [197_1] [TaskManager] Completed command task: 'CallGenome+compressGenomeSegment_chromId_000_demo20_0000_gVCF_S2' launched from sub-workflow 'CallGenome'\n",
      "[2022-02-14T17:40:11.159835Z] [ea1bd52fd4f7] [197_1] [TaskManager] Launching command task: 'CallGenome+compressGenomeSegment_chromId_000_demo20_0000_variants' from sub-workflow 'CallGenome'\n",
      "[2022-02-14T17:40:11.161998Z] [ea1bd52fd4f7] [197_1] [TaskRunner:CallGenome+compressGenomeSegment_chromId_000_demo20_0000_variants] Task initiated on local node\n",
      "[2022-02-14T17:40:11.278116Z] [ea1bd52fd4f7] [197_1] [TaskManager] Completed command task: 'CallGenome+compressGenomeSegment_chromId_000_demo20_0000_variants' launched from sub-workflow 'CallGenome'\n",
      "[2022-02-14T17:40:11.278742Z] [ea1bd52fd4f7] [197_1] [TaskManager] Completed command task: 'CallGenome+completedAllGenomeSegments' launched from sub-workflow 'CallGenome'\n",
      "[2022-02-14T17:40:11.279254Z] [ea1bd52fd4f7] [197_1] [TaskManager] Launching command task: 'CallGenome+gVCF_S1_concat_vcf' from sub-workflow 'CallGenome'\n",
      "[2022-02-14T17:40:11.283011Z] [ea1bd52fd4f7] [197_1] [TaskRunner:CallGenome+gVCF_S1_concat_vcf] Task initiated on local node\n",
      "[2022-02-14T17:40:11.398935Z] [ea1bd52fd4f7] [197_1] [TaskManager] Completed command task: 'CallGenome+gVCF_S1_concat_vcf' launched from sub-workflow 'CallGenome'\n",
      "[2022-02-14T17:40:11.399681Z] [ea1bd52fd4f7] [197_1] [TaskManager] Launching command task: 'CallGenome+gVCF_S1_index_vcf' from sub-workflow 'CallGenome'\n",
      "[2022-02-14T17:40:11.403293Z] [ea1bd52fd4f7] [197_1] [TaskRunner:CallGenome+gVCF_S1_index_vcf] Task initiated on local node\n",
      "[2022-02-14T17:40:11.518558Z] [ea1bd52fd4f7] [197_1] [TaskManager] Completed command task: 'CallGenome+gVCF_S1_index_vcf' launched from sub-workflow 'CallGenome'\n",
      "[2022-02-14T17:40:11.519470Z] [ea1bd52fd4f7] [197_1] [TaskManager] Launching command task: 'CallGenome+addLegacyOutputLink' from sub-workflow 'CallGenome'\n",
      "[2022-02-14T17:40:11.523167Z] [ea1bd52fd4f7] [197_1] [TaskRunner:CallGenome+addLegacyOutputLink] Task initiated on local node\n",
      "[2022-02-14T17:40:11.636944Z] [ea1bd52fd4f7] [197_1] [TaskManager] Completed command task: 'CallGenome+addLegacyOutputLink' launched from sub-workflow 'CallGenome'\n",
      "[2022-02-14T17:40:11.638081Z] [ea1bd52fd4f7] [197_1] [TaskManager] Launching command task: 'CallGenome+gVCF_S2_concat_vcf' from sub-workflow 'CallGenome'\n",
      "[2022-02-14T17:40:11.641522Z] [ea1bd52fd4f7] [197_1] [TaskRunner:CallGenome+gVCF_S2_concat_vcf] Task initiated on local node\n",
      "[2022-02-14T17:40:11.754446Z] [ea1bd52fd4f7] [197_1] [TaskManager] Completed command task: 'CallGenome+gVCF_S2_concat_vcf' launched from sub-workflow 'CallGenome'\n"
     ]
    },
    {
     "name": "stderr",
     "output_type": "stream",
     "text": [
      "[2022-02-14T17:40:11.755369Z] [ea1bd52fd4f7] [197_1] [TaskManager] Launching command task: 'CallGenome+gVCF_S2_index_vcf' from sub-workflow 'CallGenome'\n",
      "[2022-02-14T17:40:11.758798Z] [ea1bd52fd4f7] [197_1] [TaskRunner:CallGenome+gVCF_S2_index_vcf] Task initiated on local node\n",
      "[2022-02-14T17:40:11.871161Z] [ea1bd52fd4f7] [197_1] [TaskManager] Completed command task: 'CallGenome+gVCF_S2_index_vcf' launched from sub-workflow 'CallGenome'\n",
      "[2022-02-14T17:40:11.871880Z] [ea1bd52fd4f7] [197_1] [TaskManager] Launching command task: 'CallGenome+variants_concat_vcf' from sub-workflow 'CallGenome'\n",
      "[2022-02-14T17:40:11.875211Z] [ea1bd52fd4f7] [197_1] [TaskRunner:CallGenome+variants_concat_vcf] Task initiated on local node\n",
      "[2022-02-14T17:40:11.987431Z] [ea1bd52fd4f7] [197_1] [TaskManager] Completed command task: 'CallGenome+variants_concat_vcf' launched from sub-workflow 'CallGenome'\n",
      "[2022-02-14T17:40:11.988088Z] [ea1bd52fd4f7] [197_1] [TaskManager] Launching command task: 'CallGenome+variants_index_vcf' from sub-workflow 'CallGenome'\n",
      "[2022-02-14T17:40:11.991388Z] [ea1bd52fd4f7] [197_1] [TaskRunner:CallGenome+variants_index_vcf] Task initiated on local node\n",
      "[2022-02-14T17:40:12.104776Z] [ea1bd52fd4f7] [197_1] [TaskManager] Completed command task: 'CallGenome+variants_index_vcf' launched from sub-workflow 'CallGenome'\n",
      "[2022-02-14T17:40:12.105605Z] [ea1bd52fd4f7] [197_1] [TaskManager] Launching command task: 'CallGenome+mergeRunStats' from sub-workflow 'CallGenome'\n",
      "[2022-02-14T17:40:12.109269Z] [ea1bd52fd4f7] [197_1] [TaskRunner:CallGenome+mergeRunStats] Task initiated on local node\n",
      "[2022-02-14T17:40:12.221355Z] [ea1bd52fd4f7] [197_1] [TaskManager] Completed command task: 'CallGenome+mergeRunStats' launched from sub-workflow 'CallGenome'\n",
      "[2022-02-14T17:40:12.221658Z] [ea1bd52fd4f7] [197_1] [TaskManager] Launching command task: 'CallGenome+removeTmpDir' from sub-workflow 'CallGenome'\n",
      "[2022-02-14T17:40:12.223752Z] [ea1bd52fd4f7] [197_1] [TaskRunner:CallGenome+removeTmpDir] Task initiated on local node\n",
      "[2022-02-14T17:40:12.336261Z] [ea1bd52fd4f7] [197_1] [TaskManager] Completed command task: 'CallGenome+removeTmpDir' launched from sub-workflow 'CallGenome'\n",
      "[2022-02-14T17:40:13.368162Z] [ea1bd52fd4f7] [197_1] [TaskManager] Completed sub-workflow task: 'CallGenome' launched from master workflow\n",
      "[2022-02-14T17:40:16.282055Z] [ea1bd52fd4f7] [197_1] [WorkflowRunner] Strelka germline workflow successfully completed.\n",
      "[2022-02-14T17:40:16.282055Z] [ea1bd52fd4f7] [197_1] [WorkflowRunner] \n",
      "[2022-02-14T17:40:16.282055Z] [ea1bd52fd4f7] [197_1] [WorkflowRunner] \tworkflow version: 2.9.10\n",
      "[2022-02-14T17:40:16.282145Z] [ea1bd52fd4f7] [197_1] [WorkflowRunner] \n",
      "[2022-02-14T17:40:16.282162Z] [ea1bd52fd4f7] [197_1] [WorkflowRunner] Workflow successfully completed all tasks\n",
      "[2022-02-14T17:40:16.282175Z] [ea1bd52fd4f7] [197_1] [WorkflowRunner] Elapsed time for full workflow: 5 sec\n",
      "\n",
      "**** Completed demo workflow execution.\n",
      "\n",
      "\n",
      "**** Demo/verification successfully completed\n",
      "\n",
      "\n",
      "**** Starting demo configuration and run.\n",
      "**** Configuration cmd: './home/tool/strelka-2.9.10.centos6_x86_64/bin/configureStrelkaSomaticWorkflow.py --tumorBam='./home/tool/strelka-2.9.10.centos6_x86_64/bin/../share/demo/strelka/data/NA12891_demo20.bam' --normalBam='./home/tool/strelka-2.9.10.centos6_x86_64/bin/../share/demo/strelka/data/NA12892_demo20.bam' --referenceFasta='./home/tool/strelka-2.9.10.centos6_x86_64/bin/../share/demo/strelka/data/demo20.fa' --callMemMb=1024 --exome --runDir=./strelkaSomaticDemoAnalysis'\n",
      "\n",
      "\n",
      "**** Completed demo configuration.\n",
      "\n",
      "\n",
      "**** Starting demo workflow execution.\n",
      "**** Workflow cmd: './strelkaSomaticDemoAnalysis/runWorkflow.py -m local -j 1 -g 4'\n",
      "\n",
      "[2022-02-14T17:40:16.801924Z] [ea1bd52fd4f7] [299_1] [WorkflowRunner] Initiating pyFlow run\n",
      "[2022-02-14T17:40:16.802034Z] [ea1bd52fd4f7] [299_1] [WorkflowRunner] pyFlowClientWorkflowClass: StrelkaSomaticWorkflow\n",
      "[2022-02-14T17:40:16.802066Z] [ea1bd52fd4f7] [299_1] [WorkflowRunner] pyFlowVersion: 1.1.20\n",
      "[2022-02-14T17:40:16.802196Z] [ea1bd52fd4f7] [299_1] [WorkflowRunner] pythonVersion: 2.6.6.final.0\n",
      "[2022-02-14T17:40:16.802385Z] [ea1bd52fd4f7] [299_1] [WorkflowRunner] WorkingDir: '/'\n",
      "[2022-02-14T17:40:16.802607Z] [ea1bd52fd4f7] [299_1] [WorkflowRunner] ProcessCmdLine: './strelkaSomaticDemoAnalysis/runWorkflow.py -m local -j 1 -g 4'\n",
      "[2022-02-14T17:40:16.802829Z] [ea1bd52fd4f7] [299_1] [WorkflowRunner] [RunParameters] mode: local\n",
      "[2022-02-14T17:40:16.802883Z] [ea1bd52fd4f7] [299_1] [WorkflowRunner] [RunParameters] nCores: 1\n",
      "[2022-02-14T17:40:16.803020Z] [ea1bd52fd4f7] [299_1] [WorkflowRunner] [RunParameters] memMb: 4096\n",
      "[2022-02-14T17:40:16.803274Z] [ea1bd52fd4f7] [299_1] [WorkflowRunner] [RunParameters] dataDir: /strelkaSomaticDemoAnalysis/workspace/pyflow.data\n",
      "[2022-02-14T17:40:16.803377Z] [ea1bd52fd4f7] [299_1] [WorkflowRunner] [RunParameters] isDryRun: False\n",
      "[2022-02-14T17:40:16.803559Z] [ea1bd52fd4f7] [299_1] [WorkflowRunner] [RunParameters] isContinue: False\n",
      "[2022-02-14T17:40:16.803749Z] [ea1bd52fd4f7] [299_1] [WorkflowRunner] [RunParameters] isForceContinue: True\n",
      "[2022-02-14T17:40:16.804019Z] [ea1bd52fd4f7] [299_1] [WorkflowRunner] [RunParameters] mailTo: ''\n",
      "[2022-02-14T17:40:16.804965Z] [ea1bd52fd4f7] [299_1] [TaskRunner:masterWorkflow] Starting task specification for master workflow\n",
      "[2022-02-14T17:40:16.805267Z] [ea1bd52fd4f7] [299_1] [StrelkaSomaticWorkflow] Initiating Strelka somatic workflow version: 2.9.10\n",
      "[2022-02-14T17:40:16.806857Z] [ea1bd52fd4f7] [299_1] [WorkflowRunner] Adding sub-workflow task 'CallGenome' to master workflow\n",
      "[2022-02-14T17:40:16.807608Z] [ea1bd52fd4f7] [299_1] [TaskManager] Launching sub-workflow task: 'CallGenome' from master workflow\n",
      "[2022-02-14T17:40:16.808016Z] [ea1bd52fd4f7] [299_1] [TaskRunner:masterWorkflow] Finished task specification for master workflow\n",
      "[2022-02-14T17:40:16.808295Z] [ea1bd52fd4f7] [299_1] [TaskRunner:CallGenome] Starting task specification for sub-workflow\n",
      "[2022-02-14T17:40:16.809103Z] [ea1bd52fd4f7] [299_1] [WorkflowRunner] Adding command task 'CallGenome+makeTmpDir' to sub-workflow 'CallGenome'\n",
      "[2022-02-14T17:40:16.809968Z] [ea1bd52fd4f7] [299_1] [WorkflowRunner] Adding command task 'CallGenome+callGenomeSegment_chromId_000_demo20_0000' to sub-workflow 'CallGenome'\n",
      "[2022-02-14T17:40:16.810914Z] [ea1bd52fd4f7] [299_1] [WorkflowRunner] Adding command task 'CallGenome+fixVcfHeader_chromId_000_demo20_0000' to sub-workflow 'CallGenome'\n",
      "[2022-02-14T17:40:16.811634Z] [ea1bd52fd4f7] [299_1] [WorkflowRunner] Adding command task 'CallGenome+compressSegmentOutput_chromId_000_demo20_0000' to sub-workflow 'CallGenome'\n",
      "[2022-02-14T17:40:16.812010Z] [ea1bd52fd4f7] [299_1] [TaskManager] Launching command task: 'CallGenome+makeTmpDir' from sub-workflow 'CallGenome'\n",
      "[2022-02-14T17:40:16.812346Z] [ea1bd52fd4f7] [299_1] [WorkflowRunner] Adding command task 'CallGenome+completedAllGenomeSegments' to sub-workflow 'CallGenome'\n",
      "[2022-02-14T17:40:16.813732Z] [ea1bd52fd4f7] [299_1] [WorkflowRunner] Adding command task 'CallGenome+SNV_concat_vcf' to sub-workflow 'CallGenome'\n",
      "[2022-02-14T17:40:16.815987Z] [ea1bd52fd4f7] [299_1] [TaskRunner:CallGenome+makeTmpDir] Task initiated on local node\n",
      "[2022-02-14T17:40:16.816103Z] [ea1bd52fd4f7] [299_1] [WorkflowRunner] Adding command task 'CallGenome+SNV_index_vcf' to sub-workflow 'CallGenome'\n",
      "[2022-02-14T17:40:16.816855Z] [ea1bd52fd4f7] [299_1] [WorkflowRunner] Adding command task 'CallGenome+Indel_concat_vcf' to sub-workflow 'CallGenome'\n",
      "[2022-02-14T17:40:16.817243Z] [ea1bd52fd4f7] [299_1] [WorkflowRunner] Adding command task 'CallGenome+Indel_index_vcf' to sub-workflow 'CallGenome'\n",
      "[2022-02-14T17:40:16.817771Z] [ea1bd52fd4f7] [299_1] [WorkflowRunner] Adding command task 'CallGenome+mergeRunStats' to sub-workflow 'CallGenome'\n",
      "[2022-02-14T17:40:16.817992Z] [ea1bd52fd4f7] [299_1] [WorkflowRunner] Adding command task 'CallGenome+removeTmpDir' to sub-workflow 'CallGenome'\n",
      "[2022-02-14T17:40:16.818354Z] [ea1bd52fd4f7] [299_1] [TaskRunner:CallGenome] Finished task specification for sub-workflow\n",
      "[2022-02-14T17:40:16.932992Z] [ea1bd52fd4f7] [299_1] [TaskManager] Completed command task: 'CallGenome+makeTmpDir' launched from sub-workflow 'CallGenome'\n",
      "[2022-02-14T17:40:16.933856Z] [ea1bd52fd4f7] [299_1] [TaskManager] Launching command task: 'CallGenome+callGenomeSegment_chromId_000_demo20_0000' from sub-workflow 'CallGenome'\n",
      "[2022-02-14T17:40:16.937608Z] [ea1bd52fd4f7] [299_1] [TaskRunner:CallGenome+callGenomeSegment_chromId_000_demo20_0000] Task initiated on local node\n",
      "[2022-02-14T17:40:17.149922Z] [ea1bd52fd4f7] [299_1] [TaskManager] Completed command task: 'CallGenome+callGenomeSegment_chromId_000_demo20_0000' launched from sub-workflow 'CallGenome'\n",
      "[2022-02-14T17:40:17.150342Z] [ea1bd52fd4f7] [299_1] [TaskManager] Launching command task: 'CallGenome+fixVcfHeader_chromId_000_demo20_0000' from sub-workflow 'CallGenome'\n",
      "[2022-02-14T17:40:17.152452Z] [ea1bd52fd4f7] [299_1] [TaskRunner:CallGenome+fixVcfHeader_chromId_000_demo20_0000] Task initiated on local node\n",
      "[2022-02-14T17:40:17.265328Z] [ea1bd52fd4f7] [299_1] [TaskManager] Completed command task: 'CallGenome+fixVcfHeader_chromId_000_demo20_0000' launched from sub-workflow 'CallGenome'\n",
      "[2022-02-14T17:40:17.266111Z] [ea1bd52fd4f7] [299_1] [TaskManager] Launching command task: 'CallGenome+compressSegmentOutput_chromId_000_demo20_0000' from sub-workflow 'CallGenome'\n",
      "[2022-02-14T17:40:17.269247Z] [ea1bd52fd4f7] [299_1] [TaskRunner:CallGenome+compressSegmentOutput_chromId_000_demo20_0000] Task initiated on local node\n",
      "[2022-02-14T17:40:17.382186Z] [ea1bd52fd4f7] [299_1] [TaskManager] Completed command task: 'CallGenome+compressSegmentOutput_chromId_000_demo20_0000' launched from sub-workflow 'CallGenome'\n",
      "[2022-02-14T17:40:17.382906Z] [ea1bd52fd4f7] [299_1] [TaskManager] Completed command task: 'CallGenome+completedAllGenomeSegments' launched from sub-workflow 'CallGenome'\n",
      "[2022-02-14T17:40:17.383290Z] [ea1bd52fd4f7] [299_1] [TaskManager] Launching command task: 'CallGenome+mergeRunStats' from sub-workflow 'CallGenome'\n",
      "[2022-02-14T17:40:17.386945Z] [ea1bd52fd4f7] [299_1] [TaskRunner:CallGenome+mergeRunStats] Task initiated on local node\n",
      "[2022-02-14T17:40:17.504266Z] [ea1bd52fd4f7] [299_1] [TaskManager] Completed command task: 'CallGenome+mergeRunStats' launched from sub-workflow 'CallGenome'\n"
     ]
    },
    {
     "name": "stdout",
     "output_type": "stream",
     "text": [
      " Successfully created workflow run script. To execute the workflow, run the following script and set appropriate options:  /MantaDemoAnalysis/runWorkflow.py\n",
      "\n",
      " Successfully created workflow run script. To execute the workflow, run the following script and set appropriate options:  /strelkaGermlineDemoAnalysis/runWorkflow.py\n",
      "\n",
      " Successfully created workflow run script. To execute the workflow, run the following script and set appropriate options:  /strelkaSomaticDemoAnalysis/runWorkflow.py\n",
      "\n",
      "ea1bd52fd4f7eca399c630d2b360f6e03aaaac5fa9284dce0f7e8264585e65db\n",
      "ea1bd52fd4f7eca399c630d2b360f6e03aaaac5fa9284dce0f7e8264585e65db\n",
      "\n",
      "Docker container was removed\n",
      "\n"
     ]
    },
    {
     "name": "stderr",
     "output_type": "stream",
     "text": [
      "[2022-02-14T17:40:17.505077Z] [ea1bd52fd4f7] [299_1] [TaskManager] Launching command task: 'CallGenome+Indel_concat_vcf' from sub-workflow 'CallGenome'\n",
      "[2022-02-14T17:40:17.508578Z] [ea1bd52fd4f7] [299_1] [TaskRunner:CallGenome+Indel_concat_vcf] Task initiated on local node\n",
      "[2022-02-14T17:40:17.620727Z] [ea1bd52fd4f7] [299_1] [TaskManager] Completed command task: 'CallGenome+Indel_concat_vcf' launched from sub-workflow 'CallGenome'\n",
      "[2022-02-14T17:40:17.621357Z] [ea1bd52fd4f7] [299_1] [TaskManager] Launching command task: 'CallGenome+Indel_index_vcf' from sub-workflow 'CallGenome'\n",
      "[2022-02-14T17:40:17.623900Z] [ea1bd52fd4f7] [299_1] [TaskRunner:CallGenome+Indel_index_vcf] Task initiated on local node\n",
      "[2022-02-14T17:40:17.737739Z] [ea1bd52fd4f7] [299_1] [TaskManager] Completed command task: 'CallGenome+Indel_index_vcf' launched from sub-workflow 'CallGenome'\n",
      "[2022-02-14T17:40:17.738113Z] [ea1bd52fd4f7] [299_1] [TaskManager] Launching command task: 'CallGenome+SNV_concat_vcf' from sub-workflow 'CallGenome'\n",
      "[2022-02-14T17:40:17.740318Z] [ea1bd52fd4f7] [299_1] [TaskRunner:CallGenome+SNV_concat_vcf] Task initiated on local node\n",
      "[2022-02-14T17:40:17.852714Z] [ea1bd52fd4f7] [299_1] [TaskManager] Completed command task: 'CallGenome+SNV_concat_vcf' launched from sub-workflow 'CallGenome'\n",
      "[2022-02-14T17:40:17.853220Z] [ea1bd52fd4f7] [299_1] [TaskManager] Launching command task: 'CallGenome+SNV_index_vcf' from sub-workflow 'CallGenome'\n",
      "[2022-02-14T17:40:17.855665Z] [ea1bd52fd4f7] [299_1] [TaskRunner:CallGenome+SNV_index_vcf] Task initiated on local node\n",
      "[2022-02-14T17:40:17.968543Z] [ea1bd52fd4f7] [299_1] [TaskManager] Completed command task: 'CallGenome+SNV_index_vcf' launched from sub-workflow 'CallGenome'\n",
      "[2022-02-14T17:40:17.969034Z] [ea1bd52fd4f7] [299_1] [TaskManager] Launching command task: 'CallGenome+removeTmpDir' from sub-workflow 'CallGenome'\n",
      "[2022-02-14T17:40:17.971240Z] [ea1bd52fd4f7] [299_1] [TaskRunner:CallGenome+removeTmpDir] Task initiated on local node\n",
      "[2022-02-14T17:40:18.085663Z] [ea1bd52fd4f7] [299_1] [TaskManager] Completed command task: 'CallGenome+removeTmpDir' launched from sub-workflow 'CallGenome'\n",
      "[2022-02-14T17:40:19.551215Z] [ea1bd52fd4f7] [299_1] [TaskManager] Completed sub-workflow task: 'CallGenome' launched from master workflow\n",
      "[2022-02-14T17:40:22.438609Z] [ea1bd52fd4f7] [299_1] [WorkflowRunner] Strelka somatic workflow successfully completed.\n",
      "[2022-02-14T17:40:22.438609Z] [ea1bd52fd4f7] [299_1] [WorkflowRunner] \n",
      "[2022-02-14T17:40:22.438609Z] [ea1bd52fd4f7] [299_1] [WorkflowRunner] \tworkflow version: 2.9.10\n",
      "[2022-02-14T17:40:22.438915Z] [ea1bd52fd4f7] [299_1] [WorkflowRunner] \n",
      "[2022-02-14T17:40:22.438980Z] [ea1bd52fd4f7] [299_1] [WorkflowRunner] Workflow successfully completed all tasks\n",
      "[2022-02-14T17:40:22.439066Z] [ea1bd52fd4f7] [299_1] [WorkflowRunner] Elapsed time for full workflow: 5 sec\n",
      "\n",
      "**** Completed demo workflow execution.\n",
      "\n",
      "\n",
      "**** Starting comparison to expected results.\n",
      "**** Expected results dir: ./home/tool/strelka-2.9.10.centos6_x86_64/bin/../share/demo/strelka/expectedResults\n",
      "**** Demo results dir: ./strelkaSomaticDemoAnalysis/results/variants\n",
      "\n",
      "\n",
      "**** No differences between expected and computed results.\n",
      "\n",
      "\n",
      "**** Demo/verification successfully completed\n",
      "\n"
     ]
    }
   ],
   "source": [
    "Fastq.test_strelka_and_manta(to)"
   ]
  },
  {
   "cell_type": "markdown",
   "id": "4106f56f",
   "metadata": {},
   "source": [
    "## find"
   ]
  },
  {
   "cell_type": "code",
   "execution_count": 6,
   "id": "97bfa424",
   "metadata": {},
   "outputs": [
    {
     "name": "stdout",
     "output_type": "stream",
     "text": [
      "File types found in data/dna/:\n",
      "\n",
      "\"fq.gz\" => 0\n",
      "\"fastq.gz\" => 2\n",
      "\".fq\" => 0\n",
      "\".fastq\" => 0\n",
      "\n",
      "Size of gzipped files:\n",
      "\n",
      "File data/dna/test_dna_4k.R1.fastq.gz is: 287.457 KiB\n",
      "File data/dna/test_dna_4k.R2.fastq.gz is: 316.618 KiB\n"
     ]
    },
    {
     "data": {
      "text/plain": [
       "2-element Vector{Any}:\n",
       " \"data/dna/test_dna_4k.R1.fastq.gz\"\n",
       " \"data/dna/test_dna_4k.R2.fastq.gz\""
      ]
     },
     "execution_count": 6,
     "metadata": {},
     "output_type": "execute_result"
    }
   ],
   "source": [
    "di = \"data/dna/\"\n",
    "\n",
    "re_ = Fastq.find(di)"
   ]
  },
  {
   "cell_type": "markdown",
   "id": "d777573f",
   "metadata": {},
   "source": [
    "## check_read"
   ]
  },
  {
   "cell_type": "code",
   "execution_count": 10,
   "id": "d0ba42ae",
   "metadata": {},
   "outputs": [
    {
     "name": "stdout",
     "output_type": "stream",
     "text": [
      "Running FastQC ...\n",
      "Analysis complete for test_dna_4k.R1.fastq.gz\n",
      "Analysis complete for test_dna_4k.R2.fastq.gz\n",
      "Running MultiQC ...\n",
      "|         searching | ━━━━━━━━━━━━━━━━━━━━━━━━━━━━━━━━━━━━━━━━ 100% 4/4  \n"
     ]
    },
    {
     "name": "stderr",
     "output_type": "stream",
     "text": [
      "Started analysis of test_dna_4k.R1.fastq.gz\n",
      "Approx 25% complete for test_dna_4k.R1.fastq.gz\n",
      "Approx 50% complete for test_dna_4k.R1.fastq.gz\n",
      "Approx 75% complete for test_dna_4k.R1.fastq.gz\n",
      "Approx 100% complete for test_dna_4k.R1.fastq.gz\n",
      "Started analysis of test_dna_4k.R2.fastq.gz\n",
      "Approx 25% complete for test_dna_4k.R2.fastq.gz\n",
      "Approx 50% complete for test_dna_4k.R2.fastq.gz\n",
      "Approx 75% complete for test_dna_4k.R2.fastq.gz\n",
      "Approx 100% complete for test_dna_4k.R2.fastq.gz\n",
      "\n",
      "  /// MultiQC 🔍 | v1.12\n",
      "\n",
      "|           multiqc | Search path : /Users/kate/craft/tool/Fastq.jl/test/data/output/check_raw_dna\n",
      "|            fastqc | Found 2 reports\n",
      "|           multiqc | Compressing plot data\n",
      "|           multiqc | Report      : data/output/check_raw_dna/multiqc_report.html\n",
      "|           multiqc | Data        : data/output/check_raw_dna/multiqc_data\n",
      "|           multiqc | MultiQC complete\n"
     ]
    }
   ],
   "source": [
    "pa = joinpath(pou, \"check_raw_dna\")\n",
    "\n",
    "Fastq.check_read(re_, pa, n_jo)"
   ]
  },
  {
   "cell_type": "markdown",
   "id": "bedf1d8d",
   "metadata": {},
   "source": [
    "## concatenate"
   ]
  },
  {
   "cell_type": "code",
   "execution_count": 11,
   "id": "601c65ca",
   "metadata": {},
   "outputs": [
    {
     "name": "stdout",
     "output_type": "stream",
     "text": [
      "Number of forward read files found = 1\n",
      "\n",
      "Number of reverse read files found = 1\n",
      "\n",
      "\n",
      "Nothing to concatenate. Number of forward reads and reverse reads are both <= 1.\n",
      "\n"
     ]
    }
   ],
   "source": [
    "na = \"R1\" # read naming scheme\n",
    "\n",
    "Fastq.concatenate(re_, na)"
   ]
  },
  {
   "cell_type": "markdown",
   "id": "6847b17a",
   "metadata": {},
   "source": [
    "## trim"
   ]
  },
  {
   "cell_type": "code",
   "execution_count": 12,
   "id": "c9eca6a5",
   "metadata": {},
   "outputs": [
    {
     "name": "stdout",
     "output_type": "stream",
     "text": [
      "\n",
      "Trimming finished\n",
      "\n"
     ]
    },
    {
     "name": "stderr",
     "output_type": "stream",
     "text": [
      "Detecting adapter sequence for read1...\n",
      "No adapter detected for read1\n",
      "\n",
      "Detecting adapter sequence for read2...\n",
      "No adapter detected for read2\n",
      "\n",
      "Read1 before filtering:\n",
      "total reads: 4000\n",
      "total bases: 499211\n",
      "Q20 bases: 492539(98.6635%)\n",
      "Q30 bases: 480459(96.2437%)\n",
      "\n",
      "Read2 before filtering:\n",
      "total reads: 4000\n",
      "total bases: 499062\n",
      "Q20 bases: 483993(96.9805%)\n",
      "Q30 bases: 462617(92.6973%)\n",
      "\n",
      "Read1 after filtering:\n",
      "total reads: 3945\n",
      "total bases: 492050\n",
      "Q20 bases: 486674(98.9074%)\n",
      "Q30 bases: 475520(96.6406%)\n",
      "\n",
      "Read2 after filtering:\n",
      "total reads: 3945\n",
      "total bases: 491879\n",
      "Q20 bases: 479569(97.4974%)\n",
      "Q30 bases: 459681(93.4541%)\n",
      "\n",
      "Filtering result:\n",
      "reads passed filter: 7890\n",
      "reads failed due to low quality: 100\n",
      "reads failed due to too many N: 10\n",
      "reads failed due to too short: 0\n",
      "reads with adapter trimmed: 14\n",
      "bases trimmed due to adapters: 547\n",
      "\n",
      "Duplication rate: 0.025%\n",
      "\n",
      "Insert size peak (evaluated by paired-end reads): 204\n",
      "\n",
      "JSON report: data/output/trim/fastp.json\n",
      "HTML report: data/output/trim/fastp.html\n",
      "\n",
      "fastp --detect_adapter_for_pe --thread 8 --json data/output/trim/fastp.json --html data/output/trim/fastp.html --in1 data/dna/test_dna_4k.R1.fastq.gz --in2 data/dna/test_dna_4k.R2.fastq.gz --out1 data/output/trim/trimmed.R1.fastq.gz --out2 data/output/trim/trimmed.R2.fastq.gz \n",
      "fastp v0.23.2, time used: 1 seconds\n"
     ]
    }
   ],
   "source": [
    "pa = joinpath(pou, \"trim\")\n",
    "\n",
    "Fastq.trim(dr1, dr2, pa, n_jo)"
   ]
  },
  {
   "cell_type": "markdown",
   "id": "6fe77016",
   "metadata": {},
   "source": [
    "## align_dna"
   ]
  },
  {
   "cell_type": "code",
   "execution_count": 14,
   "id": "b842a6c3",
   "metadata": {
    "scrolled": true
   },
   "outputs": [
    {
     "name": "stdout",
     "output_type": "stream",
     "text": [
      "\n",
      "DNA Alignment finished\n",
      "\n"
     ]
    },
    {
     "name": "stderr",
     "output_type": "stream",
     "text": [
      "[WARNING]\u001b[1;31m Indexing parameters (-k, -w or -H) overridden by parameters used in the prebuilt index.\u001b[0m\n",
      "[M::main::9.615*0.99] loaded/built the index for 2580 target sequence(s)\n",
      "[M::mm_mapopt_update::9.615*0.99] mid_occ = 1000\n",
      "[M::mm_idx_stat] kmer size: 15; skip: 10; is_hpc: 0; #seq: 2580\n",
      "[M::mm_idx_stat::10.366*0.99] distinct minimizers: 100229022 (38.78% are singletons); average occurrences: 5.527; average spacing: 5.607; total length: 3105715063\n",
      "[M::worker_pipeline::10.465*1.03] mapped 8000 sequences\n",
      "[M::main] Version: 2.24-r1122\n",
      "[M::main] CMD: minimap2 -ax sr -t 8 -K 8G -R @RG\\tID:test\\tSM:test ../../../data/grch/GCA_000001405.15_GRCh38_no_alt_plus_hs38d1_analysis_set.fna.gz.mmi data/dna/test_dna_4k.R1.fastq.gz data/dna/test_dna_4k.R2.fastq.gz\n",
      "[M::main] Real time: 11.453 sec; CPU: 11.718 sec; Peak RSS: 7.368 GB\n",
      "[bam_sort_core] merging from 0 files and 8 in-memory blocks...\n"
     ]
    }
   ],
   "source": [
    "fa = rege\n",
    "\n",
    "ba = joinpath(pou, \"align_dna/final.bam\")\n",
    "\n",
    "sa = \"test\" # sample name added to read group line\n",
    "\n",
    "Fastq.align_dna(sa, dr1, dr2, fa, ba, n_jo, me)"
   ]
  },
  {
   "cell_type": "markdown",
   "id": "9cb92cc8",
   "metadata": {},
   "source": [
    "## align_cdna"
   ]
  },
  {
   "cell_type": "code",
   "execution_count": 15,
   "id": "37b420b8",
   "metadata": {},
   "outputs": [
    {
     "name": "stdout",
     "output_type": "stream",
     "text": [
      "\n",
      "Running STAR...\n",
      "\n",
      "\tstar --runThreadN 8 --genomeDir ../../../data/grch/star_indexes --readFilesIn data/cdna/test_cdna_4k.R1.fastq.gz data/cdna/test_cdna_4k.R2.fastq.gz --readFilesCommand \"gzip --decompress --stdout\" --outSAMtype BAM SortedByCoordinate --outFileNamePrefix data/output/align_cdna/test_\n",
      "\tSTAR version: 2.7.9a   compiled:  :/Users/cshl/data/STAR/STAR/source\n",
      "Feb 14 10:53:50 ..... started STAR run\n",
      "Feb 14 10:53:50 ..... loading genome\n",
      "Feb 14 10:55:53 ..... started mapping\n",
      "Feb 14 10:55:54 ..... finished mapping\n",
      "Feb 14 10:55:56 ..... started sorting BAM\n",
      "Feb 14 10:55:56 ..... finished successfully\n",
      "\n",
      "cDNA Alignment finished\n",
      "\n"
     ]
    }
   ],
   "source": [
    "fa = rege\n",
    "\n",
    "pr = joinpath(pou, \"align_cdna/test_\") # output file prefix\n",
    "\n",
    "Fastq.align_cdna(pr, cr1, cr2, fa, n_jo)"
   ]
  },
  {
   "cell_type": "markdown",
   "id": "2005c44b",
   "metadata": {},
   "source": [
    "## call_germline_variant"
   ]
  },
  {
   "cell_type": "code",
   "execution_count": null,
   "id": "1868a4cb",
   "metadata": {},
   "outputs": [],
   "source": [
    "mo = \"dna\" # dna or cdna\n",
    "\n",
    "ta = false # true if exome\n",
    "\n",
    "ba = joinpath(pou, \"align_dna/final.bam\")\n",
    "\n",
    "fa = rege\n",
    "\n",
    "pao = joinpath(pou, \"call_germline_variant\")\n",
    "\n",
    "Fastq.call_germline_variant(mo, ba, ta, fa, chs, chn, pao, n_jo, me, to, pas)"
   ]
  },
  {
   "cell_type": "markdown",
   "id": "34b1c051",
   "metadata": {},
   "source": [
    "## call_somatic_variant"
   ]
  },
  {
   "cell_type": "code",
   "execution_count": null,
   "id": "be7d881a",
   "metadata": {},
   "outputs": [],
   "source": [
    "mo = \"cdna\" # dna or cdna\n",
    "\n",
    "ge = joinpath(pou, \"align_dna/final.bam\")\n",
    "\n",
    "so = joinpath(pou, \"/align_cdna/test_Aligned.sortedByCoord.out.bam\")\n",
    "\n",
    "pao = joinpath(pou, \"call_somatic_variant\")\n",
    "\n",
    "Fastq.call_somatic_variant(mo, ge, so, rege, chs, chn, pao, n_jo, me, to, pas)"
   ]
  },
  {
   "cell_type": "markdown",
   "id": "2c30b1c3",
   "metadata": {},
   "source": [
    "## count_transcript"
   ]
  },
  {
   "cell_type": "code",
   "execution_count": null,
   "id": "d10bee1c",
   "metadata": {},
   "outputs": [],
   "source": [
    "pa = joinpath(pao, \"count_transcript\")\n",
    "\n",
    "Fastq.count_transcript(retr, pa, n_jo, cr1, cr2)"
   ]
  },
  {
   "cell_type": "markdown",
   "id": "775b473c",
   "metadata": {},
   "source": [
    "## process_dna"
   ]
  },
  {
   "cell_type": "code",
   "execution_count": null,
   "id": "2d4a77e2",
   "metadata": {},
   "outputs": [],
   "source": [
    "mo = \"dna\"\n",
    "\n",
    "sa = \"test\"\n",
    "\n",
    "ta = false\n",
    "\n",
    "pao = joinpath(pao, \"process_germline_dna\")\n",
    "\n",
    "Fastq.process_dna(mo, sa, dr1, dr2, ta, pao, rege, chs, chn, pas, n_jo, me, to)"
   ]
  },
  {
   "cell_type": "markdown",
   "id": "ee8430c3",
   "metadata": {},
   "source": [
    "## process_soma_dna"
   ]
  },
  {
   "cell_type": "code",
   "execution_count": null,
   "id": "2190388d",
   "metadata": {},
   "outputs": [],
   "source": [
    "mo = \"dna\"\n",
    "\n",
    "so1 = \"../../../data/2451_copy/raw_data/G2451/G2451_10K_R1.fq.gz\"\n",
    "\n",
    "so1 = \"../../../data/2451_copy/raw_data/G2451/G2451_10K_R2.fq.gz\"\n",
    "\n",
    "pao = joinpath(pao, \"process_somatic_dna\")\n",
    "\n",
    "Fastq.process_soma_dna(mo, sa, dr1, dr2, so1, so2, ta, pao, rege, chs, chn, pas, n_jo, me, to)"
   ]
  }
 ],
 "metadata": {
  "@webio": {
   "lastCommId": null,
   "lastKernelId": null
  },
  "kernelspec": {
   "display_name": "Julia 1.7.2",
   "language": "julia",
   "name": "julia-1.7"
  },
  "language_info": {
   "file_extension": ".jl",
   "mimetype": "application/julia",
   "name": "julia",
   "version": "1.7.2"
  }
 },
 "nbformat": 4,
 "nbformat_minor": 5
}
